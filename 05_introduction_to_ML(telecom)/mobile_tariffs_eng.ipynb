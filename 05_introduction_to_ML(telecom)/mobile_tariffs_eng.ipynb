{
 "cells": [
  {
   "cell_type": "markdown",
   "metadata": {},
   "source": [
    "# Mobile plan recommendation."
   ]
  },
  {
   "cell_type": "markdown",
   "metadata": {},
   "source": [
    "Mobile carrier Megaline has found out that many of their subscribers use legacy plans. They want to develop a model that would analyze subscribers' behavior and recommend one of Megaline's newer plans: Smart or Ultra. You have access to behavior data about subscribers who have already switched to the new plans. For this classification task, you need to develop a model that will pick the right plan. Since you’ve already performed the data preprocessing step, you can move straight to creating the model. Develop a model with the highest possible accuracy. In this project, the threshold for accuracy is 0.75. Check the accuracy using the test dataset.\n",
    "\n",
    "**Description of the data**\n",
    "\n",
    "Every observation in the dataset contains monthly behavior information about one user. The information given is as follows:\n",
    "\n",
    "- сalls — number of calls,\n",
    "- minutes — total call duration in minutes,\n",
    "- messages — number of text messages,\n",
    "- mb_used — Internet traffic used in MB,\n",
    "- is_ultra — plan for the current month (Ultra - 1, Smart - 0)."
   ]
  },
  {
   "cell_type": "markdown",
   "metadata": {},
   "source": [
    "## Open the file"
   ]
  },
  {
   "cell_type": "code",
   "execution_count": 1,
   "metadata": {},
   "outputs": [],
   "source": [
    "#Libraries\n",
    "import pandas as pd\n",
    "from sklearn.tree import DecisionTreeClassifier \n",
    "from sklearn.metrics import accuracy_score \n",
    "from sklearn.model_selection import train_test_split \n",
    "from sklearn.ensemble import RandomForestClassifier \n",
    "from sklearn.linear_model import LogisticRegression\n"
   ]
  },
  {
   "cell_type": "code",
   "execution_count": 2,
   "metadata": {},
   "outputs": [],
   "source": [
    "#Open the file\n",
    "\n",
    "df = pd.read_csv('/datasets/users_behavior.csv')"
   ]
  },
  {
   "cell_type": "code",
   "execution_count": 3,
   "metadata": {},
   "outputs": [
    {
     "data": {
      "text/html": [
       "<div>\n",
       "<style scoped>\n",
       "    .dataframe tbody tr th:only-of-type {\n",
       "        vertical-align: middle;\n",
       "    }\n",
       "\n",
       "    .dataframe tbody tr th {\n",
       "        vertical-align: top;\n",
       "    }\n",
       "\n",
       "    .dataframe thead th {\n",
       "        text-align: right;\n",
       "    }\n",
       "</style>\n",
       "<table border=\"1\" class=\"dataframe\">\n",
       "  <thead>\n",
       "    <tr style=\"text-align: right;\">\n",
       "      <th></th>\n",
       "      <th>calls</th>\n",
       "      <th>minutes</th>\n",
       "      <th>messages</th>\n",
       "      <th>mb_used</th>\n",
       "      <th>is_ultra</th>\n",
       "    </tr>\n",
       "  </thead>\n",
       "  <tbody>\n",
       "    <tr>\n",
       "      <td>0</td>\n",
       "      <td>40.0</td>\n",
       "      <td>311.90</td>\n",
       "      <td>83.0</td>\n",
       "      <td>19915.42</td>\n",
       "      <td>0</td>\n",
       "    </tr>\n",
       "    <tr>\n",
       "      <td>1</td>\n",
       "      <td>85.0</td>\n",
       "      <td>516.75</td>\n",
       "      <td>56.0</td>\n",
       "      <td>22696.96</td>\n",
       "      <td>0</td>\n",
       "    </tr>\n",
       "    <tr>\n",
       "      <td>2</td>\n",
       "      <td>77.0</td>\n",
       "      <td>467.66</td>\n",
       "      <td>86.0</td>\n",
       "      <td>21060.45</td>\n",
       "      <td>0</td>\n",
       "    </tr>\n",
       "    <tr>\n",
       "      <td>3</td>\n",
       "      <td>106.0</td>\n",
       "      <td>745.53</td>\n",
       "      <td>81.0</td>\n",
       "      <td>8437.39</td>\n",
       "      <td>1</td>\n",
       "    </tr>\n",
       "    <tr>\n",
       "      <td>4</td>\n",
       "      <td>66.0</td>\n",
       "      <td>418.74</td>\n",
       "      <td>1.0</td>\n",
       "      <td>14502.75</td>\n",
       "      <td>0</td>\n",
       "    </tr>\n",
       "  </tbody>\n",
       "</table>\n",
       "</div>"
      ],
      "text/plain": [
       "   calls  minutes  messages   mb_used  is_ultra\n",
       "0   40.0   311.90      83.0  19915.42         0\n",
       "1   85.0   516.75      56.0  22696.96         0\n",
       "2   77.0   467.66      86.0  21060.45         0\n",
       "3  106.0   745.53      81.0   8437.39         1\n",
       "4   66.0   418.74       1.0  14502.75         0"
      ]
     },
     "execution_count": 3,
     "metadata": {},
     "output_type": "execute_result"
    }
   ],
   "source": [
    "# Check the first 5 rows in a dataset\n",
    "\n",
    "df.head()"
   ]
  },
  {
   "cell_type": "code",
   "execution_count": 4,
   "metadata": {},
   "outputs": [
    {
     "name": "stdout",
     "output_type": "stream",
     "text": [
      "<class 'pandas.core.frame.DataFrame'>\n",
      "RangeIndex: 3214 entries, 0 to 3213\n",
      "Data columns (total 5 columns):\n",
      "calls       3214 non-null float64\n",
      "minutes     3214 non-null float64\n",
      "messages    3214 non-null float64\n",
      "mb_used     3214 non-null float64\n",
      "is_ultra    3214 non-null int64\n",
      "dtypes: float64(4), int64(1)\n",
      "memory usage: 125.7 KB\n"
     ]
    }
   ],
   "source": [
    "#Check general information about the dataset\n",
    "\n",
    "df.info()"
   ]
  },
  {
   "cell_type": "code",
   "execution_count": 5,
   "metadata": {},
   "outputs": [
    {
     "data": {
      "text/plain": [
       "0"
      ]
     },
     "execution_count": 5,
     "metadata": {},
     "output_type": "execute_result"
    }
   ],
   "source": [
    "# Check duplicates\n",
    "\n",
    "df.duplicated().sum()"
   ]
  },
  {
   "cell_type": "markdown",
   "metadata": {},
   "source": [
    "There are no missing values or duplicates in the dataset. "
   ]
  },
  {
   "cell_type": "code",
   "execution_count": 6,
   "metadata": {},
   "outputs": [
    {
     "name": "stdout",
     "output_type": "stream",
     "text": [
      "<class 'pandas.core.frame.DataFrame'>\n",
      "RangeIndex: 3214 entries, 0 to 3213\n",
      "Data columns (total 5 columns):\n",
      "calls       3214 non-null int64\n",
      "minutes     3214 non-null float64\n",
      "messages    3214 non-null int64\n",
      "mb_used     3214 non-null float64\n",
      "is_ultra    3214 non-null int64\n",
      "dtypes: float64(2), int64(3)\n",
      "memory usage: 125.7 KB\n"
     ]
    }
   ],
   "source": [
    "# Change the datatype of the \"cols\" and \"messages\" columns to int\n",
    "\n",
    "df['calls'] = df['calls'].astype('int')\n",
    "df['messages'] = df['messages'].astype('int')\n",
    "\n",
    "df.info()"
   ]
  },
  {
   "cell_type": "markdown",
   "metadata": {},
   "source": [
    "The data contains 3214 objects, 4 attributes (data in the columns \"calls\", \"minutes\", \"messages\", \"mb_used\") and one target - the tariff (column \"is_ultra\"). The target attribute can take the values 0 or 1, which indicates that it is a binary classification tasks."
   ]
  },
  {
   "cell_type": "markdown",
   "metadata": {},
   "source": [
    "## Create train and test split."
   ]
  },
  {
   "cell_type": "markdown",
   "metadata": {},
   "source": [
    "Split the data into training, validation and test in a ratio of 3:1:1."
   ]
  },
  {
   "cell_type": "code",
   "execution_count": 7,
   "metadata": {},
   "outputs": [],
   "source": [
    "# Split the data into a training sample and data for validation and test\n",
    "\n",
    "df_train, df_other = train_test_split(df, test_size=0.25, random_state=12345)"
   ]
  },
  {
   "cell_type": "code",
   "execution_count": 8,
   "metadata": {},
   "outputs": [],
   "source": [
    "# Slit the df_other data into two separate samples for validation and testing of the model\n",
    "\n",
    "df_valid, df_test = train_test_split(df_other, test_size=0.5, random_state=12345)"
   ]
  },
  {
   "cell_type": "code",
   "execution_count": 9,
   "metadata": {},
   "outputs": [],
   "source": [
    "# Select a data set with attributes for each data set\n",
    "\n",
    "#Select a set of features for training\n",
    "features_train = df_train.drop('is_ultra', axis=1)\n",
    "\n",
    "#Select a set of features for validation\n",
    "features_valid = df_valid.drop('is_ultra', axis=1)\n",
    "\n",
    "#Select a set of features for testing\n",
    "features_test = df_test.drop('is_ultra', axis=1)\n"
   ]
  },
  {
   "cell_type": "code",
   "execution_count": 10,
   "metadata": {},
   "outputs": [],
   "source": [
    "# Select the target feature in each dataset\n",
    "\n",
    "#Select the target feature for training\n",
    "target_train = df_train['is_ultra']\n",
    "\n",
    "#Select the target feature for validation\n",
    "target_valid = df_valid['is_ultra']\n",
    "\n",
    "#Select the target feature for testing\n",
    "target_test = df_test['is_ultra']"
   ]
  },
  {
   "cell_type": "markdown",
   "metadata": {},
   "source": [
    "## Models with various hyperparameters."
   ]
  },
  {
   "cell_type": "markdown",
   "metadata": {},
   "source": [
    "The following models will be used for the prediction:\n",
    "- Decision Tree Classifier,\n",
    "- Random Forest Classifier,\n",
    "- Logistic Regression models. \n",
    "\n",
    "The models are built with a selection of hyperparameters.  \n",
    "Accuracy is used as a metrics for model selection.\n"
   ]
  },
  {
   "cell_type": "code",
   "execution_count": 11,
   "metadata": {},
   "outputs": [
    {
     "name": "stdout",
     "output_type": "stream",
     "text": [
      "Accuracy лучшей модели: 0.7985074626865671\n",
      "Глубина дерева: 3\n"
     ]
    }
   ],
   "source": [
    "#Build a Decision Tree model and check its accuracy with a tree depth ranging from 1 to 5\n",
    "\n",
    "best_depth = 0\n",
    "best_result = 0\n",
    "\n",
    "for depth in range(1,6):\n",
    "    #Train the model with a given tree depth\n",
    "    model = DecisionTreeClassifier(random_state=12345, max_depth=depth) \n",
    "    model.fit(features_train, target_train)\n",
    "    #Get the prediction of the model on the validation data \n",
    "    predictions = model.predict(features_valid)\n",
    "    #Calculate accuracy on validation data\n",
    "    result = accuracy_score(target_valid,predictions) \n",
    "    if result > best_result:\n",
    "        best_depth = depth\n",
    "        best_result = result\n",
    "print('Accuracy лучшей модели:', best_result)\n",
    "print('Глубина дерева:', best_depth)"
   ]
  },
  {
   "cell_type": "code",
   "execution_count": 12,
   "metadata": {},
   "outputs": [
    {
     "name": "stdout",
     "output_type": "stream",
     "text": [
      "Accuracy лучшей модели: 0.8134328358208955\n",
      "Число деревьев: 9\n",
      "Глубина дерева: 3\n"
     ]
    }
   ],
   "source": [
    "#Build a Random Forest model and check its accuracy with the number of trees ranging from 1 to 10 and the depth of the tree ranging from 1 to 5\n",
    "best_est = 0\n",
    "best_depth = 0\n",
    "best_result = 0\n",
    "\n",
    "for depth in range (1,6):\n",
    "    for est in range(1,11):\n",
    "        #Train the model with a given number of trees and a tree depth\n",
    "        model = RandomForestClassifier(random_state=12345, n_estimators=est, max_depth = depth) \n",
    "        model.fit(features_train, target_train) \n",
    "        #Calculate accuracy on validation data\n",
    "        result = model.score(features_valid,target_valid) \n",
    "        if result > best_result:\n",
    "            best_est = est\n",
    "            best_result = result\n",
    "            best_depth = depth\n",
    "print('Accuracy лучшей модели:', best_result)\n",
    "print('Число деревьев:', best_est)\n",
    "print('Глубина дерева:', best_depth)"
   ]
  },
  {
   "cell_type": "code",
   "execution_count": 13,
   "metadata": {},
   "outputs": [
    {
     "name": "stdout",
     "output_type": "stream",
     "text": [
      "Accuracy модели Логистической регрессии на валидационной выборке: 0.6990049751243781\n"
     ]
    },
    {
     "name": "stderr",
     "output_type": "stream",
     "text": [
      "/opt/conda/lib/python3.7/site-packages/sklearn/linear_model/logistic.py:432: FutureWarning: Default solver will be changed to 'lbfgs' in 0.22. Specify a solver to silence this warning.\n",
      "  FutureWarning)\n"
     ]
    }
   ],
   "source": [
    "#Build a Logistic regression model and check its accuracy\n",
    "\n",
    "#Train the model \n",
    "model = LogisticRegression(random_state=12345) \n",
    "model.fit(features_train, target_train) \n",
    "#Calculate accuracy on validation data\n",
    "result = model.score(features_valid,target_valid) \n",
    "\n",
    "print('Accuracy модели Логистической регрессии на валидационной выборке:', result)\n"
   ]
  },
  {
   "cell_type": "markdown",
   "metadata": {},
   "source": [
    "Three machine learning models for the binary classification problem were considered: Decision Tree Classifier, Random Forest Classifier, Logistic Regression. Within the ranges of the specified hyperparameters, the models demonstrated the following quality indicators (accuracy metric):\n",
    "\n",
    "- Decision tree: 0.7985 (tree depth 3)\n",
    "\n",
    "- Random forest: 0.8134 (tree depth 3, number of trees 9)\n",
    "\n",
    "- Logistic regression: 0.6990\n",
    "\n",
    "Thus, the best quality indicator was demonstrated by the Random Forest model with a tree depth equals to 3 and the number of trees equals to 9."
   ]
  },
  {
   "cell_type": "markdown",
   "metadata": {},
   "source": [
    "## Checking the model on test data."
   ]
  },
  {
   "cell_type": "code",
   "execution_count": 14,
   "metadata": {},
   "outputs": [
    {
     "name": "stdout",
     "output_type": "stream",
     "text": [
      "Accuracy лучшей модели: 0.8084577114427861\n"
     ]
    }
   ],
   "source": [
    "#Check the Random Forest model with a tree depth of 3 and a number of trees of 9 on a test sample\n",
    "\n",
    "#Train the model\n",
    "model = RandomForestClassifier(random_state=12345, n_estimators=9, max_depth = 3) \n",
    "model.fit(features_test, target_test) \n",
    "#Calculate accuracy\n",
    "result = model.score(features_test,target_test) \n",
    "\n",
    "print('Accuracy лучшей модели:', result)"
   ]
  },
  {
   "cell_type": "markdown",
   "metadata": {},
   "source": [
    "Accuracy of the Random Forest model on a test data is 0.8085. The model is suitable for prediction."
   ]
  },
  {
   "cell_type": "markdown",
   "metadata": {},
   "source": [
    "## Sanity test"
   ]
  },
  {
   "cell_type": "markdown",
   "metadata": {},
   "source": [
    "For sanity check calculate how many smart and ultra tariffs there are in our dataset."
   ]
  },
  {
   "cell_type": "code",
   "execution_count": 15,
   "metadata": {},
   "outputs": [
    {
     "data": {
      "text/plain": [
       "0    0.693528\n",
       "1    0.306472\n",
       "Name: is_ultra, dtype: float64"
      ]
     },
     "execution_count": 15,
     "metadata": {},
     "output_type": "execute_result"
    }
   ],
   "source": [
    "# Check the number of smart and ultra tariffs in the data set\n",
    "\n",
    "df['is_ultra'].value_counts(normalize=1)"
   ]
  },
  {
   "cell_type": "markdown",
   "metadata": {},
   "source": [
    "There are 69% smart tariffs in the dataset, assuming that the model predicts only the smart tariff, then its accuracy will be 69%, in our case, the accuracy of the model is 81%, which means that the model passed the test."
   ]
  }
 ],
 "metadata": {
  "ExecuteTimeLog": [
   {
    "duration": 410,
    "start_time": "2021-06-16T19:53:31.659Z"
   },
   {
    "duration": 757,
    "start_time": "2021-06-16T19:53:36.473Z"
   },
   {
    "duration": 2169,
    "start_time": "2021-06-16T19:53:37.246Z"
   },
   {
    "duration": 290,
    "start_time": "2021-06-16T19:53:39.702Z"
   },
   {
    "duration": 817,
    "start_time": "2021-06-16T19:54:01.230Z"
   },
   {
    "duration": 2396,
    "start_time": "2021-06-16T19:54:02.050Z"
   },
   {
    "duration": -509,
    "start_time": "2021-06-16T19:54:04.958Z"
   },
   {
    "duration": -514,
    "start_time": "2021-06-16T19:54:04.964Z"
   },
   {
    "duration": 1987,
    "start_time": "2021-06-16T19:56:00.666Z"
   },
   {
    "duration": 2192,
    "start_time": "2021-06-16T19:56:41.052Z"
   },
   {
    "duration": 743,
    "start_time": "2021-06-16T19:59:05.304Z"
   },
   {
    "duration": 2132,
    "start_time": "2021-06-16T19:59:06.050Z"
   },
   {
    "duration": -498,
    "start_time": "2021-06-16T19:59:08.684Z"
   },
   {
    "duration": -499,
    "start_time": "2021-06-16T19:59:08.687Z"
   },
   {
    "duration": 209,
    "start_time": "2021-06-16T19:59:34.515Z"
   },
   {
    "duration": 30,
    "start_time": "2021-06-16T19:59:42.514Z"
   },
   {
    "duration": 1507,
    "start_time": "2021-06-16T19:59:57.274Z"
   },
   {
    "duration": 17,
    "start_time": "2021-06-16T19:59:58.785Z"
   },
   {
    "duration": 49,
    "start_time": "2021-06-16T20:00:27.958Z"
   },
   {
    "duration": 16,
    "start_time": "2021-06-16T20:00:37.265Z"
   },
   {
    "duration": 25,
    "start_time": "2021-06-16T20:01:27.413Z"
   },
   {
    "duration": 19,
    "start_time": "2021-06-16T20:01:57.094Z"
   },
   {
    "duration": 308,
    "start_time": "2021-06-16T20:02:51.709Z"
   },
   {
    "duration": 260,
    "start_time": "2021-06-16T20:03:40.775Z"
   },
   {
    "duration": 9,
    "start_time": "2021-06-16T20:03:48.050Z"
   },
   {
    "duration": 20,
    "start_time": "2021-06-16T20:05:57.119Z"
   },
   {
    "duration": 1550,
    "start_time": "2021-06-16T21:10:28.091Z"
   },
   {
    "duration": 25,
    "start_time": "2021-06-16T21:10:29.644Z"
   },
   {
    "duration": 33,
    "start_time": "2021-06-16T21:10:29.672Z"
   },
   {
    "duration": 13,
    "start_time": "2021-06-16T21:10:29.709Z"
   },
   {
    "duration": 11,
    "start_time": "2021-06-16T21:10:29.725Z"
   },
   {
    "duration": 15,
    "start_time": "2021-06-16T21:10:29.740Z"
   },
   {
    "duration": 5,
    "start_time": "2021-06-16T21:14:46.443Z"
   },
   {
    "duration": 15,
    "start_time": "2021-06-16T21:15:50.414Z"
   },
   {
    "duration": 448,
    "start_time": "2021-06-16T21:15:53.579Z"
   },
   {
    "duration": 7,
    "start_time": "2021-06-16T21:15:58.836Z"
   },
   {
    "duration": 278,
    "start_time": "2021-06-16T21:16:06.872Z"
   },
   {
    "duration": 1806,
    "start_time": "2021-06-16T21:16:22.771Z"
   },
   {
    "duration": 4,
    "start_time": "2021-06-16T21:16:45.121Z"
   },
   {
    "duration": 7,
    "start_time": "2021-06-16T21:16:49.736Z"
   },
   {
    "duration": 3,
    "start_time": "2021-06-16T21:17:00.193Z"
   },
   {
    "duration": 8,
    "start_time": "2021-06-16T21:19:16.201Z"
   },
   {
    "duration": 7,
    "start_time": "2021-06-16T21:20:36.576Z"
   },
   {
    "duration": 8,
    "start_time": "2021-06-16T21:20:37.505Z"
   },
   {
    "duration": 270,
    "start_time": "2021-06-16T21:21:59.264Z"
   },
   {
    "duration": 12,
    "start_time": "2021-06-16T21:22:17.928Z"
   },
   {
    "duration": 1396,
    "start_time": "2021-06-16T21:22:23.290Z"
   },
   {
    "duration": 26,
    "start_time": "2021-06-16T21:22:24.689Z"
   },
   {
    "duration": 25,
    "start_time": "2021-06-16T21:22:24.720Z"
   },
   {
    "duration": 8,
    "start_time": "2021-06-16T21:22:24.748Z"
   },
   {
    "duration": 13,
    "start_time": "2021-06-16T21:22:24.759Z"
   },
   {
    "duration": 16,
    "start_time": "2021-06-16T21:22:24.802Z"
   },
   {
    "duration": 7,
    "start_time": "2021-06-16T21:22:24.822Z"
   },
   {
    "duration": 16,
    "start_time": "2021-06-16T21:22:24.833Z"
   },
   {
    "duration": 17,
    "start_time": "2021-06-16T21:22:24.851Z"
   },
   {
    "duration": 6,
    "start_time": "2021-06-16T21:22:24.871Z"
   },
   {
    "duration": 8,
    "start_time": "2021-06-16T21:23:32.020Z"
   },
   {
    "duration": 4,
    "start_time": "2021-06-16T21:23:32.474Z"
   },
   {
    "duration": 42,
    "start_time": "2021-06-16T21:39:54.002Z"
   },
   {
    "duration": 38,
    "start_time": "2021-06-16T21:40:59.389Z"
   },
   {
    "duration": 47,
    "start_time": "2021-06-16T21:41:34.720Z"
   },
   {
    "duration": 380,
    "start_time": "2021-06-16T21:55:37.020Z"
   },
   {
    "duration": 1283,
    "start_time": "2021-06-17T12:24:22.364Z"
   },
   {
    "duration": 20,
    "start_time": "2021-06-17T12:24:23.649Z"
   },
   {
    "duration": 21,
    "start_time": "2021-06-17T12:24:23.672Z"
   },
   {
    "duration": 18,
    "start_time": "2021-06-17T12:24:23.696Z"
   },
   {
    "duration": 8,
    "start_time": "2021-06-17T12:24:23.725Z"
   },
   {
    "duration": 15,
    "start_time": "2021-06-17T12:24:23.735Z"
   },
   {
    "duration": 7,
    "start_time": "2021-06-17T12:24:23.753Z"
   },
   {
    "duration": 6,
    "start_time": "2021-06-17T12:24:23.764Z"
   },
   {
    "duration": 8,
    "start_time": "2021-06-17T12:24:23.773Z"
   },
   {
    "duration": 43,
    "start_time": "2021-06-17T12:24:23.783Z"
   },
   {
    "duration": 41,
    "start_time": "2021-06-17T12:24:23.828Z"
   },
   {
    "duration": 1011,
    "start_time": "2021-06-17T12:24:23.872Z"
   },
   {
    "duration": 23,
    "start_time": "2021-06-17T12:34:16.340Z"
   },
   {
    "duration": 1289,
    "start_time": "2021-06-17T12:34:35.065Z"
   },
   {
    "duration": 20,
    "start_time": "2021-06-17T12:34:36.357Z"
   },
   {
    "duration": 23,
    "start_time": "2021-06-17T12:34:36.380Z"
   },
   {
    "duration": 20,
    "start_time": "2021-06-17T12:34:36.405Z"
   },
   {
    "duration": 11,
    "start_time": "2021-06-17T12:34:36.427Z"
   },
   {
    "duration": 12,
    "start_time": "2021-06-17T12:34:36.441Z"
   },
   {
    "duration": 7,
    "start_time": "2021-06-17T12:34:36.456Z"
   },
   {
    "duration": 5,
    "start_time": "2021-06-17T12:34:36.467Z"
   },
   {
    "duration": 53,
    "start_time": "2021-06-17T12:34:36.475Z"
   },
   {
    "duration": 9,
    "start_time": "2021-06-17T12:34:36.530Z"
   },
   {
    "duration": 43,
    "start_time": "2021-06-17T12:34:36.541Z"
   },
   {
    "duration": 996,
    "start_time": "2021-06-17T12:34:36.587Z"
   },
   {
    "duration": 22,
    "start_time": "2021-06-17T12:34:37.585Z"
   },
   {
    "duration": 22,
    "start_time": "2021-06-17T12:35:28.421Z"
   },
   {
    "duration": 23,
    "start_time": "2021-06-17T12:35:44.266Z"
   },
   {
    "duration": 1384,
    "start_time": "2021-06-17T12:40:45.616Z"
   },
   {
    "duration": 21,
    "start_time": "2021-06-17T12:40:47.003Z"
   },
   {
    "duration": 23,
    "start_time": "2021-06-17T12:40:47.026Z"
   },
   {
    "duration": 20,
    "start_time": "2021-06-17T12:40:47.051Z"
   },
   {
    "duration": 21,
    "start_time": "2021-06-17T12:40:47.074Z"
   },
   {
    "duration": 12,
    "start_time": "2021-06-17T12:40:47.097Z"
   },
   {
    "duration": 7,
    "start_time": "2021-06-17T12:40:47.125Z"
   },
   {
    "duration": 25,
    "start_time": "2021-06-17T12:40:47.136Z"
   },
   {
    "duration": 12,
    "start_time": "2021-06-17T12:40:47.164Z"
   },
   {
    "duration": 11,
    "start_time": "2021-06-17T12:40:47.178Z"
   },
   {
    "duration": 60,
    "start_time": "2021-06-17T12:40:47.191Z"
   },
   {
    "duration": 1115,
    "start_time": "2021-06-17T12:40:47.254Z"
   },
   {
    "duration": 25,
    "start_time": "2021-06-17T12:40:48.372Z"
   },
   {
    "duration": 2557,
    "start_time": "2021-06-17T12:44:53.769Z"
   },
   {
    "duration": 6648,
    "start_time": "2021-06-17T12:45:12.554Z"
   },
   {
    "duration": 1169,
    "start_time": "2021-06-17T12:45:27.600Z"
   },
   {
    "duration": 398,
    "start_time": "2021-06-17T12:50:37.709Z"
   },
   {
    "duration": 1340,
    "start_time": "2021-06-17T12:50:43.929Z"
   },
   {
    "duration": 22,
    "start_time": "2021-06-17T12:50:45.272Z"
   },
   {
    "duration": 30,
    "start_time": "2021-06-17T12:50:45.298Z"
   },
   {
    "duration": 10,
    "start_time": "2021-06-17T12:50:45.331Z"
   },
   {
    "duration": 10,
    "start_time": "2021-06-17T12:50:45.343Z"
   },
   {
    "duration": 11,
    "start_time": "2021-06-17T12:50:45.355Z"
   },
   {
    "duration": 6,
    "start_time": "2021-06-17T12:50:45.368Z"
   },
   {
    "duration": 6,
    "start_time": "2021-06-17T12:50:45.377Z"
   },
   {
    "duration": 45,
    "start_time": "2021-06-17T12:50:45.385Z"
   },
   {
    "duration": 12,
    "start_time": "2021-06-17T12:50:45.432Z"
   },
   {
    "duration": 46,
    "start_time": "2021-06-17T12:50:45.446Z"
   },
   {
    "duration": 1045,
    "start_time": "2021-06-17T12:50:45.494Z"
   },
   {
    "duration": 22,
    "start_time": "2021-06-17T12:50:46.541Z"
   },
   {
    "duration": 29,
    "start_time": "2021-06-17T12:50:46.565Z"
   },
   {
    "duration": 28,
    "start_time": "2021-06-17T12:51:56.893Z"
   },
   {
    "duration": 10,
    "start_time": "2021-06-17T12:56:27.130Z"
   },
   {
    "duration": 14,
    "start_time": "2021-06-17T12:56:41.314Z"
   },
   {
    "duration": 1389,
    "start_time": "2021-06-17T12:59:13.314Z"
   },
   {
    "duration": 21,
    "start_time": "2021-06-17T12:59:14.706Z"
   },
   {
    "duration": 44,
    "start_time": "2021-06-17T12:59:14.730Z"
   },
   {
    "duration": 13,
    "start_time": "2021-06-17T12:59:14.776Z"
   },
   {
    "duration": 45,
    "start_time": "2021-06-17T12:59:14.792Z"
   },
   {
    "duration": 25,
    "start_time": "2021-06-17T12:59:14.840Z"
   },
   {
    "duration": 21,
    "start_time": "2021-06-17T12:59:14.867Z"
   },
   {
    "duration": 33,
    "start_time": "2021-06-17T12:59:14.892Z"
   },
   {
    "duration": 27,
    "start_time": "2021-06-17T12:59:14.928Z"
   },
   {
    "duration": 11,
    "start_time": "2021-06-17T12:59:14.957Z"
   },
   {
    "duration": 58,
    "start_time": "2021-06-17T12:59:14.970Z"
   },
   {
    "duration": 1028,
    "start_time": "2021-06-17T12:59:15.031Z"
   },
   {
    "duration": 30,
    "start_time": "2021-06-17T12:59:16.062Z"
   },
   {
    "duration": 71,
    "start_time": "2021-06-17T12:59:16.096Z"
   },
   {
    "duration": 14,
    "start_time": "2021-06-17T12:59:16.169Z"
   },
   {
    "duration": 1348,
    "start_time": "2021-06-17T13:11:15.945Z"
   },
   {
    "duration": 21,
    "start_time": "2021-06-17T13:11:17.296Z"
   },
   {
    "duration": 37,
    "start_time": "2021-06-17T13:11:17.321Z"
   },
   {
    "duration": 14,
    "start_time": "2021-06-17T13:11:17.362Z"
   },
   {
    "duration": 17,
    "start_time": "2021-06-17T13:11:17.379Z"
   },
   {
    "duration": 31,
    "start_time": "2021-06-17T13:11:17.399Z"
   },
   {
    "duration": 7,
    "start_time": "2021-06-17T13:11:17.433Z"
   },
   {
    "duration": 10,
    "start_time": "2021-06-17T13:11:17.442Z"
   },
   {
    "duration": 8,
    "start_time": "2021-06-17T13:11:17.456Z"
   },
   {
    "duration": 10,
    "start_time": "2021-06-17T13:11:17.466Z"
   },
   {
    "duration": 78,
    "start_time": "2021-06-17T13:11:17.478Z"
   },
   {
    "duration": 1088,
    "start_time": "2021-06-17T13:11:17.559Z"
   },
   {
    "duration": 32,
    "start_time": "2021-06-17T13:11:18.650Z"
   },
   {
    "duration": 73,
    "start_time": "2021-06-17T13:11:18.685Z"
   },
   {
    "duration": 18,
    "start_time": "2021-06-17T13:11:18.761Z"
   }
  ],
  "kernelspec": {
   "display_name": "Python 3",
   "language": "python",
   "name": "python3"
  },
  "language_info": {
   "codemirror_mode": {
    "name": "ipython",
    "version": 3
   },
   "file_extension": ".py",
   "mimetype": "text/x-python",
   "name": "python",
   "nbconvert_exporter": "python",
   "pygments_lexer": "ipython3",
   "version": "3.8.8"
  },
  "toc": {
   "base_numbering": 1,
   "nav_menu": {},
   "number_sections": true,
   "sideBar": true,
   "skip_h1_title": true,
   "title_cell": "Table of Contents",
   "title_sidebar": "Contents",
   "toc_cell": false,
   "toc_position": {},
   "toc_section_display": true,
   "toc_window_display": false
  }
 },
 "nbformat": 4,
 "nbformat_minor": 2
}
