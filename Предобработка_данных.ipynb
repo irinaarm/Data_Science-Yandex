{
 "cells": [
  {
   "cell_type": "markdown",
   "metadata": {},
   "source": [
    "<div class=\"alert alert-info\">\n",
    "<h2> Комментарий от ревьюера<a class=\"tocSkip\"></a></h2>\n",
    "Привет. Меня зовут Алина Гусева, я буду делать ревью к твоей работе по исследовательскому анализу данных. В дальнейшем предлагаю общаться на \"ты\".\n",
    "    \n",
    "    \n",
    "Видно, что ты старалась, делая проект. Все ключевые этапы проекта выполнены, в целом тебе удалось со всем справиться. Особенно хочется отметить, что соблюдена структура проекта, а код написан аккуратно.\n",
    "    \n",
    "Для того, чтобы и тебе и мне удобнее бы\n",
    "    ло ориентироваться в комментариях, я буду помечать их разными цветами:\n",
    "- красный цвет означает комментарии, которые требуют доработки. Как только ты их исправишь - проект будет принят;\n",
    "- желтый цвет - то, что в следующий раз можно будет сделать по-другому. На твое усмотрение можешь доделать маленькие правки сейчас или учесть замечание для выполнения следующих проектов;\n",
    "- зеленый цвет - очень элегантные и удачные решение, которые желательно использовать в дальнейшей работе.\n",
    "- синий цвет - информация\n",
    "    \n",
    "Предлагаю работать над проектом в диалоге: если ты что-то изменяешь или вносишь какие-то коррективы - выделяй это каким-нибудь цветом и пиши об этом мне. Так мне гораздо легче будет отследить сделанные изменения.\n",
    "    \n",
    "Также попрошу тебя не изменять и не удалять мои комментарии, чтобы проверка твоего самостоятельного проекта прошла оперативнее.\n",
    "    \n",
    " \n",
    "</div>"
   ]
  },
  {
   "cell_type": "markdown",
   "metadata": {},
   "source": [
    "# Исследование надёжности заёмщиков\n",
    "\n",
    "Заказчик — кредитный отдел банка. Нужно разобраться, влияет ли семейное положение и количество детей клиента на факт погашения кредита в срок. Входные данные от банка — статистика о платёжеспособности клиентов.\n",
    "\n",
    "Результаты исследования будут учтены при построении модели **кредитного скоринга** — специальной системы, которая оценивает способность потенциального заёмщика вернуть кредит банку.\n",
    "\n",
    "Описание данных:\n",
    "- children — количество детей в семье\n",
    "- days_employed — общий трудовой стаж в днях\n",
    "- dob_years — возраст клиента в годах\n",
    "- education — уровень образования клиента\n",
    "- education_id — идентификатор уровня образования\n",
    "- family_status — семейное положение\n",
    "- family_status_id — идентификатор семейного положения\n",
    "- gender — пол клиента\n",
    "- income_type — тип занятости\n",
    "- debt — имел ли задолженность по возврату кредитов\n",
    "- total_income — ежемесячный доход\n",
    "- purpose — цель получения кредита"
   ]
  },
  {
   "cell_type": "markdown",
   "metadata": {},
   "source": [
    "## Шаг 1. Откройте файл с данными и изучите общую информацию"
   ]
  },
  {
   "cell_type": "code",
   "execution_count": 66,
   "metadata": {},
   "outputs": [],
   "source": [
    "#Прочитаем исходный файл\n",
    "\n",
    "import pandas as pd\n",
    "data = pd.read_csv('/datasets/data.csv')\n"
   ]
  },
  {
   "cell_type": "code",
   "execution_count": 67,
   "metadata": {},
   "outputs": [
    {
     "name": "stdout",
     "output_type": "stream",
     "text": [
      "<class 'pandas.core.frame.DataFrame'>\n",
      "RangeIndex: 21525 entries, 0 to 21524\n",
      "Data columns (total 12 columns):\n",
      " #   Column            Non-Null Count  Dtype  \n",
      "---  ------            --------------  -----  \n",
      " 0   children          21525 non-null  int64  \n",
      " 1   days_employed     19351 non-null  float64\n",
      " 2   dob_years         21525 non-null  int64  \n",
      " 3   education         21525 non-null  object \n",
      " 4   education_id      21525 non-null  int64  \n",
      " 5   family_status     21525 non-null  object \n",
      " 6   family_status_id  21525 non-null  int64  \n",
      " 7   gender            21525 non-null  object \n",
      " 8   income_type       21525 non-null  object \n",
      " 9   debt              21525 non-null  int64  \n",
      " 10  total_income      19351 non-null  float64\n",
      " 11  purpose           21525 non-null  object \n",
      "dtypes: float64(2), int64(5), object(5)\n",
      "memory usage: 2.0+ MB\n"
     ]
    }
   ],
   "source": [
    "#Проверим общую информацию о данных\n",
    "\n",
    "data.info()"
   ]
  },
  {
   "cell_type": "code",
   "execution_count": 68,
   "metadata": {},
   "outputs": [],
   "source": [
    "#Переименуем столбец 'dob_years' в 'full_years'\n",
    "\n",
    "data = data.rename(columns={'dob_years': 'full_years'})"
   ]
  },
  {
   "cell_type": "code",
   "execution_count": 69,
   "metadata": {},
   "outputs": [
    {
     "data": {
      "text/html": [
       "<div>\n",
       "<style scoped>\n",
       "    .dataframe tbody tr th:only-of-type {\n",
       "        vertical-align: middle;\n",
       "    }\n",
       "\n",
       "    .dataframe tbody tr th {\n",
       "        vertical-align: top;\n",
       "    }\n",
       "\n",
       "    .dataframe thead th {\n",
       "        text-align: right;\n",
       "    }\n",
       "</style>\n",
       "<table border=\"1\" class=\"dataframe\">\n",
       "  <thead>\n",
       "    <tr style=\"text-align: right;\">\n",
       "      <th></th>\n",
       "      <th>children</th>\n",
       "      <th>days_employed</th>\n",
       "      <th>full_years</th>\n",
       "      <th>education</th>\n",
       "      <th>education_id</th>\n",
       "      <th>family_status</th>\n",
       "      <th>family_status_id</th>\n",
       "      <th>gender</th>\n",
       "      <th>income_type</th>\n",
       "      <th>debt</th>\n",
       "      <th>total_income</th>\n",
       "      <th>purpose</th>\n",
       "    </tr>\n",
       "  </thead>\n",
       "  <tbody>\n",
       "    <tr>\n",
       "      <th>0</th>\n",
       "      <td>1</td>\n",
       "      <td>-8437.673028</td>\n",
       "      <td>42</td>\n",
       "      <td>высшее</td>\n",
       "      <td>0</td>\n",
       "      <td>женат / замужем</td>\n",
       "      <td>0</td>\n",
       "      <td>F</td>\n",
       "      <td>сотрудник</td>\n",
       "      <td>0</td>\n",
       "      <td>253875.639453</td>\n",
       "      <td>покупка жилья</td>\n",
       "    </tr>\n",
       "    <tr>\n",
       "      <th>1</th>\n",
       "      <td>1</td>\n",
       "      <td>-4024.803754</td>\n",
       "      <td>36</td>\n",
       "      <td>среднее</td>\n",
       "      <td>1</td>\n",
       "      <td>женат / замужем</td>\n",
       "      <td>0</td>\n",
       "      <td>F</td>\n",
       "      <td>сотрудник</td>\n",
       "      <td>0</td>\n",
       "      <td>112080.014102</td>\n",
       "      <td>приобретение автомобиля</td>\n",
       "    </tr>\n",
       "    <tr>\n",
       "      <th>2</th>\n",
       "      <td>0</td>\n",
       "      <td>-5623.422610</td>\n",
       "      <td>33</td>\n",
       "      <td>Среднее</td>\n",
       "      <td>1</td>\n",
       "      <td>женат / замужем</td>\n",
       "      <td>0</td>\n",
       "      <td>M</td>\n",
       "      <td>сотрудник</td>\n",
       "      <td>0</td>\n",
       "      <td>145885.952297</td>\n",
       "      <td>покупка жилья</td>\n",
       "    </tr>\n",
       "    <tr>\n",
       "      <th>3</th>\n",
       "      <td>3</td>\n",
       "      <td>-4124.747207</td>\n",
       "      <td>32</td>\n",
       "      <td>среднее</td>\n",
       "      <td>1</td>\n",
       "      <td>женат / замужем</td>\n",
       "      <td>0</td>\n",
       "      <td>M</td>\n",
       "      <td>сотрудник</td>\n",
       "      <td>0</td>\n",
       "      <td>267628.550329</td>\n",
       "      <td>дополнительное образование</td>\n",
       "    </tr>\n",
       "    <tr>\n",
       "      <th>4</th>\n",
       "      <td>0</td>\n",
       "      <td>340266.072047</td>\n",
       "      <td>53</td>\n",
       "      <td>среднее</td>\n",
       "      <td>1</td>\n",
       "      <td>гражданский брак</td>\n",
       "      <td>1</td>\n",
       "      <td>F</td>\n",
       "      <td>пенсионер</td>\n",
       "      <td>0</td>\n",
       "      <td>158616.077870</td>\n",
       "      <td>сыграть свадьбу</td>\n",
       "    </tr>\n",
       "  </tbody>\n",
       "</table>\n",
       "</div>"
      ],
      "text/plain": [
       "   children  days_employed  full_years education  education_id  \\\n",
       "0         1   -8437.673028          42    высшее             0   \n",
       "1         1   -4024.803754          36   среднее             1   \n",
       "2         0   -5623.422610          33   Среднее             1   \n",
       "3         3   -4124.747207          32   среднее             1   \n",
       "4         0  340266.072047          53   среднее             1   \n",
       "\n",
       "      family_status  family_status_id gender income_type  debt   total_income  \\\n",
       "0   женат / замужем                 0      F   сотрудник     0  253875.639453   \n",
       "1   женат / замужем                 0      F   сотрудник     0  112080.014102   \n",
       "2   женат / замужем                 0      M   сотрудник     0  145885.952297   \n",
       "3   женат / замужем                 0      M   сотрудник     0  267628.550329   \n",
       "4  гражданский брак                 1      F   пенсионер     0  158616.077870   \n",
       "\n",
       "                      purpose  \n",
       "0               покупка жилья  \n",
       "1     приобретение автомобиля  \n",
       "2               покупка жилья  \n",
       "3  дополнительное образование  \n",
       "4             сыграть свадьбу  "
      ]
     },
     "metadata": {},
     "output_type": "display_data"
    }
   ],
   "source": [
    "#Посмотрим на первые 5 строк таблицы\n",
    "\n",
    "display(data.head())"
   ]
  },
  {
   "cell_type": "markdown",
   "metadata": {},
   "source": [
    "<div class=\"alert alert-success\">\n",
    "<h2> Комментарий от ревьюера<a class=\"tocSkip\"></a></h2>\n",
    "Молодец, хороший тон использовать метод info() для получения общей информации из таблицы. Для более детального изучения можно воспользоваться методом describe(). \n",
    "    \n",
    " \n",
    "</div>"
   ]
  },
  {
   "cell_type": "code",
   "execution_count": 70,
   "metadata": {},
   "outputs": [
    {
     "data": {
      "text/html": [
       "<div>\n",
       "<style scoped>\n",
       "    .dataframe tbody tr th:only-of-type {\n",
       "        vertical-align: middle;\n",
       "    }\n",
       "\n",
       "    .dataframe tbody tr th {\n",
       "        vertical-align: top;\n",
       "    }\n",
       "\n",
       "    .dataframe thead th {\n",
       "        text-align: right;\n",
       "    }\n",
       "</style>\n",
       "<table border=\"1\" class=\"dataframe\">\n",
       "  <thead>\n",
       "    <tr style=\"text-align: right;\">\n",
       "      <th></th>\n",
       "      <th>children</th>\n",
       "      <th>days_employed</th>\n",
       "      <th>full_years</th>\n",
       "      <th>education_id</th>\n",
       "      <th>family_status_id</th>\n",
       "      <th>debt</th>\n",
       "      <th>total_income</th>\n",
       "    </tr>\n",
       "  </thead>\n",
       "  <tbody>\n",
       "    <tr>\n",
       "      <th>count</th>\n",
       "      <td>21525.000000</td>\n",
       "      <td>19351.000000</td>\n",
       "      <td>21525.000000</td>\n",
       "      <td>21525.000000</td>\n",
       "      <td>21525.000000</td>\n",
       "      <td>21525.000000</td>\n",
       "      <td>1.935100e+04</td>\n",
       "    </tr>\n",
       "    <tr>\n",
       "      <th>mean</th>\n",
       "      <td>0.538908</td>\n",
       "      <td>63046.497661</td>\n",
       "      <td>43.293380</td>\n",
       "      <td>0.817236</td>\n",
       "      <td>0.972544</td>\n",
       "      <td>0.080883</td>\n",
       "      <td>1.674223e+05</td>\n",
       "    </tr>\n",
       "    <tr>\n",
       "      <th>std</th>\n",
       "      <td>1.381587</td>\n",
       "      <td>140827.311974</td>\n",
       "      <td>12.574584</td>\n",
       "      <td>0.548138</td>\n",
       "      <td>1.420324</td>\n",
       "      <td>0.272661</td>\n",
       "      <td>1.029716e+05</td>\n",
       "    </tr>\n",
       "    <tr>\n",
       "      <th>min</th>\n",
       "      <td>-1.000000</td>\n",
       "      <td>-18388.949901</td>\n",
       "      <td>0.000000</td>\n",
       "      <td>0.000000</td>\n",
       "      <td>0.000000</td>\n",
       "      <td>0.000000</td>\n",
       "      <td>2.066726e+04</td>\n",
       "    </tr>\n",
       "    <tr>\n",
       "      <th>25%</th>\n",
       "      <td>0.000000</td>\n",
       "      <td>-2747.423625</td>\n",
       "      <td>33.000000</td>\n",
       "      <td>1.000000</td>\n",
       "      <td>0.000000</td>\n",
       "      <td>0.000000</td>\n",
       "      <td>1.030532e+05</td>\n",
       "    </tr>\n",
       "    <tr>\n",
       "      <th>50%</th>\n",
       "      <td>0.000000</td>\n",
       "      <td>-1203.369529</td>\n",
       "      <td>42.000000</td>\n",
       "      <td>1.000000</td>\n",
       "      <td>0.000000</td>\n",
       "      <td>0.000000</td>\n",
       "      <td>1.450179e+05</td>\n",
       "    </tr>\n",
       "    <tr>\n",
       "      <th>75%</th>\n",
       "      <td>1.000000</td>\n",
       "      <td>-291.095954</td>\n",
       "      <td>53.000000</td>\n",
       "      <td>1.000000</td>\n",
       "      <td>1.000000</td>\n",
       "      <td>0.000000</td>\n",
       "      <td>2.034351e+05</td>\n",
       "    </tr>\n",
       "    <tr>\n",
       "      <th>max</th>\n",
       "      <td>20.000000</td>\n",
       "      <td>401755.400475</td>\n",
       "      <td>75.000000</td>\n",
       "      <td>4.000000</td>\n",
       "      <td>4.000000</td>\n",
       "      <td>1.000000</td>\n",
       "      <td>2.265604e+06</td>\n",
       "    </tr>\n",
       "  </tbody>\n",
       "</table>\n",
       "</div>"
      ],
      "text/plain": [
       "           children  days_employed    full_years  education_id  \\\n",
       "count  21525.000000   19351.000000  21525.000000  21525.000000   \n",
       "mean       0.538908   63046.497661     43.293380      0.817236   \n",
       "std        1.381587  140827.311974     12.574584      0.548138   \n",
       "min       -1.000000  -18388.949901      0.000000      0.000000   \n",
       "25%        0.000000   -2747.423625     33.000000      1.000000   \n",
       "50%        0.000000   -1203.369529     42.000000      1.000000   \n",
       "75%        1.000000    -291.095954     53.000000      1.000000   \n",
       "max       20.000000  401755.400475     75.000000      4.000000   \n",
       "\n",
       "       family_status_id          debt  total_income  \n",
       "count      21525.000000  21525.000000  1.935100e+04  \n",
       "mean           0.972544      0.080883  1.674223e+05  \n",
       "std            1.420324      0.272661  1.029716e+05  \n",
       "min            0.000000      0.000000  2.066726e+04  \n",
       "25%            0.000000      0.000000  1.030532e+05  \n",
       "50%            0.000000      0.000000  1.450179e+05  \n",
       "75%            1.000000      0.000000  2.034351e+05  \n",
       "max            4.000000      1.000000  2.265604e+06  "
      ]
     },
     "execution_count": 70,
     "metadata": {},
     "output_type": "execute_result"
    }
   ],
   "source": [
    "#Изучим данные с помошью метода describe()\n",
    "\n",
    "data.describe()"
   ]
  },
  {
   "cell_type": "markdown",
   "metadata": {},
   "source": [
    "<font color='purple'>Комментарий И.: Метод describe() применен для набора данных</font>\n"
   ]
  },
  {
   "cell_type": "code",
   "execution_count": 71,
   "metadata": {},
   "outputs": [
    {
     "name": "stdout",
     "output_type": "stream",
     "text": [
      "15906\n"
     ]
    }
   ],
   "source": [
    "#Посчитаем сколько отрицательных значений в колонке days_employed\n",
    "\n",
    "print(data[data['days_employed'] < 0]['income_type'].count())"
   ]
  },
  {
   "cell_type": "code",
   "execution_count": 72,
   "metadata": {},
   "outputs": [
    {
     "data": {
      "text/html": [
       "<div>\n",
       "<style scoped>\n",
       "    .dataframe tbody tr th:only-of-type {\n",
       "        vertical-align: middle;\n",
       "    }\n",
       "\n",
       "    .dataframe tbody tr th {\n",
       "        vertical-align: top;\n",
       "    }\n",
       "\n",
       "    .dataframe thead tr th {\n",
       "        text-align: left;\n",
       "    }\n",
       "\n",
       "    .dataframe thead tr:last-of-type th {\n",
       "        text-align: right;\n",
       "    }\n",
       "</style>\n",
       "<table border=\"1\" class=\"dataframe\">\n",
       "  <thead>\n",
       "    <tr>\n",
       "      <th></th>\n",
       "      <th colspan=\"2\" halign=\"left\">days_employed</th>\n",
       "    </tr>\n",
       "    <tr>\n",
       "      <th></th>\n",
       "      <th>min</th>\n",
       "      <th>mean</th>\n",
       "    </tr>\n",
       "    <tr>\n",
       "      <th>income_type</th>\n",
       "      <th></th>\n",
       "      <th></th>\n",
       "    </tr>\n",
       "  </thead>\n",
       "  <tbody>\n",
       "    <tr>\n",
       "      <th>безработный</th>\n",
       "      <td>337524.466835</td>\n",
       "      <td>366413.652744</td>\n",
       "    </tr>\n",
       "    <tr>\n",
       "      <th>в декрете</th>\n",
       "      <td>-3296.759962</td>\n",
       "      <td>-3296.759962</td>\n",
       "    </tr>\n",
       "    <tr>\n",
       "      <th>госслужащий</th>\n",
       "      <td>-15193.032201</td>\n",
       "      <td>-3399.896902</td>\n",
       "    </tr>\n",
       "    <tr>\n",
       "      <th>компаньон</th>\n",
       "      <td>-17615.563266</td>\n",
       "      <td>-2111.524398</td>\n",
       "    </tr>\n",
       "    <tr>\n",
       "      <th>пенсионер</th>\n",
       "      <td>328728.720605</td>\n",
       "      <td>365003.491245</td>\n",
       "    </tr>\n",
       "    <tr>\n",
       "      <th>предприниматель</th>\n",
       "      <td>-520.848083</td>\n",
       "      <td>-520.848083</td>\n",
       "    </tr>\n",
       "    <tr>\n",
       "      <th>сотрудник</th>\n",
       "      <td>-18388.949901</td>\n",
       "      <td>-2326.499216</td>\n",
       "    </tr>\n",
       "    <tr>\n",
       "      <th>студент</th>\n",
       "      <td>-578.751554</td>\n",
       "      <td>-578.751554</td>\n",
       "    </tr>\n",
       "  </tbody>\n",
       "</table>\n",
       "</div>"
      ],
      "text/plain": [
       "                 days_employed               \n",
       "                           min           mean\n",
       "income_type                                  \n",
       "безработный      337524.466835  366413.652744\n",
       "в декрете         -3296.759962   -3296.759962\n",
       "госслужащий      -15193.032201   -3399.896902\n",
       "компаньон        -17615.563266   -2111.524398\n",
       "пенсионер        328728.720605  365003.491245\n",
       "предприниматель    -520.848083    -520.848083\n",
       "сотрудник        -18388.949901   -2326.499216\n",
       "студент            -578.751554    -578.751554"
      ]
     },
     "metadata": {},
     "output_type": "display_data"
    }
   ],
   "source": [
    "#Посчитаем минимальные и средние по данным трудового стажа по категориям\n",
    "\n",
    "display(data.groupby('income_type').agg({'days_employed' : ['min', 'mean']}))\n"
   ]
  },
  {
   "cell_type": "markdown",
   "metadata": {},
   "source": [
    "**Вывод**"
   ]
  },
  {
   "cell_type": "markdown",
   "metadata": {},
   "source": [
    "На основании общей информации, можно сделать вывод, что в столбцах days_employed и total_income есть пропущенные значения (по 19351 записей, в то время как в других столбцах 21525 записей). Пропущенные значения необходимо удалить или заполнить.\n",
    "\n",
    "Ошибок в названиях столбцов не обнаружено, они передают смысл содержания (есть сомнения по поводу столбца dob_years, кто такой \"dob\"? почему не \"full\"? Решено переименовать). По необходимости в названиях используется знак нижнего подчеркивания.\n",
    "\n",
    "На данном этапе кажется необычным, что тип данных в столбце total_income и days_employed - float64, необходимо понять логику расчета и изменить. \n",
    "\n",
    "В столбце days_employed встречаются отрицательные значения, что видно на примере первых 5 строк, это ошибочные данные их необходимо изменить. Поскольку в колонке days_employed 15906 строк с отрицательными данными, мы не можем их просто удалить. Есть предположение, что количество стажа исчисляется как разница между датой трудоустройства и датой выгрузки данных, необходимо уточнить этот вопрос с разработчиками. По категориям 'пенсионер' и 'безработный' трудовой стаж исчисляется очень большими числами. "
   ]
  },
  {
   "cell_type": "markdown",
   "metadata": {},
   "source": [
    "<div class=\"alert alert-success\">\n",
    "<h2> Комментарий от ревьюера<a class=\"tocSkip\"></a></h2>\n",
    "Действительно, ты верно заметила, что количество проусков в двух столбцах одинаковое. Осталось проверить, взаимосвязаны ли они, то есть пропуски в одном соответсвуют пропускам в другом столбце.\n",
    "    \n",
    "    \n",
    "Согласна с тобой, что есть столбцы, которые названы не корректно, можно заменять на более понятные названия.\n",
    "    \n",
    "\n",
    "Тип данных необходимо изменить, сейчас формат float из-за того, что в этих столбцах находятся значения NaN.\n",
    "    \n",
    " \n",
    "</div>"
   ]
  },
  {
   "cell_type": "markdown",
   "metadata": {},
   "source": [
    "## Шаг 2. Предобработка данных"
   ]
  },
  {
   "cell_type": "markdown",
   "metadata": {},
   "source": [
    "### Обработка пропусков"
   ]
  },
  {
   "cell_type": "code",
   "execution_count": 73,
   "metadata": {},
   "outputs": [
    {
     "data": {
      "text/html": [
       "<div>\n",
       "<style scoped>\n",
       "    .dataframe tbody tr th:only-of-type {\n",
       "        vertical-align: middle;\n",
       "    }\n",
       "\n",
       "    .dataframe tbody tr th {\n",
       "        vertical-align: top;\n",
       "    }\n",
       "\n",
       "    .dataframe thead th {\n",
       "        text-align: right;\n",
       "    }\n",
       "</style>\n",
       "<table border=\"1\" class=\"dataframe\">\n",
       "  <thead>\n",
       "    <tr style=\"text-align: right;\">\n",
       "      <th></th>\n",
       "      <th>children</th>\n",
       "      <th>days_employed</th>\n",
       "      <th>full_years</th>\n",
       "      <th>education</th>\n",
       "      <th>education_id</th>\n",
       "      <th>family_status</th>\n",
       "      <th>family_status_id</th>\n",
       "      <th>gender</th>\n",
       "      <th>income_type</th>\n",
       "      <th>debt</th>\n",
       "      <th>total_income</th>\n",
       "      <th>purpose</th>\n",
       "    </tr>\n",
       "  </thead>\n",
       "  <tbody>\n",
       "    <tr>\n",
       "      <th>12</th>\n",
       "      <td>0</td>\n",
       "      <td>NaN</td>\n",
       "      <td>65</td>\n",
       "      <td>среднее</td>\n",
       "      <td>1</td>\n",
       "      <td>гражданский брак</td>\n",
       "      <td>1</td>\n",
       "      <td>M</td>\n",
       "      <td>пенсионер</td>\n",
       "      <td>0</td>\n",
       "      <td>NaN</td>\n",
       "      <td>сыграть свадьбу</td>\n",
       "    </tr>\n",
       "    <tr>\n",
       "      <th>26</th>\n",
       "      <td>0</td>\n",
       "      <td>NaN</td>\n",
       "      <td>41</td>\n",
       "      <td>среднее</td>\n",
       "      <td>1</td>\n",
       "      <td>женат / замужем</td>\n",
       "      <td>0</td>\n",
       "      <td>M</td>\n",
       "      <td>госслужащий</td>\n",
       "      <td>0</td>\n",
       "      <td>NaN</td>\n",
       "      <td>образование</td>\n",
       "    </tr>\n",
       "    <tr>\n",
       "      <th>29</th>\n",
       "      <td>0</td>\n",
       "      <td>NaN</td>\n",
       "      <td>63</td>\n",
       "      <td>среднее</td>\n",
       "      <td>1</td>\n",
       "      <td>Не женат / не замужем</td>\n",
       "      <td>4</td>\n",
       "      <td>F</td>\n",
       "      <td>пенсионер</td>\n",
       "      <td>0</td>\n",
       "      <td>NaN</td>\n",
       "      <td>строительство жилой недвижимости</td>\n",
       "    </tr>\n",
       "    <tr>\n",
       "      <th>41</th>\n",
       "      <td>0</td>\n",
       "      <td>NaN</td>\n",
       "      <td>50</td>\n",
       "      <td>среднее</td>\n",
       "      <td>1</td>\n",
       "      <td>женат / замужем</td>\n",
       "      <td>0</td>\n",
       "      <td>F</td>\n",
       "      <td>госслужащий</td>\n",
       "      <td>0</td>\n",
       "      <td>NaN</td>\n",
       "      <td>сделка с подержанным автомобилем</td>\n",
       "    </tr>\n",
       "    <tr>\n",
       "      <th>55</th>\n",
       "      <td>0</td>\n",
       "      <td>NaN</td>\n",
       "      <td>54</td>\n",
       "      <td>среднее</td>\n",
       "      <td>1</td>\n",
       "      <td>гражданский брак</td>\n",
       "      <td>1</td>\n",
       "      <td>F</td>\n",
       "      <td>пенсионер</td>\n",
       "      <td>1</td>\n",
       "      <td>NaN</td>\n",
       "      <td>сыграть свадьбу</td>\n",
       "    </tr>\n",
       "    <tr>\n",
       "      <th>65</th>\n",
       "      <td>0</td>\n",
       "      <td>NaN</td>\n",
       "      <td>21</td>\n",
       "      <td>среднее</td>\n",
       "      <td>1</td>\n",
       "      <td>Не женат / не замужем</td>\n",
       "      <td>4</td>\n",
       "      <td>M</td>\n",
       "      <td>компаньон</td>\n",
       "      <td>0</td>\n",
       "      <td>NaN</td>\n",
       "      <td>операции с коммерческой недвижимостью</td>\n",
       "    </tr>\n",
       "    <tr>\n",
       "      <th>67</th>\n",
       "      <td>0</td>\n",
       "      <td>NaN</td>\n",
       "      <td>52</td>\n",
       "      <td>высшее</td>\n",
       "      <td>0</td>\n",
       "      <td>женат / замужем</td>\n",
       "      <td>0</td>\n",
       "      <td>F</td>\n",
       "      <td>пенсионер</td>\n",
       "      <td>0</td>\n",
       "      <td>NaN</td>\n",
       "      <td>покупка жилья для семьи</td>\n",
       "    </tr>\n",
       "    <tr>\n",
       "      <th>72</th>\n",
       "      <td>1</td>\n",
       "      <td>NaN</td>\n",
       "      <td>32</td>\n",
       "      <td>высшее</td>\n",
       "      <td>0</td>\n",
       "      <td>женат / замужем</td>\n",
       "      <td>0</td>\n",
       "      <td>M</td>\n",
       "      <td>госслужащий</td>\n",
       "      <td>0</td>\n",
       "      <td>NaN</td>\n",
       "      <td>операции с коммерческой недвижимостью</td>\n",
       "    </tr>\n",
       "    <tr>\n",
       "      <th>82</th>\n",
       "      <td>2</td>\n",
       "      <td>NaN</td>\n",
       "      <td>50</td>\n",
       "      <td>высшее</td>\n",
       "      <td>0</td>\n",
       "      <td>женат / замужем</td>\n",
       "      <td>0</td>\n",
       "      <td>F</td>\n",
       "      <td>сотрудник</td>\n",
       "      <td>0</td>\n",
       "      <td>NaN</td>\n",
       "      <td>жилье</td>\n",
       "    </tr>\n",
       "    <tr>\n",
       "      <th>83</th>\n",
       "      <td>0</td>\n",
       "      <td>NaN</td>\n",
       "      <td>52</td>\n",
       "      <td>среднее</td>\n",
       "      <td>1</td>\n",
       "      <td>женат / замужем</td>\n",
       "      <td>0</td>\n",
       "      <td>M</td>\n",
       "      <td>сотрудник</td>\n",
       "      <td>0</td>\n",
       "      <td>NaN</td>\n",
       "      <td>жилье</td>\n",
       "    </tr>\n",
       "  </tbody>\n",
       "</table>\n",
       "</div>"
      ],
      "text/plain": [
       "    children  days_employed  full_years education  education_id  \\\n",
       "12         0            NaN          65   среднее             1   \n",
       "26         0            NaN          41   среднее             1   \n",
       "29         0            NaN          63   среднее             1   \n",
       "41         0            NaN          50   среднее             1   \n",
       "55         0            NaN          54   среднее             1   \n",
       "65         0            NaN          21   среднее             1   \n",
       "67         0            NaN          52    высшее             0   \n",
       "72         1            NaN          32    высшее             0   \n",
       "82         2            NaN          50    высшее             0   \n",
       "83         0            NaN          52   среднее             1   \n",
       "\n",
       "            family_status  family_status_id gender  income_type  debt  \\\n",
       "12       гражданский брак                 1      M    пенсионер     0   \n",
       "26        женат / замужем                 0      M  госслужащий     0   \n",
       "29  Не женат / не замужем                 4      F    пенсионер     0   \n",
       "41        женат / замужем                 0      F  госслужащий     0   \n",
       "55       гражданский брак                 1      F    пенсионер     1   \n",
       "65  Не женат / не замужем                 4      M    компаньон     0   \n",
       "67        женат / замужем                 0      F    пенсионер     0   \n",
       "72        женат / замужем                 0      M  госслужащий     0   \n",
       "82        женат / замужем                 0      F    сотрудник     0   \n",
       "83        женат / замужем                 0      M    сотрудник     0   \n",
       "\n",
       "    total_income                                purpose  \n",
       "12           NaN                        сыграть свадьбу  \n",
       "26           NaN                            образование  \n",
       "29           NaN       строительство жилой недвижимости  \n",
       "41           NaN       сделка с подержанным автомобилем  \n",
       "55           NaN                        сыграть свадьбу  \n",
       "65           NaN  операции с коммерческой недвижимостью  \n",
       "67           NaN                покупка жилья для семьи  \n",
       "72           NaN  операции с коммерческой недвижимостью  \n",
       "82           NaN                                  жилье  \n",
       "83           NaN                                  жилье  "
      ]
     },
     "metadata": {},
     "output_type": "display_data"
    }
   ],
   "source": [
    "#Получим первые 10 записей с пропущенными значениями\n",
    "\n",
    "display(data[data['days_employed'].isnull()].head(10))\n"
   ]
  },
  {
   "cell_type": "code",
   "execution_count": 74,
   "metadata": {},
   "outputs": [],
   "source": [
    "#Заменим отрицательные значения в столбце days_employed на положительные\n",
    "\n",
    "#data.loc[data['days_employed'] < 0, 'days_employed'] = data['days_employed']*(-1)\n",
    "\n",
    "data.loc[data['days_employed'] < 0, 'days_employed'] = data['days_employed'].abs()"
   ]
  },
  {
   "cell_type": "markdown",
   "metadata": {},
   "source": [
    "<div class=\"alert alert-success\">\n",
    "<h2> Комментарий от ревьюера<a class=\"tocSkip\"></a></h2>\n",
    "Конечно, тут необходима замена на положительные значения. Ты все сделала правильно. но гораздо проще можно получить такой же результат, используя метод abs(), который возвращает модуль числа.\n",
    " \n",
    "</div>"
   ]
  },
  {
   "cell_type": "markdown",
   "metadata": {},
   "source": [
    "<font color='purple'>Комментарий И.: Спасибо, применен метод abs()</font>\n"
   ]
  },
  {
   "cell_type": "code",
   "execution_count": 75,
   "metadata": {},
   "outputs": [
    {
     "name": "stdout",
     "output_type": "stream",
     "text": [
      "income_type\n",
      "безработный        366413.652744\n",
      "в декрете            3296.759962\n",
      "госслужащий          3399.896902\n",
      "компаньон            2111.524398\n",
      "пенсионер          365003.491245\n",
      "предприниматель       520.848083\n",
      "сотрудник            2326.499216\n",
      "студент               578.751554\n",
      "Name: days_employed, dtype: float64\n"
     ]
    }
   ],
   "source": [
    "#Проверим результат путем вызова средних по категориям\n",
    "\n",
    "print(data.groupby('income_type')['days_employed'].mean())"
   ]
  },
  {
   "cell_type": "code",
   "execution_count": 76,
   "metadata": {},
   "outputs": [
    {
     "name": "stdout",
     "output_type": "stream",
     "text": [
      "2174\n",
      "2174\n"
     ]
    }
   ],
   "source": [
    "#Проверим сколько записей пропущено в столбцах 'days_employed' и 'total_income'\n",
    "\n",
    "print(len(data[data['days_employed'].isnull()]))\n",
    "print(len(data[data['total_income'].isnull()]))"
   ]
  },
  {
   "cell_type": "markdown",
   "metadata": {},
   "source": [
    "<div class=\"alert alert-warning\">\n",
    "<h2> Комментарий от ревьюера<a class=\"tocSkip\"></a></h2>\n",
    "Хм... а почему ты заменила стаж этих категорий на 0? Получается что пенсионер совсем не работал? Да, на данный момент эта категория на пенсии, но в этой колонке проставляется суммарный стаж проработанных лет. В данном случае такую замену делать некорректно. Подумай, как еще можно заменить пропущенный стаж?\n",
    "    \n",
    " \n",
    "</div>"
   ]
  },
  {
   "cell_type": "markdown",
   "metadata": {},
   "source": [
    "<font color='purple'>Комментарий И.: Наверное можно заменить пропущенный стаж для категорий 'пенсионер' и 'безработный' на средний стаж по всем остальным категориям (обнуление стажа для пенсионера и безработного оставлено первым шагом, чтобы далее посчитать среднее по остальным данным, также можно было бы при подсчете средного добавить условия income_type 'не равно' пенсионер и безработный, чтобы среднее по остальным категориям посчиталось корректно)</font>\n"
   ]
  },
  {
   "cell_type": "code",
   "execution_count": 77,
   "metadata": {},
   "outputs": [],
   "source": [
    "#Заменим стаж пенсионеров и безработных на средний стаж работы:\n",
    "days_employed_avg = data['days_employed'].mean()\n",
    "\n",
    "data.loc[(data['income_type'] == 'пенсионер'), 'days_employed'] = days_employed_avg\n",
    "data.loc[(data['income_type'] == 'безработный'), 'days_employed'] = days_employed_avg\n"
   ]
  },
  {
   "cell_type": "code",
   "execution_count": 78,
   "metadata": {},
   "outputs": [
    {
     "name": "stdout",
     "output_type": "stream",
     "text": [
      "66914.72890682239\n",
      "66914.72890682236\n"
     ]
    }
   ],
   "source": [
    "#Проверим, что данные обновились\n",
    "\n",
    "print(data[data['income_type'] == 'пенсионер']['days_employed'].mean())\n",
    "print(data[data['income_type'] == 'безработный']['days_employed'].mean())"
   ]
  },
  {
   "cell_type": "markdown",
   "metadata": {},
   "source": [
    "<div class=\"alert alert-warning\">\n",
    "<h2> Комментарий от ревьюера<a class=\"tocSkip\"></a></h2>\n",
    "Код будет выглядеть проще, если ты убререшь groupby('income_type'). Ведь с маской ['income_type'] == 'безработный'] ты и так отбираешь только одну группу, соотвсетвенно группировка тут явно лишняя.\n",
    "    \n",
    " \n",
    "</div>"
   ]
  },
  {
   "cell_type": "markdown",
   "metadata": {},
   "source": [
    "<font color='purple'>Комментарий И.: Исправлено</font>\n"
   ]
  },
  {
   "cell_type": "code",
   "execution_count": 79,
   "metadata": {},
   "outputs": [
    {
     "name": "stdout",
     "output_type": "stream",
     "text": [
      "сотрудник          11119\n",
      "компаньон           5085\n",
      "пенсионер           3856\n",
      "госслужащий         1459\n",
      "безработный            2\n",
      "предприниматель        2\n",
      "в декрете              1\n",
      "студент                1\n",
      "Name: income_type, dtype: int64\n"
     ]
    }
   ],
   "source": [
    "#Посчитаем сколько записей в каждой категории\n",
    "\n",
    "print(data['income_type'].value_counts())"
   ]
  },
  {
   "cell_type": "code",
   "execution_count": 80,
   "metadata": {},
   "outputs": [],
   "source": [
    "#Объединим категории с небольшим количеством записей\n",
    "\n",
    "data.loc[data['income_type'] == 'предприниматель', 'income_type'] = 'компаньон'\n",
    "data.loc[data['income_type'] == 'безработный', 'income_type'] = 'другое'\n",
    "data.loc[data['income_type'] == 'в декрете', 'income_type'] = 'другое'\n",
    "data.loc[data['income_type'] == 'студент', 'income_type'] = 'другое'"
   ]
  },
  {
   "cell_type": "code",
   "execution_count": 81,
   "metadata": {},
   "outputs": [
    {
     "name": "stdout",
     "output_type": "stream",
     "text": [
      "сотрудник      11119\n",
      "компаньон       5087\n",
      "пенсионер       3856\n",
      "госслужащий     1459\n",
      "другое             4\n",
      "Name: income_type, dtype: int64\n"
     ]
    }
   ],
   "source": [
    "#Проверим новый список категорий\n",
    "\n",
    "print(data['income_type'].value_counts())"
   ]
  },
  {
   "cell_type": "code",
   "execution_count": 82,
   "metadata": {},
   "outputs": [
    {
     "name": "stdout",
     "output_type": "stream",
     "text": [
      "              total_income               \n",
      "                      mean         median\n",
      "income_type                              \n",
      "госслужащий  170898.309923  150447.935283\n",
      "другое       103677.564849   79079.308649\n",
      "компаньон    202482.281401  172396.000846\n",
      "пенсионер    137127.465690  118514.486412\n",
      "сотрудник    161380.260488  142594.396847\n"
     ]
    }
   ],
   "source": [
    "#Посчитаем медиану и среднее для столбца 'total_income' в зависимости от категории\n",
    "\n",
    "print(data.groupby('income_type').agg({'total_income': ['mean','median']}))\n"
   ]
  },
  {
   "cell_type": "code",
   "execution_count": 83,
   "metadata": {},
   "outputs": [
    {
     "name": "stdout",
     "output_type": "stream",
     "text": [
      "            days_employed              \n",
      "                     mean        median\n",
      "income_type                            \n",
      "госслужащий   3399.896902   2689.368353\n",
      "другое       34426.242332  35105.744434\n",
      "компаньон     2111.176937   1546.333214\n",
      "пенсионер    66914.728907  66914.728907\n",
      "сотрудник     2326.499216   1574.202821\n"
     ]
    }
   ],
   "source": [
    "#Посчитаем медиану и среднее для столбца 'days_employed' в зависимости от категории\n",
    "\n",
    "print(data.groupby('income_type').agg({'days_employed': ['mean','median']}))"
   ]
  },
  {
   "cell_type": "code",
   "execution_count": 84,
   "metadata": {},
   "outputs": [
    {
     "name": "stdout",
     "output_type": "stream",
     "text": [
      "income_type\n",
      "госслужащий     147\n",
      "компаньон       509\n",
      "пенсионер       413\n",
      "сотрудник      1105\n",
      "Name: income_type, dtype: int64\n"
     ]
    }
   ],
   "source": [
    "#Проверим для каких категорий есть пропущенные значения в столбце 'total_income'\n",
    "\n",
    "print(data[data['total_income'].isnull()].groupby('income_type')['income_type'].count())"
   ]
  },
  {
   "cell_type": "code",
   "execution_count": 85,
   "metadata": {},
   "outputs": [
    {
     "name": "stdout",
     "output_type": "stream",
     "text": [
      "income_type\n",
      "госслужащий     147\n",
      "компаньон       509\n",
      "сотрудник      1105\n",
      "Name: income_type, dtype: int64\n"
     ]
    }
   ],
   "source": [
    "#Проверим для каких категорий есть пропущенные значения в столбце 'days_employed'\n",
    "\n",
    "print(data[data['days_employed'].isnull()].groupby('income_type')['income_type'].count())"
   ]
  },
  {
   "cell_type": "code",
   "execution_count": 86,
   "metadata": {},
   "outputs": [],
   "source": [
    "#Заменим пропущенные значения в столбце 'total_income' для категорий госслужащий, компаньон, пенсионер, сотрудник на медианные значения по каждой категории\n",
    "#median_income_gov = data[data['income_type'] == 'госслужащий']['total_income'].median()\n",
    "#median_income_comp = data[data['income_type'] == 'компаньон']['total_income'].median()\n",
    "#median_income_ret = data[data['income_type'] == 'пенсионер']['total_income'].median()\n",
    "#median_income_emp = data[data['income_type'] == 'сотрудник']['total_income'].median()\n",
    "\n",
    "#data.loc[(data['income_type'] == 'госслужащий') & (data['total_income'].isna()), 'total_income'] = median_income_gov\n",
    "#data.loc[(data['income_type'] == 'компаньон') & (data['total_income'].isna()), 'total_income'] = median_income_comp\n",
    "#data.loc[(data['income_type'] == 'пенсионер') & (data['total_income'].isna()), 'total_income'] = median_income_ret\n",
    "#data.loc[(data['income_type'] == 'сотрудник') & (data['total_income'].isna()), 'total_income'] = median_income_emp\n",
    "\n",
    "med = data.groupby('income_type')['total_income'].transform('median')\n",
    "data['total_income'] = data['total_income'].fillna(med)\n"
   ]
  },
  {
   "cell_type": "markdown",
   "metadata": {},
   "source": [
    "<div class=\"alert alert-success\">\n",
    "<h2> Комментарий от ревьюера<a class=\"tocSkip\"></a></h2>\n",
    "Отлично, все верно! Но опять же много кода. Здесь у тебя много повторяющихся строк с разным income_type, это должно натолкнуть на мысль, что можно написать свою функцию, которая будет возвращать нужный результат. Онако в питоне уже есть стандартная функция <a href='https://pandas.pydata.org/docs/reference/api/pandas.DataFrame.transform.html'>transform()</a>, которая тут будет как раз к месту.\n",
    "</div>"
   ]
  },
  {
   "cell_type": "markdown",
   "metadata": {},
   "source": [
    "<font color='purple'>Комментарий И.: Попыталась применить функцию transform. Приятно видеть две строчки кода вместо 8!</font>\n"
   ]
  },
  {
   "cell_type": "markdown",
   "metadata": {},
   "source": [
    "<div class=\"alert alert-success\">\n",
    "<h2> Комментарий от ревьюера 2<a class=\"tocSkip\"></a></h2>\n",
    "Молодец, теперь код вылядит гораздо компактнее)\n",
    "</div>"
   ]
  },
  {
   "cell_type": "code",
   "execution_count": 87,
   "metadata": {},
   "outputs": [
    {
     "data": {
      "text/plain": [
       "0"
      ]
     },
     "execution_count": 87,
     "metadata": {},
     "output_type": "execute_result"
    }
   ],
   "source": [
    "#Проверим наличие пропусков в столбце 'total_income'\n",
    "\n",
    "data['total_income'].isna().sum()"
   ]
  },
  {
   "cell_type": "code",
   "execution_count": 88,
   "metadata": {},
   "outputs": [],
   "source": [
    "#Заменим пропущенные значения в столбце 'days_employed' для категорий госслужащий, компаньон, сотрудник на медианные значения по каждой категории\n",
    "#median_days_gov = data[data['income_type'] == 'госслужащий']['days_employed'].median()\n",
    "#median_days_comp = data[data['income_type'] == 'компаньон']['days_employed'].median()\n",
    "#median_days_emp = data[data['income_type'] == 'сотрудник']['days_employed'].median()\n",
    "\n",
    "#data.loc[(data['income_type'] == 'госслужащий') & (data['days_employed'].isna()), 'days_employed'] = median_days_gov\n",
    "#data.loc[(data['income_type'] == 'компаньон') & (data['days_employed'].isna()), 'days_employed'] = median_days_comp\n",
    "#data.loc[(data['income_type'] == 'сотрудник') & (data['days_employed'].isna()), 'days_employed'] = median_days_emp\n",
    "\n",
    "med = data.groupby('income_type')['days_employed'].transform('median')\n",
    "data['days_employed'] = data['days_employed'].fillna(med)\n"
   ]
  },
  {
   "cell_type": "code",
   "execution_count": 89,
   "metadata": {},
   "outputs": [
    {
     "data": {
      "text/plain": [
       "children            0\n",
       "days_employed       0\n",
       "full_years          0\n",
       "education           0\n",
       "education_id        0\n",
       "family_status       0\n",
       "family_status_id    0\n",
       "gender              0\n",
       "income_type         0\n",
       "debt                0\n",
       "total_income        0\n",
       "purpose             0\n",
       "dtype: int64"
      ]
     },
     "execution_count": 89,
     "metadata": {},
     "output_type": "execute_result"
    }
   ],
   "source": [
    "#Проверим наличие пропусков в data\n",
    "\n",
    "data.isna().sum()"
   ]
  },
  {
   "cell_type": "code",
   "execution_count": 90,
   "metadata": {},
   "outputs": [
    {
     "data": {
      "text/plain": [
       "0    19784\n",
       "1     1741\n",
       "Name: debt, dtype: int64"
      ]
     },
     "execution_count": 90,
     "metadata": {},
     "output_type": "execute_result"
    }
   ],
   "source": [
    "#Проверим уникальные значения в столбце долга\n",
    "\n",
    "data['debt'].value_counts()"
   ]
  },
  {
   "cell_type": "code",
   "execution_count": 91,
   "metadata": {},
   "outputs": [
    {
     "data": {
      "text/plain": [
       " 0     14149\n",
       " 1      4818\n",
       " 2      2055\n",
       " 3       330\n",
       " 20       76\n",
       "-1        47\n",
       " 4        41\n",
       " 5         9\n",
       "Name: children, dtype: int64"
      ]
     },
     "execution_count": 91,
     "metadata": {},
     "output_type": "execute_result"
    }
   ],
   "source": [
    "#Проверим уникальные значения в столбце с количеством детей\n",
    "\n",
    "data['children'].value_counts()"
   ]
  },
  {
   "cell_type": "code",
   "execution_count": 92,
   "metadata": {},
   "outputs": [
    {
     "data": {
      "text/plain": [
       "0    14149\n",
       "1     4865\n",
       "2     2131\n",
       "3      330\n",
       "4       41\n",
       "5        9\n",
       "Name: children, dtype: int64"
      ]
     },
     "execution_count": 92,
     "metadata": {},
     "output_type": "execute_result"
    }
   ],
   "source": [
    "data['children'] = data['children'].replace(to_replace=[-1,20],value=[1,2])\n",
    "data['children'].value_counts()"
   ]
  },
  {
   "cell_type": "markdown",
   "metadata": {},
   "source": [
    "<div class=\"alert alert-success\">\n",
    "<h2> Комментарий от ревьюера<a class=\"tocSkip\"></a></h2>\n",
    "Таких строк мало, можно и удалять, код будет выглядеть более читаемый, если ты воспользкешься функцией drop(). Но лучше все-таки сделать замену -1 на 1 и 20 на 2.\n",
    "</div>"
   ]
  },
  {
   "cell_type": "markdown",
   "metadata": {},
   "source": [
    "<font color='purple'>Комментарий И.: Данные заменены на 1 и 2</font>\n"
   ]
  },
  {
   "cell_type": "markdown",
   "metadata": {},
   "source": [
    "<div class=\"alert alert-success\">\n",
    "<h2> Комментарий от ревьюера 2<a class=\"tocSkip\"></a></h2>\n",
    "Кстати, вот тут тоже можно использовать python-way, воспользоваться функцией replace() для замены необходимых значений.\n",
    "</div>"
   ]
  },
  {
   "cell_type": "markdown",
   "metadata": {},
   "source": [
    "**Вывод**"
   ]
  },
  {
   "cell_type": "markdown",
   "metadata": {},
   "source": [
    "Для выявления пропущенных значений использовался метод isnull().\n",
    "\n",
    "На примере первых десяти строк таблицы с пропущенными значениями можно предположить, что значения одновременно пропущены в столбцах days_employed и total_income. \n",
    "Посчитаем количество пропусков в этих двух столбцах.\n",
    "Маловероятно, что люди не хотели делиться данными о своем доходе при заполнении заявки на кредит. Данные могли быть внесены и/или выгружены некорректно, причину пропуска в данных можно проверить дополнительно с разработчиками. Пока к разработчикам доступа нет, необходимо заменить данные.\n",
    "\n",
    "Поскольку пропущены количественные данные, принято решение посчитать средний и медианных доход и количество дней трудоустройства в зависимости от типа занятости и произвести замену пропущенных значений.\n",
    "Для того, чтобы правильно посчитать среднее по количеству дней трудоустройства, сначала обработаем отрицательные значения и большие числа в этом столбце.\n",
    "Для пенсионера и безработного заменим количество days_employed на 0. Отрицательные значения переведем в положительные - предположительно из-за логики сбора информации в этом столбце значения необходимо брать по модулю.\n",
    "\n",
    "\n",
    "Проверим какие есть категории и сколько человек в каждой категории. Категории 'безработный', 'предприниматель', 'в декрете', 'студент' значительно меньше первых четырех категорий. Объединим категории 'безработный', 'в декрете', 'студент' в категорию 'другое'. Предпринимателя поместим в категорию 'компаньон' из-за высокого дохода.       \n",
    "Сравним средние и медианные значения по категориям. Видно, что средние значения смещены вправо относительно медианных, вероятно в каждой категории есть зарплаты и длительность работы значительно выше остальных. \n",
    "Для замены пропущенных значений принято решение использовать медианные значения.\n",
    "\n",
    "Проверка столбца долга показала, что в столбце есть только два значения, что свидетельствует о том, что данные правильные.\n",
    "В столбце с наличием детей в 47 строках указано значение '-1' и в 76 строках указано значение '20'. Принято решение удалить эти строки, поскольку отрицательные данные ошибочные, и данные 20 вероятно тоже (такое возможно, но вряд ли в 76 случаях).\n",
    "\n",
    "\n"
   ]
  },
  {
   "cell_type": "markdown",
   "metadata": {},
   "source": [
    "### Замена типа данных"
   ]
  },
  {
   "cell_type": "code",
   "execution_count": 93,
   "metadata": {},
   "outputs": [],
   "source": [
    "#Заменим тип данных в столбце 'total_income' на целочисленный\n",
    "\n",
    "data['total_income'] = data['total_income'].astype('int')"
   ]
  },
  {
   "cell_type": "code",
   "execution_count": 94,
   "metadata": {},
   "outputs": [],
   "source": [
    "#Заменим тип данных в столбце 'days_employed' на целочисленный\n",
    "\n",
    "data['days_employed'] = data['days_employed'].astype('int')"
   ]
  },
  {
   "cell_type": "code",
   "execution_count": 95,
   "metadata": {},
   "outputs": [
    {
     "name": "stdout",
     "output_type": "stream",
     "text": [
      "<class 'pandas.core.frame.DataFrame'>\n",
      "RangeIndex: 21525 entries, 0 to 21524\n",
      "Data columns (total 12 columns):\n",
      " #   Column            Non-Null Count  Dtype \n",
      "---  ------            --------------  ----- \n",
      " 0   children          21525 non-null  int64 \n",
      " 1   days_employed     21525 non-null  int64 \n",
      " 2   full_years        21525 non-null  int64 \n",
      " 3   education         21525 non-null  object\n",
      " 4   education_id      21525 non-null  int64 \n",
      " 5   family_status     21525 non-null  object\n",
      " 6   family_status_id  21525 non-null  int64 \n",
      " 7   gender            21525 non-null  object\n",
      " 8   income_type       21525 non-null  object\n",
      " 9   debt              21525 non-null  int64 \n",
      " 10  total_income      21525 non-null  int64 \n",
      " 11  purpose           21525 non-null  object\n",
      "dtypes: int64(7), object(5)\n",
      "memory usage: 2.0+ MB\n"
     ]
    }
   ],
   "source": [
    "#Проверим общую инфомрацию по таблице\n",
    "\n",
    "data.info()"
   ]
  },
  {
   "cell_type": "markdown",
   "metadata": {},
   "source": [
    "**Вывод**"
   ]
  },
  {
   "cell_type": "markdown",
   "metadata": {},
   "source": [
    "Для столбцов 'total_income' и 'days_employed' произведена замена типа данных с вещественнного на целочисленный с помощью метода astype().\n",
    "\n",
    "\n",
    "\n"
   ]
  },
  {
   "cell_type": "markdown",
   "metadata": {},
   "source": [
    "<div class=\"alert alert-success\">\n",
    "<h2> Комментарий от ревьюера<a class=\"tocSkip\"></a></h2>\n",
    "Отлично,теперь все столбцы имеют корректный формат данных.\n",
    "</div>"
   ]
  },
  {
   "cell_type": "markdown",
   "metadata": {},
   "source": [
    "### Обработка дубликатов"
   ]
  },
  {
   "cell_type": "code",
   "execution_count": 96,
   "metadata": {},
   "outputs": [
    {
     "data": {
      "text/plain": [
       "54"
      ]
     },
     "execution_count": 96,
     "metadata": {},
     "output_type": "execute_result"
    }
   ],
   "source": [
    "#Проверим сколько в данных содержится дубликтов\n",
    "\n",
    "data.duplicated().sum()"
   ]
  },
  {
   "cell_type": "code",
   "execution_count": 97,
   "metadata": {},
   "outputs": [
    {
     "data": {
      "text/plain": [
       "среднее                13750\n",
       "высшее                  4718\n",
       "СРЕДНЕЕ                  772\n",
       "Среднее                  711\n",
       "неоконченное высшее      668\n",
       "ВЫСШЕЕ                   274\n",
       "Высшее                   268\n",
       "начальное                250\n",
       "Неоконченное высшее       47\n",
       "НЕОКОНЧЕННОЕ ВЫСШЕЕ       29\n",
       "НАЧАЛЬНОЕ                 17\n",
       "Начальное                 15\n",
       "ученая степень             4\n",
       "Ученая степень             1\n",
       "УЧЕНАЯ СТЕПЕНЬ             1\n",
       "Name: education, dtype: int64"
      ]
     },
     "execution_count": 97,
     "metadata": {},
     "output_type": "execute_result"
    }
   ],
   "source": [
    "#Проверим как выглядят категории в столбце 'education'\n",
    "\n",
    "data['education'].value_counts()"
   ]
  },
  {
   "cell_type": "code",
   "execution_count": 98,
   "metadata": {},
   "outputs": [],
   "source": [
    "#Переведем строки в столбце data в нижний регистр\n",
    "\n",
    "data['education'] = data['education'].str.lower()\n"
   ]
  },
  {
   "cell_type": "code",
   "execution_count": 99,
   "metadata": {},
   "outputs": [
    {
     "data": {
      "text/plain": [
       "71"
      ]
     },
     "execution_count": 99,
     "metadata": {},
     "output_type": "execute_result"
    }
   ],
   "source": [
    "#Проверим сколько в данных содержится дубликатов после изменения регистра столбца education\n",
    "\n",
    "data.duplicated().sum()"
   ]
  },
  {
   "cell_type": "markdown",
   "metadata": {},
   "source": [
    "<div class=\"alert alert-success\">\n",
    "<h2> Комментарий от ревьюера<a class=\"tocSkip\"></a></h2>\n",
    "Здесь важно обратить внимание на то, что сначала необходимо привести текстовый формат данных к единому виду(регистр), а затем проверять на дубликаты. Иначе результат может получится другой.\n",
    " \n",
    "</div>"
   ]
  },
  {
   "cell_type": "code",
   "execution_count": 100,
   "metadata": {},
   "outputs": [
    {
     "data": {
      "text/plain": [
       "женат / замужем          12380\n",
       "гражданский брак          4177\n",
       "Не женат / не замужем     2813\n",
       "в разводе                 1195\n",
       "вдовец / вдова             960\n",
       "Name: family_status, dtype: int64"
      ]
     },
     "execution_count": 100,
     "metadata": {},
     "output_type": "execute_result"
    }
   ],
   "source": [
    "#Проверим как выглядят категории в столбце 'family_status'\n",
    "\n",
    "data['family_status'].value_counts()"
   ]
  },
  {
   "cell_type": "code",
   "execution_count": 101,
   "metadata": {},
   "outputs": [
    {
     "data": {
      "text/plain": [
       "свадьба                                   797\n",
       "на проведение свадьбы                     777\n",
       "сыграть свадьбу                           774\n",
       "операции с недвижимостью                  676\n",
       "покупка коммерческой недвижимости         664\n",
       "покупка жилья для сдачи                   653\n",
       "операции с жильем                         653\n",
       "операции с коммерческой недвижимостью     651\n",
       "жилье                                     647\n",
       "покупка жилья                             647\n",
       "покупка жилья для семьи                   641\n",
       "строительство собственной недвижимости    635\n",
       "недвижимость                              634\n",
       "операции со своей недвижимостью           630\n",
       "строительство жилой недвижимости          626\n",
       "покупка недвижимости                      624\n",
       "покупка своего жилья                      620\n",
       "строительство недвижимости                620\n",
       "ремонт жилью                              612\n",
       "покупка жилой недвижимости                607\n",
       "на покупку своего автомобиля              505\n",
       "заняться высшим образованием              496\n",
       "автомобиль                                495\n",
       "сделка с подержанным автомобилем          489\n",
       "свой автомобиль                           480\n",
       "на покупку подержанного автомобиля        479\n",
       "автомобили                                478\n",
       "на покупку автомобиля                     472\n",
       "дополнительное образование                462\n",
       "приобретение автомобиля                   462\n",
       "сделка с автомобилем                      455\n",
       "высшее образование                        453\n",
       "образование                               447\n",
       "получение дополнительного образования     447\n",
       "получение образования                     443\n",
       "профильное образование                    436\n",
       "получение высшего образования             426\n",
       "заняться образованием                     412\n",
       "Name: purpose, dtype: int64"
      ]
     },
     "execution_count": 101,
     "metadata": {},
     "output_type": "execute_result"
    }
   ],
   "source": [
    "#Проверим как выглядят категории в столбце 'purpose'\n",
    "\n",
    "data['purpose'].value_counts()"
   ]
  },
  {
   "cell_type": "code",
   "execution_count": 102,
   "metadata": {},
   "outputs": [],
   "source": [
    "#Удалим дубликаты из данных\n",
    "\n",
    "data = data.drop_duplicates().reset_index(drop=True)"
   ]
  },
  {
   "cell_type": "code",
   "execution_count": 103,
   "metadata": {},
   "outputs": [
    {
     "data": {
      "text/plain": [
       "0"
      ]
     },
     "execution_count": 103,
     "metadata": {},
     "output_type": "execute_result"
    }
   ],
   "source": [
    "#Проверим наличие дубликатов после удаления\n",
    "\n",
    "data.duplicated().sum()"
   ]
  },
  {
   "cell_type": "markdown",
   "metadata": {},
   "source": [
    "**Вывод**"
   ]
  },
  {
   "cell_type": "markdown",
   "metadata": {},
   "source": [
    "Был обнаружен и удален 71 дубликат.\n",
    "Возможно, дубликаты появились в следствие повторного обращения людьми за кредитом.\n",
    "Помимо этого обнаружено, что некоторые цели кредита сформулированы по-разному, но имеют одинаковый смысл.\n"
   ]
  },
  {
   "cell_type": "markdown",
   "metadata": {},
   "source": [
    "### Лемматизация"
   ]
  },
  {
   "cell_type": "code",
   "execution_count": 104,
   "metadata": {},
   "outputs": [],
   "source": [
    "#Импортируем библиотеку для лемматизации \n",
    "\n",
    "from pymystem3 import Mystem\n",
    "m = Mystem() "
   ]
  },
  {
   "cell_type": "code",
   "execution_count": 105,
   "metadata": {},
   "outputs": [
    {
     "name": "stdout",
     "output_type": "stream",
     "text": [
      "['покупка', ' ', 'жилье', ' ', 'приобретение', ' ', 'автомобиль', ' ', 'дополнительный', ' ', 'образование', ' ', 'сыграть', ' ', 'свадьба', ' ', 'операция', ' ', 'с', ' ', 'жилье', ' ', 'образование', ' ', 'на', ' ', 'проведение', ' ', 'свадьба', ' ', 'покупка', ' ', 'жилье', ' ', 'для', ' ', 'семья', ' ', 'покупка', ' ', 'недвижимость', ' ', 'покупка', ' ', 'коммерческий', ' ', 'недвижимость', ' ', 'покупка', ' ', 'жилой', ' ', 'недвижимость', ' ', 'строительство', ' ', 'собственный', ' ', 'недвижимость', ' ', 'недвижимость', ' ', 'строительство', ' ', 'недвижимость', ' ', 'на', ' ', 'покупка', ' ', 'подержать', ' ', 'автомобиль', ' ', 'на', ' ', 'покупка', ' ', 'свой', ' ', 'автомобиль', ' ', 'операция', ' ', 'с', ' ', 'коммерческий', ' ', 'недвижимость', ' ', 'строительство', ' ', 'жилой', ' ', 'недвижимость', ' ', 'жилье', ' ', 'операция', ' ', 'со', ' ', 'свой', ' ', 'недвижимость', ' ', 'автомобиль', ' ', 'заниматься', ' ', 'образование', ' ', 'сделка', ' ', 'с', ' ', 'подержать', ' ', 'автомобиль', ' ', 'получение', ' ', 'образование', ' ', 'автомобиль', ' ', 'свадьба', ' ', 'получение', ' ', 'дополнительный', ' ', 'образование', ' ', 'покупка', ' ', 'свой', ' ', 'жилье', ' ', 'операция', ' ', 'с', ' ', 'недвижимость', ' ', 'получение', ' ', 'высокий', ' ', 'образование', ' ', 'свой', ' ', 'автомобиль', ' ', 'сделка', ' ', 'с', ' ', 'автомобиль', ' ', 'профильный', ' ', 'образование', ' ', 'высокий', ' ', 'образование', ' ', 'покупка', ' ', 'жилье', ' ', 'для', ' ', 'сдача', ' ', 'на', ' ', 'покупка', ' ', 'автомобиль', ' ', 'ремонт', ' ', 'жилье', ' ', 'заниматься', ' ', 'высокий', ' ', 'образование', '\\n']\n"
     ]
    }
   ],
   "source": [
    "#Лемматизируем значения в столбце с целями кредита\n",
    "text = data['purpose'].unique()\n",
    "text = ' '.join(text)\n",
    "\n",
    "lemmas = m.lemmatize(text)\n",
    "print(lemmas) \n",
    "\n",
    "                "
   ]
  },
  {
   "cell_type": "code",
   "execution_count": 106,
   "metadata": {},
   "outputs": [
    {
     "name": "stdout",
     "output_type": "stream",
     "text": [
      "Counter({' ': 96, 'покупка': 10, 'недвижимость': 10, 'автомобиль': 9, 'образование': 9, 'жилье': 7, 'с': 5, 'операция': 4, 'на': 4, 'свой': 4, 'свадьба': 3, 'строительство': 3, 'получение': 3, 'высокий': 3, 'дополнительный': 2, 'для': 2, 'коммерческий': 2, 'жилой': 2, 'подержать': 2, 'заниматься': 2, 'сделка': 2, 'приобретение': 1, 'сыграть': 1, 'проведение': 1, 'семья': 1, 'собственный': 1, 'со': 1, 'профильный': 1, 'сдача': 1, 'ремонт': 1, '\\n': 1})\n"
     ]
    }
   ],
   "source": [
    "#Посчитаем сколько раз каждое слово употреблялось в столбце purpose\n",
    "\n",
    "from collections import Counter\n",
    "print(Counter(lemmas))"
   ]
  },
  {
   "cell_type": "markdown",
   "metadata": {},
   "source": [
    "**Вывод**"
   ]
  },
  {
   "cell_type": "markdown",
   "metadata": {},
   "source": [
    "Для лемматизации целей кредита была загружена библиотека pymystem3,был сформирован список уникальных значений и переведен в строку с помощью метода join(). Затем к тексту в строке был применен метод lemmatize().\n",
    "С помощью Counter были посчитаны повторяющиеся слова.\n",
    "В итоге можно выделить следующие группы целей кредита:\n",
    "недвижимость (включая жилье), автомобиль, образование, свадьба.\n"
   ]
  },
  {
   "cell_type": "markdown",
   "metadata": {},
   "source": [
    "<div class=\"alert alert-success\">\n",
    "<h2> Комментарий от ревьюера<a class=\"tocSkip\"></a></h2>\n",
    "Ура, лемматизация прошла успешно! Удалось выделить основные причины получения кредита.\n",
    " \n",
    "</div>"
   ]
  },
  {
   "cell_type": "markdown",
   "metadata": {},
   "source": [
    "### Категоризация данных"
   ]
  },
  {
   "cell_type": "code",
   "execution_count": 107,
   "metadata": {},
   "outputs": [],
   "source": [
    "#Сформируем словарь для семейного положения\n",
    "\n",
    "#family_status_dict = data[['family_status', 'family_status_id']]\n",
    "#family_status_dict = family_status_dict.drop_duplicates().reset_index(drop=True)\n",
    "#print(family_status_dict)"
   ]
  },
  {
   "cell_type": "markdown",
   "metadata": {},
   "source": [
    "<div class=\"alert alert-warning\">\n",
    "<h2> Комментарий от ревьюера<a class=\"tocSkip\"></a></h2>\n",
    "Можно это действие опустить, так как в изначальной таблице словат=рь с семейный статусом уже был.\n",
    " \n",
    "</div>"
   ]
  },
  {
   "cell_type": "markdown",
   "metadata": {},
   "source": [
    "<font color='purple'>Комментарий И.: Согласна, действие скрыто</font>\n"
   ]
  },
  {
   "cell_type": "code",
   "execution_count": 108,
   "metadata": {},
   "outputs": [
    {
     "data": {
      "text/html": [
       "<div>\n",
       "<style scoped>\n",
       "    .dataframe tbody tr th:only-of-type {\n",
       "        vertical-align: middle;\n",
       "    }\n",
       "\n",
       "    .dataframe tbody tr th {\n",
       "        vertical-align: top;\n",
       "    }\n",
       "\n",
       "    .dataframe thead th {\n",
       "        text-align: right;\n",
       "    }\n",
       "</style>\n",
       "<table border=\"1\" class=\"dataframe\">\n",
       "  <thead>\n",
       "    <tr style=\"text-align: right;\">\n",
       "      <th></th>\n",
       "      <th>children</th>\n",
       "      <th>days_employed</th>\n",
       "      <th>full_years</th>\n",
       "      <th>education</th>\n",
       "      <th>education_id</th>\n",
       "      <th>family_status</th>\n",
       "      <th>family_status_id</th>\n",
       "      <th>gender</th>\n",
       "      <th>income_type</th>\n",
       "      <th>debt</th>\n",
       "      <th>total_income</th>\n",
       "      <th>purpose</th>\n",
       "      <th>purpose_group</th>\n",
       "    </tr>\n",
       "  </thead>\n",
       "  <tbody>\n",
       "    <tr>\n",
       "      <th>0</th>\n",
       "      <td>1</td>\n",
       "      <td>8437</td>\n",
       "      <td>42</td>\n",
       "      <td>высшее</td>\n",
       "      <td>0</td>\n",
       "      <td>женат / замужем</td>\n",
       "      <td>0</td>\n",
       "      <td>F</td>\n",
       "      <td>сотрудник</td>\n",
       "      <td>0</td>\n",
       "      <td>253875</td>\n",
       "      <td>покупка жилья</td>\n",
       "      <td>недвижимость</td>\n",
       "    </tr>\n",
       "    <tr>\n",
       "      <th>1</th>\n",
       "      <td>1</td>\n",
       "      <td>4024</td>\n",
       "      <td>36</td>\n",
       "      <td>среднее</td>\n",
       "      <td>1</td>\n",
       "      <td>женат / замужем</td>\n",
       "      <td>0</td>\n",
       "      <td>F</td>\n",
       "      <td>сотрудник</td>\n",
       "      <td>0</td>\n",
       "      <td>112080</td>\n",
       "      <td>приобретение автомобиля</td>\n",
       "      <td>автомобиль</td>\n",
       "    </tr>\n",
       "    <tr>\n",
       "      <th>2</th>\n",
       "      <td>0</td>\n",
       "      <td>5623</td>\n",
       "      <td>33</td>\n",
       "      <td>среднее</td>\n",
       "      <td>1</td>\n",
       "      <td>женат / замужем</td>\n",
       "      <td>0</td>\n",
       "      <td>M</td>\n",
       "      <td>сотрудник</td>\n",
       "      <td>0</td>\n",
       "      <td>145885</td>\n",
       "      <td>покупка жилья</td>\n",
       "      <td>недвижимость</td>\n",
       "    </tr>\n",
       "    <tr>\n",
       "      <th>3</th>\n",
       "      <td>3</td>\n",
       "      <td>4124</td>\n",
       "      <td>32</td>\n",
       "      <td>среднее</td>\n",
       "      <td>1</td>\n",
       "      <td>женат / замужем</td>\n",
       "      <td>0</td>\n",
       "      <td>M</td>\n",
       "      <td>сотрудник</td>\n",
       "      <td>0</td>\n",
       "      <td>267628</td>\n",
       "      <td>дополнительное образование</td>\n",
       "      <td>образование</td>\n",
       "    </tr>\n",
       "    <tr>\n",
       "      <th>4</th>\n",
       "      <td>0</td>\n",
       "      <td>66914</td>\n",
       "      <td>53</td>\n",
       "      <td>среднее</td>\n",
       "      <td>1</td>\n",
       "      <td>гражданский брак</td>\n",
       "      <td>1</td>\n",
       "      <td>F</td>\n",
       "      <td>пенсионер</td>\n",
       "      <td>0</td>\n",
       "      <td>158616</td>\n",
       "      <td>сыграть свадьбу</td>\n",
       "      <td>свадьба</td>\n",
       "    </tr>\n",
       "    <tr>\n",
       "      <th>5</th>\n",
       "      <td>0</td>\n",
       "      <td>926</td>\n",
       "      <td>27</td>\n",
       "      <td>высшее</td>\n",
       "      <td>0</td>\n",
       "      <td>гражданский брак</td>\n",
       "      <td>1</td>\n",
       "      <td>M</td>\n",
       "      <td>компаньон</td>\n",
       "      <td>0</td>\n",
       "      <td>255763</td>\n",
       "      <td>покупка жилья</td>\n",
       "      <td>недвижимость</td>\n",
       "    </tr>\n",
       "    <tr>\n",
       "      <th>6</th>\n",
       "      <td>0</td>\n",
       "      <td>2879</td>\n",
       "      <td>43</td>\n",
       "      <td>высшее</td>\n",
       "      <td>0</td>\n",
       "      <td>женат / замужем</td>\n",
       "      <td>0</td>\n",
       "      <td>F</td>\n",
       "      <td>компаньон</td>\n",
       "      <td>0</td>\n",
       "      <td>240525</td>\n",
       "      <td>операции с жильем</td>\n",
       "      <td>недвижимость</td>\n",
       "    </tr>\n",
       "    <tr>\n",
       "      <th>7</th>\n",
       "      <td>0</td>\n",
       "      <td>152</td>\n",
       "      <td>50</td>\n",
       "      <td>среднее</td>\n",
       "      <td>1</td>\n",
       "      <td>женат / замужем</td>\n",
       "      <td>0</td>\n",
       "      <td>M</td>\n",
       "      <td>сотрудник</td>\n",
       "      <td>0</td>\n",
       "      <td>135823</td>\n",
       "      <td>образование</td>\n",
       "      <td>образование</td>\n",
       "    </tr>\n",
       "    <tr>\n",
       "      <th>8</th>\n",
       "      <td>2</td>\n",
       "      <td>6929</td>\n",
       "      <td>35</td>\n",
       "      <td>высшее</td>\n",
       "      <td>0</td>\n",
       "      <td>гражданский брак</td>\n",
       "      <td>1</td>\n",
       "      <td>F</td>\n",
       "      <td>сотрудник</td>\n",
       "      <td>0</td>\n",
       "      <td>95856</td>\n",
       "      <td>на проведение свадьбы</td>\n",
       "      <td>свадьба</td>\n",
       "    </tr>\n",
       "    <tr>\n",
       "      <th>9</th>\n",
       "      <td>0</td>\n",
       "      <td>2188</td>\n",
       "      <td>41</td>\n",
       "      <td>среднее</td>\n",
       "      <td>1</td>\n",
       "      <td>женат / замужем</td>\n",
       "      <td>0</td>\n",
       "      <td>M</td>\n",
       "      <td>сотрудник</td>\n",
       "      <td>0</td>\n",
       "      <td>144425</td>\n",
       "      <td>покупка жилья для семьи</td>\n",
       "      <td>недвижимость</td>\n",
       "    </tr>\n",
       "  </tbody>\n",
       "</table>\n",
       "</div>"
      ],
      "text/plain": [
       "   children  days_employed  full_years education  education_id  \\\n",
       "0         1           8437          42    высшее             0   \n",
       "1         1           4024          36   среднее             1   \n",
       "2         0           5623          33   среднее             1   \n",
       "3         3           4124          32   среднее             1   \n",
       "4         0          66914          53   среднее             1   \n",
       "5         0            926          27    высшее             0   \n",
       "6         0           2879          43    высшее             0   \n",
       "7         0            152          50   среднее             1   \n",
       "8         2           6929          35    высшее             0   \n",
       "9         0           2188          41   среднее             1   \n",
       "\n",
       "      family_status  family_status_id gender income_type  debt  total_income  \\\n",
       "0   женат / замужем                 0      F   сотрудник     0        253875   \n",
       "1   женат / замужем                 0      F   сотрудник     0        112080   \n",
       "2   женат / замужем                 0      M   сотрудник     0        145885   \n",
       "3   женат / замужем                 0      M   сотрудник     0        267628   \n",
       "4  гражданский брак                 1      F   пенсионер     0        158616   \n",
       "5  гражданский брак                 1      M   компаньон     0        255763   \n",
       "6   женат / замужем                 0      F   компаньон     0        240525   \n",
       "7   женат / замужем                 0      M   сотрудник     0        135823   \n",
       "8  гражданский брак                 1      F   сотрудник     0         95856   \n",
       "9   женат / замужем                 0      M   сотрудник     0        144425   \n",
       "\n",
       "                      purpose purpose_group  \n",
       "0               покупка жилья  недвижимость  \n",
       "1     приобретение автомобиля    автомобиль  \n",
       "2               покупка жилья  недвижимость  \n",
       "3  дополнительное образование   образование  \n",
       "4             сыграть свадьбу       свадьба  \n",
       "5               покупка жилья  недвижимость  \n",
       "6           операции с жильем  недвижимость  \n",
       "7                 образование   образование  \n",
       "8       на проведение свадьбы       свадьба  \n",
       "9     покупка жилья для семьи  недвижимость  "
      ]
     },
     "metadata": {},
     "output_type": "display_data"
    }
   ],
   "source": [
    "#Для столбца с целями кредита напишем формулу, которая добавляет категорию кредита для каждой цели\n",
    "\n",
    "def purposes_dict (purpose):\n",
    "    \"\"\"\n",
    "    Возвращает категорию цели покупки в зависимости от определяющего слова в исходной цели.\n",
    "    Если исходная цель содержит часть слова 'автомобил' - присвается категория 'автомобиль'\n",
    "    Если исходная цель содержит часть слова 'свадьб' - присвается категория 'свадьба'\n",
    "    Если исходная цель содержит часть слова 'образован' - присвается категория 'образование'\n",
    "    Если исходная цель содержит часть слова 'недвижимост' - присвается категория 'недвижимость'\n",
    "    Если исходная цель содержит часть слова 'жиль' - присвается категория 'недвижимость'\n",
    "    \"\"\"\n",
    "    \n",
    "    if 'автомобил' in purpose:\n",
    "        return 'автомобиль'\n",
    "    if 'свадьб' in purpose:\n",
    "        return 'свадьба'\n",
    "    if 'образован' in purpose:\n",
    "        return 'образование'\n",
    "    if 'недвижимост' or 'жиль' in purpose:\n",
    "        return 'недвижимость'\n",
    "    \n",
    "    \n",
    "data['purpose_group'] = data['purpose'].apply(purposes_dict)\n",
    "display(data.head(10))"
   ]
  },
  {
   "cell_type": "code",
   "execution_count": 109,
   "metadata": {},
   "outputs": [
    {
     "name": "stdout",
     "output_type": "stream",
     "text": [
      "0\n"
     ]
    }
   ],
   "source": [
    "#Проверим, что каждой цели присвоена группа\n",
    "\n",
    "print(data['purpose_group'].isna().sum())"
   ]
  },
  {
   "cell_type": "code",
   "execution_count": 110,
   "metadata": {},
   "outputs": [
    {
     "name": "stdout",
     "output_type": "stream",
     "text": [
      "20667\n",
      "118514.0\n",
      "142594.0\n",
      "172396.0\n",
      "2265604\n"
     ]
    }
   ],
   "source": [
    "#Проверим разброс общего дохода\n",
    "\n",
    "data_min = data['total_income'].min()\n",
    "data_quantile_lower = data['total_income'].quantile(0.33)\n",
    "data_median  = data['total_income'].median()\n",
    "data_quantile_upper = data['total_income'].quantile(0.66)\n",
    "data_max = data['total_income'].max()\n",
    "\n",
    "\n",
    "print(data_min)\n",
    "print(data_quantile_lower)\n",
    "print(data_median)\n",
    "print(data_quantile_upper)\n",
    "print(data_max) "
   ]
  },
  {
   "cell_type": "markdown",
   "metadata": {},
   "source": [
    "<div class=\"alert alert-success\">\n",
    "<h2> Комментарий от ревьюера<a class=\"tocSkip\"></a></h2>\n",
    "А вот это очень хороший способ, молодец! Теперь у тебя клиенты разделены на равные группы по уровню дохода.\n",
    "    \n",
    "Только дальнше в функции лучше не руками вбивать числа, а зарманее завести переменную. Допустим, что датафрейм немного изменится и тогда показатели уже будут другие.\n",
    "</div>"
   ]
  },
  {
   "cell_type": "markdown",
   "metadata": {},
   "source": [
    "<font color='purple'>Комментарии И.: Вместо значений в формулу подставлены переменные</font>\n"
   ]
  },
  {
   "cell_type": "code",
   "execution_count": 111,
   "metadata": {},
   "outputs": [
    {
     "data": {
      "text/html": [
       "<div>\n",
       "<style scoped>\n",
       "    .dataframe tbody tr th:only-of-type {\n",
       "        vertical-align: middle;\n",
       "    }\n",
       "\n",
       "    .dataframe tbody tr th {\n",
       "        vertical-align: top;\n",
       "    }\n",
       "\n",
       "    .dataframe thead th {\n",
       "        text-align: right;\n",
       "    }\n",
       "</style>\n",
       "<table border=\"1\" class=\"dataframe\">\n",
       "  <thead>\n",
       "    <tr style=\"text-align: right;\">\n",
       "      <th></th>\n",
       "      <th>children</th>\n",
       "      <th>days_employed</th>\n",
       "      <th>full_years</th>\n",
       "      <th>education</th>\n",
       "      <th>education_id</th>\n",
       "      <th>family_status</th>\n",
       "      <th>family_status_id</th>\n",
       "      <th>gender</th>\n",
       "      <th>income_type</th>\n",
       "      <th>debt</th>\n",
       "      <th>total_income</th>\n",
       "      <th>purpose</th>\n",
       "      <th>purpose_group</th>\n",
       "      <th>income_group</th>\n",
       "    </tr>\n",
       "  </thead>\n",
       "  <tbody>\n",
       "    <tr>\n",
       "      <th>0</th>\n",
       "      <td>1</td>\n",
       "      <td>8437</td>\n",
       "      <td>42</td>\n",
       "      <td>высшее</td>\n",
       "      <td>0</td>\n",
       "      <td>женат / замужем</td>\n",
       "      <td>0</td>\n",
       "      <td>F</td>\n",
       "      <td>сотрудник</td>\n",
       "      <td>0</td>\n",
       "      <td>253875</td>\n",
       "      <td>покупка жилья</td>\n",
       "      <td>недвижимость</td>\n",
       "      <td>высокий</td>\n",
       "    </tr>\n",
       "    <tr>\n",
       "      <th>1</th>\n",
       "      <td>1</td>\n",
       "      <td>4024</td>\n",
       "      <td>36</td>\n",
       "      <td>среднее</td>\n",
       "      <td>1</td>\n",
       "      <td>женат / замужем</td>\n",
       "      <td>0</td>\n",
       "      <td>F</td>\n",
       "      <td>сотрудник</td>\n",
       "      <td>0</td>\n",
       "      <td>112080</td>\n",
       "      <td>приобретение автомобиля</td>\n",
       "      <td>автомобиль</td>\n",
       "      <td>низкий</td>\n",
       "    </tr>\n",
       "    <tr>\n",
       "      <th>2</th>\n",
       "      <td>0</td>\n",
       "      <td>5623</td>\n",
       "      <td>33</td>\n",
       "      <td>среднее</td>\n",
       "      <td>1</td>\n",
       "      <td>женат / замужем</td>\n",
       "      <td>0</td>\n",
       "      <td>M</td>\n",
       "      <td>сотрудник</td>\n",
       "      <td>0</td>\n",
       "      <td>145885</td>\n",
       "      <td>покупка жилья</td>\n",
       "      <td>недвижимость</td>\n",
       "      <td>средний</td>\n",
       "    </tr>\n",
       "    <tr>\n",
       "      <th>3</th>\n",
       "      <td>3</td>\n",
       "      <td>4124</td>\n",
       "      <td>32</td>\n",
       "      <td>среднее</td>\n",
       "      <td>1</td>\n",
       "      <td>женат / замужем</td>\n",
       "      <td>0</td>\n",
       "      <td>M</td>\n",
       "      <td>сотрудник</td>\n",
       "      <td>0</td>\n",
       "      <td>267628</td>\n",
       "      <td>дополнительное образование</td>\n",
       "      <td>образование</td>\n",
       "      <td>высокий</td>\n",
       "    </tr>\n",
       "    <tr>\n",
       "      <th>4</th>\n",
       "      <td>0</td>\n",
       "      <td>66914</td>\n",
       "      <td>53</td>\n",
       "      <td>среднее</td>\n",
       "      <td>1</td>\n",
       "      <td>гражданский брак</td>\n",
       "      <td>1</td>\n",
       "      <td>F</td>\n",
       "      <td>пенсионер</td>\n",
       "      <td>0</td>\n",
       "      <td>158616</td>\n",
       "      <td>сыграть свадьбу</td>\n",
       "      <td>свадьба</td>\n",
       "      <td>средний</td>\n",
       "    </tr>\n",
       "    <tr>\n",
       "      <th>5</th>\n",
       "      <td>0</td>\n",
       "      <td>926</td>\n",
       "      <td>27</td>\n",
       "      <td>высшее</td>\n",
       "      <td>0</td>\n",
       "      <td>гражданский брак</td>\n",
       "      <td>1</td>\n",
       "      <td>M</td>\n",
       "      <td>компаньон</td>\n",
       "      <td>0</td>\n",
       "      <td>255763</td>\n",
       "      <td>покупка жилья</td>\n",
       "      <td>недвижимость</td>\n",
       "      <td>высокий</td>\n",
       "    </tr>\n",
       "    <tr>\n",
       "      <th>6</th>\n",
       "      <td>0</td>\n",
       "      <td>2879</td>\n",
       "      <td>43</td>\n",
       "      <td>высшее</td>\n",
       "      <td>0</td>\n",
       "      <td>женат / замужем</td>\n",
       "      <td>0</td>\n",
       "      <td>F</td>\n",
       "      <td>компаньон</td>\n",
       "      <td>0</td>\n",
       "      <td>240525</td>\n",
       "      <td>операции с жильем</td>\n",
       "      <td>недвижимость</td>\n",
       "      <td>высокий</td>\n",
       "    </tr>\n",
       "    <tr>\n",
       "      <th>7</th>\n",
       "      <td>0</td>\n",
       "      <td>152</td>\n",
       "      <td>50</td>\n",
       "      <td>среднее</td>\n",
       "      <td>1</td>\n",
       "      <td>женат / замужем</td>\n",
       "      <td>0</td>\n",
       "      <td>M</td>\n",
       "      <td>сотрудник</td>\n",
       "      <td>0</td>\n",
       "      <td>135823</td>\n",
       "      <td>образование</td>\n",
       "      <td>образование</td>\n",
       "      <td>средний</td>\n",
       "    </tr>\n",
       "    <tr>\n",
       "      <th>8</th>\n",
       "      <td>2</td>\n",
       "      <td>6929</td>\n",
       "      <td>35</td>\n",
       "      <td>высшее</td>\n",
       "      <td>0</td>\n",
       "      <td>гражданский брак</td>\n",
       "      <td>1</td>\n",
       "      <td>F</td>\n",
       "      <td>сотрудник</td>\n",
       "      <td>0</td>\n",
       "      <td>95856</td>\n",
       "      <td>на проведение свадьбы</td>\n",
       "      <td>свадьба</td>\n",
       "      <td>низкий</td>\n",
       "    </tr>\n",
       "    <tr>\n",
       "      <th>9</th>\n",
       "      <td>0</td>\n",
       "      <td>2188</td>\n",
       "      <td>41</td>\n",
       "      <td>среднее</td>\n",
       "      <td>1</td>\n",
       "      <td>женат / замужем</td>\n",
       "      <td>0</td>\n",
       "      <td>M</td>\n",
       "      <td>сотрудник</td>\n",
       "      <td>0</td>\n",
       "      <td>144425</td>\n",
       "      <td>покупка жилья для семьи</td>\n",
       "      <td>недвижимость</td>\n",
       "      <td>средний</td>\n",
       "    </tr>\n",
       "  </tbody>\n",
       "</table>\n",
       "</div>"
      ],
      "text/plain": [
       "   children  days_employed  full_years education  education_id  \\\n",
       "0         1           8437          42    высшее             0   \n",
       "1         1           4024          36   среднее             1   \n",
       "2         0           5623          33   среднее             1   \n",
       "3         3           4124          32   среднее             1   \n",
       "4         0          66914          53   среднее             1   \n",
       "5         0            926          27    высшее             0   \n",
       "6         0           2879          43    высшее             0   \n",
       "7         0            152          50   среднее             1   \n",
       "8         2           6929          35    высшее             0   \n",
       "9         0           2188          41   среднее             1   \n",
       "\n",
       "      family_status  family_status_id gender income_type  debt  total_income  \\\n",
       "0   женат / замужем                 0      F   сотрудник     0        253875   \n",
       "1   женат / замужем                 0      F   сотрудник     0        112080   \n",
       "2   женат / замужем                 0      M   сотрудник     0        145885   \n",
       "3   женат / замужем                 0      M   сотрудник     0        267628   \n",
       "4  гражданский брак                 1      F   пенсионер     0        158616   \n",
       "5  гражданский брак                 1      M   компаньон     0        255763   \n",
       "6   женат / замужем                 0      F   компаньон     0        240525   \n",
       "7   женат / замужем                 0      M   сотрудник     0        135823   \n",
       "8  гражданский брак                 1      F   сотрудник     0         95856   \n",
       "9   женат / замужем                 0      M   сотрудник     0        144425   \n",
       "\n",
       "                      purpose purpose_group income_group  \n",
       "0               покупка жилья  недвижимость      высокий  \n",
       "1     приобретение автомобиля    автомобиль       низкий  \n",
       "2               покупка жилья  недвижимость      средний  \n",
       "3  дополнительное образование   образование      высокий  \n",
       "4             сыграть свадьбу       свадьба      средний  \n",
       "5               покупка жилья  недвижимость      высокий  \n",
       "6           операции с жильем  недвижимость      высокий  \n",
       "7                 образование   образование      средний  \n",
       "8       на проведение свадьбы       свадьба       низкий  \n",
       "9     покупка жилья для семьи  недвижимость      средний  "
      ]
     },
     "metadata": {},
     "output_type": "display_data"
    }
   ],
   "source": [
    "#Напишем формулу для категоризации дохода\n",
    "\n",
    "def income_dict (total_income):\n",
    "    \"\"\"\"\n",
    "    Присваивает категорию дохода в зависимости от его размера\n",
    "    Если доход менее значения первой квантили - присваивается значение 'низкий'\n",
    "    Если доход от первой квантили включительно до второй квантили - присваивается значение 'средний'\n",
    "    Если доход от второй квантили включительно - присваивается значение 'высокий'\n",
    "    \"\"\"\n",
    "    if total_income < data_quantile_lower:\n",
    "        return 'низкий'\n",
    "    if data_quantile_lower <= total_income < data_quantile_upper:\n",
    "        return 'средний'\n",
    "    if total_income >= data_quantile_upper:\n",
    "        return 'высокий'\n",
    "    \n",
    "data['income_group'] = data['total_income'].apply(income_dict)\n",
    "display(data.head(10))    "
   ]
  },
  {
   "cell_type": "code",
   "execution_count": 48,
   "metadata": {},
   "outputs": [
    {
     "name": "stdout",
     "output_type": "stream",
     "text": [
      "0\n"
     ]
    }
   ],
   "source": [
    "#Проверим, что каждому доходу присвоена группа\n",
    "\n",
    "print(data['income_group'].isna().sum())"
   ]
  },
  {
   "cell_type": "markdown",
   "metadata": {},
   "source": [
    "**Вывод**"
   ]
  },
  {
   "cell_type": "markdown",
   "metadata": {},
   "source": [
    "Для того, чтобы ответить на поставленные вопросы была проведена категоризация данных, а именно был создан словарь для семейного положения, были созданы и добавлены категории по целям кредита и общему доходу.\n",
    "Для категоризации данных по целям кредита были выделены четыре основные группы: недвижимость (включая жилье), автомобиль, образование, свадьба, была создана формула, которая по части слова в исходных данных столбца целей относила цель к одной из 4х категорий.\n",
    "Для категоризации дохода были посчитаны минимальный, медианный, максимальный доход, а также квартили 25% и 75%, затем была создана формула, с помощью которой каждой строке дохода присваивается категории в зависимости от размера дохода.\n"
   ]
  },
  {
   "cell_type": "markdown",
   "metadata": {},
   "source": [
    "## Шаг 3. Ответьте на вопросы"
   ]
  },
  {
   "cell_type": "markdown",
   "metadata": {},
   "source": [
    "- Есть ли зависимость между наличием детей и возвратом кредита в срок?"
   ]
  },
  {
   "cell_type": "code",
   "execution_count": 49,
   "metadata": {},
   "outputs": [
    {
     "name": "stdout",
     "output_type": "stream",
     "text": [
      "debt            0       1     ratio\n",
      "children                           \n",
      "0         13028.0  1063.0  0.924562\n",
      "3           303.0    27.0  0.918182\n",
      "1          4410.0   445.0  0.908342\n",
      "2          1926.0   202.0  0.905075\n",
      "4            37.0     4.0  0.902439\n",
      "5             9.0     NaN       NaN\n"
     ]
    }
   ],
   "source": [
    "#Построим сводную таблицу, показывающую данные о долгах в разрезе количества детей\n",
    "\n",
    "data_pivot_children = data.pivot_table(index=['children'], columns = 'debt', values = 'income_type', aggfunc = 'count')\n",
    "\n",
    "data_pivot_children['ratio'] = data_pivot_children[0] / (data_pivot_children[1] + data_pivot_children[0])\n",
    "print(data_pivot_children.sort_values(by = 'ratio', ascending = False))"
   ]
  },
  {
   "cell_type": "markdown",
   "metadata": {},
   "source": [
    "**Вывод**"
   ]
  },
  {
   "cell_type": "markdown",
   "metadata": {},
   "source": [
    "Результаты анализа показывают, что люди без детей чаще всего берут кредит и при этом доля вернувших кредит у них самая высокая. Далее чаще всего возвращают кредит в срок люди с 3мя детьми, люди с 5ю детьми являются самой малочисленной группой заемщиков и при этом возвращают кредит всегда. У людей с 1, 2 и 4мя детьми примерно одинаковое соотношение возвратов и задолженностей."
   ]
  },
  {
   "cell_type": "markdown",
   "metadata": {},
   "source": [
    "<div class=\"alert alert-danger\">\n",
    "<h2> Комментарий от ревьюера<a class=\"tocSkip\"></a></h2>\n",
    "Логика правильная, но есть небольшая ошибка в формуле. Посмотри внимательно и подумай, ведь тебе нужно найти долю должиков, а в знаменателе у тебя стоит что-то не то. Это касается и остальных ответов на вопрос.\n",
    "</div>"
   ]
  },
  {
   "cell_type": "markdown",
   "metadata": {},
   "source": [
    "<div class=\"alert alert-success\">\n",
    "<h2> Комментарий от ревьюера 2<a class=\"tocSkip\"></a></h2>\n",
    "Да, заемщики без детей самые отвественные.\n",
    "    \n",
    "\n",
    "</div>"
   ]
  },
  {
   "cell_type": "markdown",
   "metadata": {},
   "source": [
    "<font color='purple'>Комментарии И.: В знаменатель включена сумма должников и сумма выплативших кредит вовремя - общая сумма заемщиков по категории</font>\n"
   ]
  },
  {
   "cell_type": "markdown",
   "metadata": {},
   "source": [
    "- Есть ли зависимость между семейным положением и возвратом кредита в срок?"
   ]
  },
  {
   "cell_type": "code",
   "execution_count": 56,
   "metadata": {},
   "outputs": [
    {
     "name": "stdout",
     "output_type": "stream",
     "text": [
      "debt                       0    1     ratio\n",
      "family_status                              \n",
      "вдовец / вдова           896   63  0.934307\n",
      "в разводе               1110   85  0.928870\n",
      "женат / замужем        11408  931  0.924548\n",
      "гражданский брак        3763  388  0.906529\n",
      "Не женат / не замужем   2536  274  0.902491\n"
     ]
    }
   ],
   "source": [
    "#Построим сводную таблицу, показывающую данные о долгах в разрезе семейного статуса\n",
    "\n",
    "data_pivot_status = data.pivot_table(index=['family_status'], columns = 'debt', values = 'income_type', aggfunc = 'count')\n",
    "\n",
    "data_pivot_status['ratio'] = data_pivot_status[0] / (data_pivot_status[0] + data_pivot_status[1])\n",
    "print(data_pivot_status.sort_values(by = 'ratio', ascending = False))"
   ]
  },
  {
   "cell_type": "markdown",
   "metadata": {},
   "source": [
    "**Вывод**"
   ]
  },
  {
   "cell_type": "markdown",
   "metadata": {},
   "source": [
    "Данные свидетельствуют о том, что доля людей вернувших кредит выше всего у овдовевших людей и людей в разводе (возможно, этому как-то способствуют наследство и полученное имущество после его раздела). Наибольшее соотношение должников в группах людей, живущих в гражданском браке или не состоявших в браке. Меньше ответственности в личной жизни - меньше дисциплины в выплате кредита."
   ]
  },
  {
   "cell_type": "markdown",
   "metadata": {},
   "source": [
    "<div class=\"alert alert-success\">\n",
    "<h2> Комментарий от ревьюера 2 <a class=\"tocSkip\"></a></h2>\n",
    "Посмотрев на сводную таблицу можно увидеть, что доля просроченых кредитов больше у людей, которые находятся в гражданском браке или не женаты. Чаще всего возращают кредиты вдовцы и вдовы.\n",
    "</div>\n"
   ]
  },
  {
   "cell_type": "markdown",
   "metadata": {},
   "source": [
    "- Есть ли зависимость между уровнем дохода и возвратом кредита в срок?"
   ]
  },
  {
   "cell_type": "code",
   "execution_count": 57,
   "metadata": {},
   "outputs": [
    {
     "name": "stdout",
     "output_type": "stream",
     "text": [
      "debt             0    1     ratio\n",
      "income_group                     \n",
      "высокий       6958  558  0.925758\n",
      "низкий        6165  544  0.918915\n",
      "средний       6590  639  0.911606\n"
     ]
    }
   ],
   "source": [
    "#Построим сводную таблицу, показывающую данные о долгах в разрезе общего дохода\n",
    "\n",
    "data_pivot_income = data.pivot_table(index=['income_group'], columns = 'debt', values = 'income_type', aggfunc = 'count')\n",
    "data_pivot_income['ratio'] = data_pivot_income[0] / (data_pivot_income[1] + data_pivot_income[0])\n",
    "print(data_pivot_income.sort_values(by = 'ratio', ascending = False))"
   ]
  },
  {
   "cell_type": "markdown",
   "metadata": {},
   "source": [
    "**Вывод**"
   ]
  },
  {
   "cell_type": "markdown",
   "metadata": {},
   "source": [
    "Предсказуемо в группе с высоким доходом отношение выплачивающих кредит вовремя самое высокое. Удивительно, что на втором месте идут люди с низким доходов. Видимо, низкие доходы приучают к финансовой дисциплине и планированию своих средства, что сказывается на своевременных выплатах. У людей со средним доходом соотношение самое низкое, с доходами растут потребности, и иногда они растут непропорционально быстро, что негативно влияет на выплаты по кредиту."
   ]
  },
  {
   "cell_type": "markdown",
   "metadata": {},
   "source": [
    "<div class=\"alert alert-success\">\n",
    "<h2> Комментарий от ревьюера 2<a class=\"tocSkip\"></a></h2>\n",
    "Молодец, верный вывод:)\n",
    "</div>\n"
   ]
  },
  {
   "cell_type": "markdown",
   "metadata": {},
   "source": [
    "- Как разные цели кредита влияют на его возврат в срок?"
   ]
  },
  {
   "cell_type": "code",
   "execution_count": 58,
   "metadata": {},
   "outputs": [
    {
     "name": "stdout",
     "output_type": "stream",
     "text": [
      "debt               0    1     ratio\n",
      "purpose_group                      \n",
      "недвижимость   10029  782  0.927666\n",
      "свадьба         2138  186  0.919966\n",
      "образование     3643  370  0.907800\n",
      "автомобиль      3903  403  0.906410\n"
     ]
    }
   ],
   "source": [
    "#Построим сводную таблицу, показывающую данные о долгах в разрезе целей кредита\n",
    "\n",
    "data_pivot_purpose = data.pivot_table(index=['purpose_group'], columns = 'debt', values = 'income_type', aggfunc = 'count')\n",
    "data_pivot_purpose['ratio'] = data_pivot_purpose[0] / (data_pivot_purpose[1] + data_pivot_purpose[0])\n",
    "print(data_pivot_purpose.sort_values(by = 'ratio', ascending = False))"
   ]
  },
  {
   "cell_type": "markdown",
   "metadata": {},
   "source": [
    "**Вывод**"
   ]
  },
  {
   "cell_type": "markdown",
   "metadata": {},
   "source": [
    "Люди, которые берут кредит под недвижимость являются самой большой группой и самыми организованными в отношении выплаты кредита. Затем, люди, берущие кредит на свадьбы (неужели еще такие есть). Ниже отношение у людей, берущих кредит на образование, скорее всего существенная часть группы это молодые люди с пока еще нестабильным доходом, что объясняет задержки в выплате кредита. Чаще всего задерживают с выплатами люди из группы заемщиков средств на автомобиль."
   ]
  },
  {
   "cell_type": "markdown",
   "metadata": {},
   "source": [
    "## Шаг 4. Общий вывод"
   ]
  },
  {
   "cell_type": "markdown",
   "metadata": {},
   "source": [
    "Идеальный заемщик - это вдовец с 5ю детьми или без детей, с высоким доходом, покупающий недвижимость.\n",
    "При выдаче кредита стоит перепроверить надежность человека, не состоящего в браке, у которого 4ро детей, средний доход и потребность в новом автомобиле."
   ]
  },
  {
   "cell_type": "markdown",
   "metadata": {},
   "source": [
    "<div class=\"alert alert-success\">\n",
    "<h2> Комментарий от ревьюера<a class=\"tocSkip\"></a></h2>\n",
    "\n",
    "Поздравляю с первым проектом!\n",
    "\n",
    "- Ты хорошо делаешь выводы и анализируешь результаты.\n",
    "    \n",
    "- Код написан аккуратно, однако еще есть куда расти:)\n",
    "\n",
    "- Соблюдена структура проекта, спасибо, было приятно проверять.\n",
    "    \n",
    "- Осталось исправить замечания и проект будет принят\n",
    " \n",
    "\n",
    "\n",
    "Желаю дальнейших успехов!\n",
    "\n",
    "\n",
    "</div>"
   ]
  },
  {
   "cell_type": "markdown",
   "metadata": {},
   "source": [
    "## Чек-лист готовности проекта\n",
    "\n",
    "Поставьте 'x' в выполненных пунктах. Далее нажмите Shift+Enter."
   ]
  },
  {
   "cell_type": "markdown",
   "metadata": {},
   "source": [
    "- [x]  открыт файл;\n",
    "- [x]  файл изучен;\n",
    "- [x]  определены пропущенные значения;\n",
    "- [x]  заполнены пропущенные значения;\n",
    "- [x]  есть пояснение, какие пропущенные значения обнаружены;\n",
    "- [x]  описаны возможные причины появления пропусков в данных;\n",
    "- [x]  объяснено, по какому принципу заполнены пропуски;\n",
    "- [x]  заменен вещественный тип данных на целочисленный;\n",
    "- [x]  есть пояснение, какой метод используется для изменения типа данных и почему;\n",
    "- [x]  удалены дубликаты;\n",
    "- [x]  есть пояснение, какой метод используется для поиска и удаления дубликатов;\n",
    "- [x]  описаны возможные причины появления дубликатов в данных;\n",
    "- [x]  выделены леммы в значениях столбца с целями получения кредита;\n",
    "- [x]  описан процесс лемматизации;\n",
    "- [x]  данные категоризированы;\n",
    "- [x]  есть объяснение принципа категоризации данных;\n",
    "- [x]  есть ответ на вопрос: \"Есть ли зависимость между наличием детей и возвратом кредита в срок?\";\n",
    "- [x]  есть ответ на вопрос: \"Есть ли зависимость между семейным положением и возвратом кредита в срок?\";\n",
    "- [x]  есть ответ на вопрос: \"Есть ли зависимость между уровнем дохода и возвратом кредита в срок?\";\n",
    "- [x]  есть ответ на вопрос: \"Как разные цели кредита влияют на его возврат в срок?\";\n",
    "- [x]  в каждом этапе есть выводы;\n",
    "- [x]  есть общий вывод."
   ]
  }
 ],
 "metadata": {
  "ExecuteTimeLog": [
   {
    "duration": 534,
    "start_time": "2022-08-21T11:37:32.110Z"
   },
   {
    "duration": 16,
    "start_time": "2022-08-21T11:37:32.646Z"
   },
   {
    "duration": 31,
    "start_time": "2022-08-21T11:37:32.664Z"
   },
   {
    "duration": 82,
    "start_time": "2022-08-21T11:44:46.677Z"
   },
   {
    "duration": 19,
    "start_time": "2022-08-21T11:44:46.762Z"
   },
   {
    "duration": 14,
    "start_time": "2022-08-21T11:44:46.783Z"
   },
   {
    "duration": 29,
    "start_time": "2022-08-21T11:44:50.422Z"
   },
   {
    "duration": 13,
    "start_time": "2022-08-21T11:52:17.540Z"
   },
   {
    "duration": 15,
    "start_time": "2022-08-21T11:53:33.115Z"
   },
   {
    "duration": 8,
    "start_time": "2022-08-21T11:55:53.923Z"
   },
   {
    "duration": 9,
    "start_time": "2022-08-21T11:55:55.312Z"
   },
   {
    "duration": 9,
    "start_time": "2022-08-21T11:56:41.170Z"
   },
   {
    "duration": 9,
    "start_time": "2022-08-21T11:56:45.166Z"
   },
   {
    "duration": 9,
    "start_time": "2022-08-21T11:56:45.812Z"
   },
   {
    "duration": 7,
    "start_time": "2022-08-21T12:01:01.217Z"
   },
   {
    "duration": 6,
    "start_time": "2022-08-21T12:01:03.758Z"
   },
   {
    "duration": 7,
    "start_time": "2022-08-21T12:01:08.851Z"
   },
   {
    "duration": 66,
    "start_time": "2022-08-21T12:01:19.823Z"
   },
   {
    "duration": 14,
    "start_time": "2022-08-21T12:01:19.891Z"
   },
   {
    "duration": 11,
    "start_time": "2022-08-21T12:01:19.907Z"
   },
   {
    "duration": 17,
    "start_time": "2022-08-21T12:01:19.919Z"
   },
   {
    "duration": 57,
    "start_time": "2022-08-21T12:01:19.939Z"
   },
   {
    "duration": 6,
    "start_time": "2022-08-21T12:01:19.998Z"
   },
   {
    "duration": 37,
    "start_time": "2022-08-21T12:01:20.006Z"
   },
   {
    "duration": 36,
    "start_time": "2022-08-21T12:01:20.045Z"
   },
   {
    "duration": 12,
    "start_time": "2022-08-21T12:01:20.082Z"
   },
   {
    "duration": 31,
    "start_time": "2022-08-21T12:01:20.096Z"
   },
   {
    "duration": 13,
    "start_time": "2022-08-21T12:01:20.128Z"
   },
   {
    "duration": 7,
    "start_time": "2022-08-21T12:01:22.945Z"
   },
   {
    "duration": 7,
    "start_time": "2022-08-21T12:01:50.275Z"
   },
   {
    "duration": 10,
    "start_time": "2022-08-21T12:01:51.401Z"
   },
   {
    "duration": 6,
    "start_time": "2022-08-21T12:02:16.900Z"
   },
   {
    "duration": 10,
    "start_time": "2022-08-21T12:11:19.095Z"
   },
   {
    "duration": 7,
    "start_time": "2022-08-21T12:11:46.256Z"
   },
   {
    "duration": 66,
    "start_time": "2022-08-21T12:21:51.234Z"
   },
   {
    "duration": 16,
    "start_time": "2022-08-21T12:21:51.303Z"
   },
   {
    "duration": 4,
    "start_time": "2022-08-21T12:21:51.322Z"
   },
   {
    "duration": 41,
    "start_time": "2022-08-21T12:21:51.328Z"
   },
   {
    "duration": 34,
    "start_time": "2022-08-21T12:21:51.372Z"
   },
   {
    "duration": 7,
    "start_time": "2022-08-21T12:21:51.409Z"
   },
   {
    "duration": 50,
    "start_time": "2022-08-21T12:21:51.419Z"
   },
   {
    "duration": 15,
    "start_time": "2022-08-21T12:21:51.471Z"
   },
   {
    "duration": 8,
    "start_time": "2022-08-21T12:21:51.488Z"
   },
   {
    "duration": 9,
    "start_time": "2022-08-21T12:21:51.498Z"
   },
   {
    "duration": 12,
    "start_time": "2022-08-21T12:21:51.509Z"
   },
   {
    "duration": 47,
    "start_time": "2022-08-21T12:21:51.523Z"
   },
   {
    "duration": 11,
    "start_time": "2022-08-21T12:21:51.572Z"
   },
   {
    "duration": 10,
    "start_time": "2022-08-21T12:21:51.586Z"
   },
   {
    "duration": 14,
    "start_time": "2022-08-21T12:21:51.598Z"
   },
   {
    "duration": 6,
    "start_time": "2022-08-21T12:21:51.613Z"
   },
   {
    "duration": 51,
    "start_time": "2022-08-21T12:21:51.622Z"
   },
   {
    "duration": 13,
    "start_time": "2022-08-21T12:21:51.675Z"
   },
   {
    "duration": 8,
    "start_time": "2022-08-21T12:21:51.690Z"
   },
   {
    "duration": 8,
    "start_time": "2022-08-21T12:21:51.700Z"
   },
   {
    "duration": 7,
    "start_time": "2022-08-21T12:21:51.709Z"
   },
   {
    "duration": 52,
    "start_time": "2022-08-21T12:21:51.717Z"
   },
   {
    "duration": 7,
    "start_time": "2022-08-21T12:21:51.770Z"
   },
   {
    "duration": 12,
    "start_time": "2022-08-21T12:21:51.779Z"
   },
   {
    "duration": 8,
    "start_time": "2022-08-21T12:21:51.792Z"
   },
   {
    "duration": 8,
    "start_time": "2022-08-21T12:21:51.801Z"
   },
   {
    "duration": 8,
    "start_time": "2022-08-21T12:21:56.064Z"
   },
   {
    "duration": 7,
    "start_time": "2022-08-21T12:22:48.113Z"
   },
   {
    "duration": 96,
    "start_time": "2022-08-21T12:37:25.295Z"
   },
   {
    "duration": 22,
    "start_time": "2022-08-21T12:37:40.928Z"
   },
   {
    "duration": 448,
    "start_time": "2022-08-21T12:53:56.496Z"
   },
   {
    "duration": 79,
    "start_time": "2022-08-21T12:54:05.805Z"
   },
   {
    "duration": 20,
    "start_time": "2022-08-21T12:54:05.887Z"
   },
   {
    "duration": 5,
    "start_time": "2022-08-21T12:54:05.909Z"
   },
   {
    "duration": 22,
    "start_time": "2022-08-21T12:54:05.916Z"
   },
   {
    "duration": 66,
    "start_time": "2022-08-21T12:54:05.940Z"
   },
   {
    "duration": 9,
    "start_time": "2022-08-21T12:54:06.008Z"
   },
   {
    "duration": 15,
    "start_time": "2022-08-21T12:54:06.019Z"
   },
   {
    "duration": 23,
    "start_time": "2022-08-21T12:54:06.067Z"
   },
   {
    "duration": 18,
    "start_time": "2022-08-21T12:54:06.092Z"
   },
   {
    "duration": 10,
    "start_time": "2022-08-21T12:54:06.113Z"
   },
   {
    "duration": 9,
    "start_time": "2022-08-21T12:54:06.125Z"
   },
   {
    "duration": 41,
    "start_time": "2022-08-21T12:54:06.137Z"
   },
   {
    "duration": 24,
    "start_time": "2022-08-21T12:54:06.180Z"
   },
   {
    "duration": 9,
    "start_time": "2022-08-21T12:54:06.209Z"
   },
   {
    "duration": 18,
    "start_time": "2022-08-21T12:54:06.220Z"
   },
   {
    "duration": 30,
    "start_time": "2022-08-21T12:54:06.240Z"
   },
   {
    "duration": 41,
    "start_time": "2022-08-21T12:54:06.275Z"
   },
   {
    "duration": 12,
    "start_time": "2022-08-21T12:54:06.318Z"
   },
   {
    "duration": 9,
    "start_time": "2022-08-21T12:54:06.333Z"
   },
   {
    "duration": 27,
    "start_time": "2022-08-21T12:54:06.345Z"
   },
   {
    "duration": 12,
    "start_time": "2022-08-21T12:54:06.375Z"
   },
   {
    "duration": 21,
    "start_time": "2022-08-21T12:54:06.389Z"
   },
   {
    "duration": 10,
    "start_time": "2022-08-21T12:54:06.412Z"
   },
   {
    "duration": 15,
    "start_time": "2022-08-21T12:54:06.424Z"
   },
   {
    "duration": 21,
    "start_time": "2022-08-21T12:54:06.469Z"
   },
   {
    "duration": 16,
    "start_time": "2022-08-21T12:54:06.493Z"
   },
   {
    "duration": 53,
    "start_time": "2022-08-21T12:54:06.511Z"
   },
   {
    "duration": 32,
    "start_time": "2022-08-21T12:54:06.566Z"
   },
   {
    "duration": 38,
    "start_time": "2022-08-21T12:54:06.603Z"
   },
   {
    "duration": 25,
    "start_time": "2022-08-21T12:54:06.644Z"
   },
   {
    "duration": 27,
    "start_time": "2022-08-21T12:54:06.672Z"
   },
   {
    "duration": 30,
    "start_time": "2022-08-21T12:54:06.702Z"
   },
   {
    "duration": 22,
    "start_time": "2022-08-21T12:54:06.734Z"
   },
   {
    "duration": 43,
    "start_time": "2022-08-21T12:54:06.758Z"
   },
   {
    "duration": 18,
    "start_time": "2022-08-21T12:54:06.803Z"
   },
   {
    "duration": 21,
    "start_time": "2022-08-21T12:54:06.823Z"
   },
   {
    "duration": 40,
    "start_time": "2022-08-21T12:54:06.846Z"
   },
   {
    "duration": 38,
    "start_time": "2022-08-21T12:54:06.889Z"
   },
   {
    "duration": 7,
    "start_time": "2022-08-21T12:54:06.930Z"
   },
   {
    "duration": 803,
    "start_time": "2022-08-21T12:54:06.939Z"
   },
   {
    "duration": 4,
    "start_time": "2022-08-21T12:54:07.746Z"
   },
   {
    "duration": 17,
    "start_time": "2022-08-21T12:54:07.752Z"
   },
   {
    "duration": 43,
    "start_time": "2022-08-21T12:54:07.772Z"
   },
   {
    "duration": 4,
    "start_time": "2022-08-21T12:54:07.817Z"
   },
   {
    "duration": 49,
    "start_time": "2022-08-21T12:54:07.823Z"
   },
   {
    "duration": 40,
    "start_time": "2022-08-21T12:54:13.200Z"
   }
  ],
  "kernelspec": {
   "display_name": "Python 3 (ipykernel)",
   "language": "python",
   "name": "python3"
  },
  "language_info": {
   "codemirror_mode": {
    "name": "ipython",
    "version": 3
   },
   "file_extension": ".py",
   "mimetype": "text/x-python",
   "name": "python",
   "nbconvert_exporter": "python",
   "pygments_lexer": "ipython3",
   "version": "3.9.5"
  },
  "toc": {
   "base_numbering": 1,
   "nav_menu": {},
   "number_sections": true,
   "sideBar": true,
   "skip_h1_title": true,
   "title_cell": "Table of Contents",
   "title_sidebar": "Contents",
   "toc_cell": false,
   "toc_position": {},
   "toc_section_display": true,
   "toc_window_display": false
  }
 },
 "nbformat": 4,
 "nbformat_minor": 2
}
