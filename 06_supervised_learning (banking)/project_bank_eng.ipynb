{
 "cells": [
  {
   "cell_type": "markdown",
   "metadata": {},
   "source": [
    "# Customers churn"
   ]
  },
  {
   "cell_type": "markdown",
   "metadata": {},
   "source": [
    "Beta Bank customers are leaving: little by little, chipping away every month. The bankers figured out it’s cheaper to save the existing customers rather than to attract new ones. We need to predict whether a customer will leave the bank soon. \n",
    "\n",
    "We have the data on clients’ past behavior and termination of contracts with the bank. We need to build a model with the maximum possible F1 score. \n",
    "\n",
    "An F1 score souls be at least 0.59. Check the F1 for the test set. \n",
    "Additionally, measure the AUC-ROC metric and compare it with the F1.\n",
    "\n",
    "\n",
    "Source: [https://www.kaggle.com/barelydedicated/bank-customer-churn-modeling](https://www.kaggle.com/barelydedicated/bank-customer-churn-modeling)"
   ]
  },
  {
   "cell_type": "markdown",
   "metadata": {},
   "source": [
    "**Description of the data**\n",
    "\n",
    "- RowNumber — data string index,\n",
    "- CustomerId — unique customer identifier,\n",
    "- Surname — surname,\n",
    "- CreditScore — credit score,\n",
    "- Geography — country of residence,\n",
    "- Gender — gender,\n",
    "- Age — age,\n",
    "- Tenure — period of maturation for a customer’s fixed deposit (years),\n",
    "- Balance — account balance,\n",
    "- NumOfProducts — number of banking products used by the customer,\n",
    "- HasCrCard — customer has a credit card,\n",
    "- IsActiveMember — customer’s activeness,\n",
    "- EstimatedSalary — estimated salary,\n",
    "- Exited — сustomer has left."
   ]
  },
  {
   "cell_type": "markdown",
   "metadata": {},
   "source": [
    "## Data preparation"
   ]
  },
  {
   "cell_type": "code",
   "execution_count": 1,
   "metadata": {},
   "outputs": [],
   "source": [
    "#Import necessary libraries\n",
    "import pandas as pd\n",
    "import numpy as np\n",
    "from sklearn.model_selection import train_test_split\n",
    "from sklearn.ensemble import RandomForestClassifier \n",
    "from sklearn.linear_model import LogisticRegression\n",
    "from sklearn.tree import DecisionTreeClassifier \n",
    "from sklearn.metrics import roc_auc_score\n",
    "from sklearn.metrics import roc_curve\n",
    "from sklearn.metrics import f1_score\n",
    "from sklearn.preprocessing import StandardScaler \n",
    "from sklearn.metrics import confusion_matrix\n",
    "from sklearn.utils import shuffle\n",
    "from sklearn.metrics import accuracy_score\n",
    "import matplotlib.pyplot as plt\n",
    "import warnings\n",
    "warnings.filterwarnings('ignore')"
   ]
  },
  {
   "cell_type": "code",
   "execution_count": 2,
   "metadata": {},
   "outputs": [],
   "source": [
    "#Download the dataset\n",
    "\n",
    "data = pd.read_csv('/datasets/Churn.csv')"
   ]
  },
  {
   "cell_type": "code",
   "execution_count": 3,
   "metadata": {},
   "outputs": [
    {
     "name": "stdout",
     "output_type": "stream",
     "text": [
      "<class 'pandas.core.frame.DataFrame'>\n",
      "RangeIndex: 10000 entries, 0 to 9999\n",
      "Data columns (total 14 columns):\n",
      "RowNumber          10000 non-null int64\n",
      "CustomerId         10000 non-null int64\n",
      "Surname            10000 non-null object\n",
      "CreditScore        10000 non-null int64\n",
      "Geography          10000 non-null object\n",
      "Gender             10000 non-null object\n",
      "Age                10000 non-null int64\n",
      "Tenure             9091 non-null float64\n",
      "Balance            10000 non-null float64\n",
      "NumOfProducts      10000 non-null int64\n",
      "HasCrCard          10000 non-null int64\n",
      "IsActiveMember     10000 non-null int64\n",
      "EstimatedSalary    10000 non-null float64\n",
      "Exited             10000 non-null int64\n",
      "dtypes: float64(3), int64(8), object(3)\n",
      "memory usage: 1.1+ MB\n"
     ]
    }
   ],
   "source": [
    "#Check general info\n",
    "\n",
    "data.info()"
   ]
  },
  {
   "cell_type": "markdown",
   "metadata": {},
   "source": [
    "Most of the columns in the dataset have a numeric format, except for the columns Surname, Geography, Gender, which have the object format (it is important for further data processing). There are gaps in the Tenure column that need to be processed."
   ]
  },
  {
   "cell_type": "code",
   "execution_count": 4,
   "metadata": {},
   "outputs": [
    {
     "data": {
      "text/html": [
       "<div>\n",
       "<style scoped>\n",
       "    .dataframe tbody tr th:only-of-type {\n",
       "        vertical-align: middle;\n",
       "    }\n",
       "\n",
       "    .dataframe tbody tr th {\n",
       "        vertical-align: top;\n",
       "    }\n",
       "\n",
       "    .dataframe thead th {\n",
       "        text-align: right;\n",
       "    }\n",
       "</style>\n",
       "<table border=\"1\" class=\"dataframe\">\n",
       "  <thead>\n",
       "    <tr style=\"text-align: right;\">\n",
       "      <th></th>\n",
       "      <th>RowNumber</th>\n",
       "      <th>CustomerId</th>\n",
       "      <th>Surname</th>\n",
       "      <th>CreditScore</th>\n",
       "      <th>Geography</th>\n",
       "      <th>Gender</th>\n",
       "      <th>Age</th>\n",
       "      <th>Tenure</th>\n",
       "      <th>Balance</th>\n",
       "      <th>NumOfProducts</th>\n",
       "      <th>HasCrCard</th>\n",
       "      <th>IsActiveMember</th>\n",
       "      <th>EstimatedSalary</th>\n",
       "      <th>Exited</th>\n",
       "    </tr>\n",
       "  </thead>\n",
       "  <tbody>\n",
       "    <tr>\n",
       "      <td>0</td>\n",
       "      <td>1</td>\n",
       "      <td>15634602</td>\n",
       "      <td>Hargrave</td>\n",
       "      <td>619</td>\n",
       "      <td>France</td>\n",
       "      <td>Female</td>\n",
       "      <td>42</td>\n",
       "      <td>2.0</td>\n",
       "      <td>0.00</td>\n",
       "      <td>1</td>\n",
       "      <td>1</td>\n",
       "      <td>1</td>\n",
       "      <td>101348.88</td>\n",
       "      <td>1</td>\n",
       "    </tr>\n",
       "    <tr>\n",
       "      <td>1</td>\n",
       "      <td>2</td>\n",
       "      <td>15647311</td>\n",
       "      <td>Hill</td>\n",
       "      <td>608</td>\n",
       "      <td>Spain</td>\n",
       "      <td>Female</td>\n",
       "      <td>41</td>\n",
       "      <td>1.0</td>\n",
       "      <td>83807.86</td>\n",
       "      <td>1</td>\n",
       "      <td>0</td>\n",
       "      <td>1</td>\n",
       "      <td>112542.58</td>\n",
       "      <td>0</td>\n",
       "    </tr>\n",
       "    <tr>\n",
       "      <td>2</td>\n",
       "      <td>3</td>\n",
       "      <td>15619304</td>\n",
       "      <td>Onio</td>\n",
       "      <td>502</td>\n",
       "      <td>France</td>\n",
       "      <td>Female</td>\n",
       "      <td>42</td>\n",
       "      <td>8.0</td>\n",
       "      <td>159660.80</td>\n",
       "      <td>3</td>\n",
       "      <td>1</td>\n",
       "      <td>0</td>\n",
       "      <td>113931.57</td>\n",
       "      <td>1</td>\n",
       "    </tr>\n",
       "    <tr>\n",
       "      <td>3</td>\n",
       "      <td>4</td>\n",
       "      <td>15701354</td>\n",
       "      <td>Boni</td>\n",
       "      <td>699</td>\n",
       "      <td>France</td>\n",
       "      <td>Female</td>\n",
       "      <td>39</td>\n",
       "      <td>1.0</td>\n",
       "      <td>0.00</td>\n",
       "      <td>2</td>\n",
       "      <td>0</td>\n",
       "      <td>0</td>\n",
       "      <td>93826.63</td>\n",
       "      <td>0</td>\n",
       "    </tr>\n",
       "    <tr>\n",
       "      <td>4</td>\n",
       "      <td>5</td>\n",
       "      <td>15737888</td>\n",
       "      <td>Mitchell</td>\n",
       "      <td>850</td>\n",
       "      <td>Spain</td>\n",
       "      <td>Female</td>\n",
       "      <td>43</td>\n",
       "      <td>2.0</td>\n",
       "      <td>125510.82</td>\n",
       "      <td>1</td>\n",
       "      <td>1</td>\n",
       "      <td>1</td>\n",
       "      <td>79084.10</td>\n",
       "      <td>0</td>\n",
       "    </tr>\n",
       "  </tbody>\n",
       "</table>\n",
       "</div>"
      ],
      "text/plain": [
       "   RowNumber  CustomerId   Surname  CreditScore Geography  Gender  Age  \\\n",
       "0          1    15634602  Hargrave          619    France  Female   42   \n",
       "1          2    15647311      Hill          608     Spain  Female   41   \n",
       "2          3    15619304      Onio          502    France  Female   42   \n",
       "3          4    15701354      Boni          699    France  Female   39   \n",
       "4          5    15737888  Mitchell          850     Spain  Female   43   \n",
       "\n",
       "   Tenure    Balance  NumOfProducts  HasCrCard  IsActiveMember  \\\n",
       "0     2.0       0.00              1          1               1   \n",
       "1     1.0   83807.86              1          0               1   \n",
       "2     8.0  159660.80              3          1               0   \n",
       "3     1.0       0.00              2          0               0   \n",
       "4     2.0  125510.82              1          1               1   \n",
       "\n",
       "   EstimatedSalary  Exited  \n",
       "0        101348.88       1  \n",
       "1        112542.58       0  \n",
       "2        113931.57       1  \n",
       "3         93826.63       0  \n",
       "4         79084.10       0  "
      ]
     },
     "execution_count": 4,
     "metadata": {},
     "output_type": "execute_result"
    }
   ],
   "source": [
    "#Check the first 5 rows of the dataset\n",
    "\n",
    "data.head()"
   ]
  },
  {
   "cell_type": "code",
   "execution_count": 5,
   "metadata": {},
   "outputs": [
    {
     "data": {
      "text/html": [
       "<div>\n",
       "<style scoped>\n",
       "    .dataframe tbody tr th:only-of-type {\n",
       "        vertical-align: middle;\n",
       "    }\n",
       "\n",
       "    .dataframe tbody tr th {\n",
       "        vertical-align: top;\n",
       "    }\n",
       "\n",
       "    .dataframe thead th {\n",
       "        text-align: right;\n",
       "    }\n",
       "</style>\n",
       "<table border=\"1\" class=\"dataframe\">\n",
       "  <thead>\n",
       "    <tr style=\"text-align: right;\">\n",
       "      <th></th>\n",
       "      <th>RowNumber</th>\n",
       "      <th>CustomerId</th>\n",
       "      <th>Surname</th>\n",
       "      <th>CreditScore</th>\n",
       "      <th>Geography</th>\n",
       "      <th>Gender</th>\n",
       "      <th>Age</th>\n",
       "      <th>Tenure</th>\n",
       "      <th>Balance</th>\n",
       "      <th>NumOfProducts</th>\n",
       "      <th>HasCrCard</th>\n",
       "      <th>IsActiveMember</th>\n",
       "      <th>EstimatedSalary</th>\n",
       "      <th>Exited</th>\n",
       "    </tr>\n",
       "  </thead>\n",
       "  <tbody>\n",
       "    <tr>\n",
       "      <td>30</td>\n",
       "      <td>31</td>\n",
       "      <td>15589475</td>\n",
       "      <td>Azikiwe</td>\n",
       "      <td>591</td>\n",
       "      <td>Spain</td>\n",
       "      <td>Female</td>\n",
       "      <td>39</td>\n",
       "      <td>NaN</td>\n",
       "      <td>0.00</td>\n",
       "      <td>3</td>\n",
       "      <td>1</td>\n",
       "      <td>0</td>\n",
       "      <td>140469.38</td>\n",
       "      <td>1</td>\n",
       "    </tr>\n",
       "    <tr>\n",
       "      <td>48</td>\n",
       "      <td>49</td>\n",
       "      <td>15766205</td>\n",
       "      <td>Yin</td>\n",
       "      <td>550</td>\n",
       "      <td>Germany</td>\n",
       "      <td>Male</td>\n",
       "      <td>38</td>\n",
       "      <td>NaN</td>\n",
       "      <td>103391.38</td>\n",
       "      <td>1</td>\n",
       "      <td>0</td>\n",
       "      <td>1</td>\n",
       "      <td>90878.13</td>\n",
       "      <td>0</td>\n",
       "    </tr>\n",
       "    <tr>\n",
       "      <td>51</td>\n",
       "      <td>52</td>\n",
       "      <td>15768193</td>\n",
       "      <td>Trevisani</td>\n",
       "      <td>585</td>\n",
       "      <td>Germany</td>\n",
       "      <td>Male</td>\n",
       "      <td>36</td>\n",
       "      <td>NaN</td>\n",
       "      <td>146050.97</td>\n",
       "      <td>2</td>\n",
       "      <td>0</td>\n",
       "      <td>0</td>\n",
       "      <td>86424.57</td>\n",
       "      <td>0</td>\n",
       "    </tr>\n",
       "    <tr>\n",
       "      <td>53</td>\n",
       "      <td>54</td>\n",
       "      <td>15702298</td>\n",
       "      <td>Parkhill</td>\n",
       "      <td>655</td>\n",
       "      <td>Germany</td>\n",
       "      <td>Male</td>\n",
       "      <td>41</td>\n",
       "      <td>NaN</td>\n",
       "      <td>125561.97</td>\n",
       "      <td>1</td>\n",
       "      <td>0</td>\n",
       "      <td>0</td>\n",
       "      <td>164040.94</td>\n",
       "      <td>1</td>\n",
       "    </tr>\n",
       "    <tr>\n",
       "      <td>60</td>\n",
       "      <td>61</td>\n",
       "      <td>15651280</td>\n",
       "      <td>Hunter</td>\n",
       "      <td>742</td>\n",
       "      <td>Germany</td>\n",
       "      <td>Male</td>\n",
       "      <td>35</td>\n",
       "      <td>NaN</td>\n",
       "      <td>136857.00</td>\n",
       "      <td>1</td>\n",
       "      <td>0</td>\n",
       "      <td>0</td>\n",
       "      <td>84509.57</td>\n",
       "      <td>0</td>\n",
       "    </tr>\n",
       "    <tr>\n",
       "      <td>...</td>\n",
       "      <td>...</td>\n",
       "      <td>...</td>\n",
       "      <td>...</td>\n",
       "      <td>...</td>\n",
       "      <td>...</td>\n",
       "      <td>...</td>\n",
       "      <td>...</td>\n",
       "      <td>...</td>\n",
       "      <td>...</td>\n",
       "      <td>...</td>\n",
       "      <td>...</td>\n",
       "      <td>...</td>\n",
       "      <td>...</td>\n",
       "      <td>...</td>\n",
       "    </tr>\n",
       "    <tr>\n",
       "      <td>9944</td>\n",
       "      <td>9945</td>\n",
       "      <td>15703923</td>\n",
       "      <td>Cameron</td>\n",
       "      <td>744</td>\n",
       "      <td>Germany</td>\n",
       "      <td>Male</td>\n",
       "      <td>41</td>\n",
       "      <td>NaN</td>\n",
       "      <td>190409.34</td>\n",
       "      <td>2</td>\n",
       "      <td>1</td>\n",
       "      <td>1</td>\n",
       "      <td>138361.48</td>\n",
       "      <td>0</td>\n",
       "    </tr>\n",
       "    <tr>\n",
       "      <td>9956</td>\n",
       "      <td>9957</td>\n",
       "      <td>15707861</td>\n",
       "      <td>Nucci</td>\n",
       "      <td>520</td>\n",
       "      <td>France</td>\n",
       "      <td>Female</td>\n",
       "      <td>46</td>\n",
       "      <td>NaN</td>\n",
       "      <td>85216.61</td>\n",
       "      <td>1</td>\n",
       "      <td>1</td>\n",
       "      <td>0</td>\n",
       "      <td>117369.52</td>\n",
       "      <td>1</td>\n",
       "    </tr>\n",
       "    <tr>\n",
       "      <td>9964</td>\n",
       "      <td>9965</td>\n",
       "      <td>15642785</td>\n",
       "      <td>Douglas</td>\n",
       "      <td>479</td>\n",
       "      <td>France</td>\n",
       "      <td>Male</td>\n",
       "      <td>34</td>\n",
       "      <td>NaN</td>\n",
       "      <td>117593.48</td>\n",
       "      <td>2</td>\n",
       "      <td>0</td>\n",
       "      <td>0</td>\n",
       "      <td>113308.29</td>\n",
       "      <td>0</td>\n",
       "    </tr>\n",
       "    <tr>\n",
       "      <td>9985</td>\n",
       "      <td>9986</td>\n",
       "      <td>15586914</td>\n",
       "      <td>Nepean</td>\n",
       "      <td>659</td>\n",
       "      <td>France</td>\n",
       "      <td>Male</td>\n",
       "      <td>36</td>\n",
       "      <td>NaN</td>\n",
       "      <td>123841.49</td>\n",
       "      <td>2</td>\n",
       "      <td>1</td>\n",
       "      <td>0</td>\n",
       "      <td>96833.00</td>\n",
       "      <td>0</td>\n",
       "    </tr>\n",
       "    <tr>\n",
       "      <td>9999</td>\n",
       "      <td>10000</td>\n",
       "      <td>15628319</td>\n",
       "      <td>Walker</td>\n",
       "      <td>792</td>\n",
       "      <td>France</td>\n",
       "      <td>Female</td>\n",
       "      <td>28</td>\n",
       "      <td>NaN</td>\n",
       "      <td>130142.79</td>\n",
       "      <td>1</td>\n",
       "      <td>1</td>\n",
       "      <td>0</td>\n",
       "      <td>38190.78</td>\n",
       "      <td>0</td>\n",
       "    </tr>\n",
       "  </tbody>\n",
       "</table>\n",
       "<p>909 rows × 14 columns</p>\n",
       "</div>"
      ],
      "text/plain": [
       "      RowNumber  CustomerId    Surname  CreditScore Geography  Gender  Age  \\\n",
       "30           31    15589475    Azikiwe          591     Spain  Female   39   \n",
       "48           49    15766205        Yin          550   Germany    Male   38   \n",
       "51           52    15768193  Trevisani          585   Germany    Male   36   \n",
       "53           54    15702298   Parkhill          655   Germany    Male   41   \n",
       "60           61    15651280     Hunter          742   Germany    Male   35   \n",
       "...         ...         ...        ...          ...       ...     ...  ...   \n",
       "9944       9945    15703923    Cameron          744   Germany    Male   41   \n",
       "9956       9957    15707861      Nucci          520    France  Female   46   \n",
       "9964       9965    15642785    Douglas          479    France    Male   34   \n",
       "9985       9986    15586914     Nepean          659    France    Male   36   \n",
       "9999      10000    15628319     Walker          792    France  Female   28   \n",
       "\n",
       "      Tenure    Balance  NumOfProducts  HasCrCard  IsActiveMember  \\\n",
       "30       NaN       0.00              3          1               0   \n",
       "48       NaN  103391.38              1          0               1   \n",
       "51       NaN  146050.97              2          0               0   \n",
       "53       NaN  125561.97              1          0               0   \n",
       "60       NaN  136857.00              1          0               0   \n",
       "...      ...        ...            ...        ...             ...   \n",
       "9944     NaN  190409.34              2          1               1   \n",
       "9956     NaN   85216.61              1          1               0   \n",
       "9964     NaN  117593.48              2          0               0   \n",
       "9985     NaN  123841.49              2          1               0   \n",
       "9999     NaN  130142.79              1          1               0   \n",
       "\n",
       "      EstimatedSalary  Exited  \n",
       "30          140469.38       1  \n",
       "48           90878.13       0  \n",
       "51           86424.57       0  \n",
       "53          164040.94       1  \n",
       "60           84509.57       0  \n",
       "...               ...     ...  \n",
       "9944        138361.48       0  \n",
       "9956        117369.52       1  \n",
       "9964        113308.29       0  \n",
       "9985         96833.00       0  \n",
       "9999         38190.78       0  \n",
       "\n",
       "[909 rows x 14 columns]"
      ]
     },
     "execution_count": 5,
     "metadata": {},
     "output_type": "execute_result"
    }
   ],
   "source": [
    "#Check the lines with the missing value of tenure\n",
    "\n",
    "data[data['Tenure'].isnull()]"
   ]
  },
  {
   "cell_type": "code",
   "execution_count": 6,
   "metadata": {},
   "outputs": [
    {
     "data": {
      "text/plain": [
       "1.0     952\n",
       "2.0     950\n",
       "8.0     933\n",
       "3.0     928\n",
       "5.0     927\n",
       "7.0     925\n",
       "4.0     885\n",
       "9.0     882\n",
       "6.0     881\n",
       "10.0    446\n",
       "0.0     382\n",
       "Name: Tenure, dtype: int64"
      ]
     },
     "execution_count": 6,
     "metadata": {},
     "output_type": "execute_result"
    }
   ],
   "source": [
    "#Check the values in the column Tenure\n",
    "\n",
    "data.Tenure.value_counts()"
   ]
  },
  {
   "cell_type": "markdown",
   "metadata": {},
   "source": [
    "The reason for the missing valuese in the Tenure column is not obvious based on the data, it makes sense to contact the developers for additional verification of the reason for the it. In this case, it is decided to fill in the gaps with the median value of the Tenure column."
   ]
  },
  {
   "cell_type": "code",
   "execution_count": 7,
   "metadata": {},
   "outputs": [],
   "source": [
    "#Fill in the gaps in the Tenure column with the median value and replace the data type with int\n",
    "\n",
    "data['Tenure'] = data['Tenure'].fillna(data['Tenure'].median()).astype('int')"
   ]
  },
  {
   "cell_type": "code",
   "execution_count": 8,
   "metadata": {},
   "outputs": [
    {
     "name": "stdout",
     "output_type": "stream",
     "text": [
      "<class 'pandas.core.frame.DataFrame'>\n",
      "RangeIndex: 10000 entries, 0 to 9999\n",
      "Data columns (total 14 columns):\n",
      "RowNumber          10000 non-null int64\n",
      "CustomerId         10000 non-null int64\n",
      "Surname            10000 non-null object\n",
      "CreditScore        10000 non-null int64\n",
      "Geography          10000 non-null object\n",
      "Gender             10000 non-null object\n",
      "Age                10000 non-null int64\n",
      "Tenure             10000 non-null int64\n",
      "Balance            10000 non-null float64\n",
      "NumOfProducts      10000 non-null int64\n",
      "HasCrCard          10000 non-null int64\n",
      "IsActiveMember     10000 non-null int64\n",
      "EstimatedSalary    10000 non-null float64\n",
      "Exited             10000 non-null int64\n",
      "dtypes: float64(2), int64(9), object(3)\n",
      "memory usage: 1.1+ MB\n"
     ]
    }
   ],
   "source": [
    "data.info()"
   ]
  },
  {
   "cell_type": "code",
   "execution_count": 9,
   "metadata": {},
   "outputs": [
    {
     "data": {
      "text/plain": [
       "0"
      ]
     },
     "execution_count": 9,
     "metadata": {},
     "output_type": "execute_result"
    }
   ],
   "source": [
    "#Check duplicates\n",
    "\n",
    "data.duplicated().sum()"
   ]
  },
  {
   "cell_type": "markdown",
   "metadata": {},
   "source": [
    "There are no duplicates in the dataset."
   ]
  },
  {
   "cell_type": "markdown",
   "metadata": {},
   "source": [
    "Exclude RowNumber, CustomerID, and Surname columns from the dataset because these columns do not affect the value of the target attribute."
   ]
  },
  {
   "cell_type": "code",
   "execution_count": 10,
   "metadata": {},
   "outputs": [],
   "source": [
    "data = data.drop(['RowNumber','CustomerId','Surname'], axis=1)"
   ]
  },
  {
   "cell_type": "markdown",
   "metadata": {},
   "source": [
    "Since the data contains categorical features, an error may occur when training the model. Transform categorical features into numerical using the OHE direct coding technique."
   ]
  },
  {
   "cell_type": "code",
   "execution_count": 11,
   "metadata": {},
   "outputs": [
    {
     "data": {
      "text/html": [
       "<div>\n",
       "<style scoped>\n",
       "    .dataframe tbody tr th:only-of-type {\n",
       "        vertical-align: middle;\n",
       "    }\n",
       "\n",
       "    .dataframe tbody tr th {\n",
       "        vertical-align: top;\n",
       "    }\n",
       "\n",
       "    .dataframe thead th {\n",
       "        text-align: right;\n",
       "    }\n",
       "</style>\n",
       "<table border=\"1\" class=\"dataframe\">\n",
       "  <thead>\n",
       "    <tr style=\"text-align: right;\">\n",
       "      <th></th>\n",
       "      <th>CreditScore</th>\n",
       "      <th>Age</th>\n",
       "      <th>Tenure</th>\n",
       "      <th>Balance</th>\n",
       "      <th>NumOfProducts</th>\n",
       "      <th>HasCrCard</th>\n",
       "      <th>IsActiveMember</th>\n",
       "      <th>EstimatedSalary</th>\n",
       "      <th>Exited</th>\n",
       "      <th>Geography_Germany</th>\n",
       "      <th>Geography_Spain</th>\n",
       "      <th>Gender_Male</th>\n",
       "    </tr>\n",
       "  </thead>\n",
       "  <tbody>\n",
       "    <tr>\n",
       "      <td>0</td>\n",
       "      <td>619</td>\n",
       "      <td>42</td>\n",
       "      <td>2</td>\n",
       "      <td>0.00</td>\n",
       "      <td>1</td>\n",
       "      <td>1</td>\n",
       "      <td>1</td>\n",
       "      <td>101348.88</td>\n",
       "      <td>1</td>\n",
       "      <td>0</td>\n",
       "      <td>0</td>\n",
       "      <td>0</td>\n",
       "    </tr>\n",
       "    <tr>\n",
       "      <td>1</td>\n",
       "      <td>608</td>\n",
       "      <td>41</td>\n",
       "      <td>1</td>\n",
       "      <td>83807.86</td>\n",
       "      <td>1</td>\n",
       "      <td>0</td>\n",
       "      <td>1</td>\n",
       "      <td>112542.58</td>\n",
       "      <td>0</td>\n",
       "      <td>0</td>\n",
       "      <td>1</td>\n",
       "      <td>0</td>\n",
       "    </tr>\n",
       "    <tr>\n",
       "      <td>2</td>\n",
       "      <td>502</td>\n",
       "      <td>42</td>\n",
       "      <td>8</td>\n",
       "      <td>159660.80</td>\n",
       "      <td>3</td>\n",
       "      <td>1</td>\n",
       "      <td>0</td>\n",
       "      <td>113931.57</td>\n",
       "      <td>1</td>\n",
       "      <td>0</td>\n",
       "      <td>0</td>\n",
       "      <td>0</td>\n",
       "    </tr>\n",
       "    <tr>\n",
       "      <td>3</td>\n",
       "      <td>699</td>\n",
       "      <td>39</td>\n",
       "      <td>1</td>\n",
       "      <td>0.00</td>\n",
       "      <td>2</td>\n",
       "      <td>0</td>\n",
       "      <td>0</td>\n",
       "      <td>93826.63</td>\n",
       "      <td>0</td>\n",
       "      <td>0</td>\n",
       "      <td>0</td>\n",
       "      <td>0</td>\n",
       "    </tr>\n",
       "    <tr>\n",
       "      <td>4</td>\n",
       "      <td>850</td>\n",
       "      <td>43</td>\n",
       "      <td>2</td>\n",
       "      <td>125510.82</td>\n",
       "      <td>1</td>\n",
       "      <td>1</td>\n",
       "      <td>1</td>\n",
       "      <td>79084.10</td>\n",
       "      <td>0</td>\n",
       "      <td>0</td>\n",
       "      <td>1</td>\n",
       "      <td>0</td>\n",
       "    </tr>\n",
       "  </tbody>\n",
       "</table>\n",
       "</div>"
      ],
      "text/plain": [
       "   CreditScore  Age  Tenure    Balance  NumOfProducts  HasCrCard  \\\n",
       "0          619   42       2       0.00              1          1   \n",
       "1          608   41       1   83807.86              1          0   \n",
       "2          502   42       8  159660.80              3          1   \n",
       "3          699   39       1       0.00              2          0   \n",
       "4          850   43       2  125510.82              1          1   \n",
       "\n",
       "   IsActiveMember  EstimatedSalary  Exited  Geography_Germany  \\\n",
       "0               1        101348.88       1                  0   \n",
       "1               1        112542.58       0                  0   \n",
       "2               0        113931.57       1                  0   \n",
       "3               0         93826.63       0                  0   \n",
       "4               1         79084.10       0                  0   \n",
       "\n",
       "   Geography_Spain  Gender_Male  \n",
       "0                0            0  \n",
       "1                1            0  \n",
       "2                0            0  \n",
       "3                0            0  \n",
       "4                1            0  "
      ]
     },
     "execution_count": 11,
     "metadata": {},
     "output_type": "execute_result"
    }
   ],
   "source": [
    "#Convert categorical variables into numerical\n",
    "\n",
    "data_ohe = pd.get_dummies(data, drop_first=True)\n",
    "data_ohe.head()\n"
   ]
  },
  {
   "cell_type": "markdown",
   "metadata": {},
   "source": [
    "### Conclusion"
   ]
  },
  {
   "cell_type": "markdown",
   "metadata": {},
   "source": [
    "During data preparation, missing values in the Tenure column were identified, filled in with median values and changed to an integer format; three columns were excluded from the dataset; categorical variables were converted to numerical ones."
   ]
  },
  {
   "cell_type": "markdown",
   "metadata": {},
   "source": [
    "## Investigation of the task."
   ]
  },
  {
   "cell_type": "markdown",
   "metadata": {},
   "source": [
    "To begin the study, select dataset with features and target feauture. Divide the sample into training, validation and test samples and check the value of the F1 measure and accuracy for different models."
   ]
  },
  {
   "cell_type": "code",
   "execution_count": 12,
   "metadata": {},
   "outputs": [],
   "source": [
    "#Split the data into a training sample and data for validation and test\n",
    "\n",
    "data_train, data_other = train_test_split(data_ohe, test_size=0.4, random_state=12345)"
   ]
  },
  {
   "cell_type": "code",
   "execution_count": 13,
   "metadata": {},
   "outputs": [],
   "source": [
    "#Split data_other into two separate samples for validation and testing of the model\n",
    "\n",
    "data_valid, data_test = train_test_split(data_other, test_size=0.5, random_state=12345)"
   ]
  },
  {
   "cell_type": "code",
   "execution_count": 14,
   "metadata": {},
   "outputs": [
    {
     "name": "stdout",
     "output_type": "stream",
     "text": [
      "Training data size: 6000\n",
      "Validating data size: 2000\n",
      "Testing data size: 2000\n"
     ]
    }
   ],
   "source": [
    "#Check the sizes of the samples\n",
    "\n",
    "print('Training data size:', data_train.shape[0])\n",
    "print('Validating data size:', data_valid.shape[0])\n",
    "print('Testing data size:',data_test .shape[0])"
   ]
  },
  {
   "cell_type": "code",
   "execution_count": 15,
   "metadata": {},
   "outputs": [],
   "source": [
    "# Select a dataset with features for each sample\n",
    "\n",
    "#Select a dataset with features for training\n",
    "features_train = data_train.drop('Exited', axis=1)\n",
    "\n",
    "#Select a dataset with features for validation\n",
    "features_valid = data_valid.drop('Exited', axis=1)\n",
    "\n",
    "#Select a dataset with features for test\n",
    "features_test = data_test.drop('Exited', axis=1)"
   ]
  },
  {
   "cell_type": "code",
   "execution_count": 16,
   "metadata": {},
   "outputs": [],
   "source": [
    "# Select a target for each sample\n",
    "\n",
    "#Select a target for training\n",
    "target_train = data_train['Exited']\n",
    "\n",
    "#Select a target for validation\n",
    "target_valid = data_valid['Exited']\n",
    "\n",
    "#Select a target for test\n",
    "target_test = data_test['Exited']"
   ]
  },
  {
   "cell_type": "code",
   "execution_count": 17,
   "metadata": {},
   "outputs": [],
   "source": [
    "#Standardizing numerical features in a dataset\n",
    "\n",
    "scaler = StandardScaler()\n",
    "numeric = ['CreditScore', 'Age', 'Balance', 'EstimatedSalary']\n",
    "scaler.fit(features_train[numeric])\n",
    "features_train[numeric] = scaler.transform(features_train[numeric])\n",
    "features_valid[numeric] = scaler.transform(features_valid[numeric])\n",
    "features_test[numeric] = scaler.transform(features_test[numeric])"
   ]
  },
  {
   "cell_type": "code",
   "execution_count": 18,
   "metadata": {},
   "outputs": [
    {
     "name": "stdout",
     "output_type": "stream",
     "text": [
      "Accuracy: 0.802\n",
      "F1 score: 0.33108108108108103\n"
     ]
    }
   ],
   "source": [
    "#Train a Logistic Regression model and calculate the F1 measure and accuracy for this model\n",
    "\n",
    "model = LogisticRegression(random_state=12345)\n",
    "model.fit(features_train, target_train)\n",
    "predicted_valid = model.predict(features_valid)\n",
    "score = f1_score(target_valid, predicted_valid)\n",
    "accuracy_valid = accuracy_score(predicted_valid, target_valid)\n",
    "print('Accuracy:',accuracy_valid) \n",
    "print('F1 score:', score)"
   ]
  },
  {
   "cell_type": "code",
   "execution_count": 19,
   "metadata": {},
   "outputs": [
    {
     "name": "stdout",
     "output_type": "stream",
     "text": [
      "Accuracy лучшей модели: 0.858\n",
      "F1 лучшей модели: 0.5696969696969697\n",
      "Глубина дерева: 6\n"
     ]
    }
   ],
   "source": [
    "#Train the Decision Tree model and check its accuracy and F1 measurements with a tree depth from 1 to 9\n",
    "\n",
    "best_depth = 0\n",
    "best_result = 0\n",
    "best_score = 0\n",
    "\n",
    "for depth in range(1,10):\n",
    "    #train a model with a given tree depth\n",
    "    model = DecisionTreeClassifier(random_state=12345, max_depth=depth) \n",
    "    #train the model\n",
    "    model.fit(features_train, target_train)\n",
    "    #get the prediction of the model on the validation sample\n",
    "    predicted_valid = model.predict(features_valid)\n",
    "    #calculate the quality of the model on the validation sample\n",
    "    result = accuracy_score(target_valid,predicted_valid) \n",
    "    score = f1_score(target_valid,predicted_valid)\n",
    "    if result > best_result and score > best_score:\n",
    "        best_depth = depth\n",
    "        best_result = result\n",
    "        best_score = score\n",
    "print('Accuracy лучшей модели:', best_result)\n",
    "print('F1 лучшей модели:', best_score)\n",
    "print('Глубина дерева:', best_depth)"
   ]
  },
  {
   "cell_type": "code",
   "execution_count": 20,
   "metadata": {},
   "outputs": [
    {
     "name": "stdout",
     "output_type": "stream",
     "text": [
      "Accuracy лучшей модели: 0.8645\n",
      "F1 лучшей модели: 0.5705229793977813\n",
      "Глубина дерева: 8\n",
      "Количество деревьев: 90\n"
     ]
    }
   ],
   "source": [
    "#Train a Random Forest model and check its accuracy with the number of trees from 1 to 9 and the depth of the tree from 10 to 100 in est of 10\n",
    "best_est = 0\n",
    "best_result = 0\n",
    "best_score = 0\n",
    "best_depth = 0\n",
    "\n",
    "for depth in range(1,10):\n",
    "    for est in range(10,100,10):\n",
    "        #train a model with a given number of trees and a given tree depth\n",
    "        model = RandomForestClassifier(random_state=12345, n_estimators=est, max_depth = depth) \n",
    "        #train the model\n",
    "        model.fit(features_train, target_train) \n",
    "        #get the prediction of the model on the validation sample\n",
    "        predicted_valid = model.predict(features_valid)\n",
    "        #calculate the quality of the model on the validation sample\n",
    "        result = accuracy_score(target_valid,predicted_valid) \n",
    "        score = f1_score(target_valid,predicted_valid)\n",
    "        if result > best_result and score > best_score:\n",
    "            best_est = est\n",
    "            best_depth = depth\n",
    "            best_result = result\n",
    "            best_score = score   \n",
    "print('Accuracy лучшей модели:', best_result)\n",
    "print('F1 лучшей модели:', best_score)\n",
    "print('Глубина дерева:', best_depth)\n",
    "print('Количество деревьев:', est)"
   ]
  },
  {
   "cell_type": "code",
   "execution_count": 21,
   "metadata": {},
   "outputs": [
    {
     "data": {
      "text/plain": [
       "array([[1376,  206],\n",
       "       [ 134,  284]])"
      ]
     },
     "execution_count": 21,
     "metadata": {},
     "output_type": "execute_result"
    }
   ],
   "source": [
    "#Check the Confusion matrix for the Random Forest model with a tree depth of 8 and a number of trees of 90\n",
    "\n",
    "model = RandomForestClassifier(random_state=12345, n_estimators=90, max_depth = 8, class_weight='balanced')\n",
    "model.fit(features_train, target_train)\n",
    "predicted_valid = model.predict(features_valid)\n",
    "confusion_matrix(target_valid, predicted_valid)"
   ]
  },
  {
   "cell_type": "markdown",
   "metadata": {},
   "source": [
    "### Conclusion\n",
    "\n",
    "The best accuracy and F1 measurements were demonstrated by the Random Forest model with a tree depth of 8 and a number of trees of 90.\n",
    "\n",
    "Based on the Confusion matrix, we can conclude that the data set contains more negative values than positive ones, respectively, they need to be balanced to obtain a more accurate forecast.\n",
    "\n",
    "The higher the F1 value of the measure (the closer it is to 1), the better the model, in our case, the indicator of the Random Forest model is 0.57, let's try to improve it by balancing classes."
   ]
  },
  {
   "cell_type": "markdown",
   "metadata": {},
   "source": [
    "## Balancing classes."
   ]
  },
  {
   "cell_type": "markdown",
   "metadata": {},
   "source": [
    "Try to solve the problem of imbalance by weighing classes."
   ]
  },
  {
   "cell_type": "code",
   "execution_count": 22,
   "metadata": {},
   "outputs": [
    {
     "data": {
      "text/plain": [
       "0.6255506607929514"
      ]
     },
     "execution_count": 22,
     "metadata": {},
     "output_type": "execute_result"
    }
   ],
   "source": [
    "#Balance the classes by adding the class_weight='balanced' parameter to the Decision Tree model and calculate the F1 measure\n",
    "\n",
    "model = RandomForestClassifier(random_state=12345, n_estimators=90, max_depth = 8, class_weight='balanced')\n",
    "model.fit(features_train, target_train)\n",
    "predicted_valid = model.predict(features_valid)\n",
    "f1_score(target_valid, predicted_valid)\n"
   ]
  },
  {
   "cell_type": "markdown",
   "metadata": {},
   "source": [
    "The F1 measure increased after the classes were weighed. \n",
    "\n",
    "let's also test the techniques of upsampling and downsampling and check the F1 measure for these approaches."
   ]
  },
  {
   "cell_type": "code",
   "execution_count": 23,
   "metadata": {},
   "outputs": [
    {
     "name": "stdout",
     "output_type": "stream",
     "text": [
      "F1 score: 0.6360424028268551 | repeat: 3\n",
      "F1 score: 0.5832614322691976 | repeat: 6\n",
      "F1 score: 0.5353159851301116 | repeat: 9\n",
      "F1 score: 0.4966532797858099 | repeat: 12\n",
      "F1 score: 0.46642246642246643 | repeat: 15\n",
      "F1 score: 0.44845661036691903 | repeat: 18\n",
      "F1 score: 0.4396600566572238 | repeat: 21\n"
     ]
    }
   ],
   "source": [
    "#Train the model with upsampling\n",
    "\n",
    "def upsample(features, target, repeat):\n",
    "    features_zeros = features[target == 0]\n",
    "    features_ones = features[target == 1]\n",
    "    target_zeros = target[target == 0]\n",
    "    target_ones = target[target == 1]\n",
    "\n",
    "    features_upsampled = pd.concat([features_zeros] + [features_ones] * repeat)\n",
    "    target_upsampled = pd.concat([target_zeros] + [target_ones] * repeat)\n",
    "    \n",
    "    features_upsampled, target_upsampled = shuffle(\n",
    "        features_upsampled, target_upsampled, random_state=12345)\n",
    "    \n",
    "    return features_upsampled, target_upsampled\n",
    "\n",
    "for repeat in range(3,22,3):\n",
    "    features_upsampled, target_upsampled = upsample(features_train, target_train, repeat)\n",
    "\n",
    "    model = RandomForestClassifier(random_state=12345, n_estimators=90, max_depth = 8)\n",
    "    model.fit(features_upsampled, target_upsampled)\n",
    "    predicted_valid = model.predict(features_valid)\n",
    "    print('F1 score:', f1_score(target_valid, predicted_valid),'|', 'repeat:', repeat)"
   ]
  },
  {
   "cell_type": "code",
   "execution_count": 24,
   "metadata": {},
   "outputs": [
    {
     "name": "stdout",
     "output_type": "stream",
     "text": [
      "F1 score: 0.34602649006622516 | fraction: 0.01\n",
      "F1 score: 0.3685612788632327 | fraction: 0.04\n",
      "F1 score: 0.4144805876180483 | fraction: 0.06999999999999999\n",
      "F1 score: 0.45790430042398544 | fraction: 0.09999999999999999\n",
      "F1 score: 0.5086385625431928 | fraction: 0.13\n",
      "F1 score: 0.5296324081020256 | fraction: 0.16\n",
      "F1 score: 0.5635910224438903 | fraction: 0.19\n",
      "F1 score: 0.5749559082892416 | fraction: 0.22\n"
     ]
    }
   ],
   "source": [
    "#Train the model with downsampling\n",
    "\n",
    "def downsample(features, target, fraction):\n",
    "    features_zeros = features[target == 0]\n",
    "    features_ones = features[target == 1]\n",
    "    target_zeros = target[target == 0]\n",
    "    target_ones = target[target == 1]\n",
    "\n",
    "    features_downsampled = pd.concat(\n",
    "        [features_zeros.sample(frac=fraction, random_state=12345)] + [features_ones])\n",
    "    target_downsampled = pd.concat(\n",
    "        [target_zeros.sample(frac=fraction, random_state=12345)] + [target_ones])\n",
    "    \n",
    "    features_downsampled, target_downsampled = shuffle(\n",
    "        features_downsampled, target_downsampled, random_state=12345)\n",
    "    \n",
    "    return features_downsampled, target_downsampled\n",
    "\n",
    "for fraction in np.arange(0.01, 0.25, 0.03):\n",
    "    features_downsampled, target_downsampled = downsample(features_train, target_train, fraction)\n",
    "    model = RandomForestClassifier(random_state=12345, n_estimators=90, max_depth = 8)\n",
    "    model.fit(features_downsampled, target_downsampled)\n",
    "    predicted_valid = model.predict(features_valid)\n",
    "    print('F1 score:', f1_score(target_valid, predicted_valid),'|', 'fraction:', fraction)    "
   ]
  },
  {
   "cell_type": "markdown",
   "metadata": {},
   "source": [
    "### Conclusion\n",
    "\n",
    "According to the results of different approaches to data balancing, the highest value of the F1 measure was achieved by increasing the sample with a factor of 3."
   ]
  },
  {
   "cell_type": "markdown",
   "metadata": {},
   "source": [
    "## Model testing"
   ]
  },
  {
   "cell_type": "code",
   "execution_count": 25,
   "metadata": {},
   "outputs": [
    {
     "name": "stdout",
     "output_type": "stream",
     "text": [
      "Accuracy лучшей модели: 0.8305\n",
      "F1 лучшей модели: 0.6025791324736226\n"
     ]
    }
   ],
   "source": [
    "#Test the Decision Tree model on a test sample with the selected parameters\n",
    "#and taking into account the balancing of classes.\n",
    "\n",
    "def upsample(features, target, repeat):\n",
    "    features_zeros = features[target == 0]\n",
    "    features_ones = features[target == 1]\n",
    "    target_zeros = target[target == 0]\n",
    "    target_ones = target[target == 1]\n",
    "\n",
    "    features_upsampled = pd.concat([features_zeros] + [features_ones] * repeat)\n",
    "    target_upsampled = pd.concat([target_zeros] + [target_ones] * repeat)\n",
    "    \n",
    "    features_upsampled, target_upsampled = shuffle(\n",
    "        features_upsampled, target_upsampled, random_state=12345)\n",
    "    \n",
    "    return features_upsampled, target_upsampled\n",
    "\n",
    "features_upsampled, target_upsampled = upsample(features_train, target_train, 3)\n",
    "\n",
    "model = RandomForestClassifier(random_state=12345, n_estimators=90, max_depth = 8) \n",
    "model.fit(features_upsampled, target_upsampled)\n",
    "predicted_test= model.predict(features_test)\n",
    "result = accuracy_score(target_test,predicted_test) \n",
    "score = f1_score(predicted_test,target_test)\n",
    "\n",
    "print('Accuracy лучшей модели:', result)\n",
    "print('F1 лучшей модели:', score)\n"
   ]
  },
  {
   "cell_type": "markdown",
   "metadata": {},
   "source": [
    "The model showed the F1 value of 0.603 when tested on a test sample."
   ]
  },
  {
   "cell_type": "code",
   "execution_count": 26,
   "metadata": {},
   "outputs": [
    {
     "data": {
      "image/png": "[encoded data removed]",
      "text/plain": [
       "<Figure size 432x288 with 1 Axes>"
      ]
     },
     "metadata": {
      "needs_background": "light"
     },
     "output_type": "display_data"
    },
    {
     "name": "stdout",
     "output_type": "stream",
     "text": [
      "AUC_ROC: 0.8589850255819845\n"
     ]
    }
   ],
   "source": [
    "#Create a ROC curve for the Decision Tree model and find the AUC_ROC.\n",
    "\n",
    "probabilities_valid = model.predict_proba(features_test)\n",
    "probabilities_one_valid = probabilities_valid[:, 1]\n",
    "\n",
    "fpr, tpr, thresholds = roc_curve(target_test, probabilities_one_valid)\n",
    "\n",
    "plt.figure()\n",
    "plt.plot(fpr, tpr, label = 'ROC-кривая')\n",
    "plt.plot([0, 1], [0, 1], \":r\", label = 'ROC-кривая случайной модели')\n",
    "plt.xlim([0.0, 1.0])\n",
    "plt.ylim([0.0, 1.0])\n",
    "plt.xlabel('False Positive Rate')\n",
    "plt.ylabel('True Positive Rate')\n",
    "plt.title('ROC-кривая')\n",
    "plt.show();\n",
    "\n",
    "auc_roc = roc_auc_score(target_test, probabilities_one_valid)\n",
    "print('AUC_ROC:',auc_roc)"
   ]
  },
  {
   "cell_type": "markdown",
   "metadata": {},
   "source": [
    "### Conclusion\n",
    "\n",
    "Random Forest model showed an F1 measure equal to 0.603, and AUC_ROC value of 0.86 on a test sample, which is significantly higher than the 0.5 characteristic of the random model. Thus, our model predicts better than the random model."
   ]
  },
  {
   "cell_type": "markdown",
   "metadata": {},
   "source": [
    "## General conclusion"
   ]
  },
  {
   "cell_type": "markdown",
   "metadata": {},
   "source": [
    "The following steps were carried out during the project:\n",
    "\n",
    "+ data uploaded and prepared;\n",
    "\n",
    "+ three models were trained: Logistic Regression, Decision Tree Classifier, Random Forest Classifier. According to the results of the initial measurement of accuracy and F1 measurements, the RandomForestClassifier model with a tree depth of 8 and a number of trees of 90 turned out to be the most accurate;\n",
    "\n",
    "+ an imbalance of classes was revealed;\n",
    "\n",
    "+ to balance the classes, the methods of upsampling, downsampling we used, as well as the weighting method (by adding the class_weight='balanced' parameter to the model); upsampling with a coefficient 3 showed the best result.\n",
    "\n",
    "+ the model was tested on a test dataset, the indicators of F1 and AUC_ROC showed that the model predicts well with F1 measure equal to 0.603, and AUC_ROC value of 0.86;"
   ]
  }
 ],
 "metadata": {
  "ExecuteTimeLog": [
   {
    "duration": 1440,
    "start_time": "2021-07-05T18:23:14.001Z"
   },
   {
    "duration": 90,
    "start_time": "2021-07-05T18:24:54.806Z"
   },
   {
    "duration": 44,
    "start_time": "2021-07-05T18:25:03.676Z"
   },
   {
    "duration": 42,
    "start_time": "2021-07-05T18:25:12.766Z"
   },
   {
    "duration": 23,
    "start_time": "2021-07-05T18:25:25.866Z"
   },
   {
    "duration": 22,
    "start_time": "2021-07-05T18:27:12.111Z"
   },
   {
    "duration": 1453,
    "start_time": "2021-07-05T21:07:16.657Z"
   },
   {
    "duration": 35,
    "start_time": "2021-07-05T21:07:18.113Z"
   },
   {
    "duration": 25,
    "start_time": "2021-07-05T21:07:18.151Z"
   },
   {
    "duration": 32,
    "start_time": "2021-07-05T21:07:18.179Z"
   },
   {
    "duration": 566,
    "start_time": "2021-07-05T21:08:39.526Z"
   },
   {
    "duration": 8186,
    "start_time": "2021-07-05T21:08:53.378Z"
   },
   {
    "duration": 10,
    "start_time": "2021-07-05T21:09:16.998Z"
   },
   {
    "duration": 51,
    "start_time": "2021-07-05T21:09:28.416Z"
   },
   {
    "duration": 12,
    "start_time": "2021-07-05T21:10:05.540Z"
   },
   {
    "duration": 107,
    "start_time": "2021-07-05T21:19:45.703Z"
   },
   {
    "duration": 12,
    "start_time": "2021-07-05T21:19:50.453Z"
   },
   {
    "duration": 41,
    "start_time": "2021-07-05T21:20:10.439Z"
   },
   {
    "duration": 6,
    "start_time": "2021-07-05T21:20:26.613Z"
   },
   {
    "duration": 9,
    "start_time": "2021-07-05T21:20:35.424Z"
   },
   {
    "duration": 16,
    "start_time": "2021-07-05T21:20:47.372Z"
   },
   {
    "duration": 11,
    "start_time": "2021-07-05T21:21:03.401Z"
   },
   {
    "duration": 7,
    "start_time": "2021-07-05T21:21:26.023Z"
   },
   {
    "duration": 13,
    "start_time": "2021-07-05T21:21:42.658Z"
   },
   {
    "duration": 11,
    "start_time": "2021-07-05T21:21:49.932Z"
   },
   {
    "duration": 10,
    "start_time": "2021-07-05T21:21:57.390Z"
   },
   {
    "duration": 13,
    "start_time": "2021-07-05T21:22:12.095Z"
   },
   {
    "duration": 8,
    "start_time": "2021-07-05T21:22:19.728Z"
   },
   {
    "duration": 6,
    "start_time": "2021-07-05T21:22:28.921Z"
   },
   {
    "duration": 13,
    "start_time": "2021-07-05T21:22:41.073Z"
   },
   {
    "duration": 10,
    "start_time": "2021-07-05T21:25:33.462Z"
   },
   {
    "duration": 9,
    "start_time": "2021-07-05T21:25:38.949Z"
   },
   {
    "duration": 12,
    "start_time": "2021-07-05T21:25:39.328Z"
   },
   {
    "duration": 5,
    "start_time": "2021-07-05T21:25:50.737Z"
   },
   {
    "duration": 15,
    "start_time": "2021-07-05T21:25:52.255Z"
   },
   {
    "duration": 18,
    "start_time": "2021-07-05T21:26:30.298Z"
   },
   {
    "duration": 21,
    "start_time": "2021-07-05T21:26:36.258Z"
   },
   {
    "duration": 16,
    "start_time": "2021-07-05T21:26:40.975Z"
   },
   {
    "duration": 309,
    "start_time": "2021-07-06T03:08:48.670Z"
   },
   {
    "duration": 1427,
    "start_time": "2021-07-06T03:08:54.370Z"
   },
   {
    "duration": 37,
    "start_time": "2021-07-06T03:08:55.799Z"
   },
   {
    "duration": 13,
    "start_time": "2021-07-06T03:08:55.839Z"
   },
   {
    "duration": 28,
    "start_time": "2021-07-06T03:08:55.855Z"
   },
   {
    "duration": 35,
    "start_time": "2021-07-06T03:08:55.885Z"
   },
   {
    "duration": 39,
    "start_time": "2021-07-06T03:08:55.922Z"
   },
   {
    "duration": 8,
    "start_time": "2021-07-06T03:08:55.963Z"
   },
   {
    "duration": 5,
    "start_time": "2021-07-06T03:08:55.974Z"
   },
   {
    "duration": 20,
    "start_time": "2021-07-06T03:08:55.981Z"
   },
   {
    "duration": 17,
    "start_time": "2021-07-06T03:08:56.004Z"
   },
   {
    "duration": 362,
    "start_time": "2021-07-06T03:08:56.023Z"
   },
   {
    "duration": 994,
    "start_time": "2021-07-06T12:32:47.008Z"
   },
   {
    "duration": 1065,
    "start_time": "2021-07-06T12:38:52.368Z"
   },
   {
    "duration": 28,
    "start_time": "2021-07-06T12:38:53.435Z"
   },
   {
    "duration": 8,
    "start_time": "2021-07-06T12:38:53.465Z"
   },
   {
    "duration": 21,
    "start_time": "2021-07-06T12:38:53.475Z"
   },
   {
    "duration": 21,
    "start_time": "2021-07-06T12:38:53.498Z"
   },
   {
    "duration": 5,
    "start_time": "2021-07-06T12:38:53.521Z"
   },
   {
    "duration": 5,
    "start_time": "2021-07-06T12:38:53.527Z"
   },
   {
    "duration": 6,
    "start_time": "2021-07-06T12:38:53.535Z"
   },
   {
    "duration": 10,
    "start_time": "2021-07-06T12:38:53.543Z"
   },
   {
    "duration": 40,
    "start_time": "2021-07-06T12:38:53.555Z"
   },
   {
    "duration": 4,
    "start_time": "2021-07-06T12:38:53.596Z"
   },
   {
    "duration": 31,
    "start_time": "2021-07-06T12:38:53.602Z"
   },
   {
    "duration": 6,
    "start_time": "2021-07-06T12:38:53.635Z"
   },
   {
    "duration": 19,
    "start_time": "2021-07-06T12:39:13.813Z"
   },
   {
    "duration": 949,
    "start_time": "2021-07-06T12:39:39.448Z"
   },
   {
    "duration": 25,
    "start_time": "2021-07-06T12:39:40.399Z"
   },
   {
    "duration": 7,
    "start_time": "2021-07-06T12:39:40.426Z"
   },
   {
    "duration": 15,
    "start_time": "2021-07-06T12:39:40.435Z"
   },
   {
    "duration": 16,
    "start_time": "2021-07-06T12:39:40.452Z"
   },
   {
    "duration": 4,
    "start_time": "2021-07-06T12:39:40.470Z"
   },
   {
    "duration": 20,
    "start_time": "2021-07-06T12:39:40.476Z"
   },
   {
    "duration": 5,
    "start_time": "2021-07-06T12:39:40.498Z"
   },
   {
    "duration": 9,
    "start_time": "2021-07-06T12:39:40.505Z"
   },
   {
    "duration": 9,
    "start_time": "2021-07-06T12:39:40.516Z"
   },
   {
    "duration": 3,
    "start_time": "2021-07-06T12:39:40.526Z"
   },
   {
    "duration": 22,
    "start_time": "2021-07-06T12:39:40.531Z"
   },
   {
    "duration": 7,
    "start_time": "2021-07-06T12:39:40.555Z"
   },
   {
    "duration": 19,
    "start_time": "2021-07-06T12:40:06.921Z"
   },
   {
    "duration": 19,
    "start_time": "2021-07-06T12:41:00.282Z"
   },
   {
    "duration": 1002,
    "start_time": "2021-07-06T12:43:57.503Z"
   },
   {
    "duration": 27,
    "start_time": "2021-07-06T12:43:58.506Z"
   },
   {
    "duration": 8,
    "start_time": "2021-07-06T12:43:58.535Z"
   },
   {
    "duration": 16,
    "start_time": "2021-07-06T12:43:58.545Z"
   },
   {
    "duration": 27,
    "start_time": "2021-07-06T12:43:58.563Z"
   },
   {
    "duration": 6,
    "start_time": "2021-07-06T12:43:58.592Z"
   },
   {
    "duration": 4,
    "start_time": "2021-07-06T12:43:58.600Z"
   },
   {
    "duration": 5,
    "start_time": "2021-07-06T12:43:58.606Z"
   },
   {
    "duration": 11,
    "start_time": "2021-07-06T12:43:58.613Z"
   },
   {
    "duration": 11,
    "start_time": "2021-07-06T12:43:58.626Z"
   },
   {
    "duration": 3,
    "start_time": "2021-07-06T12:43:58.638Z"
   },
   {
    "duration": 28,
    "start_time": "2021-07-06T12:43:58.643Z"
   },
   {
    "duration": 19,
    "start_time": "2021-07-06T12:43:58.672Z"
   },
   {
    "duration": 9,
    "start_time": "2021-07-06T12:47:15.419Z"
   },
   {
    "duration": 5,
    "start_time": "2021-07-06T21:08:50.041Z"
   },
   {
    "duration": 1069,
    "start_time": "2021-07-06T21:09:47.033Z"
   },
   {
    "duration": 29,
    "start_time": "2021-07-06T21:09:48.104Z"
   },
   {
    "duration": 8,
    "start_time": "2021-07-06T21:09:48.135Z"
   },
   {
    "duration": 17,
    "start_time": "2021-07-06T21:09:48.145Z"
   },
   {
    "duration": 20,
    "start_time": "2021-07-06T21:09:48.163Z"
   },
   {
    "duration": 9,
    "start_time": "2021-07-06T21:09:48.185Z"
   },
   {
    "duration": 17,
    "start_time": "2021-07-06T21:09:48.195Z"
   },
   {
    "duration": 12,
    "start_time": "2021-07-06T21:09:48.214Z"
   },
   {
    "duration": 17,
    "start_time": "2021-07-06T21:09:48.228Z"
   },
   {
    "duration": 11,
    "start_time": "2021-07-06T21:09:48.246Z"
   },
   {
    "duration": 5,
    "start_time": "2021-07-06T21:09:48.258Z"
   },
   {
    "duration": 23,
    "start_time": "2021-07-06T21:09:48.264Z"
   },
   {
    "duration": 7,
    "start_time": "2021-07-06T21:09:48.288Z"
   },
   {
    "duration": 9,
    "start_time": "2021-07-06T21:09:48.297Z"
   },
   {
    "duration": 10,
    "start_time": "2021-07-06T21:09:48.307Z"
   },
   {
    "duration": 1045,
    "start_time": "2021-07-06T21:11:20.959Z"
   },
   {
    "duration": 28,
    "start_time": "2021-07-06T21:11:22.006Z"
   },
   {
    "duration": 8,
    "start_time": "2021-07-06T21:11:22.036Z"
   },
   {
    "duration": 16,
    "start_time": "2021-07-06T21:11:22.045Z"
   },
   {
    "duration": 20,
    "start_time": "2021-07-06T21:11:22.063Z"
   },
   {
    "duration": 10,
    "start_time": "2021-07-06T21:11:22.084Z"
   },
   {
    "duration": 8,
    "start_time": "2021-07-06T21:11:22.095Z"
   },
   {
    "duration": 5,
    "start_time": "2021-07-06T21:11:22.105Z"
   },
   {
    "duration": 10,
    "start_time": "2021-07-06T21:11:22.112Z"
   },
   {
    "duration": 10,
    "start_time": "2021-07-06T21:11:22.123Z"
   },
   {
    "duration": 3,
    "start_time": "2021-07-06T21:11:22.135Z"
   },
   {
    "duration": 24,
    "start_time": "2021-07-06T21:11:22.139Z"
   },
   {
    "duration": 51,
    "start_time": "2021-07-06T21:11:22.164Z"
   },
   {
    "duration": 4,
    "start_time": "2021-07-06T21:11:22.217Z"
   },
   {
    "duration": 7,
    "start_time": "2021-07-06T21:11:22.222Z"
   },
   {
    "duration": 313,
    "start_time": "2021-07-06T21:11:22.230Z"
   },
   {
    "duration": -141,
    "start_time": "2021-07-06T21:11:22.686Z"
   },
   {
    "duration": 978,
    "start_time": "2021-07-06T21:12:11.436Z"
   },
   {
    "duration": 27,
    "start_time": "2021-07-06T21:12:12.416Z"
   },
   {
    "duration": 8,
    "start_time": "2021-07-06T21:12:12.444Z"
   },
   {
    "duration": 19,
    "start_time": "2021-07-06T21:12:12.453Z"
   },
   {
    "duration": 22,
    "start_time": "2021-07-06T21:12:12.474Z"
   },
   {
    "duration": 6,
    "start_time": "2021-07-06T21:12:12.498Z"
   },
   {
    "duration": 5,
    "start_time": "2021-07-06T21:12:12.505Z"
   },
   {
    "duration": 4,
    "start_time": "2021-07-06T21:12:12.513Z"
   },
   {
    "duration": 10,
    "start_time": "2021-07-06T21:12:12.519Z"
   },
   {
    "duration": 10,
    "start_time": "2021-07-06T21:12:12.531Z"
   },
   {
    "duration": 5,
    "start_time": "2021-07-06T21:12:12.543Z"
   },
   {
    "duration": 51,
    "start_time": "2021-07-06T21:12:12.549Z"
   },
   {
    "duration": 19,
    "start_time": "2021-07-06T21:12:12.601Z"
   },
   {
    "duration": 13,
    "start_time": "2021-07-06T21:12:12.621Z"
   },
   {
    "duration": 24,
    "start_time": "2021-07-06T21:12:12.636Z"
   },
   {
    "duration": 19,
    "start_time": "2021-07-06T21:12:12.661Z"
   },
   {
    "duration": 9,
    "start_time": "2021-07-06T21:12:12.682Z"
   },
   {
    "duration": 1121,
    "start_time": "2021-07-06T21:12:49.905Z"
   },
   {
    "duration": 28,
    "start_time": "2021-07-06T21:12:51.028Z"
   },
   {
    "duration": 8,
    "start_time": "2021-07-06T21:12:51.057Z"
   },
   {
    "duration": 20,
    "start_time": "2021-07-06T21:12:51.066Z"
   },
   {
    "duration": 21,
    "start_time": "2021-07-06T21:12:51.088Z"
   },
   {
    "duration": 4,
    "start_time": "2021-07-06T21:12:51.111Z"
   },
   {
    "duration": 6,
    "start_time": "2021-07-06T21:12:51.116Z"
   },
   {
    "duration": 4,
    "start_time": "2021-07-06T21:12:51.124Z"
   },
   {
    "duration": 11,
    "start_time": "2021-07-06T21:12:51.130Z"
   },
   {
    "duration": 11,
    "start_time": "2021-07-06T21:12:51.142Z"
   },
   {
    "duration": 4,
    "start_time": "2021-07-06T21:12:51.154Z"
   },
   {
    "duration": 39,
    "start_time": "2021-07-06T21:12:51.159Z"
   },
   {
    "duration": 2,
    "start_time": "2021-07-06T21:12:51.200Z"
   },
   {
    "duration": 10,
    "start_time": "2021-07-06T21:12:51.203Z"
   },
   {
    "duration": 6,
    "start_time": "2021-07-06T21:12:51.215Z"
   },
   {
    "duration": 9,
    "start_time": "2021-07-06T21:12:51.223Z"
   },
   {
    "duration": 11,
    "start_time": "2021-07-06T21:12:51.233Z"
   },
   {
    "duration": 439,
    "start_time": "2021-07-06T21:19:02.981Z"
   },
   {
    "duration": 1044,
    "start_time": "2021-07-06T21:19:35.706Z"
   },
   {
    "duration": 29,
    "start_time": "2021-07-06T21:19:36.752Z"
   },
   {
    "duration": 9,
    "start_time": "2021-07-06T21:19:36.783Z"
   },
   {
    "duration": 16,
    "start_time": "2021-07-06T21:19:36.794Z"
   },
   {
    "duration": 21,
    "start_time": "2021-07-06T21:19:36.812Z"
   },
   {
    "duration": 8,
    "start_time": "2021-07-06T21:19:36.834Z"
   },
   {
    "duration": 7,
    "start_time": "2021-07-06T21:19:36.844Z"
   },
   {
    "duration": 4,
    "start_time": "2021-07-06T21:19:36.854Z"
   },
   {
    "duration": 10,
    "start_time": "2021-07-06T21:19:36.892Z"
   },
   {
    "duration": 13,
    "start_time": "2021-07-06T21:19:36.904Z"
   },
   {
    "duration": 3,
    "start_time": "2021-07-06T21:19:36.918Z"
   },
   {
    "duration": 23,
    "start_time": "2021-07-06T21:19:36.923Z"
   },
   {
    "duration": 5,
    "start_time": "2021-07-06T21:19:36.948Z"
   },
   {
    "duration": 8,
    "start_time": "2021-07-06T21:19:36.955Z"
   },
   {
    "duration": 29,
    "start_time": "2021-07-06T21:19:36.965Z"
   },
   {
    "duration": 3,
    "start_time": "2021-07-06T21:19:36.995Z"
   },
   {
    "duration": 44,
    "start_time": "2021-07-06T21:19:36.999Z"
   },
   {
    "duration": 2,
    "start_time": "2021-07-06T21:19:37.044Z"
   },
   {
    "duration": 1046,
    "start_time": "2021-07-06T21:21:22.362Z"
   },
   {
    "duration": 27,
    "start_time": "2021-07-06T21:21:23.409Z"
   },
   {
    "duration": 7,
    "start_time": "2021-07-06T21:21:23.438Z"
   },
   {
    "duration": 19,
    "start_time": "2021-07-06T21:21:23.447Z"
   },
   {
    "duration": 30,
    "start_time": "2021-07-06T21:21:23.467Z"
   },
   {
    "duration": 5,
    "start_time": "2021-07-06T21:21:23.498Z"
   },
   {
    "duration": 5,
    "start_time": "2021-07-06T21:21:23.505Z"
   },
   {
    "duration": 5,
    "start_time": "2021-07-06T21:21:23.512Z"
   },
   {
    "duration": 14,
    "start_time": "2021-07-06T21:21:23.519Z"
   },
   {
    "duration": 10,
    "start_time": "2021-07-06T21:21:23.534Z"
   },
   {
    "duration": 3,
    "start_time": "2021-07-06T21:21:23.546Z"
   },
   {
    "duration": 42,
    "start_time": "2021-07-06T21:21:23.550Z"
   },
   {
    "duration": 6,
    "start_time": "2021-07-06T21:21:23.594Z"
   },
   {
    "duration": 5,
    "start_time": "2021-07-06T21:21:23.602Z"
   },
   {
    "duration": 10,
    "start_time": "2021-07-06T21:21:23.608Z"
   },
   {
    "duration": 9,
    "start_time": "2021-07-06T21:21:23.619Z"
   },
   {
    "duration": 38,
    "start_time": "2021-07-06T21:21:23.630Z"
   },
   {
    "duration": 2,
    "start_time": "2021-07-06T21:21:23.670Z"
   },
   {
    "duration": 3,
    "start_time": "2021-07-06T21:23:26.205Z"
   },
   {
    "duration": 5,
    "start_time": "2021-07-06T21:24:07.654Z"
   },
   {
    "duration": 3,
    "start_time": "2021-07-06T21:24:43.278Z"
   },
   {
    "duration": 6,
    "start_time": "2021-07-06T21:25:00.574Z"
   },
   {
    "duration": 6,
    "start_time": "2021-07-06T21:27:21.658Z"
   },
   {
    "duration": 313,
    "start_time": "2021-07-06T21:32:48.336Z"
   },
   {
    "duration": 8,
    "start_time": "2021-07-06T21:33:32.086Z"
   },
   {
    "duration": 995,
    "start_time": "2021-07-06T21:33:42.014Z"
   },
   {
    "duration": 35,
    "start_time": "2021-07-06T21:33:43.011Z"
   },
   {
    "duration": 8,
    "start_time": "2021-07-06T21:33:43.048Z"
   },
   {
    "duration": 17,
    "start_time": "2021-07-06T21:33:43.057Z"
   },
   {
    "duration": 16,
    "start_time": "2021-07-06T21:33:43.076Z"
   },
   {
    "duration": 4,
    "start_time": "2021-07-06T21:33:43.094Z"
   },
   {
    "duration": 7,
    "start_time": "2021-07-06T21:33:43.099Z"
   },
   {
    "duration": 6,
    "start_time": "2021-07-06T21:33:43.108Z"
   },
   {
    "duration": 13,
    "start_time": "2021-07-06T21:33:43.115Z"
   },
   {
    "duration": 11,
    "start_time": "2021-07-06T21:33:43.129Z"
   },
   {
    "duration": 4,
    "start_time": "2021-07-06T21:33:43.141Z"
   },
   {
    "duration": 26,
    "start_time": "2021-07-06T21:33:43.146Z"
   },
   {
    "duration": 22,
    "start_time": "2021-07-06T21:33:43.173Z"
   },
   {
    "duration": 5,
    "start_time": "2021-07-06T21:33:43.197Z"
   },
   {
    "duration": 12,
    "start_time": "2021-07-06T21:33:43.204Z"
   },
   {
    "duration": 9,
    "start_time": "2021-07-06T21:33:43.217Z"
   },
   {
    "duration": 13,
    "start_time": "2021-07-06T21:33:43.228Z"
   },
   {
    "duration": 34,
    "start_time": "2021-07-06T21:33:43.242Z"
   },
   {
    "duration": 5,
    "start_time": "2021-07-06T21:33:43.277Z"
   },
   {
    "duration": 5,
    "start_time": "2021-07-06T21:33:43.291Z"
   },
   {
    "duration": 9,
    "start_time": "2021-07-06T21:33:43.297Z"
   },
   {
    "duration": 3,
    "start_time": "2021-07-06T21:46:11.207Z"
   },
   {
    "duration": 3,
    "start_time": "2021-07-06T21:46:32.270Z"
   },
   {
    "duration": 14,
    "start_time": "2021-07-06T21:47:35.169Z"
   },
   {
    "duration": 5,
    "start_time": "2021-07-06T21:47:36.845Z"
   },
   {
    "duration": 5,
    "start_time": "2021-07-06T21:47:37.882Z"
   },
   {
    "duration": 5,
    "start_time": "2021-07-06T21:47:39.205Z"
   },
   {
    "duration": 17,
    "start_time": "2021-07-06T21:48:05.189Z"
   },
   {
    "duration": 17,
    "start_time": "2021-07-06T21:48:47.948Z"
   },
   {
    "duration": 17,
    "start_time": "2021-07-06T21:49:19.576Z"
   },
   {
    "duration": 16,
    "start_time": "2021-07-06T21:49:33.941Z"
   },
   {
    "duration": 433,
    "start_time": "2021-07-06T21:53:38.876Z"
   },
   {
    "duration": 373,
    "start_time": "2021-07-06T21:56:49.348Z"
   },
   {
    "duration": 335,
    "start_time": "2021-07-07T01:28:32.287Z"
   },
   {
    "duration": 1334,
    "start_time": "2021-07-07T01:28:45.055Z"
   },
   {
    "duration": 36,
    "start_time": "2021-07-07T01:28:46.392Z"
   },
   {
    "duration": 12,
    "start_time": "2021-07-07T01:28:46.431Z"
   },
   {
    "duration": 34,
    "start_time": "2021-07-07T01:28:46.446Z"
   },
   {
    "duration": 36,
    "start_time": "2021-07-07T01:28:46.483Z"
   },
   {
    "duration": 39,
    "start_time": "2021-07-07T01:28:46.521Z"
   },
   {
    "duration": 6,
    "start_time": "2021-07-07T01:28:46.563Z"
   },
   {
    "duration": 5,
    "start_time": "2021-07-07T01:28:46.573Z"
   },
   {
    "duration": 16,
    "start_time": "2021-07-07T01:28:46.581Z"
   },
   {
    "duration": 56,
    "start_time": "2021-07-07T01:28:46.600Z"
   },
   {
    "duration": 6,
    "start_time": "2021-07-07T01:28:46.659Z"
   },
   {
    "duration": 34,
    "start_time": "2021-07-07T01:28:46.668Z"
   },
   {
    "duration": 9,
    "start_time": "2021-07-07T01:28:46.704Z"
   },
   {
    "duration": 38,
    "start_time": "2021-07-07T01:28:46.716Z"
   },
   {
    "duration": 10,
    "start_time": "2021-07-07T01:28:46.757Z"
   },
   {
    "duration": 6,
    "start_time": "2021-07-07T01:28:46.770Z"
   },
   {
    "duration": 26,
    "start_time": "2021-07-07T01:28:46.779Z"
   },
   {
    "duration": 82,
    "start_time": "2021-07-07T01:28:46.807Z"
   },
   {
    "duration": 100,
    "start_time": "2021-07-07T01:28:46.956Z"
   },
   {
    "duration": 8,
    "start_time": "2021-07-07T01:28:47.060Z"
   },
   {
    "duration": 7,
    "start_time": "2021-07-07T01:28:47.071Z"
   },
   {
    "duration": 89,
    "start_time": "2021-07-07T01:28:47.081Z"
   },
   {
    "duration": 670,
    "start_time": "2021-07-07T01:28:47.259Z"
   },
   {
    "duration": 44,
    "start_time": "2021-07-07T01:29:14.623Z"
   },
   {
    "duration": 8,
    "start_time": "2021-07-07T01:33:34.872Z"
   },
   {
    "duration": 9,
    "start_time": "2021-07-07T01:33:35.471Z"
   },
   {
    "duration": 9,
    "start_time": "2021-07-07T01:33:36.320Z"
   },
   {
    "duration": 4,
    "start_time": "2021-07-07T01:33:36.801Z"
   },
   {
    "duration": 24,
    "start_time": "2021-07-07T01:33:37.263Z"
   },
   {
    "duration": 32,
    "start_time": "2021-07-07T01:33:38.171Z"
   },
   {
    "duration": 9,
    "start_time": "2021-07-07T01:33:39.038Z"
   },
   {
    "duration": 8,
    "start_time": "2021-07-07T01:33:39.995Z"
   },
   {
    "duration": 8,
    "start_time": "2021-07-07T01:33:43.702Z"
   },
   {
    "duration": 6,
    "start_time": "2021-07-07T01:36:03.464Z"
   },
   {
    "duration": 9,
    "start_time": "2021-07-07T01:36:08.985Z"
   },
   {
    "duration": 4,
    "start_time": "2021-07-07T01:36:09.999Z"
   },
   {
    "duration": 23,
    "start_time": "2021-07-07T01:36:18.304Z"
   },
   {
    "duration": 20,
    "start_time": "2021-07-07T01:37:00.543Z"
   },
   {
    "duration": 1304,
    "start_time": "2021-07-07T01:37:05.175Z"
   },
   {
    "duration": 37,
    "start_time": "2021-07-07T01:37:06.481Z"
   },
   {
    "duration": 11,
    "start_time": "2021-07-07T01:37:06.521Z"
   },
   {
    "duration": 41,
    "start_time": "2021-07-07T01:37:06.535Z"
   },
   {
    "duration": 38,
    "start_time": "2021-07-07T01:37:06.578Z"
   },
   {
    "duration": 8,
    "start_time": "2021-07-07T01:37:06.619Z"
   },
   {
    "duration": 6,
    "start_time": "2021-07-07T01:37:06.655Z"
   },
   {
    "duration": 10,
    "start_time": "2021-07-07T01:37:06.663Z"
   },
   {
    "duration": 12,
    "start_time": "2021-07-07T01:37:06.678Z"
   },
   {
    "duration": 16,
    "start_time": "2021-07-07T01:37:06.693Z"
   },
   {
    "duration": 44,
    "start_time": "2021-07-07T01:37:06.711Z"
   },
   {
    "duration": 32,
    "start_time": "2021-07-07T01:37:06.757Z"
   },
   {
    "duration": 20,
    "start_time": "2021-07-07T01:37:06.791Z"
   },
   {
    "duration": 44,
    "start_time": "2021-07-07T01:37:06.813Z"
   },
   {
    "duration": 6,
    "start_time": "2021-07-07T01:37:06.860Z"
   },
   {
    "duration": 13,
    "start_time": "2021-07-07T01:37:06.868Z"
   },
   {
    "duration": 12,
    "start_time": "2021-07-07T01:37:06.884Z"
   },
   {
    "duration": 8,
    "start_time": "2021-07-07T01:37:06.899Z"
   },
   {
    "duration": 72,
    "start_time": "2021-07-07T01:37:06.910Z"
   },
   {
    "duration": 99,
    "start_time": "2021-07-07T01:37:07.057Z"
   },
   {
    "duration": 11,
    "start_time": "2021-07-07T01:37:07.159Z"
   },
   {
    "duration": 10,
    "start_time": "2021-07-07T01:37:07.173Z"
   },
   {
    "duration": 168,
    "start_time": "2021-07-07T01:37:07.186Z"
   },
   {
    "duration": 666,
    "start_time": "2021-07-07T01:37:07.358Z"
   },
   {
    "duration": 1300,
    "start_time": "2021-07-07T01:39:58.407Z"
   },
   {
    "duration": 37,
    "start_time": "2021-07-07T01:39:59.710Z"
   },
   {
    "duration": 13,
    "start_time": "2021-07-07T01:39:59.750Z"
   },
   {
    "duration": 28,
    "start_time": "2021-07-07T01:39:59.766Z"
   },
   {
    "duration": 66,
    "start_time": "2021-07-07T01:39:59.797Z"
   },
   {
    "duration": 16,
    "start_time": "2021-07-07T01:39:59.865Z"
   },
   {
    "duration": 14,
    "start_time": "2021-07-07T01:39:59.884Z"
   },
   {
    "duration": 18,
    "start_time": "2021-07-07T01:39:59.902Z"
   },
   {
    "duration": 26,
    "start_time": "2021-07-07T01:39:59.923Z"
   },
   {
    "duration": 21,
    "start_time": "2021-07-07T01:39:59.951Z"
   },
   {
    "duration": 8,
    "start_time": "2021-07-07T01:39:59.975Z"
   },
   {
    "duration": 47,
    "start_time": "2021-07-07T01:39:59.986Z"
   },
   {
    "duration": 35,
    "start_time": "2021-07-07T01:40:00.035Z"
   },
   {
    "duration": 8,
    "start_time": "2021-07-07T01:40:00.072Z"
   },
   {
    "duration": 21,
    "start_time": "2021-07-07T01:40:00.082Z"
   },
   {
    "duration": 14,
    "start_time": "2021-07-07T01:40:00.105Z"
   },
   {
    "duration": 21,
    "start_time": "2021-07-07T01:40:00.121Z"
   },
   {
    "duration": 17,
    "start_time": "2021-07-07T01:40:00.145Z"
   },
   {
    "duration": 92,
    "start_time": "2021-07-07T01:40:00.165Z"
   },
   {
    "duration": 98,
    "start_time": "2021-07-07T01:40:00.260Z"
   },
   {
    "duration": 18,
    "start_time": "2021-07-07T01:40:00.361Z"
   },
   {
    "duration": 19,
    "start_time": "2021-07-07T01:40:00.382Z"
   },
   {
    "duration": 61,
    "start_time": "2021-07-07T01:40:00.405Z"
   },
   {
    "duration": 289,
    "start_time": "2021-07-07T01:40:00.468Z"
   },
   {
    "duration": 71,
    "start_time": "2021-07-07T01:40:32.515Z"
   },
   {
    "duration": 218,
    "start_time": "2021-07-07T01:40:44.839Z"
   },
   {
    "duration": 1594,
    "start_time": "2021-07-07T01:41:30.210Z"
   },
   {
    "duration": 1624,
    "start_time": "2021-07-07T01:41:37.972Z"
   },
   {
    "duration": 91,
    "start_time": "2021-07-07T01:43:00.890Z"
   },
   {
    "duration": 1735,
    "start_time": "2021-07-07T01:43:09.220Z"
   },
   {
    "duration": 1635,
    "start_time": "2021-07-07T01:44:29.619Z"
   },
   {
    "duration": 1682,
    "start_time": "2021-07-07T01:45:00.872Z"
   },
   {
    "duration": 1669,
    "start_time": "2021-07-07T01:45:16.186Z"
   },
   {
    "duration": 1688,
    "start_time": "2021-07-07T01:45:23.868Z"
   },
   {
    "duration": 1401,
    "start_time": "2021-07-07T01:51:50.376Z"
   },
   {
    "duration": 1471,
    "start_time": "2021-07-07T01:52:17.786Z"
   },
   {
    "duration": 1751,
    "start_time": "2021-07-07T01:52:33.503Z"
   },
   {
    "duration": 2312,
    "start_time": "2021-07-07T02:02:05.642Z"
   },
   {
    "duration": 1542,
    "start_time": "2021-07-07T02:06:45.112Z"
   },
   {
    "duration": 494,
    "start_time": "2021-07-07T02:11:23.664Z"
   },
   {
    "duration": 1323,
    "start_time": "2021-07-07T02:12:10.794Z"
   },
   {
    "duration": 38,
    "start_time": "2021-07-07T02:12:12.119Z"
   },
   {
    "duration": 11,
    "start_time": "2021-07-07T02:12:12.160Z"
   },
   {
    "duration": 38,
    "start_time": "2021-07-07T02:12:12.174Z"
   },
   {
    "duration": 50,
    "start_time": "2021-07-07T02:12:12.214Z"
   },
   {
    "duration": 7,
    "start_time": "2021-07-07T02:12:12.267Z"
   },
   {
    "duration": 9,
    "start_time": "2021-07-07T02:12:12.277Z"
   },
   {
    "duration": 4,
    "start_time": "2021-07-07T02:12:12.290Z"
   },
   {
    "duration": 15,
    "start_time": "2021-07-07T02:12:12.297Z"
   },
   {
    "duration": 17,
    "start_time": "2021-07-07T02:12:12.354Z"
   },
   {
    "duration": 5,
    "start_time": "2021-07-07T02:12:12.373Z"
   },
   {
    "duration": 34,
    "start_time": "2021-07-07T02:12:12.381Z"
   },
   {
    "duration": 49,
    "start_time": "2021-07-07T02:12:12.417Z"
   },
   {
    "duration": 7,
    "start_time": "2021-07-07T02:12:12.468Z"
   },
   {
    "duration": 13,
    "start_time": "2021-07-07T02:12:12.477Z"
   },
   {
    "duration": 6,
    "start_time": "2021-07-07T02:12:12.492Z"
   },
   {
    "duration": 14,
    "start_time": "2021-07-07T02:12:12.501Z"
   },
   {
    "duration": 41,
    "start_time": "2021-07-07T02:12:12.518Z"
   },
   {
    "duration": 38,
    "start_time": "2021-07-07T02:12:12.561Z"
   },
   {
    "duration": 60,
    "start_time": "2021-07-07T02:12:12.601Z"
   },
   {
    "duration": 105,
    "start_time": "2021-07-07T02:12:12.664Z"
   },
   {
    "duration": 13,
    "start_time": "2021-07-07T02:12:12.771Z"
   },
   {
    "duration": 68,
    "start_time": "2021-07-07T02:12:12.788Z"
   },
   {
    "duration": 1794,
    "start_time": "2021-07-07T02:12:12.860Z"
   },
   {
    "duration": 1513,
    "start_time": "2021-07-07T02:12:14.660Z"
   },
   {
    "duration": 668,
    "start_time": "2021-07-07T02:12:16.175Z"
   },
   {
    "duration": 34,
    "start_time": "2021-07-07T02:12:27.417Z"
   },
   {
    "duration": 92,
    "start_time": "2021-07-07T02:12:49.367Z"
   },
   {
    "duration": 61,
    "start_time": "2021-07-07T02:13:51.497Z"
   },
   {
    "duration": 88,
    "start_time": "2021-07-07T02:16:25.020Z"
   },
   {
    "duration": 276,
    "start_time": "2021-07-07T02:16:37.439Z"
   },
   {
    "duration": 278,
    "start_time": "2021-07-07T02:16:51.018Z"
   },
   {
    "duration": 275,
    "start_time": "2021-07-07T02:17:06.134Z"
   },
   {
    "duration": 1331,
    "start_time": "2021-07-07T02:17:50.447Z"
   },
   {
    "duration": 36,
    "start_time": "2021-07-07T02:17:51.781Z"
   },
   {
    "duration": 11,
    "start_time": "2021-07-07T02:17:51.820Z"
   },
   {
    "duration": 39,
    "start_time": "2021-07-07T02:17:51.834Z"
   },
   {
    "duration": 34,
    "start_time": "2021-07-07T02:17:51.875Z"
   },
   {
    "duration": 10,
    "start_time": "2021-07-07T02:17:51.911Z"
   },
   {
    "duration": 31,
    "start_time": "2021-07-07T02:17:51.923Z"
   },
   {
    "duration": 6,
    "start_time": "2021-07-07T02:17:51.958Z"
   },
   {
    "duration": 20,
    "start_time": "2021-07-07T02:17:51.967Z"
   },
   {
    "duration": 15,
    "start_time": "2021-07-07T02:17:51.990Z"
   },
   {
    "duration": 5,
    "start_time": "2021-07-07T02:17:52.007Z"
   },
   {
    "duration": 69,
    "start_time": "2021-07-07T02:17:52.015Z"
   },
   {
    "duration": 21,
    "start_time": "2021-07-07T02:17:52.087Z"
   },
   {
    "duration": 8,
    "start_time": "2021-07-07T02:17:52.110Z"
   },
   {
    "duration": 34,
    "start_time": "2021-07-07T02:17:52.120Z"
   },
   {
    "duration": 10,
    "start_time": "2021-07-07T02:17:52.157Z"
   },
   {
    "duration": 16,
    "start_time": "2021-07-07T02:17:52.169Z"
   },
   {
    "duration": 16,
    "start_time": "2021-07-07T02:17:52.187Z"
   },
   {
    "duration": 58,
    "start_time": "2021-07-07T02:17:52.205Z"
   },
   {
    "duration": 100,
    "start_time": "2021-07-07T02:17:52.356Z"
   },
   {
    "duration": 8,
    "start_time": "2021-07-07T02:17:52.459Z"
   },
   {
    "duration": 7,
    "start_time": "2021-07-07T02:17:52.469Z"
   },
   {
    "duration": 175,
    "start_time": "2021-07-07T02:17:52.480Z"
   },
   {
    "duration": 1700,
    "start_time": "2021-07-07T02:17:52.658Z"
   },
   {
    "duration": 1591,
    "start_time": "2021-07-07T02:17:54.362Z"
   },
   {
    "duration": 198,
    "start_time": "2021-07-07T02:17:55.957Z"
   },
   {
    "duration": 495,
    "start_time": "2021-07-07T02:17:56.159Z"
   },
   {
    "duration": 297,
    "start_time": "2021-07-07T02:18:26.006Z"
   },
   {
    "duration": 271,
    "start_time": "2021-07-07T02:18:45.496Z"
   },
   {
    "duration": 295,
    "start_time": "2021-07-07T02:19:38.494Z"
   },
   {
    "duration": 88,
    "start_time": "2021-07-07T02:20:39.677Z"
   },
   {
    "duration": 96,
    "start_time": "2021-07-07T02:21:59.994Z"
   },
   {
    "duration": 307,
    "start_time": "2021-07-07T02:22:00.668Z"
   },
   {
    "duration": 284,
    "start_time": "2021-07-07T02:24:06.156Z"
   },
   {
    "duration": 356,
    "start_time": "2021-07-07T02:24:29.001Z"
   },
   {
    "duration": 89,
    "start_time": "2021-07-07T02:24:45.121Z"
   },
   {
    "duration": 89,
    "start_time": "2021-07-07T02:24:51.880Z"
   },
   {
    "duration": 318,
    "start_time": "2021-07-07T02:25:10.667Z"
   },
   {
    "duration": 1603,
    "start_time": "2021-07-07T02:25:23.579Z"
   },
   {
    "duration": 37,
    "start_time": "2021-07-07T02:25:25.185Z"
   },
   {
    "duration": 11,
    "start_time": "2021-07-07T02:25:25.225Z"
   },
   {
    "duration": 39,
    "start_time": "2021-07-07T02:25:25.239Z"
   },
   {
    "duration": 33,
    "start_time": "2021-07-07T02:25:25.280Z"
   },
   {
    "duration": 42,
    "start_time": "2021-07-07T02:25:25.315Z"
   },
   {
    "duration": 6,
    "start_time": "2021-07-07T02:25:25.360Z"
   },
   {
    "duration": 5,
    "start_time": "2021-07-07T02:25:25.370Z"
   },
   {
    "duration": 14,
    "start_time": "2021-07-07T02:25:25.379Z"
   },
   {
    "duration": 58,
    "start_time": "2021-07-07T02:25:25.396Z"
   },
   {
    "duration": 5,
    "start_time": "2021-07-07T02:25:25.457Z"
   },
   {
    "duration": 35,
    "start_time": "2021-07-07T02:25:25.465Z"
   },
   {
    "duration": 20,
    "start_time": "2021-07-07T02:25:25.503Z"
   },
   {
    "duration": 34,
    "start_time": "2021-07-07T02:25:25.526Z"
   },
   {
    "duration": 8,
    "start_time": "2021-07-07T02:25:25.562Z"
   },
   {
    "duration": 6,
    "start_time": "2021-07-07T02:25:25.572Z"
   },
   {
    "duration": 8,
    "start_time": "2021-07-07T02:25:25.581Z"
   },
   {
    "duration": 8,
    "start_time": "2021-07-07T02:25:25.592Z"
   },
   {
    "duration": 76,
    "start_time": "2021-07-07T02:25:25.603Z"
   },
   {
    "duration": 99,
    "start_time": "2021-07-07T02:25:25.756Z"
   },
   {
    "duration": 10,
    "start_time": "2021-07-07T02:25:25.857Z"
   },
   {
    "duration": 9,
    "start_time": "2021-07-07T02:25:25.870Z"
   },
   {
    "duration": 171,
    "start_time": "2021-07-07T02:25:25.886Z"
   },
   {
    "duration": 1793,
    "start_time": "2021-07-07T02:25:26.061Z"
   },
   {
    "duration": 1517,
    "start_time": "2021-07-07T02:25:27.858Z"
   },
   {
    "duration": 200,
    "start_time": "2021-07-07T02:25:29.456Z"
   },
   {
    "duration": 494,
    "start_time": "2021-07-07T02:25:29.660Z"
   },
   {
    "duration": -118,
    "start_time": "2021-07-07T02:25:30.275Z"
   },
   {
    "duration": 88,
    "start_time": "2021-07-07T02:25:48.358Z"
   },
   {
    "duration": 26,
    "start_time": "2021-07-07T02:25:51.921Z"
   },
   {
    "duration": 102,
    "start_time": "2021-07-07T02:27:26.543Z"
   },
   {
    "duration": 234,
    "start_time": "2021-07-07T02:27:49.409Z"
   },
   {
    "duration": 236,
    "start_time": "2021-07-07T02:27:59.301Z"
   },
   {
    "duration": 3480,
    "start_time": "2021-07-07T02:31:55.753Z"
   },
   {
    "duration": 1913,
    "start_time": "2021-07-07T02:32:05.998Z"
   },
   {
    "duration": 4554,
    "start_time": "2021-07-07T02:33:13.308Z"
   },
   {
    "duration": 8906,
    "start_time": "2021-07-07T02:33:22.751Z"
   },
   {
    "duration": 5654,
    "start_time": "2021-07-07T02:34:06.545Z"
   },
   {
    "duration": 11593,
    "start_time": "2021-07-07T02:34:23.185Z"
   },
   {
    "duration": 51849,
    "start_time": "2021-07-07T02:43:04.603Z"
   },
   {
    "duration": 65054,
    "start_time": "2021-07-07T02:44:06.355Z"
   },
   {
    "duration": 25,
    "start_time": "2021-07-07T02:47:21.746Z"
   },
   {
    "duration": 27,
    "start_time": "2021-07-07T02:47:40.842Z"
   },
   {
    "duration": 260,
    "start_time": "2021-07-07T02:48:10.820Z"
   },
   {
    "duration": 25,
    "start_time": "2021-07-07T02:48:30.911Z"
   },
   {
    "duration": 10257,
    "start_time": "2021-07-07T02:48:48.960Z"
   },
   {
    "duration": 64438,
    "start_time": "2021-07-07T02:49:06.364Z"
   },
   {
    "duration": 3,
    "start_time": "2021-07-07T02:57:28.554Z"
   },
   {
    "duration": 264,
    "start_time": "2021-07-07T03:00:01.630Z"
   },
   {
    "duration": 33,
    "start_time": "2021-07-07T03:01:28.332Z"
   },
   {
    "duration": 591,
    "start_time": "2021-07-07T03:02:47.283Z"
   },
   {
    "duration": 51,
    "start_time": "2021-07-07T03:03:19.597Z"
   },
   {
    "duration": 71,
    "start_time": "2021-07-07T03:03:28.605Z"
   },
   {
    "duration": 71,
    "start_time": "2021-07-07T03:04:07.990Z"
   },
   {
    "duration": 52,
    "start_time": "2021-07-07T03:04:14.320Z"
   },
   {
    "duration": 233,
    "start_time": "2021-07-07T11:46:55.420Z"
   },
   {
    "duration": 1149,
    "start_time": "2021-07-07T11:47:00.785Z"
   },
   {
    "duration": 29,
    "start_time": "2021-07-07T11:47:01.936Z"
   },
   {
    "duration": 8,
    "start_time": "2021-07-07T11:47:01.967Z"
   },
   {
    "duration": 30,
    "start_time": "2021-07-07T11:47:01.977Z"
   },
   {
    "duration": 20,
    "start_time": "2021-07-07T11:47:02.009Z"
   },
   {
    "duration": 5,
    "start_time": "2021-07-07T11:47:02.030Z"
   },
   {
    "duration": 8,
    "start_time": "2021-07-07T11:47:02.037Z"
   },
   {
    "duration": 6,
    "start_time": "2021-07-07T11:47:02.048Z"
   },
   {
    "duration": 36,
    "start_time": "2021-07-07T11:47:02.056Z"
   },
   {
    "duration": 14,
    "start_time": "2021-07-07T11:47:02.094Z"
   },
   {
    "duration": 4,
    "start_time": "2021-07-07T11:47:02.110Z"
   },
   {
    "duration": 25,
    "start_time": "2021-07-07T11:47:02.116Z"
   },
   {
    "duration": 15,
    "start_time": "2021-07-07T11:47:02.143Z"
   },
   {
    "duration": 34,
    "start_time": "2021-07-07T11:47:02.159Z"
   },
   {
    "duration": 7,
    "start_time": "2021-07-07T11:47:02.195Z"
   },
   {
    "duration": 13,
    "start_time": "2021-07-07T11:47:02.204Z"
   },
   {
    "duration": 11,
    "start_time": "2021-07-07T11:47:02.219Z"
   },
   {
    "duration": 9,
    "start_time": "2021-07-07T11:47:02.232Z"
   },
   {
    "duration": 54,
    "start_time": "2021-07-07T11:47:02.243Z"
   },
   {
    "duration": 188,
    "start_time": "2021-07-07T11:47:02.299Z"
   },
   {
    "duration": 1398,
    "start_time": "2021-07-07T11:47:02.488Z"
   },
   {
    "duration": 999,
    "start_time": "2021-07-07T11:47:03.890Z"
   },
   {
    "duration": 192,
    "start_time": "2021-07-07T11:47:04.893Z"
   },
   {
    "duration": 265,
    "start_time": "2021-07-07T11:47:05.092Z"
   },
   {
    "duration": 42711,
    "start_time": "2021-07-07T11:47:05.359Z"
   },
   {
    "duration": 39,
    "start_time": "2021-07-07T11:47:48.072Z"
   },
   {
    "duration": 3,
    "start_time": "2021-07-07T11:47:59.232Z"
   },
   {
    "duration": 23,
    "start_time": "2021-07-07T11:48:18.907Z"
   },
   {
    "duration": 24,
    "start_time": "2021-07-07T11:49:39.970Z"
   },
   {
    "duration": 23,
    "start_time": "2021-07-07T11:51:00.450Z"
   },
   {
    "duration": 129,
    "start_time": "2021-07-07T11:51:01.123Z"
   },
   {
    "duration": 133,
    "start_time": "2021-07-07T11:51:44.162Z"
   },
   {
    "duration": 9820,
    "start_time": "2021-07-07T11:52:30.115Z"
   },
   {
    "duration": 14051,
    "start_time": "2021-07-07T11:53:15.101Z"
   },
   {
    "duration": 30475,
    "start_time": "2021-07-07T11:54:01.675Z"
   },
   {
    "duration": 23,
    "start_time": "2021-07-07T11:58:11.409Z"
   },
   {
    "duration": 351,
    "start_time": "2021-07-07T11:59:01.212Z"
   },
   {
    "duration": 128,
    "start_time": "2021-07-07T11:59:30.961Z"
   },
   {
    "duration": 33,
    "start_time": "2021-07-07T12:00:00.463Z"
   },
   {
    "duration": 1458,
    "start_time": "2021-07-07T12:00:26.764Z"
   },
   {
    "duration": 30,
    "start_time": "2021-07-07T12:00:28.224Z"
   },
   {
    "duration": 9,
    "start_time": "2021-07-07T12:00:28.255Z"
   },
   {
    "duration": 20,
    "start_time": "2021-07-07T12:00:28.266Z"
   },
   {
    "duration": 19,
    "start_time": "2021-07-07T12:00:28.288Z"
   },
   {
    "duration": 5,
    "start_time": "2021-07-07T12:00:28.309Z"
   },
   {
    "duration": 9,
    "start_time": "2021-07-07T12:00:28.315Z"
   },
   {
    "duration": 4,
    "start_time": "2021-07-07T12:00:28.326Z"
   },
   {
    "duration": 9,
    "start_time": "2021-07-07T12:00:28.332Z"
   },
   {
    "duration": 10,
    "start_time": "2021-07-07T12:00:28.342Z"
   },
   {
    "duration": 35,
    "start_time": "2021-07-07T12:00:28.353Z"
   },
   {
    "duration": 25,
    "start_time": "2021-07-07T12:00:28.390Z"
   },
   {
    "duration": 14,
    "start_time": "2021-07-07T12:00:28.416Z"
   },
   {
    "duration": 9,
    "start_time": "2021-07-07T12:00:28.431Z"
   },
   {
    "duration": 11,
    "start_time": "2021-07-07T12:00:28.441Z"
   },
   {
    "duration": 12,
    "start_time": "2021-07-07T12:00:28.454Z"
   },
   {
    "duration": 11,
    "start_time": "2021-07-07T12:00:28.467Z"
   },
   {
    "duration": 4,
    "start_time": "2021-07-07T12:00:28.483Z"
   },
   {
    "duration": 96,
    "start_time": "2021-07-07T12:00:28.488Z"
   },
   {
    "duration": 228,
    "start_time": "2021-07-07T12:00:28.587Z"
   },
   {
    "duration": 30650,
    "start_time": "2021-07-07T12:00:28.817Z"
   },
   {
    "duration": 30,
    "start_time": "2021-07-07T12:00:59.469Z"
   },
   {
    "duration": 384,
    "start_time": "2021-07-07T12:00:59.503Z"
   },
   {
    "duration": 139,
    "start_time": "2021-07-07T12:00:59.889Z"
   },
   {
    "duration": 35,
    "start_time": "2021-07-07T12:01:00.030Z"
   },
   {
    "duration": 24,
    "start_time": "2021-07-07T12:02:48.920Z"
   },
   {
    "duration": 30,
    "start_time": "2021-07-07T12:03:04.720Z"
   },
   {
    "duration": 58994,
    "start_time": "2021-07-07T12:03:41.734Z"
   },
   {
    "duration": 305,
    "start_time": "2021-07-07T12:05:49.481Z"
   },
   {
    "duration": 14194,
    "start_time": "2021-07-07T12:06:30.750Z"
   },
   {
    "duration": 15057,
    "start_time": "2021-07-07T12:08:07.904Z"
   },
   {
    "duration": 14105,
    "start_time": "2021-07-07T12:08:55.585Z"
   },
   {
    "duration": 4,
    "start_time": "2021-07-07T12:09:33.111Z"
   },
   {
    "duration": 128,
    "start_time": "2021-07-07T12:09:40.729Z"
   },
   {
    "duration": 14164,
    "start_time": "2021-07-07T12:09:44.201Z"
   },
   {
    "duration": 421,
    "start_time": "2021-07-07T12:11:49.553Z"
   },
   {
    "duration": 421,
    "start_time": "2021-07-07T12:12:33.146Z"
   },
   {
    "duration": 435,
    "start_time": "2021-07-07T12:12:52.969Z"
   },
   {
    "duration": 422,
    "start_time": "2021-07-07T12:13:07.683Z"
   },
   {
    "duration": 6213,
    "start_time": "2021-07-07T12:13:27.514Z"
   },
   {
    "duration": 1639,
    "start_time": "2021-07-07T12:14:02.233Z"
   },
   {
    "duration": 530,
    "start_time": "2021-07-07T12:14:15.374Z"
   },
   {
    "duration": 970,
    "start_time": "2021-07-07T12:14:40.245Z"
   },
   {
    "duration": 28,
    "start_time": "2021-07-07T12:14:41.216Z"
   },
   {
    "duration": 8,
    "start_time": "2021-07-07T12:14:41.246Z"
   },
   {
    "duration": 18,
    "start_time": "2021-07-07T12:14:41.256Z"
   },
   {
    "duration": 31,
    "start_time": "2021-07-07T12:14:41.275Z"
   },
   {
    "duration": 5,
    "start_time": "2021-07-07T12:14:41.307Z"
   },
   {
    "duration": 4,
    "start_time": "2021-07-07T12:14:41.314Z"
   },
   {
    "duration": 4,
    "start_time": "2021-07-07T12:14:41.320Z"
   },
   {
    "duration": 9,
    "start_time": "2021-07-07T12:14:41.326Z"
   },
   {
    "duration": 9,
    "start_time": "2021-07-07T12:14:41.336Z"
   },
   {
    "duration": 39,
    "start_time": "2021-07-07T12:14:41.347Z"
   },
   {
    "duration": 20,
    "start_time": "2021-07-07T12:14:41.388Z"
   },
   {
    "duration": 15,
    "start_time": "2021-07-07T12:14:41.409Z"
   },
   {
    "duration": 6,
    "start_time": "2021-07-07T12:14:41.426Z"
   },
   {
    "duration": 5,
    "start_time": "2021-07-07T12:14:41.433Z"
   },
   {
    "duration": 5,
    "start_time": "2021-07-07T12:14:41.439Z"
   },
   {
    "duration": 12,
    "start_time": "2021-07-07T12:14:41.445Z"
   },
   {
    "duration": 3,
    "start_time": "2021-07-07T12:14:41.485Z"
   },
   {
    "duration": 98,
    "start_time": "2021-07-07T12:14:41.490Z"
   },
   {
    "duration": 236,
    "start_time": "2021-07-07T12:14:41.590Z"
   },
   {
    "duration": 14526,
    "start_time": "2021-07-07T12:14:41.827Z"
   },
   {
    "duration": 420,
    "start_time": "2021-07-07T12:14:56.355Z"
   },
   {
    "duration": 6210,
    "start_time": "2021-07-07T12:14:56.778Z"
   },
   {
    "duration": 1656,
    "start_time": "2021-07-07T12:15:02.990Z"
   },
   {
    "duration": 561,
    "start_time": "2021-07-07T12:15:04.648Z"
   },
   {
    "duration": 315,
    "start_time": "2021-07-07T12:17:50.558Z"
   },
   {
    "duration": 227,
    "start_time": "2021-07-07T12:18:46.823Z"
   },
   {
    "duration": 1008,
    "start_time": "2021-07-07T12:18:51.513Z"
   },
   {
    "duration": 31,
    "start_time": "2021-07-07T12:18:52.523Z"
   },
   {
    "duration": 9,
    "start_time": "2021-07-07T12:18:52.556Z"
   },
   {
    "duration": 27,
    "start_time": "2021-07-07T12:18:52.566Z"
   },
   {
    "duration": 21,
    "start_time": "2021-07-07T12:18:52.595Z"
   },
   {
    "duration": 5,
    "start_time": "2021-07-07T12:18:52.618Z"
   },
   {
    "duration": 4,
    "start_time": "2021-07-07T12:18:52.625Z"
   },
   {
    "duration": 3,
    "start_time": "2021-07-07T12:18:52.631Z"
   },
   {
    "duration": 10,
    "start_time": "2021-07-07T12:18:52.636Z"
   },
   {
    "duration": 42,
    "start_time": "2021-07-07T12:18:52.647Z"
   },
   {
    "duration": 4,
    "start_time": "2021-07-07T12:18:52.691Z"
   },
   {
    "duration": 22,
    "start_time": "2021-07-07T12:18:52.697Z"
   },
   {
    "duration": 14,
    "start_time": "2021-07-07T12:18:52.721Z"
   },
   {
    "duration": 6,
    "start_time": "2021-07-07T12:18:52.737Z"
   },
   {
    "duration": 41,
    "start_time": "2021-07-07T12:18:52.744Z"
   },
   {
    "duration": 4,
    "start_time": "2021-07-07T12:18:52.786Z"
   },
   {
    "duration": 12,
    "start_time": "2021-07-07T12:18:52.792Z"
   },
   {
    "duration": 5,
    "start_time": "2021-07-07T12:18:52.805Z"
   },
   {
    "duration": 75,
    "start_time": "2021-07-07T12:18:52.812Z"
   },
   {
    "duration": 236,
    "start_time": "2021-07-07T12:18:52.889Z"
   },
   {
    "duration": 14401,
    "start_time": "2021-07-07T12:18:53.127Z"
   },
   {
    "duration": 434,
    "start_time": "2021-07-07T12:19:07.530Z"
   },
   {
    "duration": 6256,
    "start_time": "2021-07-07T12:19:07.967Z"
   },
   {
    "duration": 1670,
    "start_time": "2021-07-07T12:19:14.225Z"
   },
   {
    "duration": 284,
    "start_time": "2021-07-07T12:19:15.897Z"
   },
   {
    "duration": 1084,
    "start_time": "2021-07-07T21:57:20.808Z"
   },
   {
    "duration": 29,
    "start_time": "2021-07-07T21:57:21.894Z"
   },
   {
    "duration": 8,
    "start_time": "2021-07-07T21:57:21.925Z"
   },
   {
    "duration": 18,
    "start_time": "2021-07-07T21:57:21.935Z"
   },
   {
    "duration": 32,
    "start_time": "2021-07-07T21:57:21.954Z"
   },
   {
    "duration": 6,
    "start_time": "2021-07-07T21:57:21.988Z"
   },
   {
    "duration": 4,
    "start_time": "2021-07-07T21:57:21.996Z"
   },
   {
    "duration": 3,
    "start_time": "2021-07-07T21:57:22.002Z"
   },
   {
    "duration": 9,
    "start_time": "2021-07-07T21:57:22.007Z"
   },
   {
    "duration": 10,
    "start_time": "2021-07-07T21:57:22.018Z"
   },
   {
    "duration": 4,
    "start_time": "2021-07-07T21:57:22.030Z"
   },
   {
    "duration": 59,
    "start_time": "2021-07-07T21:57:22.035Z"
   },
   {
    "duration": 15,
    "start_time": "2021-07-07T21:57:22.096Z"
   },
   {
    "duration": 6,
    "start_time": "2021-07-07T21:57:22.112Z"
   },
   {
    "duration": 7,
    "start_time": "2021-07-07T21:57:22.119Z"
   },
   {
    "duration": 5,
    "start_time": "2021-07-07T21:57:22.127Z"
   },
   {
    "duration": 6,
    "start_time": "2021-07-07T21:57:22.134Z"
   },
   {
    "duration": 5,
    "start_time": "2021-07-07T21:57:22.141Z"
   },
   {
    "duration": 55,
    "start_time": "2021-07-07T21:57:22.148Z"
   },
   {
    "duration": 304,
    "start_time": "2021-07-07T21:57:22.204Z"
   },
   {
    "duration": 14935,
    "start_time": "2021-07-07T21:57:22.510Z"
   },
   {
    "duration": 564,
    "start_time": "2021-07-07T21:57:37.447Z"
   },
   {
    "duration": 6549,
    "start_time": "2021-07-07T21:57:38.014Z"
   },
   {
    "duration": 1705,
    "start_time": "2021-07-07T21:57:44.565Z"
   },
   {
    "duration": 280,
    "start_time": "2021-07-07T21:57:46.272Z"
   },
   {
    "duration": 112,
    "start_time": "2021-07-07T22:02:52.974Z"
   },
   {
    "duration": 207,
    "start_time": "2021-07-07T22:05:53.256Z"
   },
   {
    "duration": 564,
    "start_time": "2021-07-07T22:06:57.132Z"
   },
   {
    "duration": 1065,
    "start_time": "2021-07-07T22:09:56.257Z"
   },
   {
    "duration": 30,
    "start_time": "2021-07-07T22:09:57.324Z"
   },
   {
    "duration": 8,
    "start_time": "2021-07-07T22:09:57.355Z"
   },
   {
    "duration": 21,
    "start_time": "2021-07-07T22:09:57.365Z"
   },
   {
    "duration": 19,
    "start_time": "2021-07-07T22:09:57.388Z"
   },
   {
    "duration": 5,
    "start_time": "2021-07-07T22:09:57.409Z"
   },
   {
    "duration": 3,
    "start_time": "2021-07-07T22:09:57.416Z"
   },
   {
    "duration": 3,
    "start_time": "2021-07-07T22:09:57.422Z"
   },
   {
    "duration": 10,
    "start_time": "2021-07-07T22:09:57.426Z"
   },
   {
    "duration": 10,
    "start_time": "2021-07-07T22:09:57.437Z"
   },
   {
    "duration": 38,
    "start_time": "2021-07-07T22:09:57.448Z"
   },
   {
    "duration": 22,
    "start_time": "2021-07-07T22:09:57.488Z"
   },
   {
    "duration": 14,
    "start_time": "2021-07-07T22:09:57.512Z"
   },
   {
    "duration": 6,
    "start_time": "2021-07-07T22:09:57.528Z"
   },
   {
    "duration": 8,
    "start_time": "2021-07-07T22:09:57.536Z"
   },
   {
    "duration": 40,
    "start_time": "2021-07-07T22:09:57.545Z"
   },
   {
    "duration": 7,
    "start_time": "2021-07-07T22:09:57.586Z"
   },
   {
    "duration": 4,
    "start_time": "2021-07-07T22:09:57.595Z"
   },
   {
    "duration": 87,
    "start_time": "2021-07-07T22:09:57.601Z"
   },
   {
    "duration": 233,
    "start_time": "2021-07-07T22:09:57.693Z"
   },
   {
    "duration": 14414,
    "start_time": "2021-07-07T22:09:57.928Z"
   },
   {
    "duration": 434,
    "start_time": "2021-07-07T22:10:12.344Z"
   },
   {
    "duration": 6375,
    "start_time": "2021-07-07T22:10:12.785Z"
   },
   {
    "duration": 1683,
    "start_time": "2021-07-07T22:10:19.161Z"
   },
   {
    "duration": 571,
    "start_time": "2021-07-07T22:10:20.845Z"
   },
   {
    "duration": 425,
    "start_time": "2021-07-07T22:14:24.913Z"
   },
   {
    "duration": 2,
    "start_time": "2021-07-07T22:21:07.456Z"
   },
   {
    "duration": 791,
    "start_time": "2021-07-07T22:26:32.628Z"
   },
   {
    "duration": 998,
    "start_time": "2021-07-07T22:26:40.221Z"
   },
   {
    "duration": 29,
    "start_time": "2021-07-07T22:26:41.221Z"
   },
   {
    "duration": 9,
    "start_time": "2021-07-07T22:26:41.251Z"
   },
   {
    "duration": 26,
    "start_time": "2021-07-07T22:26:41.262Z"
   },
   {
    "duration": 20,
    "start_time": "2021-07-07T22:26:41.290Z"
   },
   {
    "duration": 5,
    "start_time": "2021-07-07T22:26:41.312Z"
   },
   {
    "duration": 20,
    "start_time": "2021-07-07T22:26:41.319Z"
   },
   {
    "duration": 4,
    "start_time": "2021-07-07T22:26:41.342Z"
   },
   {
    "duration": 23,
    "start_time": "2021-07-07T22:26:41.348Z"
   },
   {
    "duration": 22,
    "start_time": "2021-07-07T22:26:41.372Z"
   },
   {
    "duration": 4,
    "start_time": "2021-07-07T22:26:41.395Z"
   },
   {
    "duration": 23,
    "start_time": "2021-07-07T22:26:41.401Z"
   },
   {
    "duration": 14,
    "start_time": "2021-07-07T22:26:41.426Z"
   },
   {
    "duration": 5,
    "start_time": "2021-07-07T22:26:41.442Z"
   },
   {
    "duration": 36,
    "start_time": "2021-07-07T22:26:41.449Z"
   },
   {
    "duration": 5,
    "start_time": "2021-07-07T22:26:41.487Z"
   },
   {
    "duration": 8,
    "start_time": "2021-07-07T22:26:41.494Z"
   },
   {
    "duration": 6,
    "start_time": "2021-07-07T22:26:41.504Z"
   },
   {
    "duration": 74,
    "start_time": "2021-07-07T22:26:41.512Z"
   },
   {
    "duration": 232,
    "start_time": "2021-07-07T22:26:41.588Z"
   },
   {
    "duration": 14435,
    "start_time": "2021-07-07T22:26:41.822Z"
   },
   {
    "duration": 430,
    "start_time": "2021-07-07T22:26:56.259Z"
   },
   {
    "duration": 423,
    "start_time": "2021-07-07T22:26:56.693Z"
   },
   {
    "duration": 6453,
    "start_time": "2021-07-07T22:26:57.118Z"
   },
   {
    "duration": 1725,
    "start_time": "2021-07-07T22:27:03.573Z"
   },
   {
    "duration": 572,
    "start_time": "2021-07-07T22:27:05.300Z"
   },
   {
    "duration": 820,
    "start_time": "2021-07-07T22:27:05.874Z"
   },
   {
    "duration": 6,
    "start_time": "2021-07-07T22:27:32.087Z"
   },
   {
    "duration": 741,
    "start_time": "2021-07-07T22:27:42.563Z"
   },
   {
    "duration": 75,
    "start_time": "2021-07-07T22:28:05.644Z"
   },
   {
    "duration": 863,
    "start_time": "2021-07-07T22:28:11.031Z"
   },
   {
    "duration": 371,
    "start_time": "2021-07-07T22:31:47.035Z"
   },
   {
    "duration": 216,
    "start_time": "2021-07-07T22:32:19.474Z"
   },
   {
    "duration": 932,
    "start_time": "2021-07-07T22:33:19.196Z"
   },
   {
    "duration": 873,
    "start_time": "2021-07-07T22:34:54.752Z"
   },
   {
    "duration": 1020,
    "start_time": "2021-07-07T22:45:29.809Z"
   },
   {
    "duration": 842,
    "start_time": "2021-07-07T22:46:36.178Z"
   },
   {
    "duration": 838,
    "start_time": "2021-07-07T22:47:02.567Z"
   },
   {
    "duration": 862,
    "start_time": "2021-07-07T22:53:42.066Z"
   },
   {
    "duration": 854,
    "start_time": "2021-07-07T22:55:07.574Z"
   },
   {
    "duration": 776,
    "start_time": "2021-07-07T23:01:24.156Z"
   },
   {
    "duration": 850,
    "start_time": "2021-07-07T23:02:30.267Z"
   },
   {
    "duration": 680,
    "start_time": "2021-07-07T23:02:38.951Z"
   },
   {
    "duration": 831,
    "start_time": "2021-07-07T23:02:47.593Z"
   },
   {
    "duration": 861,
    "start_time": "2021-07-07T23:06:07.636Z"
   },
   {
    "duration": 846,
    "start_time": "2021-07-07T23:06:48.029Z"
   },
   {
    "duration": 865,
    "start_time": "2021-07-07T23:06:56.871Z"
   },
   {
    "duration": 818,
    "start_time": "2021-07-07T23:07:56.650Z"
   },
   {
    "duration": 895,
    "start_time": "2021-07-07T23:09:53.280Z"
   },
   {
    "duration": 916,
    "start_time": "2021-07-07T23:10:54.410Z"
   },
   {
    "duration": 829,
    "start_time": "2021-07-07T23:11:01.857Z"
   },
   {
    "duration": 686,
    "start_time": "2021-07-07T23:11:19.502Z"
   },
   {
    "duration": 679,
    "start_time": "2021-07-07T23:11:28.001Z"
   },
   {
    "duration": 680,
    "start_time": "2021-07-07T23:12:38.614Z"
   },
   {
    "duration": 191,
    "start_time": "2021-07-07T23:16:09.208Z"
   },
   {
    "duration": 181,
    "start_time": "2021-07-07T23:16:47.819Z"
   },
   {
    "duration": 185,
    "start_time": "2021-07-07T23:17:02.805Z"
   },
   {
    "duration": 187,
    "start_time": "2021-07-07T23:17:13.811Z"
   },
   {
    "duration": 183,
    "start_time": "2021-07-07T23:17:32.919Z"
   },
   {
    "duration": 1090,
    "start_time": "2021-07-07T23:17:49.582Z"
   },
   {
    "duration": 30,
    "start_time": "2021-07-07T23:17:50.673Z"
   },
   {
    "duration": 8,
    "start_time": "2021-07-07T23:17:50.705Z"
   },
   {
    "duration": 15,
    "start_time": "2021-07-07T23:17:50.715Z"
   },
   {
    "duration": 20,
    "start_time": "2021-07-07T23:17:50.732Z"
   },
   {
    "duration": 31,
    "start_time": "2021-07-07T23:17:50.754Z"
   },
   {
    "duration": 5,
    "start_time": "2021-07-07T23:17:50.786Z"
   },
   {
    "duration": 3,
    "start_time": "2021-07-07T23:17:50.794Z"
   },
   {
    "duration": 11,
    "start_time": "2021-07-07T23:17:50.799Z"
   },
   {
    "duration": 11,
    "start_time": "2021-07-07T23:17:50.811Z"
   },
   {
    "duration": 3,
    "start_time": "2021-07-07T23:17:50.823Z"
   },
   {
    "duration": 61,
    "start_time": "2021-07-07T23:17:50.828Z"
   },
   {
    "duration": 15,
    "start_time": "2021-07-07T23:17:50.891Z"
   },
   {
    "duration": 5,
    "start_time": "2021-07-07T23:17:50.908Z"
   },
   {
    "duration": 6,
    "start_time": "2021-07-07T23:17:50.915Z"
   },
   {
    "duration": 5,
    "start_time": "2021-07-07T23:17:50.922Z"
   },
   {
    "duration": 8,
    "start_time": "2021-07-07T23:17:50.929Z"
   },
   {
    "duration": 5,
    "start_time": "2021-07-07T23:17:50.938Z"
   },
   {
    "duration": 139,
    "start_time": "2021-07-07T23:17:50.945Z"
   },
   {
    "duration": 234,
    "start_time": "2021-07-07T23:17:51.086Z"
   },
   {
    "duration": 13865,
    "start_time": "2021-07-07T23:17:51.321Z"
   },
   {
    "duration": 420,
    "start_time": "2021-07-07T23:18:05.188Z"
   },
   {
    "duration": 423,
    "start_time": "2021-07-07T23:18:05.611Z"
   },
   {
    "duration": 6101,
    "start_time": "2021-07-07T23:18:06.036Z"
   },
   {
    "duration": 1632,
    "start_time": "2021-07-07T23:18:12.139Z"
   },
   {
    "duration": 551,
    "start_time": "2021-07-07T23:18:13.773Z"
   },
   {
    "duration": 198,
    "start_time": "2021-07-07T23:18:14.326Z"
   },
   {
    "duration": 6,
    "start_time": "2021-07-07T23:19:01.475Z"
   },
   {
    "duration": 4,
    "start_time": "2021-07-07T23:19:22.982Z"
   },
   {
    "duration": 8,
    "start_time": "2021-07-07T23:19:23.781Z"
   },
   {
    "duration": 61,
    "start_time": "2021-07-07T23:38:58.758Z"
   },
   {
    "duration": -148,
    "start_time": "2021-07-07T23:38:58.969Z"
   },
   {
    "duration": -150,
    "start_time": "2021-07-07T23:38:58.972Z"
   },
   {
    "duration": -151,
    "start_time": "2021-07-07T23:38:58.974Z"
   },
   {
    "duration": -164,
    "start_time": "2021-07-07T23:38:58.988Z"
   },
   {
    "duration": -165,
    "start_time": "2021-07-07T23:38:58.990Z"
   },
   {
    "duration": -167,
    "start_time": "2021-07-07T23:38:58.993Z"
   },
   {
    "duration": -168,
    "start_time": "2021-07-07T23:38:58.995Z"
   },
   {
    "duration": -170,
    "start_time": "2021-07-07T23:38:58.997Z"
   },
   {
    "duration": 283,
    "start_time": "2021-07-07T23:38:58.840Z"
   },
   {
    "duration": -138,
    "start_time": "2021-07-07T23:38:59.263Z"
   },
   {
    "duration": -140,
    "start_time": "2021-07-07T23:38:59.266Z"
   },
   {
    "duration": -141,
    "start_time": "2021-07-07T23:38:59.268Z"
   },
   {
    "duration": -147,
    "start_time": "2021-07-07T23:38:59.275Z"
   },
   {
    "duration": -149,
    "start_time": "2021-07-07T23:38:59.278Z"
   },
   {
    "duration": -151,
    "start_time": "2021-07-07T23:38:59.281Z"
   },
   {
    "duration": -153,
    "start_time": "2021-07-07T23:38:59.283Z"
   },
   {
    "duration": -153,
    "start_time": "2021-07-07T23:38:59.284Z"
   },
   {
    "duration": -154,
    "start_time": "2021-07-07T23:38:59.286Z"
   },
   {
    "duration": -154,
    "start_time": "2021-07-07T23:38:59.287Z"
   },
   {
    "duration": -156,
    "start_time": "2021-07-07T23:38:59.289Z"
   },
   {
    "duration": -156,
    "start_time": "2021-07-07T23:38:59.290Z"
   },
   {
    "duration": -157,
    "start_time": "2021-07-07T23:38:59.292Z"
   },
   {
    "duration": -158,
    "start_time": "2021-07-07T23:38:59.294Z"
   },
   {
    "duration": -160,
    "start_time": "2021-07-07T23:38:59.297Z"
   },
   {
    "duration": -159,
    "start_time": "2021-07-07T23:38:59.298Z"
   },
   {
    "duration": 1100,
    "start_time": "2021-07-07T23:41:04.386Z"
   },
   {
    "duration": 29,
    "start_time": "2021-07-07T23:41:05.488Z"
   },
   {
    "duration": 8,
    "start_time": "2021-07-07T23:41:05.518Z"
   },
   {
    "duration": 14,
    "start_time": "2021-07-07T23:41:05.528Z"
   },
   {
    "duration": 23,
    "start_time": "2021-07-07T23:41:05.543Z"
   },
   {
    "duration": 17,
    "start_time": "2021-07-07T23:41:05.568Z"
   },
   {
    "duration": 4,
    "start_time": "2021-07-07T23:41:05.587Z"
   },
   {
    "duration": 9,
    "start_time": "2021-07-07T23:41:05.593Z"
   },
   {
    "duration": 10,
    "start_time": "2021-07-07T23:41:05.604Z"
   },
   {
    "duration": 4,
    "start_time": "2021-07-07T23:41:05.615Z"
   },
   {
    "duration": 23,
    "start_time": "2021-07-07T23:41:05.620Z"
   },
   {
    "duration": 47,
    "start_time": "2021-07-07T23:41:05.645Z"
   },
   {
    "duration": 6,
    "start_time": "2021-07-07T23:41:05.693Z"
   },
   {
    "duration": 5,
    "start_time": "2021-07-07T23:41:05.700Z"
   },
   {
    "duration": 4,
    "start_time": "2021-07-07T23:41:05.707Z"
   },
   {
    "duration": 7,
    "start_time": "2021-07-07T23:41:05.712Z"
   },
   {
    "duration": 6,
    "start_time": "2021-07-07T23:41:05.720Z"
   },
   {
    "duration": 64,
    "start_time": "2021-07-07T23:41:05.728Z"
   },
   {
    "duration": 225,
    "start_time": "2021-07-07T23:41:05.794Z"
   },
   {
    "duration": 13823,
    "start_time": "2021-07-07T23:41:06.021Z"
   },
   {
    "duration": 421,
    "start_time": "2021-07-07T23:41:19.846Z"
   },
   {
    "duration": 416,
    "start_time": "2021-07-07T23:41:20.269Z"
   },
   {
    "duration": 6162,
    "start_time": "2021-07-07T23:41:20.688Z"
   },
   {
    "duration": 1603,
    "start_time": "2021-07-07T23:41:26.851Z"
   },
   {
    "duration": 540,
    "start_time": "2021-07-07T23:41:28.455Z"
   },
   {
    "duration": 191,
    "start_time": "2021-07-07T23:41:28.996Z"
   },
   {
    "duration": 181,
    "start_time": "2021-07-07T23:42:06.618Z"
   },
   {
    "duration": 1574,
    "start_time": "2021-07-08T21:27:20.651Z"
   },
   {
    "duration": 35,
    "start_time": "2021-07-08T21:27:22.228Z"
   },
   {
    "duration": 12,
    "start_time": "2021-07-08T21:27:22.266Z"
   },
   {
    "duration": 22,
    "start_time": "2021-07-08T21:27:22.281Z"
   },
   {
    "duration": 62,
    "start_time": "2021-07-08T21:27:22.305Z"
   },
   {
    "duration": 8,
    "start_time": "2021-07-08T21:27:22.370Z"
   },
   {
    "duration": 7,
    "start_time": "2021-07-08T21:27:22.381Z"
   },
   {
    "duration": 12,
    "start_time": "2021-07-08T21:27:22.392Z"
   },
   {
    "duration": 16,
    "start_time": "2021-07-08T21:27:22.407Z"
   },
   {
    "duration": 44,
    "start_time": "2021-07-08T21:27:22.425Z"
   },
   {
    "duration": 34,
    "start_time": "2021-07-08T21:27:22.472Z"
   },
   {
    "duration": 10,
    "start_time": "2021-07-08T21:27:22.508Z"
   },
   {
    "duration": 8,
    "start_time": "2021-07-08T21:27:22.520Z"
   },
   {
    "duration": 40,
    "start_time": "2021-07-08T21:27:22.530Z"
   },
   {
    "duration": 17,
    "start_time": "2021-07-08T21:27:22.572Z"
   },
   {
    "duration": 10,
    "start_time": "2021-07-08T21:27:22.591Z"
   },
   {
    "duration": 4,
    "start_time": "2021-07-08T21:27:22.604Z"
   },
   {
    "duration": 156,
    "start_time": "2021-07-08T21:27:22.611Z"
   },
   {
    "duration": 297,
    "start_time": "2021-07-08T21:27:22.771Z"
   },
   {
    "duration": 23460,
    "start_time": "2021-07-08T21:27:23.070Z"
   },
   {
    "duration": 691,
    "start_time": "2021-07-08T21:27:46.534Z"
   },
   {
    "duration": 683,
    "start_time": "2021-07-08T21:27:47.228Z"
   },
   {
    "duration": 1671,
    "start_time": "2021-07-08T21:27:55.560Z"
   },
   {
    "duration": 35,
    "start_time": "2021-07-08T21:27:57.234Z"
   },
   {
    "duration": 12,
    "start_time": "2021-07-08T21:27:57.272Z"
   },
   {
    "duration": 35,
    "start_time": "2021-07-08T21:27:57.286Z"
   },
   {
    "duration": 53,
    "start_time": "2021-07-08T21:27:57.323Z"
   },
   {
    "duration": 9,
    "start_time": "2021-07-08T21:27:57.379Z"
   },
   {
    "duration": 8,
    "start_time": "2021-07-08T21:27:57.391Z"
   },
   {
    "duration": 12,
    "start_time": "2021-07-08T21:27:57.405Z"
   },
   {
    "duration": 57,
    "start_time": "2021-07-08T21:27:57.420Z"
   },
   {
    "duration": 5,
    "start_time": "2021-07-08T21:27:57.480Z"
   },
   {
    "duration": 37,
    "start_time": "2021-07-08T21:27:57.488Z"
   },
   {
    "duration": 40,
    "start_time": "2021-07-08T21:27:57.527Z"
   },
   {
    "duration": 7,
    "start_time": "2021-07-08T21:27:57.570Z"
   },
   {
    "duration": 20,
    "start_time": "2021-07-08T21:27:57.579Z"
   },
   {
    "duration": 31,
    "start_time": "2021-07-08T21:27:57.601Z"
   },
   {
    "duration": 8,
    "start_time": "2021-07-08T21:27:57.635Z"
   },
   {
    "duration": 7,
    "start_time": "2021-07-08T21:27:57.645Z"
   },
   {
    "duration": 112,
    "start_time": "2021-07-08T21:27:57.655Z"
   },
   {
    "duration": 302,
    "start_time": "2021-07-08T21:27:57.771Z"
   },
   {
    "duration": 22895,
    "start_time": "2021-07-08T21:27:58.076Z"
   },
   {
    "duration": 680,
    "start_time": "2021-07-08T21:28:20.974Z"
   },
   {
    "duration": 663,
    "start_time": "2021-07-08T21:28:21.656Z"
   },
   {
    "duration": 11744,
    "start_time": "2021-07-08T21:28:22.323Z"
   },
   {
    "duration": 2588,
    "start_time": "2021-07-08T21:28:34.069Z"
   },
   {
    "duration": 894,
    "start_time": "2021-07-08T21:28:36.661Z"
   },
   {
    "duration": 318,
    "start_time": "2021-07-08T21:28:37.559Z"
   },
   {
    "duration": 1584,
    "start_time": "2021-07-08T21:29:12.291Z"
   },
   {
    "duration": 36,
    "start_time": "2021-07-08T21:29:13.878Z"
   },
   {
    "duration": 11,
    "start_time": "2021-07-08T21:29:13.917Z"
   },
   {
    "duration": 43,
    "start_time": "2021-07-08T21:29:13.932Z"
   },
   {
    "duration": 34,
    "start_time": "2021-07-08T21:29:13.978Z"
   },
   {
    "duration": 7,
    "start_time": "2021-07-08T21:29:14.015Z"
   },
   {
    "duration": 42,
    "start_time": "2021-07-08T21:29:14.025Z"
   },
   {
    "duration": 12,
    "start_time": "2021-07-08T21:29:14.071Z"
   },
   {
    "duration": 17,
    "start_time": "2021-07-08T21:29:14.086Z"
   },
   {
    "duration": 6,
    "start_time": "2021-07-08T21:29:14.105Z"
   },
   {
    "duration": 68,
    "start_time": "2021-07-08T21:29:14.113Z"
   },
   {
    "duration": 9,
    "start_time": "2021-07-08T21:29:14.183Z"
   },
   {
    "duration": 6,
    "start_time": "2021-07-08T21:29:14.195Z"
   },
   {
    "duration": 9,
    "start_time": "2021-07-08T21:29:14.204Z"
   },
   {
    "duration": 54,
    "start_time": "2021-07-08T21:29:14.215Z"
   },
   {
    "duration": 9,
    "start_time": "2021-07-08T21:29:14.271Z"
   },
   {
    "duration": 7,
    "start_time": "2021-07-08T21:29:14.282Z"
   },
   {
    "duration": 80,
    "start_time": "2021-07-08T21:29:14.291Z"
   },
   {
    "duration": 315,
    "start_time": "2021-07-08T21:29:14.375Z"
   },
   {
    "duration": 23056,
    "start_time": "2021-07-08T21:29:14.693Z"
   },
   {
    "duration": 687,
    "start_time": "2021-07-08T21:29:37.752Z"
   },
   {
    "duration": 661,
    "start_time": "2021-07-08T21:29:38.442Z"
   },
   {
    "duration": 11472,
    "start_time": "2021-07-08T21:29:39.107Z"
   },
   {
    "duration": 2621,
    "start_time": "2021-07-08T21:29:50.582Z"
   },
   {
    "duration": 897,
    "start_time": "2021-07-08T21:29:53.206Z"
   },
   {
    "duration": 316,
    "start_time": "2021-07-08T21:29:54.105Z"
   },
   {
    "duration": 9,
    "start_time": "2021-07-08T21:31:25.095Z"
   },
   {
    "duration": 1672,
    "start_time": "2021-07-08T21:31:49.561Z"
   },
   {
    "duration": 38,
    "start_time": "2021-07-08T21:31:51.235Z"
   },
   {
    "duration": 13,
    "start_time": "2021-07-08T21:31:51.276Z"
   },
   {
    "duration": 24,
    "start_time": "2021-07-08T21:31:51.292Z"
   },
   {
    "duration": 66,
    "start_time": "2021-07-08T21:31:51.318Z"
   },
   {
    "duration": 8,
    "start_time": "2021-07-08T21:31:51.387Z"
   },
   {
    "duration": 10,
    "start_time": "2021-07-08T21:31:51.397Z"
   },
   {
    "duration": 13,
    "start_time": "2021-07-08T21:31:51.410Z"
   },
   {
    "duration": 46,
    "start_time": "2021-07-08T21:31:51.426Z"
   },
   {
    "duration": 5,
    "start_time": "2021-07-08T21:31:51.475Z"
   },
   {
    "duration": 39,
    "start_time": "2021-07-08T21:31:51.482Z"
   },
   {
    "duration": 10,
    "start_time": "2021-07-08T21:31:51.523Z"
   },
   {
    "duration": 37,
    "start_time": "2021-07-08T21:31:51.535Z"
   },
   {
    "duration": 6,
    "start_time": "2021-07-08T21:31:51.574Z"
   },
   {
    "duration": 13,
    "start_time": "2021-07-08T21:31:51.582Z"
   },
   {
    "duration": 469,
    "start_time": "2021-07-08T21:31:51.598Z"
   },
   {
    "duration": -174,
    "start_time": "2021-07-08T21:31:52.243Z"
   },
   {
    "duration": -207,
    "start_time": "2021-07-08T21:31:52.278Z"
   },
   {
    "duration": -212,
    "start_time": "2021-07-08T21:31:52.284Z"
   },
   {
    "duration": -213,
    "start_time": "2021-07-08T21:31:52.287Z"
   },
   {
    "duration": -214,
    "start_time": "2021-07-08T21:31:52.289Z"
   },
   {
    "duration": -215,
    "start_time": "2021-07-08T21:31:52.292Z"
   },
   {
    "duration": -217,
    "start_time": "2021-07-08T21:31:52.295Z"
   },
   {
    "duration": -231,
    "start_time": "2021-07-08T21:31:52.310Z"
   },
   {
    "duration": -233,
    "start_time": "2021-07-08T21:31:52.314Z"
   },
   {
    "duration": -235,
    "start_time": "2021-07-08T21:31:52.317Z"
   },
   {
    "duration": 1501,
    "start_time": "2021-07-08T21:33:57.635Z"
   },
   {
    "duration": 41,
    "start_time": "2021-07-08T21:33:59.139Z"
   },
   {
    "duration": 14,
    "start_time": "2021-07-08T21:33:59.182Z"
   },
   {
    "duration": 23,
    "start_time": "2021-07-08T21:33:59.199Z"
   },
   {
    "duration": 76,
    "start_time": "2021-07-08T21:33:59.224Z"
   },
   {
    "duration": 8,
    "start_time": "2021-07-08T21:33:59.302Z"
   },
   {
    "duration": 7,
    "start_time": "2021-07-08T21:33:59.312Z"
   },
   {
    "duration": 12,
    "start_time": "2021-07-08T21:33:59.324Z"
   },
   {
    "duration": 40,
    "start_time": "2021-07-08T21:33:59.339Z"
   },
   {
    "duration": 7,
    "start_time": "2021-07-08T21:33:59.384Z"
   },
   {
    "duration": 56,
    "start_time": "2021-07-08T21:33:59.394Z"
   },
   {
    "duration": 27,
    "start_time": "2021-07-08T21:33:59.452Z"
   },
   {
    "duration": 7,
    "start_time": "2021-07-08T21:33:59.481Z"
   },
   {
    "duration": 10,
    "start_time": "2021-07-08T21:33:59.490Z"
   },
   {
    "duration": 13,
    "start_time": "2021-07-08T21:33:59.505Z"
   },
   {
    "duration": 12,
    "start_time": "2021-07-08T21:33:59.520Z"
   },
   {
    "duration": 45,
    "start_time": "2021-07-08T21:33:59.534Z"
   },
   {
    "duration": 28,
    "start_time": "2021-07-08T21:33:59.581Z"
   },
   {
    "duration": 286,
    "start_time": "2021-07-08T21:33:59.671Z"
   },
   {
    "duration": 23438,
    "start_time": "2021-07-08T21:33:59.961Z"
   },
   {
    "duration": 701,
    "start_time": "2021-07-08T21:34:23.402Z"
   },
   {
    "duration": 706,
    "start_time": "2021-07-08T21:34:24.107Z"
   },
   {
    "duration": 654,
    "start_time": "2021-07-08T21:34:24.819Z"
   },
   {
    "duration": -352,
    "start_time": "2021-07-08T21:34:25.829Z"
   },
   {
    "duration": -352,
    "start_time": "2021-07-08T21:34:25.831Z"
   },
   {
    "duration": -352,
    "start_time": "2021-07-08T21:34:25.833Z"
   },
   {
    "duration": 1440,
    "start_time": "2021-07-08T23:02:45.098Z"
   },
   {
    "duration": 38,
    "start_time": "2021-07-08T23:02:46.541Z"
   },
   {
    "duration": 14,
    "start_time": "2021-07-08T23:02:46.582Z"
   },
   {
    "duration": 26,
    "start_time": "2021-07-08T23:02:46.599Z"
   },
   {
    "duration": 66,
    "start_time": "2021-07-08T23:02:46.627Z"
   },
   {
    "duration": 8,
    "start_time": "2021-07-08T23:02:46.695Z"
   },
   {
    "duration": 7,
    "start_time": "2021-07-08T23:02:46.705Z"
   },
   {
    "duration": 19,
    "start_time": "2021-07-08T23:02:46.716Z"
   },
   {
    "duration": 41,
    "start_time": "2021-07-08T23:02:46.738Z"
   },
   {
    "duration": 5,
    "start_time": "2021-07-08T23:02:46.781Z"
   },
   {
    "duration": 36,
    "start_time": "2021-07-08T23:02:46.789Z"
   },
   {
    "duration": 40,
    "start_time": "2021-07-08T23:02:46.827Z"
   },
   {
    "duration": 7,
    "start_time": "2021-07-08T23:02:46.870Z"
   },
   {
    "duration": 16,
    "start_time": "2021-07-08T23:02:46.879Z"
   },
   {
    "duration": 15,
    "start_time": "2021-07-08T23:02:46.897Z"
   },
   {
    "duration": 16,
    "start_time": "2021-07-08T23:02:46.915Z"
   },
   {
    "duration": 8249,
    "start_time": "2021-07-08T23:02:46.933Z"
   },
   {
    "duration": -278,
    "start_time": "2021-07-08T23:02:55.464Z"
   },
   {
    "duration": -280,
    "start_time": "2021-07-08T23:02:55.468Z"
   },
   {
    "duration": -281,
    "start_time": "2021-07-08T23:02:55.471Z"
   },
   {
    "duration": -282,
    "start_time": "2021-07-08T23:02:55.474Z"
   },
   {
    "duration": -282,
    "start_time": "2021-07-08T23:02:55.476Z"
   },
   {
    "duration": -280,
    "start_time": "2021-07-08T23:02:55.477Z"
   },
   {
    "duration": -280,
    "start_time": "2021-07-08T23:02:55.479Z"
   },
   {
    "duration": -280,
    "start_time": "2021-07-08T23:02:55.481Z"
   },
   {
    "duration": -281,
    "start_time": "2021-07-08T23:02:55.484Z"
   },
   {
    "duration": 28,
    "start_time": "2021-07-08T23:04:26.228Z"
   },
   {
    "duration": 1638,
    "start_time": "2021-07-08T23:04:38.107Z"
   },
   {
    "duration": 37,
    "start_time": "2021-07-08T23:04:39.747Z"
   },
   {
    "duration": 12,
    "start_time": "2021-07-08T23:04:39.787Z"
   },
   {
    "duration": 23,
    "start_time": "2021-07-08T23:04:39.802Z"
   },
   {
    "duration": 43,
    "start_time": "2021-07-08T23:04:39.827Z"
   },
   {
    "duration": 9,
    "start_time": "2021-07-08T23:04:39.872Z"
   },
   {
    "duration": 8,
    "start_time": "2021-07-08T23:04:39.883Z"
   },
   {
    "duration": 13,
    "start_time": "2021-07-08T23:04:39.895Z"
   },
   {
    "duration": 16,
    "start_time": "2021-07-08T23:04:39.911Z"
   },
   {
    "duration": 5,
    "start_time": "2021-07-08T23:04:39.930Z"
   },
   {
    "duration": 52,
    "start_time": "2021-07-08T23:04:39.938Z"
   },
   {
    "duration": 10,
    "start_time": "2021-07-08T23:04:39.993Z"
   },
   {
    "duration": 13,
    "start_time": "2021-07-08T23:04:40.005Z"
   },
   {
    "duration": 9,
    "start_time": "2021-07-08T23:04:40.020Z"
   },
   {
    "duration": 18,
    "start_time": "2021-07-08T23:04:40.031Z"
   },
   {
    "duration": 9,
    "start_time": "2021-07-08T23:04:40.052Z"
   },
   {
    "duration": 32,
    "start_time": "2021-07-08T23:04:40.063Z"
   },
   {
    "duration": 74,
    "start_time": "2021-07-08T23:04:40.097Z"
   },
   {
    "duration": 293,
    "start_time": "2021-07-08T23:04:40.176Z"
   },
   {
    "duration": 23372,
    "start_time": "2021-07-08T23:04:40.471Z"
   },
   {
    "duration": 705,
    "start_time": "2021-07-08T23:05:03.847Z"
   },
   {
    "duration": 675,
    "start_time": "2021-07-08T23:05:04.554Z"
   },
   {
    "duration": 11593,
    "start_time": "2021-07-08T23:05:05.233Z"
   },
   {
    "duration": 2646,
    "start_time": "2021-07-08T23:05:16.828Z"
   },
   {
    "duration": 901,
    "start_time": "2021-07-08T23:05:19.476Z"
   },
   {
    "duration": 318,
    "start_time": "2021-07-08T23:05:20.379Z"
   },
   {
    "duration": 26,
    "start_time": "2021-07-08T23:12:59.897Z"
   },
   {
    "duration": 300,
    "start_time": "2021-07-08T23:13:50.463Z"
   },
   {
    "duration": 1563,
    "start_time": "2021-07-08T23:17:14.340Z"
   },
   {
    "duration": 35,
    "start_time": "2021-07-08T23:17:15.905Z"
   },
   {
    "duration": 11,
    "start_time": "2021-07-08T23:17:15.943Z"
   },
   {
    "duration": 32,
    "start_time": "2021-07-08T23:17:15.957Z"
   },
   {
    "duration": 35,
    "start_time": "2021-07-08T23:17:15.992Z"
   },
   {
    "duration": 41,
    "start_time": "2021-07-08T23:17:16.030Z"
   },
   {
    "duration": 6,
    "start_time": "2021-07-08T23:17:16.074Z"
   },
   {
    "duration": 13,
    "start_time": "2021-07-08T23:17:16.084Z"
   },
   {
    "duration": 15,
    "start_time": "2021-07-08T23:17:16.100Z"
   },
   {
    "duration": 5,
    "start_time": "2021-07-08T23:17:16.118Z"
   },
   {
    "duration": 71,
    "start_time": "2021-07-08T23:17:16.126Z"
   },
   {
    "duration": 8,
    "start_time": "2021-07-08T23:17:16.200Z"
   },
   {
    "duration": 6,
    "start_time": "2021-07-08T23:17:16.211Z"
   },
   {
    "duration": 6,
    "start_time": "2021-07-08T23:17:16.219Z"
   },
   {
    "duration": 42,
    "start_time": "2021-07-08T23:17:16.227Z"
   },
   {
    "duration": 10,
    "start_time": "2021-07-08T23:17:16.271Z"
   },
   {
    "duration": 31,
    "start_time": "2021-07-08T23:17:16.283Z"
   },
   {
    "duration": 71,
    "start_time": "2021-07-08T23:17:16.316Z"
   },
   {
    "duration": 306,
    "start_time": "2021-07-08T23:17:16.469Z"
   },
   {
    "duration": 23150,
    "start_time": "2021-07-08T23:17:16.778Z"
   },
   {
    "duration": 769,
    "start_time": "2021-07-08T23:17:39.930Z"
   },
   {
    "duration": 675,
    "start_time": "2021-07-08T23:17:40.702Z"
   },
   {
    "duration": 11715,
    "start_time": "2021-07-08T23:17:41.381Z"
   },
   {
    "duration": 2750,
    "start_time": "2021-07-08T23:17:53.098Z"
   },
   {
    "duration": 901,
    "start_time": "2021-07-08T23:17:55.850Z"
   },
   {
    "duration": 318,
    "start_time": "2021-07-08T23:17:56.753Z"
   }
  ],
  "kernelspec": {
   "display_name": "Python 3",
   "language": "python",
   "name": "python3"
  },
  "language_info": {
   "codemirror_mode": {
    "name": "ipython",
    "version": 3
   },
   "file_extension": ".py",
   "mimetype": "text/x-python",
   "name": "python",
   "nbconvert_exporter": "python",
   "pygments_lexer": "ipython3",
   "version": "3.8.8"
  },
  "toc": {
   "base_numbering": 1,
   "nav_menu": {},
   "number_sections": true,
   "sideBar": true,
   "skip_h1_title": true,
   "title_cell": "Содержание",
   "title_sidebar": "Contents",
   "toc_cell": true,
   "toc_position": {
    "height": "calc(100% - 180px)",
    "left": "10px",
    "top": "150px",
    "width": "218.396px"
   },
   "toc_section_display": true,
   "toc_window_display": false
  }
 },
 "nbformat": 4,
 "nbformat_minor": 2
}
