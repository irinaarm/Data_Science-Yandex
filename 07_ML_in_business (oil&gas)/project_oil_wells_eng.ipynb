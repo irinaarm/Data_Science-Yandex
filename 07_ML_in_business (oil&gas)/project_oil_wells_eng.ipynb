{
 "cells": [
  {
   "cell_type": "markdown",
   "metadata": {},
   "source": [
    "# Oil well location selection."
   ]
  },
  {
   "cell_type": "markdown",
   "metadata": {},
   "source": [
    "You work for a mining company. Your task is to find the best place for a new well (find the region with the highest profit margin).\n",
    "\n",
    "Steps to choose the location: \n",
    "1. Collect the oil well parameters in the selected region: oil quality and volume of reserves;\n",
    "2. Build a model for predicting the volume of reserves in the new wells; \n",
    "3. Pick the oil wells with the highest estimated values; \n",
    "4. Pick the region with the highest total profit for the selected oil wells. You have data on oil samples from three regions. Parameters of each oil well in the region are already known. Build a model that will help to pick the region with the highest profit margin. Analyze potential profit and risks using the bootstrapping technique.\n",
    "\n",
    "Description of the data:\n",
    "- geo_data_0.csv - download dataset data_0\n",
    "- geo_data_1.csv - download dataset data_1\n",
    "- geo_data_2.csv - download dataset data_2\n",
    "- id — unique oil well identifier\n",
    "- f0, f1, f2 — three features of points (their specific meaning is unimportant, but the features themselves are significant)\n",
    "- product — volume of reserves in the oil well (thousand barrels)."
   ]
  },
  {
   "cell_type": "markdown",
   "metadata": {},
   "source": [
    "## Import of the data"
   ]
  },
  {
   "cell_type": "code",
   "execution_count": 1,
   "metadata": {},
   "outputs": [],
   "source": [
    "#Import main libraries\n",
    "\n",
    "import pandas as pd\n",
    "\n",
    "from sklearn.model_selection import train_test_split\n",
    "from sklearn.linear_model import LinearRegression\n",
    "from sklearn.metrics import mean_squared_error\n",
    "import matplotlib.pyplot as plt\n",
    "import seaborn as sns\n",
    "import numpy as np\n",
    "from scipy import stats as st\n",
    "from numpy.random import RandomState"
   ]
  },
  {
   "cell_type": "markdown",
   "metadata": {},
   "source": [
    "Import data for 3 regions."
   ]
  },
  {
   "cell_type": "code",
   "execution_count": 2,
   "metadata": {},
   "outputs": [],
   "source": [
    "geo_data_0 = pd.read_csv('/datasets/geo_data_0.csv')\n",
    "geo_data_1 = pd.read_csv('/datasets/geo_data_1.csv')\n",
    "geo_data_2 = pd.read_csv('/datasets/geo_data_2.csv')"
   ]
  },
  {
   "cell_type": "markdown",
   "metadata": {},
   "source": [
    "Check the first 5 rows of data from 3 regions."
   ]
  },
  {
   "cell_type": "code",
   "execution_count": 3,
   "metadata": {},
   "outputs": [
    {
     "name": "stdout",
     "output_type": "stream",
     "text": [
      "      id        f0        f1        f2     product\n",
      "0  txEyH  0.705745 -0.497823  1.221170  105.280062\n",
      "1  2acmU  1.334711 -0.340164  4.365080   73.037750\n",
      "2  409Wp  1.022732  0.151990  1.419926   85.265647\n",
      "3  iJLyR -0.032172  0.139033  2.978566  168.620776\n",
      "4  Xdl7t  1.988431  0.155413  4.751769  154.036647\n",
      "-----------------------------------------------------\n",
      "      id         f0         f1        f2     product\n",
      "0  kBEdx -15.001348  -8.276000 -0.005876    3.179103\n",
      "1  62mP7  14.272088  -3.475083  0.999183   26.953261\n",
      "2  vyE1P   6.263187  -5.948386  5.001160  134.766305\n",
      "3  KcrkZ -13.081196 -11.506057  4.999415  137.945408\n",
      "4  AHL4O  12.702195  -8.147433  5.004363  134.766305\n",
      "-----------------------------------------------------\n",
      "      id        f0        f1        f2     product\n",
      "0  fwXo0 -1.146987  0.963328 -0.828965   27.758673\n",
      "1  WJtFt  0.262778  0.269839 -2.530187   56.069697\n",
      "2  ovLUW  0.194587  0.289035 -5.586433   62.871910\n",
      "3  q6cA6  2.236060 -0.553760  0.930038  114.572842\n",
      "4  WPMUX -0.515993  1.716266  5.899011  149.600746\n"
     ]
    }
   ],
   "source": [
    "print(geo_data_0.head())\n",
    "print('-'*53)\n",
    "print(geo_data_1.head())\n",
    "print('-'*53)\n",
    "print(geo_data_2.head())"
   ]
  },
  {
   "cell_type": "markdown",
   "metadata": {},
   "source": [
    "Check the general information about the data of 3 regions."
   ]
  },
  {
   "cell_type": "code",
   "execution_count": 4,
   "metadata": {},
   "outputs": [
    {
     "name": "stdout",
     "output_type": "stream",
     "text": [
      "Регион 1:\n",
      "-------------------------------------\n",
      "<class 'pandas.core.frame.DataFrame'>\n",
      "RangeIndex: 100000 entries, 0 to 99999\n",
      "Data columns (total 5 columns):\n",
      " #   Column   Non-Null Count   Dtype  \n",
      "---  ------   --------------   -----  \n",
      " 0   id       100000 non-null  object \n",
      " 1   f0       100000 non-null  float64\n",
      " 2   f1       100000 non-null  float64\n",
      " 3   f2       100000 non-null  float64\n",
      " 4   product  100000 non-null  float64\n",
      "dtypes: float64(4), object(1)\n",
      "memory usage: 3.8+ MB\n",
      "None\n",
      "\n",
      "Регион 2:\n",
      "-------------------------------------\n",
      "<class 'pandas.core.frame.DataFrame'>\n",
      "RangeIndex: 100000 entries, 0 to 99999\n",
      "Data columns (total 5 columns):\n",
      " #   Column   Non-Null Count   Dtype  \n",
      "---  ------   --------------   -----  \n",
      " 0   id       100000 non-null  object \n",
      " 1   f0       100000 non-null  float64\n",
      " 2   f1       100000 non-null  float64\n",
      " 3   f2       100000 non-null  float64\n",
      " 4   product  100000 non-null  float64\n",
      "dtypes: float64(4), object(1)\n",
      "memory usage: 3.8+ MB\n",
      "None\n",
      "\n",
      "Регион 3:\n",
      "-------------------------------------\n",
      "<class 'pandas.core.frame.DataFrame'>\n",
      "RangeIndex: 100000 entries, 0 to 99999\n",
      "Data columns (total 5 columns):\n",
      " #   Column   Non-Null Count   Dtype  \n",
      "---  ------   --------------   -----  \n",
      " 0   id       100000 non-null  object \n",
      " 1   f0       100000 non-null  float64\n",
      " 2   f1       100000 non-null  float64\n",
      " 3   f2       100000 non-null  float64\n",
      " 4   product  100000 non-null  float64\n",
      "dtypes: float64(4), object(1)\n",
      "memory usage: 3.8+ MB\n",
      "None\n"
     ]
    }
   ],
   "source": [
    "print(\"Регион 1:\")\n",
    "print('-'*37)\n",
    "print(geo_data_0.info())\n",
    "print()\n",
    "print(\"Регион 2:\")\n",
    "print('-'*37)\n",
    "print(geo_data_1.info())\n",
    "print()\n",
    "print(\"Регион 3:\")\n",
    "print('-'*37)\n",
    "print(geo_data_2.info())"
   ]
  },
  {
   "cell_type": "markdown",
   "metadata": {},
   "source": [
    "Check the duplicates."
   ]
  },
  {
   "cell_type": "code",
   "execution_count": 5,
   "metadata": {},
   "outputs": [
    {
     "name": "stdout",
     "output_type": "stream",
     "text": [
      "Дубликатов в наборе данных для региона 1: 0\n",
      "Дубликатов в наборе данных для региона 2: 0\n",
      "Дубликатов в наборе данных для региона 3: 0\n"
     ]
    }
   ],
   "source": [
    "print(\"Дубликатов в наборе данных для региона 1:\", geo_data_0.duplicated().sum())\n",
    "print(\"Дубликатов в наборе данных для региона 2:\", geo_data_1.duplicated().sum())\n",
    "print(\"Дубликатов в наборе данных для региона 3:\", geo_data_2.duplicated().sum())"
   ]
  },
  {
   "cell_type": "markdown",
   "metadata": {},
   "source": [
    "Check descriptive statistics for 3 regions."
   ]
  },
  {
   "cell_type": "code",
   "execution_count": 6,
   "metadata": {},
   "outputs": [
    {
     "name": "stdout",
     "output_type": "stream",
     "text": [
      "Регион 1:\n",
      "-----------------------------------------------------------------\n",
      "                  f0             f1             f2        product\n",
      "count  100000.000000  100000.000000  100000.000000  100000.000000\n",
      "mean        0.500419       0.250143       2.502647      92.500000\n",
      "std         0.871832       0.504433       3.248248      44.288691\n",
      "min        -1.408605      -0.848218     -12.088328       0.000000\n",
      "25%        -0.072580      -0.200881       0.287748      56.497507\n",
      "50%         0.502360       0.250252       2.515969      91.849972\n",
      "75%         1.073581       0.700646       4.715088     128.564089\n",
      "max         2.362331       1.343769      16.003790     185.364347\n",
      "\n",
      "Регион 2:\n",
      "-----------------------------------------------------------------\n",
      "                  f0             f1             f2        product\n",
      "count  100000.000000  100000.000000  100000.000000  100000.000000\n",
      "mean        1.141296      -4.796579       2.494541      68.825000\n",
      "std         8.965932       5.119872       1.703572      45.944423\n",
      "min       -31.609576     -26.358598      -0.018144       0.000000\n",
      "25%        -6.298551      -8.267985       1.000021      26.953261\n",
      "50%         1.153055      -4.813172       2.011479      57.085625\n",
      "75%         8.621015      -1.332816       3.999904     107.813044\n",
      "max        29.421755      18.734063       5.019721     137.945408\n",
      "\n",
      "Регион 3:\n",
      "-----------------------------------------------------------------\n",
      "                  f0             f1             f2        product\n",
      "count  100000.000000  100000.000000  100000.000000  100000.000000\n",
      "mean        0.002023      -0.002081       2.495128      95.000000\n",
      "std         1.732045       1.730417       3.473445      44.749921\n",
      "min        -8.760004      -7.084020     -11.970335       0.000000\n",
      "25%        -1.162288      -1.174820       0.130359      59.450441\n",
      "50%         0.009424      -0.009482       2.484236      94.925613\n",
      "75%         1.158535       1.163678       4.858794     130.595027\n",
      "max         7.238262       7.844801      16.739402     190.029838\n"
     ]
    }
   ],
   "source": [
    "print(\"Регион 1:\")\n",
    "print('-'*65)\n",
    "print(geo_data_0.describe())\n",
    "print()\n",
    "print(\"Регион 2:\")\n",
    "print('-'*65)\n",
    "print(geo_data_1.describe())\n",
    "print()\n",
    "print(\"Регион 3:\")\n",
    "print('-'*65)\n",
    "print(geo_data_2.describe())"
   ]
  },
  {
   "cell_type": "markdown",
   "metadata": {},
   "source": [
    "Check correlation in 3 datasets."
   ]
  },
  {
   "cell_type": "code",
   "execution_count": 7,
   "metadata": {},
   "outputs": [
    {
     "name": "stdout",
     "output_type": "stream",
     "text": [
      "               f0        f1        f2   product\n",
      "f0       1.000000 -0.440723 -0.003153  0.143536\n",
      "f1      -0.440723  1.000000  0.001724 -0.192356\n",
      "f2      -0.003153  0.001724  1.000000  0.483663\n",
      "product  0.143536 -0.192356  0.483663  1.000000\n",
      "               f0        f1        f2   product\n",
      "f0       1.000000  0.182287 -0.001777 -0.030491\n",
      "f1       0.182287  1.000000 -0.002595 -0.010155\n",
      "f2      -0.001777 -0.002595  1.000000  0.999397\n",
      "product -0.030491 -0.010155  0.999397  1.000000\n",
      "               f0        f1        f2   product\n",
      "f0       1.000000  0.000528 -0.000448 -0.001987\n",
      "f1       0.000528  1.000000  0.000779 -0.001012\n",
      "f2      -0.000448  0.000779  1.000000  0.445871\n",
      "product -0.001987 -0.001012  0.445871  1.000000\n"
     ]
    }
   ],
   "source": [
    "print(geo_data_0.corr())\n",
    "print(geo_data_1.corr())\n",
    "print(geo_data_2.corr())"
   ]
  },
  {
   "cell_type": "code",
   "execution_count": 15,
   "metadata": {},
   "outputs": [
    {
     "data": {
      "image/png": "[encoded data removed]",
      "text/plain": [
       "<Figure size 360x288 with 2 Axes>"
      ]
     },
     "metadata": {
      "needs_background": "light"
     },
     "output_type": "display_data"
    },
    {
     "data": {
      "image/png": "[encoded data removed]",
      "text/plain": [
       "<Figure size 360x288 with 2 Axes>"
      ]
     },
     "metadata": {
      "needs_background": "light"
     },
     "output_type": "display_data"
    },
    {
     "data": {
      "image/png": "[encoded data removed]",
      "text/plain": [
       "<Figure size 360x288 with 2 Axes>"
      ]
     },
     "metadata": {
      "needs_background": "light"
     },
     "output_type": "display_data"
    }
   ],
   "source": [
    "#Create a graph to visualize correlation\n",
    "\n",
    "geo_list = [geo_data_0, geo_data_1, geo_data_2]\n",
    "\n",
    "count = 0\n",
    "for i in geo_list:\n",
    "    count +=1\n",
    "    plt.figure(figsize=(5,4))\n",
    "    sns.heatmap(i.corr(), xticklabels=i.corr().columns, yticklabels=i.corr().columns, annot=True, cmap='YlGnBu')\n",
    "    plt.title('Корреляция данных по скважинам в регионе '+str(count))\n",
    "    plt.show()"
   ]
  },
  {
   "cell_type": "markdown",
   "metadata": {},
   "source": [
    "Check distribution of values of product column in 3 regions."
   ]
  },
  {
   "cell_type": "code",
   "execution_count": 9,
   "metadata": {},
   "outputs": [
    {
     "data": {
      "image/png": "[encoded data removed]",
      "text/plain": [
       "<Figure size 360x288 with 1 Axes>"
      ]
     },
     "metadata": {
      "needs_background": "light"
     },
     "output_type": "display_data"
    },
    {
     "data": {
      "image/png": "[encoded data removed]",
      "text/plain": [
       "<Figure size 360x288 with 1 Axes>"
      ]
     },
     "metadata": {
      "needs_background": "light"
     },
     "output_type": "display_data"
    },
    {
     "data": {
      "image/png": "[encoded data removed]",
      "text/plain": [
       "<Figure size 360x288 with 1 Axes>"
      ]
     },
     "metadata": {
      "needs_background": "light"
     },
     "output_type": "display_data"
    }
   ],
   "source": [
    "plt.figure(figsize=(5,4))\n",
    "sns.distplot(geo_data_0['product'])\n",
    "plt.title('Распределение запасов в скважинах регионе 1')\n",
    "plt.show()\n",
    "\n",
    "plt.figure(figsize=(5,4))\n",
    "sns.distplot(geo_data_1['product'])\n",
    "plt.title('Распределение запасов в скважинах регионе 2')\n",
    "plt.show()\n",
    "\n",
    "plt.figure(figsize=(5,4))\n",
    "sns.distplot(geo_data_2['product'])\n",
    "plt.title('Распределение запасов в скважинах регионе 3')\n",
    "plt.show()"
   ]
  },
  {
   "cell_type": "markdown",
   "metadata": {},
   "source": [
    "### Conclusion."
   ]
  },
  {
   "cell_type": "markdown",
   "metadata": {},
   "source": [
    "Data for three regions was uploaded and verified.\n",
    "\n",
    "No missing values or duplicates were found in the data.\n",
    "\n",
    "Based on descriptive statistics, the largest average and median value of oil reserves in the data set is in the region 3.\n",
    "\n",
    "In general, the correlation among parameters is week except for the region 2, where a strong correlation is observed for the attribute f2 and the value of product.\n",
    "\n"
   ]
  },
  {
   "cell_type": "markdown",
   "metadata": {},
   "source": [
    "## Model training and validation"
   ]
  },
  {
   "cell_type": "markdown",
   "metadata": {},
   "source": [
    "2.1. Split the data into training and validation samples in a ratio of 75:25."
   ]
  },
  {
   "cell_type": "markdown",
   "metadata": {},
   "source": [
    "2.2. Train the model and make predictions on the validation sample."
   ]
  },
  {
   "cell_type": "markdown",
   "metadata": {},
   "source": [
    "2.3. Save the predictions and correct answers on the validation sample."
   ]
  },
  {
   "cell_type": "markdown",
   "metadata": {},
   "source": [
    "2.4. Print the average stock of the predicted raw materials and the RMSE of the model."
   ]
  },
  {
   "cell_type": "code",
   "execution_count": 10,
   "metadata": {},
   "outputs": [
    {
     "name": "stdout",
     "output_type": "stream",
     "text": [
      "               RMSE  Average_predicted_reserve\n",
      "Region_1  37.579422                  92.592568\n",
      "Region_2   0.893099                  68.728547\n",
      "Region_3  40.029709                  94.965046\n"
     ]
    }
   ],
   "source": [
    "def data_model(df):\n",
    "    features = df.drop(['id','product'], axis=1)\n",
    "    train = df['product']\n",
    "    features_train, features_valid, target_train, target_valid = train_test_split(features , train, test_size=0.25, random_state=12345)\n",
    "    \n",
    "    model=LinearRegression()\n",
    "    model.fit(features_train, target_train)\n",
    "    predictions_valid=model.predict(features_valid)\n",
    "    rmse = (mean_squared_error(target_valid, predictions_valid))**0.5\n",
    "    average_predicted_reserve = pd.Series(predictions_valid).mean()\n",
    "    target_valid = target_valid.reset_index(drop=True)\n",
    "    predictions_valid = pd.Series(predictions_valid)\n",
    "    return rmse, average_predicted_reserve, predictions_valid, target_valid\n",
    "\n",
    "\n",
    "#Apply the formula\n",
    "rmse1, Average_predicted_reserve1, reg1_prediction, target1_valid  = data_model(geo_data_0)\n",
    "rmse2, Average_predicted_reserve2, reg2_prediction, target2_valid = data_model(geo_data_1)\n",
    "rmse3, Average_predicted_reserve3, reg3_prediction, target3_valid  = data_model(geo_data_2)\n",
    "\n",
    "\n",
    "reg1= [rmse1, Average_predicted_reserve1]\n",
    "reg2= [rmse2, Average_predicted_reserve2]\n",
    "reg3= [rmse3, Average_predicted_reserve3]\n",
    "\n",
    "result = pd.DataFrame(data = [reg1, reg2, reg3],\n",
    "                     columns =['RMSE','Average_predicted_reserve'],\n",
    "                    index=['Region_1','Region_2','Region_3'])\n",
    "\n",
    "print(result)"
   ]
  },
  {
   "cell_type": "markdown",
   "metadata": {},
   "source": [
    "### Conclusion."
   ]
  },
  {
   "cell_type": "markdown",
   "metadata": {},
   "source": [
    "The smallest RMSE error is for the model for region 2, the model predicts almost perfectly, while the average predicted volume of reserves in this region is the smallest.\n",
    "\n",
    "According to the prediction of the model, region 3 has the largest margin, but this region also has the largest error.\n",
    "\n",
    "For region 1, the model predicts the second largest oil reserves among 3 regions with an error less than the error for region 3.\n"
   ]
  },
  {
   "cell_type": "markdown",
   "metadata": {},
   "source": [
    "## Preparation for profit calculation"
   ]
  },
  {
   "cell_type": "markdown",
   "metadata": {},
   "source": [
    "3.1. Save all key values for calculations in separate variables."
   ]
  },
  {
   "cell_type": "code",
   "execution_count": 11,
   "metadata": {},
   "outputs": [],
   "source": [
    "BUDGET = 10000000000\n",
    "SAMPLE = 500\n",
    "SUBSAMPLE = 200\n",
    "INCOME = 450000\n",
    "RISK = 0.0025"
   ]
  },
  {
   "cell_type": "markdown",
   "metadata": {},
   "source": [
    "3.2. Calculate a break-even point of a new well. Compare this breakeven point with the average stock in each region."
   ]
  },
  {
   "cell_type": "code",
   "execution_count": 12,
   "metadata": {},
   "outputs": [
    {
     "name": "stdout",
     "output_type": "stream",
     "text": [
      "Точка безубыточности: 111.11\n"
     ]
    }
   ],
   "source": [
    "breakeven_point = (budget/subsample)/income\n",
    "print('Точка безубыточности: {:.2f}'.format(breakeven_point))"
   ]
  },
  {
   "cell_type": "code",
   "execution_count": 13,
   "metadata": {},
   "outputs": [
    {
     "name": "stdout",
     "output_type": "stream",
     "text": [
      "Средний запас сырья в регионе 1: 92.50\n",
      "Средний запас сырья в регионе 2: 68.83\n",
      "Средний запас сырья в регионе 3: 95.00\n"
     ]
    }
   ],
   "source": [
    "print('Средний запас сырья в регионе 1: {:.2f}'.format(geo_data_0['product'].mean()))\n",
    "print('Средний запас сырья в регионе 2: {:.2f}'.format(geo_data_1['product'].mean()))\n",
    "print('Средний запас сырья в регионе 3: {:.2f}'.format(geo_data_2['product'].mean()))"
   ]
  },
  {
   "cell_type": "markdown",
   "metadata": {},
   "source": [
    "### Conclusion."
   ]
  },
  {
   "cell_type": "markdown",
   "metadata": {},
   "source": [
    "In order for the development of a new well to break even, it is necessary that the stock of raw materials is at least 111.11 thousand barrels.\n",
    "\n",
    "The average stock of raw materials in all three regions is less than this value, so an arbitrary choice of wells can lead to a loss. However, taking into account the total number of wells and the values of 75% of the quantiles for the three regions, there are wells in these regions that meet the break-even conditions."
   ]
  },
  {
   "cell_type": "markdown",
   "metadata": {},
   "source": [
    "## Calculation of profit and risks "
   ]
  },
  {
   "cell_type": "markdown",
   "metadata": {},
   "source": [
    "4.1. Select wells with maximum prediction values.\n",
    "\n",
    "4.2. Sum up the target value of the volume of raw materials corresponding to these predictions.\n",
    "\n",
    "4.3. Calculate the profit for the received volume of raw materials."
   ]
  },
  {
   "cell_type": "markdown",
   "metadata": {},
   "source": [
    "Create a function for calculating profit taking into account the predictions of the model"
   ]
  },
  {
   "cell_type": "code",
   "execution_count": 14,
   "metadata": {},
   "outputs": [],
   "source": [
    "def profit(target, probabilities, count):\n",
    "    probabilities_sorted = pd.Series(probabilities).sort_values(ascending=False)\n",
    "    best_oilwells = target[probabilities_sorted.index][:count]\n",
    "    return (income * best_oilwells.sum() - (budget))"
   ]
  },
  {
   "cell_type": "markdown",
   "metadata": {},
   "source": [
    "Calculate the profit based on the results of predictions for three regions."
   ]
  },
  {
   "cell_type": "code",
   "execution_count": 15,
   "metadata": {},
   "outputs": [
    {
     "name": "stdout",
     "output_type": "stream",
     "text": [
      "Прибыль региона 1: 3.32 млрд\n",
      "Прибыль региона 2: 2.42 млрд\n",
      "Прибыль региона 3: 2.71 млрд\n"
     ]
    }
   ],
   "source": [
    "income_1 = profit(target1_valid, reg1_prediction, 200)\n",
    "income_2 = profit(target2_valid, reg2_prediction, 200)\n",
    "income_3 = profit(target3_valid, reg3_prediction, 200)\n",
    "\n",
    "print('Прибыль региона 1: {:.2f} млрд'.format(income_1/10**9))\n",
    "print('Прибыль региона 2: {:.2f} млрд'.format(income_2/10**9))\n",
    "print('Прибыль региона 3: {:.2f} млрд'.format(income_3/10**9))"
   ]
  },
  {
   "cell_type": "markdown",
   "metadata": {},
   "source": [
    "Calculate the risks and profits for each region:\n",
    "\n",
    "5.1. Apply the Bootstrap technique with 1000 samples to find the profit distribution.\n",
    "\n",
    "5.2. Find the average profit, the 95% confidence interval and the risk of losses. A loss is a negative profit.\n",
    "\n",
    "5.3. Write conclusion: suggest a region for the development of wells and justify the choice.\n"
   ]
  },
  {
   "cell_type": "code",
   "execution_count": 16,
   "metadata": {},
   "outputs": [],
   "source": [
    "def bootstrep (target,prediction):\n",
    "    state=np.random.RandomState(12345)\n",
    "    values=[]\n",
    "    for i in range(1000):\n",
    "        target_subsample = target.sample(n=500, replace=True, random_state=state)\n",
    "        prediction_subsample = prediction[target_subsample.index]\n",
    "        values.append(profit(target_subsample, prediction_subsample, 200))\n",
    "        \n",
    "    values = pd.Series(values)\n",
    "    mean = values.mean()\n",
    "    lower = values.quantile(0.025)\n",
    "    upper = values.quantile(0.975)\n",
    "    risk = (values < 0).mean()*100\n",
    "    \n",
    "    return mean, lower, upper, risk\n",
    "\n",
    "mean1, lower1, upper1, risk1 = bootstrep(target1_valid, reg1_prediction)\n",
    "mean2, lower2, upper2, risk2 = bootstrep(target2_valid, reg2_prediction)\n",
    "mean3, lower3, upper3, risk3 = bootstrep(target3_valid, reg3_prediction)\n",
    "\n"
   ]
  },
  {
   "cell_type": "code",
   "execution_count": 17,
   "metadata": {},
   "outputs": [
    {
     "name": "stdout",
     "output_type": "stream",
     "text": [
      "              Mean     Lower     Upper  Risks level, %\n",
      "Region_1  0.425939 -0.102090  0.947976             6.0\n",
      "Region_2  0.515223  0.068873  0.931548             1.0\n",
      "Region_3  0.435008 -0.128881  0.969707             6.4\n"
     ]
    }
   ],
   "source": [
    "result1 = [mean1/10**9, lower1/10**9, upper1/10**9, risk1]\n",
    "result2 = [mean2/10**9, lower2/10**9, upper2/10**9, risk2]\n",
    "result3 = [mean3/10**9, lower3/10**9, upper3/10**9, risk3]\n",
    "\n",
    "result = pd.DataFrame(data = [result1 , result2 , result3],\n",
    "                     columns =['Mean','Lower','Upper','Risks level, %'],\n",
    "                    index=['Region_1','Region_2','Region_3'])\n",
    "\n",
    "print(result)"
   ]
  },
  {
   "cell_type": "markdown",
   "metadata": {},
   "source": [
    "## Conclusion."
   ]
  },
  {
   "cell_type": "markdown",
   "metadata": {},
   "source": [
    "Based on the predictions of the model, it can be concluded that the least risky region for development is region 2, which also has the highest average predicted profit."
   ]
  }
 ],
 "metadata": {
  "ExecuteTimeLog": [
   {
    "duration": 947,
    "start_time": "2021-07-18T20:07:50.944Z"
   },
   {
    "duration": 138,
    "start_time": "2021-07-18T20:11:31.285Z"
   },
   {
    "duration": 11,
    "start_time": "2021-07-18T20:12:23.568Z"
   },
   {
    "duration": 262,
    "start_time": "2021-07-18T20:12:42.290Z"
   },
   {
    "duration": 42,
    "start_time": "2021-07-18T20:12:49.254Z"
   },
   {
    "duration": 37,
    "start_time": "2021-07-18T20:13:00.813Z"
   },
   {
    "duration": 145,
    "start_time": "2021-07-18T20:13:53.175Z"
   },
   {
    "duration": 10,
    "start_time": "2021-07-18T20:14:04.058Z"
   },
   {
    "duration": 9,
    "start_time": "2021-07-18T20:14:09.172Z"
   },
   {
    "duration": 37,
    "start_time": "2021-07-18T20:14:29.703Z"
   },
   {
    "duration": 35,
    "start_time": "2021-07-18T20:14:43.361Z"
   },
   {
    "duration": 182,
    "start_time": "2021-07-18T20:16:30.274Z"
   },
   {
    "duration": 18,
    "start_time": "2021-07-18T20:16:42.151Z"
   },
   {
    "duration": 18,
    "start_time": "2021-07-18T20:17:19.871Z"
   },
   {
    "duration": 124,
    "start_time": "2021-07-18T20:18:05.533Z"
   },
   {
    "duration": 11,
    "start_time": "2021-07-18T20:18:21.881Z"
   },
   {
    "duration": 39,
    "start_time": "2021-07-18T20:18:33.988Z"
   },
   {
    "duration": 35,
    "start_time": "2021-07-18T20:18:44.439Z"
   },
   {
    "duration": 35,
    "start_time": "2021-07-18T20:18:55.493Z"
   },
   {
    "duration": 33,
    "start_time": "2021-07-18T20:18:59.310Z"
   },
   {
    "duration": 344,
    "start_time": "2021-07-18T21:28:46.610Z"
   },
   {
    "duration": 174,
    "start_time": "2021-07-18T21:29:43.813Z"
   },
   {
    "duration": 12,
    "start_time": "2021-07-18T21:29:58.103Z"
   },
   {
    "duration": 12,
    "start_time": "2021-07-18T21:30:12.288Z"
   },
   {
    "duration": 13,
    "start_time": "2021-07-18T21:30:24.136Z"
   },
   {
    "duration": 13,
    "start_time": "2021-07-18T21:30:33.490Z"
   },
   {
    "duration": 25,
    "start_time": "2021-07-18T21:32:40.726Z"
   },
   {
    "duration": 24,
    "start_time": "2021-07-18T21:32:58.518Z"
   },
   {
    "duration": 105,
    "start_time": "2021-07-18T21:34:44.485Z"
   },
   {
    "duration": 95,
    "start_time": "2021-07-18T21:34:50.151Z"
   },
   {
    "duration": 85,
    "start_time": "2021-07-18T21:36:13.636Z"
   },
   {
    "duration": 86,
    "start_time": "2021-07-18T21:36:41.642Z"
   },
   {
    "duration": 84,
    "start_time": "2021-07-18T21:37:06.520Z"
   },
   {
    "duration": 86,
    "start_time": "2021-07-18T21:37:21.542Z"
   },
   {
    "duration": 86,
    "start_time": "2021-07-18T21:37:28.165Z"
   },
   {
    "duration": 85,
    "start_time": "2021-07-18T21:37:33.637Z"
   },
   {
    "duration": 84,
    "start_time": "2021-07-18T21:37:40.666Z"
   },
   {
    "duration": 83,
    "start_time": "2021-07-18T21:37:55.331Z"
   },
   {
    "duration": 82,
    "start_time": "2021-07-18T21:38:00.211Z"
   },
   {
    "duration": 82,
    "start_time": "2021-07-18T21:38:05.300Z"
   },
   {
    "duration": 86,
    "start_time": "2021-07-18T21:38:09.069Z"
   },
   {
    "duration": 89,
    "start_time": "2021-07-18T21:38:16.062Z"
   },
   {
    "duration": 94,
    "start_time": "2021-07-18T21:38:23.168Z"
   },
   {
    "duration": 83,
    "start_time": "2021-07-18T21:38:39.623Z"
   },
   {
    "duration": 83,
    "start_time": "2021-07-18T21:38:52.654Z"
   },
   {
    "duration": 11,
    "start_time": "2021-07-18T21:41:04.908Z"
   },
   {
    "duration": 12,
    "start_time": "2021-07-18T21:41:09.129Z"
   },
   {
    "duration": 11,
    "start_time": "2021-07-18T21:41:13.619Z"
   },
   {
    "duration": 11,
    "start_time": "2021-07-18T21:41:17.822Z"
   },
   {
    "duration": 11,
    "start_time": "2021-07-18T21:41:24.781Z"
   },
   {
    "duration": 24,
    "start_time": "2021-07-18T21:41:55.303Z"
   },
   {
    "duration": 24,
    "start_time": "2021-07-18T21:41:59.734Z"
   },
   {
    "duration": 23,
    "start_time": "2021-07-18T21:42:08.883Z"
   },
   {
    "duration": 111,
    "start_time": "2021-07-18T21:42:30.092Z"
   },
   {
    "duration": 60,
    "start_time": "2021-07-18T21:56:55.599Z"
   },
   {
    "duration": 5,
    "start_time": "2021-07-18T22:00:40.178Z"
   },
   {
    "duration": 70,
    "start_time": "2021-07-18T22:12:36.994Z"
   },
   {
    "duration": 65,
    "start_time": "2021-07-18T22:12:56.879Z"
   },
   {
    "duration": 87,
    "start_time": "2021-07-18T22:13:30.767Z"
   },
   {
    "duration": 69,
    "start_time": "2021-07-18T22:17:01.718Z"
   },
   {
    "duration": 56,
    "start_time": "2021-07-18T22:17:14.909Z"
   },
   {
    "duration": 57,
    "start_time": "2021-07-18T22:17:22.852Z"
   },
   {
    "duration": 311,
    "start_time": "2021-07-18T22:17:35.685Z"
   },
   {
    "duration": 345,
    "start_time": "2021-07-18T22:17:49.633Z"
   },
   {
    "duration": 4286,
    "start_time": "2021-07-18T22:18:41.807Z"
   },
   {
    "duration": 307,
    "start_time": "2021-07-18T22:19:25.377Z"
   },
   {
    "duration": 304,
    "start_time": "2021-07-18T22:19:46.389Z"
   },
   {
    "duration": 66,
    "start_time": "2021-07-18T22:20:07.221Z"
   },
   {
    "duration": 411,
    "start_time": "2021-07-18T22:20:37.183Z"
   },
   {
    "duration": 434,
    "start_time": "2021-07-18T22:20:57.161Z"
   },
   {
    "duration": 634,
    "start_time": "2021-07-18T22:38:39.043Z"
   },
   {
    "duration": 449,
    "start_time": "2021-07-18T22:39:28.048Z"
   },
   {
    "duration": 181,
    "start_time": "2021-07-18T23:05:32.793Z"
   },
   {
    "duration": 3,
    "start_time": "2021-07-18T23:05:36.054Z"
   },
   {
    "duration": 3,
    "start_time": "2021-07-18T23:05:37.377Z"
   },
   {
    "duration": 4,
    "start_time": "2021-07-18T23:05:44.394Z"
   },
   {
    "duration": 4,
    "start_time": "2021-07-18T23:06:10.853Z"
   },
   {
    "duration": 176,
    "start_time": "2021-07-18T23:09:23.056Z"
   },
   {
    "duration": 6,
    "start_time": "2021-07-18T23:09:29.945Z"
   },
   {
    "duration": 6,
    "start_time": "2021-07-18T23:10:18.240Z"
   },
   {
    "duration": 4,
    "start_time": "2021-07-18T23:10:58.518Z"
   },
   {
    "duration": 3,
    "start_time": "2021-07-18T23:11:05.614Z"
   },
   {
    "duration": 6,
    "start_time": "2021-07-18T23:11:12.173Z"
   },
   {
    "duration": 3,
    "start_time": "2021-07-18T23:11:21.354Z"
   },
   {
    "duration": 6,
    "start_time": "2021-07-18T23:11:29.971Z"
   },
   {
    "duration": 1031,
    "start_time": "2021-07-21T00:16:01.960Z"
   },
   {
    "duration": 332,
    "start_time": "2021-07-21T00:16:02.993Z"
   },
   {
    "duration": 10,
    "start_time": "2021-07-21T00:16:03.327Z"
   },
   {
    "duration": 27,
    "start_time": "2021-07-21T00:16:03.339Z"
   },
   {
    "duration": 102,
    "start_time": "2021-07-21T00:16:03.367Z"
   },
   {
    "duration": 94,
    "start_time": "2021-07-21T00:16:03.471Z"
   },
   {
    "duration": 434,
    "start_time": "2021-07-21T00:16:03.566Z"
   },
   {
    "duration": 89,
    "start_time": "2021-07-21T00:16:04.003Z"
   },
   {
    "duration": 96,
    "start_time": "2021-07-21T00:16:04.095Z"
   },
   {
    "duration": 6,
    "start_time": "2021-07-21T00:16:04.193Z"
   },
   {
    "duration": 21,
    "start_time": "2021-07-21T00:16:18.800Z"
   },
   {
    "duration": 78,
    "start_time": "2021-07-21T00:19:38.096Z"
   },
   {
    "duration": 284,
    "start_time": "2021-07-21T00:19:44.219Z"
   },
   {
    "duration": 115,
    "start_time": "2021-07-21T00:20:04.580Z"
   },
   {
    "duration": 303,
    "start_time": "2021-07-21T00:20:09.568Z"
   },
   {
    "duration": 192,
    "start_time": "2021-07-21T00:20:29.334Z"
   },
   {
    "duration": 178,
    "start_time": "2021-07-21T00:20:39.625Z"
   },
   {
    "duration": 161,
    "start_time": "2021-07-21T00:20:47.470Z"
   },
   {
    "duration": 171,
    "start_time": "2021-07-21T00:20:52.120Z"
   },
   {
    "duration": 236,
    "start_time": "2021-07-21T00:21:35.814Z"
   },
   {
    "duration": 162,
    "start_time": "2021-07-21T00:21:51.589Z"
   },
   {
    "duration": 164,
    "start_time": "2021-07-21T00:22:05.673Z"
   },
   {
    "duration": 324,
    "start_time": "2021-07-21T00:39:17.154Z"
   },
   {
    "duration": 496,
    "start_time": "2021-07-21T00:39:47.123Z"
   },
   {
    "duration": 496,
    "start_time": "2021-07-21T00:40:40.211Z"
   },
   {
    "duration": 577,
    "start_time": "2021-07-21T00:41:10.048Z"
   },
   {
    "duration": 487,
    "start_time": "2021-07-21T00:41:21.871Z"
   },
   {
    "duration": 364,
    "start_time": "2021-07-21T12:31:48.735Z"
   },
   {
    "duration": 1554,
    "start_time": "2021-07-21T12:31:53.993Z"
   },
   {
    "duration": 470,
    "start_time": "2021-07-21T12:31:55.550Z"
   },
   {
    "duration": 19,
    "start_time": "2021-07-21T12:31:56.023Z"
   },
   {
    "duration": 55,
    "start_time": "2021-07-21T12:31:56.045Z"
   },
   {
    "duration": 203,
    "start_time": "2021-07-21T12:31:56.102Z"
   },
   {
    "duration": 185,
    "start_time": "2021-07-21T12:31:56.307Z"
   },
   {
    "duration": 43,
    "start_time": "2021-07-21T12:31:56.495Z"
   },
   {
    "duration": 982,
    "start_time": "2021-07-21T12:31:56.541Z"
   },
   {
    "duration": 1019,
    "start_time": "2021-07-21T12:31:57.526Z"
   },
   {
    "duration": -19,
    "start_time": "2021-07-21T12:31:58.567Z"
   },
   {
    "duration": -26,
    "start_time": "2021-07-21T12:31:58.575Z"
   },
   {
    "duration": -28,
    "start_time": "2021-07-21T12:31:58.578Z"
   },
   {
    "duration": -28,
    "start_time": "2021-07-21T12:31:58.580Z"
   },
   {
    "duration": 1549,
    "start_time": "2021-07-21T12:32:15.920Z"
   },
   {
    "duration": 462,
    "start_time": "2021-07-21T12:32:17.472Z"
   },
   {
    "duration": 17,
    "start_time": "2021-07-21T12:32:17.937Z"
   },
   {
    "duration": 58,
    "start_time": "2021-07-21T12:32:17.957Z"
   },
   {
    "duration": 210,
    "start_time": "2021-07-21T12:32:18.018Z"
   },
   {
    "duration": 140,
    "start_time": "2021-07-21T12:32:18.230Z"
   },
   {
    "duration": 42,
    "start_time": "2021-07-21T12:32:18.372Z"
   },
   {
    "duration": 993,
    "start_time": "2021-07-21T12:32:18.416Z"
   },
   {
    "duration": 1093,
    "start_time": "2021-07-21T12:32:19.413Z"
   },
   {
    "duration": -141,
    "start_time": "2021-07-21T12:32:20.650Z"
   },
   {
    "duration": -146,
    "start_time": "2021-07-21T12:32:20.657Z"
   },
   {
    "duration": -150,
    "start_time": "2021-07-21T12:32:20.662Z"
   },
   {
    "duration": -153,
    "start_time": "2021-07-21T12:32:20.667Z"
   },
   {
    "duration": 104,
    "start_time": "2021-07-21T12:33:03.750Z"
   },
   {
    "duration": 318,
    "start_time": "2021-07-21T12:33:15.939Z"
   },
   {
    "duration": 1029,
    "start_time": "2021-07-21T12:33:46.807Z"
   },
   {
    "duration": 317,
    "start_time": "2021-07-21T12:37:00.485Z"
   },
   {
    "duration": 1386,
    "start_time": "2021-07-21T12:37:13.941Z"
   },
   {
    "duration": 1567,
    "start_time": "2021-07-21T12:45:29.877Z"
   },
   {
    "duration": 489,
    "start_time": "2021-07-21T12:45:31.447Z"
   },
   {
    "duration": 18,
    "start_time": "2021-07-21T12:45:31.940Z"
   },
   {
    "duration": 67,
    "start_time": "2021-07-21T12:45:31.961Z"
   },
   {
    "duration": 239,
    "start_time": "2021-07-21T12:45:32.031Z"
   },
   {
    "duration": 160,
    "start_time": "2021-07-21T12:45:32.273Z"
   },
   {
    "duration": 33,
    "start_time": "2021-07-21T12:45:32.435Z"
   },
   {
    "duration": 968,
    "start_time": "2021-07-21T12:45:32.488Z"
   },
   {
    "duration": 1552,
    "start_time": "2021-07-21T12:45:33.459Z"
   },
   {
    "duration": 393,
    "start_time": "2021-07-21T12:45:35.014Z"
   },
   {
    "duration": 5,
    "start_time": "2021-07-21T12:45:35.488Z"
   },
   {
    "duration": 95,
    "start_time": "2021-07-21T12:45:35.497Z"
   },
   {
    "duration": 13,
    "start_time": "2021-07-21T12:45:35.594Z"
   },
   {
    "duration": 1900,
    "start_time": "2021-07-21T12:46:03.776Z"
   },
   {
    "duration": 693,
    "start_time": "2021-07-21T12:46:05.680Z"
   },
   {
    "duration": 32,
    "start_time": "2021-07-21T12:46:06.377Z"
   },
   {
    "duration": 54,
    "start_time": "2021-07-21T12:46:06.413Z"
   },
   {
    "duration": 252,
    "start_time": "2021-07-21T12:46:06.487Z"
   },
   {
    "duration": 152,
    "start_time": "2021-07-21T12:46:06.743Z"
   },
   {
    "duration": 32,
    "start_time": "2021-07-21T12:46:06.897Z"
   },
   {
    "duration": 942,
    "start_time": "2021-07-21T12:46:06.933Z"
   },
   {
    "duration": 1440,
    "start_time": "2021-07-21T12:46:07.885Z"
   },
   {
    "duration": 456,
    "start_time": "2021-07-21T12:46:09.328Z"
   },
   {
    "duration": 6,
    "start_time": "2021-07-21T12:46:09.788Z"
   },
   {
    "duration": 91,
    "start_time": "2021-07-21T12:46:09.797Z"
   },
   {
    "duration": 11,
    "start_time": "2021-07-21T12:46:09.892Z"
   },
   {
    "duration": 1007,
    "start_time": "2021-07-21T12:50:04.072Z"
   },
   {
    "duration": 824,
    "start_time": "2021-07-21T12:51:08.069Z"
   },
   {
    "duration": 397,
    "start_time": "2021-07-21T12:51:40.616Z"
   },
   {
    "duration": 860,
    "start_time": "2021-07-21T12:52:36.940Z"
   },
   {
    "duration": 796,
    "start_time": "2021-07-21T12:52:46.421Z"
   },
   {
    "duration": 438,
    "start_time": "2021-07-21T12:59:26.219Z"
   },
   {
    "duration": 376,
    "start_time": "2021-07-21T12:59:45.766Z"
   },
   {
    "duration": 1047,
    "start_time": "2021-07-21T13:00:23.653Z"
   },
   {
    "duration": 393,
    "start_time": "2021-07-21T13:00:37.810Z"
   },
   {
    "duration": 113,
    "start_time": "2021-07-21T13:01:18.272Z"
   },
   {
    "duration": 780,
    "start_time": "2021-07-21T13:01:32.027Z"
   },
   {
    "duration": 866,
    "start_time": "2021-07-21T13:04:15.938Z"
   },
   {
    "duration": 478,
    "start_time": "2021-07-21T13:05:00.132Z"
   },
   {
    "duration": 468,
    "start_time": "2021-07-21T13:19:44.216Z"
   },
   {
    "duration": 415,
    "start_time": "2021-07-21T13:19:51.588Z"
   },
   {
    "duration": 545,
    "start_time": "2021-07-21T13:20:18.039Z"
   },
   {
    "duration": 378,
    "start_time": "2021-07-21T13:20:58.627Z"
   },
   {
    "duration": 461,
    "start_time": "2021-07-21T13:22:11.227Z"
   },
   {
    "duration": 572,
    "start_time": "2021-07-21T13:22:21.360Z"
   },
   {
    "duration": 539,
    "start_time": "2021-07-21T13:22:59.507Z"
   },
   {
    "duration": 1503,
    "start_time": "2021-07-21T13:23:07.356Z"
   },
   {
    "duration": 463,
    "start_time": "2021-07-21T13:23:08.862Z"
   },
   {
    "duration": 19,
    "start_time": "2021-07-21T13:23:09.328Z"
   },
   {
    "duration": 60,
    "start_time": "2021-07-21T13:23:09.351Z"
   },
   {
    "duration": 199,
    "start_time": "2021-07-21T13:23:09.414Z"
   },
   {
    "duration": 140,
    "start_time": "2021-07-21T13:23:09.616Z"
   },
   {
    "duration": 48,
    "start_time": "2021-07-21T13:23:09.759Z"
   },
   {
    "duration": 934,
    "start_time": "2021-07-21T13:23:09.811Z"
   },
   {
    "duration": 1389,
    "start_time": "2021-07-21T13:23:10.748Z"
   },
   {
    "duration": 552,
    "start_time": "2021-07-21T13:23:12.139Z"
   },
   {
    "duration": 91,
    "start_time": "2021-07-21T13:23:12.695Z"
   },
   {
    "duration": 10,
    "start_time": "2021-07-21T13:23:12.789Z"
   },
   {
    "duration": 9,
    "start_time": "2021-07-21T13:23:12.802Z"
   },
   {
    "duration": 589,
    "start_time": "2021-07-21T13:23:37.998Z"
   },
   {
    "duration": 736,
    "start_time": "2021-07-21T13:24:02.337Z"
   },
   {
    "duration": 1979,
    "start_time": "2021-07-21T13:24:09.235Z"
   },
   {
    "duration": 450,
    "start_time": "2021-07-21T13:24:11.216Z"
   },
   {
    "duration": 23,
    "start_time": "2021-07-21T13:24:11.669Z"
   },
   {
    "duration": 43,
    "start_time": "2021-07-21T13:24:11.695Z"
   },
   {
    "duration": 210,
    "start_time": "2021-07-21T13:24:11.741Z"
   },
   {
    "duration": 147,
    "start_time": "2021-07-21T13:24:11.954Z"
   },
   {
    "duration": 29,
    "start_time": "2021-07-21T13:24:12.104Z"
   },
   {
    "duration": 924,
    "start_time": "2021-07-21T13:24:12.137Z"
   },
   {
    "duration": 1417,
    "start_time": "2021-07-21T13:24:13.064Z"
   },
   {
    "duration": 419,
    "start_time": "2021-07-21T13:24:14.486Z"
   },
   {
    "duration": 6,
    "start_time": "2021-07-21T13:24:14.988Z"
   },
   {
    "duration": 5,
    "start_time": "2021-07-21T13:24:15.087Z"
   },
   {
    "duration": 11,
    "start_time": "2021-07-21T13:24:15.094Z"
   },
   {
    "duration": 476,
    "start_time": "2021-07-21T13:24:30.214Z"
   },
   {
    "duration": 1060,
    "start_time": "2021-07-22T00:57:13.249Z"
   },
   {
    "duration": 336,
    "start_time": "2021-07-22T00:57:14.311Z"
   },
   {
    "duration": 11,
    "start_time": "2021-07-22T00:57:14.649Z"
   },
   {
    "duration": 36,
    "start_time": "2021-07-22T00:57:14.662Z"
   },
   {
    "duration": 109,
    "start_time": "2021-07-22T00:57:14.700Z"
   },
   {
    "duration": 100,
    "start_time": "2021-07-22T00:57:14.811Z"
   },
   {
    "duration": 19,
    "start_time": "2021-07-22T00:57:14.913Z"
   },
   {
    "duration": 519,
    "start_time": "2021-07-22T00:57:14.934Z"
   },
   {
    "duration": 766,
    "start_time": "2021-07-22T00:57:15.455Z"
   },
   {
    "duration": 386,
    "start_time": "2021-07-22T00:57:16.222Z"
   },
   {
    "duration": 83,
    "start_time": "2021-07-22T00:57:16.610Z"
   },
   {
    "duration": 101,
    "start_time": "2021-07-22T00:57:16.695Z"
   },
   {
    "duration": 7,
    "start_time": "2021-07-22T00:57:16.798Z"
   },
   {
    "duration": 442,
    "start_time": "2021-07-22T00:58:55.368Z"
   },
   {
    "duration": 458,
    "start_time": "2021-07-22T00:59:04.345Z"
   },
   {
    "duration": 408,
    "start_time": "2021-07-22T00:59:14.698Z"
   },
   {
    "duration": 410,
    "start_time": "2021-07-22T00:59:41.400Z"
   },
   {
    "duration": 447,
    "start_time": "2021-07-22T01:04:48.063Z"
   },
   {
    "duration": 455,
    "start_time": "2021-07-22T01:04:58.738Z"
   },
   {
    "duration": 383,
    "start_time": "2021-07-22T01:05:48.109Z"
   },
   {
    "duration": 1060,
    "start_time": "2021-07-22T01:06:03.548Z"
   },
   {
    "duration": 340,
    "start_time": "2021-07-22T01:06:04.610Z"
   },
   {
    "duration": 11,
    "start_time": "2021-07-22T01:06:04.952Z"
   },
   {
    "duration": 32,
    "start_time": "2021-07-22T01:06:04.965Z"
   },
   {
    "duration": 109,
    "start_time": "2021-07-22T01:06:04.999Z"
   },
   {
    "duration": 96,
    "start_time": "2021-07-22T01:06:05.109Z"
   },
   {
    "duration": 20,
    "start_time": "2021-07-22T01:06:05.206Z"
   },
   {
    "duration": 620,
    "start_time": "2021-07-22T01:06:05.228Z"
   },
   {
    "duration": 883,
    "start_time": "2021-07-22T01:06:05.850Z"
   },
   {
    "duration": 367,
    "start_time": "2021-07-22T01:06:06.734Z"
   },
   {
    "duration": 3,
    "start_time": "2021-07-22T01:06:07.192Z"
   },
   {
    "duration": 6,
    "start_time": "2021-07-22T01:06:07.197Z"
   },
   {
    "duration": 88,
    "start_time": "2021-07-22T01:06:07.204Z"
   },
   {
    "duration": 424,
    "start_time": "2021-07-22T01:07:16.480Z"
   },
   {
    "duration": 388,
    "start_time": "2021-07-22T01:07:33.017Z"
   },
   {
    "duration": 2,
    "start_time": "2021-07-22T01:07:55.203Z"
   },
   {
    "duration": 366,
    "start_time": "2021-07-22T01:07:55.207Z"
   },
   {
    "duration": 11,
    "start_time": "2021-07-22T01:07:55.574Z"
   },
   {
    "duration": 24,
    "start_time": "2021-07-22T01:07:55.590Z"
   },
   {
    "duration": 107,
    "start_time": "2021-07-22T01:07:55.616Z"
   },
   {
    "duration": 85,
    "start_time": "2021-07-22T01:07:55.725Z"
   },
   {
    "duration": 19,
    "start_time": "2021-07-22T01:07:55.812Z"
   },
   {
    "duration": 525,
    "start_time": "2021-07-22T01:07:55.832Z"
   },
   {
    "duration": 757,
    "start_time": "2021-07-22T01:07:56.358Z"
   },
   {
    "duration": 384,
    "start_time": "2021-07-22T01:07:57.118Z"
   },
   {
    "duration": 88,
    "start_time": "2021-07-22T01:07:57.505Z"
   },
   {
    "duration": 99,
    "start_time": "2021-07-22T01:07:57.595Z"
   },
   {
    "duration": 8,
    "start_time": "2021-07-22T01:07:57.695Z"
   },
   {
    "duration": 425,
    "start_time": "2021-07-22T01:08:19.177Z"
   },
   {
    "duration": 367,
    "start_time": "2021-07-22T01:08:42.440Z"
   },
   {
    "duration": 398,
    "start_time": "2021-07-22T01:09:00.212Z"
   },
   {
    "duration": 1142,
    "start_time": "2021-07-22T01:09:08.768Z"
   },
   {
    "duration": 343,
    "start_time": "2021-07-22T01:09:09.913Z"
   },
   {
    "duration": 11,
    "start_time": "2021-07-22T01:09:10.258Z"
   },
   {
    "duration": 34,
    "start_time": "2021-07-22T01:09:10.270Z"
   },
   {
    "duration": 104,
    "start_time": "2021-07-22T01:09:10.306Z"
   },
   {
    "duration": 94,
    "start_time": "2021-07-22T01:09:10.412Z"
   },
   {
    "duration": 20,
    "start_time": "2021-07-22T01:09:10.508Z"
   },
   {
    "duration": 513,
    "start_time": "2021-07-22T01:09:10.530Z"
   },
   {
    "duration": 798,
    "start_time": "2021-07-22T01:09:11.045Z"
   },
   {
    "duration": 462,
    "start_time": "2021-07-22T01:09:11.845Z"
   },
   {
    "duration": 4,
    "start_time": "2021-07-22T01:09:12.393Z"
   },
   {
    "duration": 93,
    "start_time": "2021-07-22T01:09:12.400Z"
   },
   {
    "duration": 8,
    "start_time": "2021-07-22T01:09:12.495Z"
   },
   {
    "duration": 452,
    "start_time": "2021-07-22T01:10:17.091Z"
   },
   {
    "duration": 1095,
    "start_time": "2021-07-22T01:10:27.896Z"
   },
   {
    "duration": 332,
    "start_time": "2021-07-22T01:10:28.993Z"
   },
   {
    "duration": 11,
    "start_time": "2021-07-22T01:10:29.327Z"
   },
   {
    "duration": 23,
    "start_time": "2021-07-22T01:10:29.340Z"
   },
   {
    "duration": 113,
    "start_time": "2021-07-22T01:10:29.365Z"
   },
   {
    "duration": 92,
    "start_time": "2021-07-22T01:10:29.480Z"
   },
   {
    "duration": 32,
    "start_time": "2021-07-22T01:10:29.573Z"
   },
   {
    "duration": 518,
    "start_time": "2021-07-22T01:10:29.607Z"
   },
   {
    "duration": 813,
    "start_time": "2021-07-22T01:10:30.126Z"
   },
   {
    "duration": 523,
    "start_time": "2021-07-22T01:10:30.941Z"
   },
   {
    "duration": -71,
    "start_time": "2021-07-22T01:10:31.537Z"
   },
   {
    "duration": -72,
    "start_time": "2021-07-22T01:10:31.539Z"
   },
   {
    "duration": -75,
    "start_time": "2021-07-22T01:10:31.542Z"
   },
   {
    "duration": 382,
    "start_time": "2021-07-22T01:13:11.726Z"
   },
   {
    "duration": 1126,
    "start_time": "2021-07-22T01:13:25.391Z"
   },
   {
    "duration": 348,
    "start_time": "2021-07-22T01:13:26.519Z"
   },
   {
    "duration": 11,
    "start_time": "2021-07-22T01:13:26.869Z"
   },
   {
    "duration": 28,
    "start_time": "2021-07-22T01:13:26.882Z"
   },
   {
    "duration": 114,
    "start_time": "2021-07-22T01:13:26.911Z"
   },
   {
    "duration": 97,
    "start_time": "2021-07-22T01:13:27.027Z"
   },
   {
    "duration": 20,
    "start_time": "2021-07-22T01:13:27.125Z"
   },
   {
    "duration": 520,
    "start_time": "2021-07-22T01:13:27.146Z"
   },
   {
    "duration": 771,
    "start_time": "2021-07-22T01:13:27.668Z"
   },
   {
    "duration": 460,
    "start_time": "2021-07-22T01:13:28.441Z"
   },
   {
    "duration": -90,
    "start_time": "2021-07-22T01:13:28.993Z"
   },
   {
    "duration": -92,
    "start_time": "2021-07-22T01:13:28.996Z"
   },
   {
    "duration": -94,
    "start_time": "2021-07-22T01:13:28.999Z"
   },
   {
    "duration": 378,
    "start_time": "2021-07-22T01:13:38.424Z"
   },
   {
    "duration": 392,
    "start_time": "2021-07-22T01:14:22.213Z"
   },
   {
    "duration": 320,
    "start_time": "2021-07-22T01:15:53.927Z"
   },
   {
    "duration": 357,
    "start_time": "2021-07-22T01:16:08.248Z"
   },
   {
    "duration": 379,
    "start_time": "2021-07-22T01:16:25.427Z"
   },
   {
    "duration": 402,
    "start_time": "2021-07-22T01:16:52.000Z"
   },
   {
    "duration": 323,
    "start_time": "2021-07-22T01:17:13.430Z"
   },
   {
    "duration": 384,
    "start_time": "2021-07-22T01:17:25.808Z"
   },
   {
    "duration": 640,
    "start_time": "2021-07-22T01:17:47.568Z"
   },
   {
    "duration": 853,
    "start_time": "2021-07-22T01:18:01.452Z"
   },
   {
    "duration": 982,
    "start_time": "2021-07-22T01:18:20.022Z"
   },
   {
    "duration": 843,
    "start_time": "2021-07-22T01:18:26.762Z"
   },
   {
    "duration": 1122,
    "start_time": "2021-07-22T01:18:35.370Z"
   },
   {
    "duration": 499,
    "start_time": "2021-07-22T01:19:03.993Z"
   },
   {
    "duration": 375,
    "start_time": "2021-07-22T01:22:08.136Z"
   },
   {
    "duration": 413,
    "start_time": "2021-07-22T01:23:18.996Z"
   },
   {
    "duration": 455,
    "start_time": "2021-07-22T01:23:34.536Z"
   },
   {
    "duration": 392,
    "start_time": "2021-07-22T01:23:54.912Z"
   },
   {
    "duration": 378,
    "start_time": "2021-07-22T01:24:13.820Z"
   },
   {
    "duration": 379,
    "start_time": "2021-07-22T01:24:40.014Z"
   },
   {
    "duration": 378,
    "start_time": "2021-07-22T01:28:26.533Z"
   },
   {
    "duration": 449,
    "start_time": "2021-07-22T01:35:01.159Z"
   },
   {
    "duration": 424,
    "start_time": "2021-07-22T01:35:08.287Z"
   },
   {
    "duration": 449,
    "start_time": "2021-07-22T01:35:18.143Z"
   },
   {
    "duration": 514,
    "start_time": "2021-07-22T01:35:43.476Z"
   },
   {
    "duration": 464,
    "start_time": "2021-07-22T01:35:50.129Z"
   },
   {
    "duration": 425,
    "start_time": "2021-07-22T01:38:08.984Z"
   },
   {
    "duration": 502,
    "start_time": "2021-07-22T01:38:21.790Z"
   },
   {
    "duration": 447,
    "start_time": "2021-07-22T01:38:31.462Z"
   },
   {
    "duration": 5,
    "start_time": "2021-07-22T01:38:52.514Z"
   },
   {
    "duration": 942,
    "start_time": "2021-07-22T01:39:14.751Z"
   },
   {
    "duration": 400,
    "start_time": "2021-07-22T01:39:38.800Z"
   },
   {
    "duration": 296,
    "start_time": "2021-07-22T01:39:50.331Z"
   },
   {
    "duration": 416,
    "start_time": "2021-07-22T01:39:59.779Z"
   },
   {
    "duration": 509,
    "start_time": "2021-07-22T01:45:33.883Z"
   },
   {
    "duration": 2919,
    "start_time": "2021-07-22T01:46:05.495Z"
   },
   {
    "duration": 480,
    "start_time": "2021-07-22T01:46:21.512Z"
   },
   {
    "duration": 397,
    "start_time": "2021-07-22T01:46:30.207Z"
   },
   {
    "duration": 268,
    "start_time": "2021-07-22T01:46:49.800Z"
   },
   {
    "duration": 434,
    "start_time": "2021-07-22T01:47:15.472Z"
   },
   {
    "duration": 291,
    "start_time": "2021-07-22T01:47:45.913Z"
   },
   {
    "duration": 353,
    "start_time": "2021-07-22T01:47:53.440Z"
   },
   {
    "duration": 344,
    "start_time": "2021-07-22T01:48:21.059Z"
   },
   {
    "duration": 441,
    "start_time": "2021-07-22T01:48:53.854Z"
   },
   {
    "duration": 433,
    "start_time": "2021-07-22T01:49:13.768Z"
   },
   {
    "duration": 405,
    "start_time": "2021-07-22T01:49:22.489Z"
   },
   {
    "duration": 1088,
    "start_time": "2021-07-22T01:49:29.737Z"
   },
   {
    "duration": 349,
    "start_time": "2021-07-22T01:49:30.827Z"
   },
   {
    "duration": 11,
    "start_time": "2021-07-22T01:49:31.178Z"
   },
   {
    "duration": 26,
    "start_time": "2021-07-22T01:49:31.191Z"
   },
   {
    "duration": 116,
    "start_time": "2021-07-22T01:49:31.219Z"
   },
   {
    "duration": 92,
    "start_time": "2021-07-22T01:49:31.336Z"
   },
   {
    "duration": 20,
    "start_time": "2021-07-22T01:49:31.429Z"
   },
   {
    "duration": 514,
    "start_time": "2021-07-22T01:49:31.451Z"
   },
   {
    "duration": 780,
    "start_time": "2021-07-22T01:49:31.967Z"
   },
   {
    "duration": 458,
    "start_time": "2021-07-22T01:49:32.749Z"
   },
   {
    "duration": 3,
    "start_time": "2021-07-22T01:49:33.291Z"
   },
   {
    "duration": 97,
    "start_time": "2021-07-22T01:49:33.297Z"
   },
   {
    "duration": 9,
    "start_time": "2021-07-22T01:49:33.395Z"
   },
   {
    "duration": 448,
    "start_time": "2021-07-22T01:49:58.153Z"
   },
   {
    "duration": 585,
    "start_time": "2021-07-22T01:50:23.683Z"
   },
   {
    "duration": 1120,
    "start_time": "2021-07-22T01:51:03.686Z"
   },
   {
    "duration": 340,
    "start_time": "2021-07-22T01:51:04.808Z"
   },
   {
    "duration": 11,
    "start_time": "2021-07-22T01:51:05.150Z"
   },
   {
    "duration": 30,
    "start_time": "2021-07-22T01:51:05.163Z"
   },
   {
    "duration": 108,
    "start_time": "2021-07-22T01:51:05.195Z"
   },
   {
    "duration": 103,
    "start_time": "2021-07-22T01:51:05.305Z"
   },
   {
    "duration": 19,
    "start_time": "2021-07-22T01:51:05.410Z"
   },
   {
    "duration": 518,
    "start_time": "2021-07-22T01:51:05.432Z"
   },
   {
    "duration": 783,
    "start_time": "2021-07-22T01:51:05.952Z"
   },
   {
    "duration": 374,
    "start_time": "2021-07-22T01:51:06.737Z"
   },
   {
    "duration": 80,
    "start_time": "2021-07-22T01:51:07.113Z"
   },
   {
    "duration": 96,
    "start_time": "2021-07-22T01:51:07.196Z"
   },
   {
    "duration": 7,
    "start_time": "2021-07-22T01:51:07.294Z"
   },
   {
    "duration": 441,
    "start_time": "2021-07-22T01:52:04.266Z"
   },
   {
    "duration": 373,
    "start_time": "2021-07-22T01:52:47.438Z"
   },
   {
    "duration": 373,
    "start_time": "2021-07-22T01:52:55.336Z"
   },
   {
    "duration": 393,
    "start_time": "2021-07-22T01:53:16.117Z"
   },
   {
    "duration": 425,
    "start_time": "2021-07-22T01:54:01.883Z"
   },
   {
    "duration": 402,
    "start_time": "2021-07-22T01:54:18.009Z"
   },
   {
    "duration": 399,
    "start_time": "2021-07-22T01:54:32.610Z"
   },
   {
    "duration": 355,
    "start_time": "2021-07-22T01:54:47.458Z"
   },
   {
    "duration": 410,
    "start_time": "2021-07-22T01:55:03.201Z"
   },
   {
    "duration": 3,
    "start_time": "2021-07-22T01:59:41.427Z"
   },
   {
    "duration": 3,
    "start_time": "2021-07-22T01:59:43.843Z"
   },
   {
    "duration": 825,
    "start_time": "2021-07-22T02:01:52.551Z"
   },
   {
    "duration": 3,
    "start_time": "2021-07-22T02:02:18.827Z"
   },
   {
    "duration": 442,
    "start_time": "2021-07-22T02:02:20.431Z"
   },
   {
    "duration": 3,
    "start_time": "2021-07-22T02:02:32.767Z"
   },
   {
    "duration": 5,
    "start_time": "2021-07-22T02:02:35.416Z"
   },
   {
    "duration": 8,
    "start_time": "2021-07-22T02:02:44.576Z"
   },
   {
    "duration": 2,
    "start_time": "2021-07-22T02:03:24.028Z"
   },
   {
    "duration": 4,
    "start_time": "2021-07-22T02:03:24.989Z"
   },
   {
    "duration": 6,
    "start_time": "2021-07-22T02:03:25.531Z"
   },
   {
    "duration": 3,
    "start_time": "2021-07-22T02:03:27.962Z"
   },
   {
    "duration": 8,
    "start_time": "2021-07-22T02:03:29.512Z"
   },
   {
    "duration": 3,
    "start_time": "2021-07-22T02:04:19.422Z"
   },
   {
    "duration": 7,
    "start_time": "2021-07-22T02:04:22.352Z"
   },
   {
    "duration": 355,
    "start_time": "2021-07-22T02:05:13.058Z"
   },
   {
    "duration": 394,
    "start_time": "2021-07-22T02:05:39.008Z"
   },
   {
    "duration": 889,
    "start_time": "2021-07-22T02:05:57.105Z"
   },
   {
    "duration": 172,
    "start_time": "2021-07-22T02:11:56.725Z"
   },
   {
    "duration": 206,
    "start_time": "2021-07-22T02:12:12.093Z"
   },
   {
    "duration": 232,
    "start_time": "2021-07-22T02:13:02.760Z"
   },
   {
    "duration": 223,
    "start_time": "2021-07-22T02:14:06.869Z"
   },
   {
    "duration": 211,
    "start_time": "2021-07-22T02:14:34.888Z"
   },
   {
    "duration": 221,
    "start_time": "2021-07-22T02:16:47.171Z"
   },
   {
    "duration": 429,
    "start_time": "2021-07-22T02:29:36.241Z"
   },
   {
    "duration": 3,
    "start_time": "2021-07-22T02:30:26.194Z"
   },
   {
    "duration": 1121,
    "start_time": "2021-07-22T02:30:33.100Z"
   },
   {
    "duration": 352,
    "start_time": "2021-07-22T02:30:34.223Z"
   },
   {
    "duration": 14,
    "start_time": "2021-07-22T02:30:34.577Z"
   },
   {
    "duration": 25,
    "start_time": "2021-07-22T02:30:34.593Z"
   },
   {
    "duration": 133,
    "start_time": "2021-07-22T02:30:34.620Z"
   },
   {
    "duration": 100,
    "start_time": "2021-07-22T02:30:34.755Z"
   },
   {
    "duration": 35,
    "start_time": "2021-07-22T02:30:34.856Z"
   },
   {
    "duration": 522,
    "start_time": "2021-07-22T02:30:34.894Z"
   },
   {
    "duration": 783,
    "start_time": "2021-07-22T02:30:35.418Z"
   },
   {
    "duration": 103,
    "start_time": "2021-07-22T02:30:36.203Z"
   },
   {
    "duration": 4,
    "start_time": "2021-07-22T02:30:36.393Z"
   },
   {
    "duration": 97,
    "start_time": "2021-07-22T02:30:36.400Z"
   },
   {
    "duration": 7,
    "start_time": "2021-07-22T02:30:36.499Z"
   },
   {
    "duration": 3,
    "start_time": "2021-07-22T02:30:36.508Z"
   },
   {
    "duration": 531,
    "start_time": "2021-07-22T02:30:36.513Z"
   },
   {
    "duration": 219,
    "start_time": "2021-07-22T02:31:02.072Z"
   },
   {
    "duration": 1060,
    "start_time": "2021-07-22T02:31:16.839Z"
   },
   {
    "duration": 329,
    "start_time": "2021-07-22T02:31:17.901Z"
   },
   {
    "duration": 10,
    "start_time": "2021-07-22T02:31:18.232Z"
   },
   {
    "duration": 23,
    "start_time": "2021-07-22T02:31:18.244Z"
   },
   {
    "duration": 122,
    "start_time": "2021-07-22T02:31:18.269Z"
   },
   {
    "duration": 98,
    "start_time": "2021-07-22T02:31:18.393Z"
   },
   {
    "duration": 19,
    "start_time": "2021-07-22T02:31:18.493Z"
   },
   {
    "duration": 515,
    "start_time": "2021-07-22T02:31:18.514Z"
   },
   {
    "duration": 774,
    "start_time": "2021-07-22T02:31:19.031Z"
   },
   {
    "duration": 194,
    "start_time": "2021-07-22T02:31:19.806Z"
   },
   {
    "duration": 95,
    "start_time": "2021-07-22T02:31:20.096Z"
   },
   {
    "duration": 6,
    "start_time": "2021-07-22T02:31:20.193Z"
   },
   {
    "duration": 9,
    "start_time": "2021-07-22T02:31:20.201Z"
   },
   {
    "duration": 3,
    "start_time": "2021-07-22T02:31:20.211Z"
   },
   {
    "duration": 505,
    "start_time": "2021-07-22T02:31:20.215Z"
   },
   {
    "duration": 7,
    "start_time": "2021-07-22T02:33:29.750Z"
   },
   {
    "duration": 1129,
    "start_time": "2021-07-22T02:33:35.061Z"
   },
   {
    "duration": 334,
    "start_time": "2021-07-22T02:33:36.191Z"
   },
   {
    "duration": 11,
    "start_time": "2021-07-22T02:33:36.527Z"
   },
   {
    "duration": 31,
    "start_time": "2021-07-22T02:33:36.539Z"
   },
   {
    "duration": 105,
    "start_time": "2021-07-22T02:33:36.572Z"
   },
   {
    "duration": 91,
    "start_time": "2021-07-22T02:33:36.679Z"
   },
   {
    "duration": 36,
    "start_time": "2021-07-22T02:33:36.771Z"
   },
   {
    "duration": 511,
    "start_time": "2021-07-22T02:33:36.809Z"
   },
   {
    "duration": 780,
    "start_time": "2021-07-22T02:33:37.322Z"
   },
   {
    "duration": 604,
    "start_time": "2021-07-22T02:33:38.103Z"
   },
   {
    "duration": -52,
    "start_time": "2021-07-22T02:33:38.761Z"
   },
   {
    "duration": -53,
    "start_time": "2021-07-22T02:33:38.763Z"
   },
   {
    "duration": -56,
    "start_time": "2021-07-22T02:33:38.767Z"
   },
   {
    "duration": -57,
    "start_time": "2021-07-22T02:33:38.769Z"
   },
   {
    "duration": -57,
    "start_time": "2021-07-22T02:33:38.770Z"
   },
   {
    "duration": 244,
    "start_time": "2021-07-22T02:33:49.850Z"
   },
   {
    "duration": 3,
    "start_time": "2021-07-22T02:33:53.511Z"
   },
   {
    "duration": 3,
    "start_time": "2021-07-22T02:33:54.922Z"
   },
   {
    "duration": 6,
    "start_time": "2021-07-22T02:33:55.515Z"
   },
   {
    "duration": 3,
    "start_time": "2021-07-22T02:33:57.229Z"
   },
   {
    "duration": 448,
    "start_time": "2021-07-22T02:33:58.769Z"
   },
   {
    "duration": 3,
    "start_time": "2021-07-22T02:34:59.075Z"
   },
   {
    "duration": 6,
    "start_time": "2021-07-22T02:35:00.777Z"
   },
   {
    "duration": 6,
    "start_time": "2021-07-22T02:36:22.166Z"
   },
   {
    "duration": 6,
    "start_time": "2021-07-22T02:36:42.842Z"
   },
   {
    "duration": 8,
    "start_time": "2021-07-22T02:37:09.060Z"
   },
   {
    "duration": 1176,
    "start_time": "2021-07-22T02:45:56.956Z"
   },
   {
    "duration": 357,
    "start_time": "2021-07-22T02:45:58.134Z"
   },
   {
    "duration": 12,
    "start_time": "2021-07-22T02:45:58.493Z"
   },
   {
    "duration": 27,
    "start_time": "2021-07-22T02:45:58.507Z"
   },
   {
    "duration": 124,
    "start_time": "2021-07-22T02:45:58.536Z"
   },
   {
    "duration": 99,
    "start_time": "2021-07-22T02:45:58.662Z"
   },
   {
    "duration": 39,
    "start_time": "2021-07-22T02:45:58.763Z"
   },
   {
    "duration": 541,
    "start_time": "2021-07-22T02:45:58.804Z"
   },
   {
    "duration": 830,
    "start_time": "2021-07-22T02:45:59.346Z"
   },
   {
    "duration": 318,
    "start_time": "2021-07-22T02:46:00.177Z"
   },
   {
    "duration": 94,
    "start_time": "2021-07-22T02:46:00.498Z"
   },
   {
    "duration": 21,
    "start_time": "2021-07-22T02:46:00.594Z"
   },
   {
    "duration": 19,
    "start_time": "2021-07-22T02:46:00.617Z"
   },
   {
    "duration": 9,
    "start_time": "2021-07-22T02:46:00.638Z"
   },
   {
    "duration": 20,
    "start_time": "2021-07-22T02:46:00.649Z"
   },
   {
    "duration": 154,
    "start_time": "2021-07-22T02:47:54.943Z"
   },
   {
    "duration": 230,
    "start_time": "2021-07-22T02:48:26.069Z"
   },
   {
    "duration": 228,
    "start_time": "2021-07-22T02:48:57.870Z"
   },
   {
    "duration": 423,
    "start_time": "2021-07-22T02:49:15.892Z"
   },
   {
    "duration": 161,
    "start_time": "2021-07-22T02:49:39.536Z"
   },
   {
    "duration": 191,
    "start_time": "2021-07-22T02:50:16.802Z"
   },
   {
    "duration": 207,
    "start_time": "2021-07-22T02:50:33.291Z"
   },
   {
    "duration": 157,
    "start_time": "2021-07-22T02:50:44.335Z"
   },
   {
    "duration": 176,
    "start_time": "2021-07-22T02:50:52.624Z"
   },
   {
    "duration": 191,
    "start_time": "2021-07-22T02:51:02.707Z"
   },
   {
    "duration": 219,
    "start_time": "2021-07-22T02:51:13.778Z"
   },
   {
    "duration": 315,
    "start_time": "2021-07-22T02:56:35.124Z"
   },
   {
    "duration": 356,
    "start_time": "2021-07-22T02:56:51.684Z"
   },
   {
    "duration": 176,
    "start_time": "2021-07-22T02:57:28.820Z"
   },
   {
    "duration": 201,
    "start_time": "2021-07-22T02:57:52.395Z"
   },
   {
    "duration": 1161,
    "start_time": "2021-07-22T02:57:58.863Z"
   },
   {
    "duration": 389,
    "start_time": "2021-07-22T02:58:00.026Z"
   },
   {
    "duration": 12,
    "start_time": "2021-07-22T02:58:00.417Z"
   },
   {
    "duration": 34,
    "start_time": "2021-07-22T02:58:00.431Z"
   },
   {
    "duration": 126,
    "start_time": "2021-07-22T02:58:00.466Z"
   },
   {
    "duration": 100,
    "start_time": "2021-07-22T02:58:00.594Z"
   },
   {
    "duration": 21,
    "start_time": "2021-07-22T02:58:00.696Z"
   },
   {
    "duration": 528,
    "start_time": "2021-07-22T02:58:00.720Z"
   },
   {
    "duration": 794,
    "start_time": "2021-07-22T02:58:01.250Z"
   },
   {
    "duration": 655,
    "start_time": "2021-07-22T02:58:02.046Z"
   },
   {
    "duration": -49,
    "start_time": "2021-07-22T02:58:02.751Z"
   },
   {
    "duration": -52,
    "start_time": "2021-07-22T02:58:02.755Z"
   },
   {
    "duration": -53,
    "start_time": "2021-07-22T02:58:02.757Z"
   },
   {
    "duration": -55,
    "start_time": "2021-07-22T02:58:02.759Z"
   },
   {
    "duration": -56,
    "start_time": "2021-07-22T02:58:02.761Z"
   },
   {
    "duration": 152,
    "start_time": "2021-07-22T02:59:25.744Z"
   },
   {
    "duration": 187,
    "start_time": "2021-07-22T02:59:37.212Z"
   },
   {
    "duration": 222,
    "start_time": "2021-07-22T02:59:48.470Z"
   },
   {
    "duration": 423,
    "start_time": "2021-07-22T03:05:25.771Z"
   },
   {
    "duration": 416,
    "start_time": "2021-07-22T03:05:34.582Z"
   },
   {
    "duration": 364,
    "start_time": "2021-07-22T03:05:46.541Z"
   },
   {
    "duration": 414,
    "start_time": "2021-07-22T03:06:00.386Z"
   },
   {
    "duration": 486,
    "start_time": "2021-07-22T03:06:24.005Z"
   },
   {
    "duration": 284,
    "start_time": "2021-07-22T03:06:37.219Z"
   },
   {
    "duration": 399,
    "start_time": "2021-07-22T03:06:46.699Z"
   },
   {
    "duration": 268,
    "start_time": "2021-07-22T03:07:00.531Z"
   },
   {
    "duration": 338,
    "start_time": "2021-07-22T03:07:24.257Z"
   },
   {
    "duration": 404,
    "start_time": "2021-07-22T03:08:21.289Z"
   },
   {
    "duration": 2,
    "start_time": "2021-07-22T03:08:25.491Z"
   },
   {
    "duration": 3,
    "start_time": "2021-07-22T03:08:27.165Z"
   },
   {
    "duration": 6,
    "start_time": "2021-07-22T03:08:28.311Z"
   },
   {
    "duration": 3,
    "start_time": "2021-07-22T03:08:30.835Z"
   },
   {
    "duration": 237,
    "start_time": "2021-07-22T03:08:32.262Z"
   },
   {
    "duration": 379,
    "start_time": "2021-07-22T03:08:47.719Z"
   },
   {
    "duration": 21,
    "start_time": "2021-07-22T03:08:52.034Z"
   },
   {
    "duration": 1080,
    "start_time": "2021-07-22T03:09:52.114Z"
   },
   {
    "duration": 337,
    "start_time": "2021-07-22T03:09:53.196Z"
   },
   {
    "duration": 10,
    "start_time": "2021-07-22T03:09:53.535Z"
   },
   {
    "duration": 25,
    "start_time": "2021-07-22T03:09:53.547Z"
   },
   {
    "duration": 118,
    "start_time": "2021-07-22T03:09:53.573Z"
   },
   {
    "duration": 80,
    "start_time": "2021-07-22T03:09:53.693Z"
   },
   {
    "duration": 35,
    "start_time": "2021-07-22T03:09:53.774Z"
   },
   {
    "duration": 501,
    "start_time": "2021-07-22T03:09:53.811Z"
   },
   {
    "duration": 769,
    "start_time": "2021-07-22T03:09:54.314Z"
   },
   {
    "duration": 414,
    "start_time": "2021-07-22T03:09:55.085Z"
   },
   {
    "duration": 96,
    "start_time": "2021-07-22T03:09:55.501Z"
   },
   {
    "duration": 4,
    "start_time": "2021-07-22T03:09:55.600Z"
   },
   {
    "duration": 6,
    "start_time": "2021-07-22T03:09:55.692Z"
   },
   {
    "duration": 3,
    "start_time": "2021-07-22T03:09:55.699Z"
   },
   {
    "duration": 505,
    "start_time": "2021-07-22T03:09:55.704Z"
   },
   {
    "duration": 3,
    "start_time": "2021-07-22T03:10:13.141Z"
   },
   {
    "duration": 23,
    "start_time": "2021-07-22T03:10:15.283Z"
   },
   {
    "duration": 3,
    "start_time": "2021-07-22T03:10:22.987Z"
   },
   {
    "duration": 20,
    "start_time": "2021-07-22T03:10:24.328Z"
   },
   {
    "duration": 384,
    "start_time": "2021-07-22T03:12:18.714Z"
   },
   {
    "duration": 235,
    "start_time": "2021-07-22T03:14:11.860Z"
   },
   {
    "duration": 234,
    "start_time": "2021-07-22T03:14:37.819Z"
   },
   {
    "duration": 215,
    "start_time": "2021-07-22T03:17:17.028Z"
   },
   {
    "duration": 391,
    "start_time": "2021-07-22T03:17:46.808Z"
   },
   {
    "duration": 313,
    "start_time": "2021-07-22T03:17:47.419Z"
   },
   {
    "duration": 270,
    "start_time": "2021-07-22T03:18:13.936Z"
   },
   {
    "duration": 219,
    "start_time": "2021-07-22T03:18:17.655Z"
   },
   {
    "duration": 3,
    "start_time": "2021-07-22T03:18:36.947Z"
   },
   {
    "duration": 12,
    "start_time": "2021-07-22T03:18:41.699Z"
   },
   {
    "duration": 12,
    "start_time": "2021-07-22T03:19:23.603Z"
   },
   {
    "duration": 12,
    "start_time": "2021-07-22T03:19:57.596Z"
   },
   {
    "duration": 12,
    "start_time": "2021-07-22T03:20:10.027Z"
   },
   {
    "duration": 1059,
    "start_time": "2021-07-22T03:20:25.451Z"
   },
   {
    "duration": 339,
    "start_time": "2021-07-22T03:20:26.512Z"
   },
   {
    "duration": 12,
    "start_time": "2021-07-22T03:20:26.853Z"
   },
   {
    "duration": 41,
    "start_time": "2021-07-22T03:20:26.868Z"
   },
   {
    "duration": 109,
    "start_time": "2021-07-22T03:20:26.911Z"
   },
   {
    "duration": 100,
    "start_time": "2021-07-22T03:20:27.022Z"
   },
   {
    "duration": 21,
    "start_time": "2021-07-22T03:20:27.124Z"
   },
   {
    "duration": 528,
    "start_time": "2021-07-22T03:20:27.148Z"
   },
   {
    "duration": 773,
    "start_time": "2021-07-22T03:20:27.678Z"
   },
   {
    "duration": 358,
    "start_time": "2021-07-22T03:20:28.453Z"
   },
   {
    "duration": 100,
    "start_time": "2021-07-22T03:20:28.892Z"
   },
   {
    "duration": 4,
    "start_time": "2021-07-22T03:20:28.994Z"
   },
   {
    "duration": 5,
    "start_time": "2021-07-22T03:20:29.000Z"
   },
   {
    "duration": 7,
    "start_time": "2021-07-22T03:20:29.007Z"
   },
   {
    "duration": 3,
    "start_time": "2021-07-22T03:20:29.015Z"
   },
   {
    "duration": 24,
    "start_time": "2021-07-22T03:20:29.019Z"
   },
   {
    "duration": 7,
    "start_time": "2021-07-22T03:21:06.898Z"
   },
   {
    "duration": 8,
    "start_time": "2021-07-22T03:21:28.557Z"
   },
   {
    "duration": 12,
    "start_time": "2021-07-22T03:21:41.790Z"
   },
   {
    "duration": 12,
    "start_time": "2021-07-22T03:22:20.503Z"
   },
   {
    "duration": 1042,
    "start_time": "2021-07-22T03:22:31.553Z"
   },
   {
    "duration": 332,
    "start_time": "2021-07-22T03:22:32.597Z"
   },
   {
    "duration": 12,
    "start_time": "2021-07-22T03:22:32.931Z"
   },
   {
    "duration": 27,
    "start_time": "2021-07-22T03:22:32.944Z"
   },
   {
    "duration": 119,
    "start_time": "2021-07-22T03:22:32.973Z"
   },
   {
    "duration": 98,
    "start_time": "2021-07-22T03:22:33.094Z"
   },
   {
    "duration": 20,
    "start_time": "2021-07-22T03:22:33.193Z"
   },
   {
    "duration": 507,
    "start_time": "2021-07-22T03:22:33.215Z"
   },
   {
    "duration": 776,
    "start_time": "2021-07-22T03:22:33.724Z"
   },
   {
    "duration": 306,
    "start_time": "2021-07-22T03:22:34.501Z"
   },
   {
    "duration": 186,
    "start_time": "2021-07-22T03:22:34.809Z"
   },
   {
    "duration": 3,
    "start_time": "2021-07-22T03:22:34.996Z"
   },
   {
    "duration": 7,
    "start_time": "2021-07-22T03:22:35.001Z"
   },
   {
    "duration": 7,
    "start_time": "2021-07-22T03:22:35.009Z"
   },
   {
    "duration": 3,
    "start_time": "2021-07-22T03:22:35.018Z"
   },
   {
    "duration": 23,
    "start_time": "2021-07-22T03:22:35.023Z"
   },
   {
    "duration": 7,
    "start_time": "2021-07-22T03:22:50.422Z"
   },
   {
    "duration": 8,
    "start_time": "2021-07-22T03:24:10.879Z"
   },
   {
    "duration": 3,
    "start_time": "2021-07-22T03:24:16.409Z"
   },
   {
    "duration": 18,
    "start_time": "2021-07-22T03:24:19.166Z"
   },
   {
    "duration": 1052,
    "start_time": "2021-07-22T03:24:43.752Z"
   },
   {
    "duration": 344,
    "start_time": "2021-07-22T03:24:44.806Z"
   },
   {
    "duration": 11,
    "start_time": "2021-07-22T03:24:45.152Z"
   },
   {
    "duration": 39,
    "start_time": "2021-07-22T03:24:45.165Z"
   },
   {
    "duration": 116,
    "start_time": "2021-07-22T03:24:45.206Z"
   },
   {
    "duration": 94,
    "start_time": "2021-07-22T03:24:45.324Z"
   },
   {
    "duration": 19,
    "start_time": "2021-07-22T03:24:45.420Z"
   },
   {
    "duration": 523,
    "start_time": "2021-07-22T03:24:45.442Z"
   },
   {
    "duration": 781,
    "start_time": "2021-07-22T03:24:45.967Z"
   },
   {
    "duration": 450,
    "start_time": "2021-07-22T03:24:46.750Z"
   },
   {
    "duration": 95,
    "start_time": "2021-07-22T03:24:47.202Z"
   },
   {
    "duration": 92,
    "start_time": "2021-07-22T03:24:47.300Z"
   },
   {
    "duration": 6,
    "start_time": "2021-07-22T03:24:47.393Z"
   },
   {
    "duration": 12,
    "start_time": "2021-07-22T03:24:47.400Z"
   },
   {
    "duration": 5,
    "start_time": "2021-07-22T03:24:47.413Z"
   },
   {
    "duration": 21,
    "start_time": "2021-07-22T03:24:47.419Z"
   },
   {
    "duration": 1089,
    "start_time": "2021-07-22T03:24:56.035Z"
   },
   {
    "duration": 345,
    "start_time": "2021-07-22T03:24:57.125Z"
   },
   {
    "duration": 12,
    "start_time": "2021-07-22T03:24:57.472Z"
   },
   {
    "duration": 28,
    "start_time": "2021-07-22T03:24:57.486Z"
   },
   {
    "duration": 119,
    "start_time": "2021-07-22T03:24:57.515Z"
   },
   {
    "duration": 93,
    "start_time": "2021-07-22T03:24:57.635Z"
   },
   {
    "duration": 21,
    "start_time": "2021-07-22T03:24:57.729Z"
   },
   {
    "duration": 550,
    "start_time": "2021-07-22T03:24:57.752Z"
   },
   {
    "duration": 810,
    "start_time": "2021-07-22T03:24:58.304Z"
   },
   {
    "duration": 385,
    "start_time": "2021-07-22T03:24:59.115Z"
   },
   {
    "duration": 96,
    "start_time": "2021-07-22T03:24:59.503Z"
   },
   {
    "duration": 93,
    "start_time": "2021-07-22T03:24:59.602Z"
   },
   {
    "duration": 9,
    "start_time": "2021-07-22T03:24:59.696Z"
   },
   {
    "duration": 12,
    "start_time": "2021-07-22T03:24:59.706Z"
   },
   {
    "duration": 9,
    "start_time": "2021-07-22T03:24:59.720Z"
   },
   {
    "duration": 25,
    "start_time": "2021-07-22T03:24:59.731Z"
   },
   {
    "duration": 3,
    "start_time": "2021-07-22T03:25:46.957Z"
   },
   {
    "duration": 18,
    "start_time": "2021-07-22T03:25:48.734Z"
   },
   {
    "duration": 1105,
    "start_time": "2021-07-22T03:25:53.384Z"
   },
   {
    "duration": 352,
    "start_time": "2021-07-22T03:25:54.490Z"
   },
   {
    "duration": 11,
    "start_time": "2021-07-22T03:25:54.844Z"
   },
   {
    "duration": 36,
    "start_time": "2021-07-22T03:25:54.857Z"
   },
   {
    "duration": 104,
    "start_time": "2021-07-22T03:25:54.894Z"
   },
   {
    "duration": 100,
    "start_time": "2021-07-22T03:25:55.000Z"
   },
   {
    "duration": 19,
    "start_time": "2021-07-22T03:25:55.102Z"
   },
   {
    "duration": 519,
    "start_time": "2021-07-22T03:25:55.124Z"
   },
   {
    "duration": 790,
    "start_time": "2021-07-22T03:25:55.645Z"
   },
   {
    "duration": 375,
    "start_time": "2021-07-22T03:25:56.437Z"
   },
   {
    "duration": 82,
    "start_time": "2021-07-22T03:25:56.814Z"
   },
   {
    "duration": 95,
    "start_time": "2021-07-22T03:25:56.898Z"
   },
   {
    "duration": 6,
    "start_time": "2021-07-22T03:25:56.994Z"
   },
   {
    "duration": 7,
    "start_time": "2021-07-22T03:25:57.002Z"
   },
   {
    "duration": 3,
    "start_time": "2021-07-22T03:25:57.011Z"
   },
   {
    "duration": 23,
    "start_time": "2021-07-22T03:25:57.015Z"
   },
   {
    "duration": 11,
    "start_time": "2021-07-22T03:26:15.266Z"
   },
   {
    "duration": 16,
    "start_time": "2021-07-22T03:26:23.098Z"
   },
   {
    "duration": 16,
    "start_time": "2021-07-22T03:26:30.853Z"
   },
   {
    "duration": 16,
    "start_time": "2021-07-22T03:26:42.348Z"
   },
   {
    "duration": 14,
    "start_time": "2021-07-22T03:27:14.651Z"
   },
   {
    "duration": 9,
    "start_time": "2021-07-22T03:27:39.194Z"
   },
   {
    "duration": 15,
    "start_time": "2021-07-22T03:28:59.687Z"
   },
   {
    "duration": 1082,
    "start_time": "2021-07-22T03:29:48.909Z"
   },
   {
    "duration": 333,
    "start_time": "2021-07-22T03:29:49.993Z"
   },
   {
    "duration": 11,
    "start_time": "2021-07-22T03:29:50.328Z"
   },
   {
    "duration": 25,
    "start_time": "2021-07-22T03:29:50.341Z"
   },
   {
    "duration": 109,
    "start_time": "2021-07-22T03:29:50.367Z"
   },
   {
    "duration": 89,
    "start_time": "2021-07-22T03:29:50.478Z"
   },
   {
    "duration": 36,
    "start_time": "2021-07-22T03:29:50.568Z"
   },
   {
    "duration": 506,
    "start_time": "2021-07-22T03:29:50.606Z"
   },
   {
    "duration": 791,
    "start_time": "2021-07-22T03:29:51.114Z"
   },
   {
    "duration": 387,
    "start_time": "2021-07-22T03:29:51.907Z"
   },
   {
    "duration": 105,
    "start_time": "2021-07-22T03:29:52.297Z"
   },
   {
    "duration": 2,
    "start_time": "2021-07-22T03:29:52.404Z"
   },
   {
    "duration": 7,
    "start_time": "2021-07-22T03:29:52.407Z"
   },
   {
    "duration": 9,
    "start_time": "2021-07-22T03:29:52.415Z"
   },
   {
    "duration": 2,
    "start_time": "2021-07-22T03:29:52.426Z"
   },
   {
    "duration": 19,
    "start_time": "2021-07-22T03:29:52.430Z"
   },
   {
    "duration": 690,
    "start_time": "2021-07-22T03:33:09.756Z"
   },
   {
    "duration": 353,
    "start_time": "2021-07-22T03:33:17.752Z"
   },
   {
    "duration": 3,
    "start_time": "2021-07-22T03:34:40.306Z"
   },
   {
    "duration": 515,
    "start_time": "2021-07-22T03:34:41.984Z"
   },
   {
    "duration": 10,
    "start_time": "2021-07-22T03:35:39.005Z"
   },
   {
    "duration": 9,
    "start_time": "2021-07-22T03:35:49.450Z"
   },
   {
    "duration": 14,
    "start_time": "2021-07-22T03:36:04.060Z"
   },
   {
    "duration": 19,
    "start_time": "2021-07-22T03:36:27.250Z"
   },
   {
    "duration": 9,
    "start_time": "2021-07-22T03:37:38.688Z"
   },
   {
    "duration": 222,
    "start_time": "2021-07-22T03:38:03.785Z"
   },
   {
    "duration": 10,
    "start_time": "2021-07-22T03:38:13.870Z"
   },
   {
    "duration": 10,
    "start_time": "2021-07-22T03:38:24.588Z"
   },
   {
    "duration": 9,
    "start_time": "2021-07-22T03:38:38.079Z"
   },
   {
    "duration": 5,
    "start_time": "2021-07-22T03:39:10.328Z"
   },
   {
    "duration": 12,
    "start_time": "2021-07-22T03:39:22.920Z"
   },
   {
    "duration": 1077,
    "start_time": "2021-07-22T03:39:37.918Z"
   },
   {
    "duration": 328,
    "start_time": "2021-07-22T03:39:38.997Z"
   },
   {
    "duration": 11,
    "start_time": "2021-07-22T03:39:39.327Z"
   },
   {
    "duration": 24,
    "start_time": "2021-07-22T03:39:39.340Z"
   },
   {
    "duration": 117,
    "start_time": "2021-07-22T03:39:39.365Z"
   },
   {
    "duration": 108,
    "start_time": "2021-07-22T03:39:39.491Z"
   },
   {
    "duration": 19,
    "start_time": "2021-07-22T03:39:39.601Z"
   },
   {
    "duration": 509,
    "start_time": "2021-07-22T03:39:39.621Z"
   },
   {
    "duration": 774,
    "start_time": "2021-07-22T03:39:40.132Z"
   },
   {
    "duration": 489,
    "start_time": "2021-07-22T03:39:40.908Z"
   },
   {
    "duration": 100,
    "start_time": "2021-07-22T03:39:41.399Z"
   },
   {
    "duration": 6,
    "start_time": "2021-07-22T03:39:41.500Z"
   },
   {
    "duration": 8,
    "start_time": "2021-07-22T03:39:41.507Z"
   },
   {
    "duration": 10,
    "start_time": "2021-07-22T03:39:41.516Z"
   },
   {
    "duration": 3,
    "start_time": "2021-07-22T03:39:41.527Z"
   },
   {
    "duration": 505,
    "start_time": "2021-07-22T03:39:41.532Z"
   },
   {
    "duration": 5,
    "start_time": "2021-07-22T03:40:06.967Z"
   },
   {
    "duration": 5,
    "start_time": "2021-07-22T03:40:17.671Z"
   },
   {
    "duration": 5,
    "start_time": "2021-07-22T03:43:09.832Z"
   },
   {
    "duration": 6,
    "start_time": "2021-07-22T03:43:22.263Z"
   },
   {
    "duration": 4,
    "start_time": "2021-07-22T03:43:54.637Z"
   },
   {
    "duration": 22,
    "start_time": "2021-07-22T03:43:56.484Z"
   },
   {
    "duration": 3,
    "start_time": "2021-07-22T03:44:32.781Z"
   },
   {
    "duration": 4,
    "start_time": "2021-07-22T03:45:05.252Z"
   },
   {
    "duration": 451,
    "start_time": "2021-07-22T03:45:06.891Z"
   },
   {
    "duration": 3,
    "start_time": "2021-07-22T03:45:19.456Z"
   },
   {
    "duration": 20,
    "start_time": "2021-07-22T03:45:21.110Z"
   },
   {
    "duration": 3,
    "start_time": "2021-07-22T03:47:52.274Z"
   },
   {
    "duration": 21,
    "start_time": "2021-07-22T03:47:53.674Z"
   },
   {
    "duration": 4,
    "start_time": "2021-07-22T03:49:29.005Z"
   },
   {
    "duration": 22,
    "start_time": "2021-07-22T03:49:30.406Z"
   },
   {
    "duration": 1641,
    "start_time": "2021-07-22T15:03:39.291Z"
   },
   {
    "duration": 348,
    "start_time": "2021-07-22T15:03:40.934Z"
   },
   {
    "duration": 21,
    "start_time": "2021-07-22T15:03:41.285Z"
   },
   {
    "duration": 31,
    "start_time": "2021-07-22T15:03:41.309Z"
   },
   {
    "duration": 128,
    "start_time": "2021-07-22T15:03:41.342Z"
   },
   {
    "duration": 94,
    "start_time": "2021-07-22T15:03:41.472Z"
   },
   {
    "duration": 44,
    "start_time": "2021-07-22T15:03:41.568Z"
   },
   {
    "duration": 537,
    "start_time": "2021-07-22T15:03:41.614Z"
   },
   {
    "duration": 922,
    "start_time": "2021-07-22T15:03:42.153Z"
   },
   {
    "duration": 418,
    "start_time": "2021-07-22T15:03:43.077Z"
   },
   {
    "duration": 15,
    "start_time": "2021-07-22T15:03:43.497Z"
   },
   {
    "duration": 91,
    "start_time": "2021-07-22T15:03:43.514Z"
   },
   {
    "duration": 6,
    "start_time": "2021-07-22T15:03:43.607Z"
   },
   {
    "duration": 13,
    "start_time": "2021-07-22T15:03:43.615Z"
   },
   {
    "duration": 3,
    "start_time": "2021-07-22T15:03:43.630Z"
   },
   {
    "duration": 22,
    "start_time": "2021-07-22T15:03:43.635Z"
   },
   {
    "duration": 304,
    "start_time": "2021-07-22T15:16:27.699Z"
   },
   {
    "duration": 9,
    "start_time": "2021-07-22T15:16:41.373Z"
   },
   {
    "duration": 229,
    "start_time": "2021-07-22T15:17:18.394Z"
   },
   {
    "duration": 244,
    "start_time": "2021-07-22T15:17:25.091Z"
   },
   {
    "duration": 8,
    "start_time": "2021-07-22T15:17:31.577Z"
   },
   {
    "duration": 12,
    "start_time": "2021-07-22T15:17:39.560Z"
   },
   {
    "duration": 1080,
    "start_time": "2021-07-22T15:17:45.517Z"
   },
   {
    "duration": 332,
    "start_time": "2021-07-22T15:17:46.598Z"
   },
   {
    "duration": 10,
    "start_time": "2021-07-22T15:17:46.932Z"
   },
   {
    "duration": 29,
    "start_time": "2021-07-22T15:17:46.944Z"
   },
   {
    "duration": 98,
    "start_time": "2021-07-22T15:17:46.974Z"
   },
   {
    "duration": 92,
    "start_time": "2021-07-22T15:17:47.074Z"
   },
   {
    "duration": 39,
    "start_time": "2021-07-22T15:17:47.167Z"
   },
   {
    "duration": 506,
    "start_time": "2021-07-22T15:17:47.208Z"
   },
   {
    "duration": 775,
    "start_time": "2021-07-22T15:17:47.716Z"
   },
   {
    "duration": 413,
    "start_time": "2021-07-22T15:17:48.492Z"
   },
   {
    "duration": 187,
    "start_time": "2021-07-22T15:17:48.907Z"
   },
   {
    "duration": 3,
    "start_time": "2021-07-22T15:17:49.095Z"
   },
   {
    "duration": 7,
    "start_time": "2021-07-22T15:17:49.099Z"
   },
   {
    "duration": 7,
    "start_time": "2021-07-22T15:17:49.108Z"
   },
   {
    "duration": 3,
    "start_time": "2021-07-22T15:17:49.116Z"
   },
   {
    "duration": 24,
    "start_time": "2021-07-22T15:17:49.120Z"
   },
   {
    "duration": 11,
    "start_time": "2021-07-22T15:18:07.917Z"
   },
   {
    "duration": 12,
    "start_time": "2021-07-22T15:21:13.582Z"
   },
   {
    "duration": 11,
    "start_time": "2021-07-22T15:22:03.770Z"
   },
   {
    "duration": 12,
    "start_time": "2021-07-22T15:22:38.811Z"
   },
   {
    "duration": 3,
    "start_time": "2021-07-22T15:22:50.073Z"
   },
   {
    "duration": 18,
    "start_time": "2021-07-22T15:22:51.768Z"
   },
   {
    "duration": 1093,
    "start_time": "2021-07-22T15:23:05.605Z"
   },
   {
    "duration": 349,
    "start_time": "2021-07-22T15:23:06.700Z"
   },
   {
    "duration": 11,
    "start_time": "2021-07-22T15:23:07.052Z"
   },
   {
    "duration": 55,
    "start_time": "2021-07-22T15:23:07.064Z"
   },
   {
    "duration": 105,
    "start_time": "2021-07-22T15:23:07.121Z"
   },
   {
    "duration": 96,
    "start_time": "2021-07-22T15:23:07.228Z"
   },
   {
    "duration": 20,
    "start_time": "2021-07-22T15:23:07.326Z"
   },
   {
    "duration": 514,
    "start_time": "2021-07-22T15:23:07.347Z"
   },
   {
    "duration": 771,
    "start_time": "2021-07-22T15:23:07.863Z"
   },
   {
    "duration": 367,
    "start_time": "2021-07-22T15:23:08.636Z"
   },
   {
    "duration": 87,
    "start_time": "2021-07-22T15:23:09.005Z"
   },
   {
    "duration": 6,
    "start_time": "2021-07-22T15:23:09.095Z"
   },
   {
    "duration": 7,
    "start_time": "2021-07-22T15:23:09.192Z"
   },
   {
    "duration": 4,
    "start_time": "2021-07-22T15:23:09.201Z"
   },
   {
    "duration": 20,
    "start_time": "2021-07-22T15:23:09.207Z"
   },
   {
    "duration": 1060,
    "start_time": "2021-07-22T15:24:19.832Z"
   },
   {
    "duration": 333,
    "start_time": "2021-07-22T15:24:20.894Z"
   },
   {
    "duration": 11,
    "start_time": "2021-07-22T15:24:21.228Z"
   },
   {
    "duration": 24,
    "start_time": "2021-07-22T15:24:21.241Z"
   },
   {
    "duration": 113,
    "start_time": "2021-07-22T15:24:21.266Z"
   },
   {
    "duration": 90,
    "start_time": "2021-07-22T15:24:21.381Z"
   },
   {
    "duration": 31,
    "start_time": "2021-07-22T15:24:21.473Z"
   },
   {
    "duration": 515,
    "start_time": "2021-07-22T15:24:21.506Z"
   },
   {
    "duration": 778,
    "start_time": "2021-07-22T15:24:22.022Z"
   },
   {
    "duration": 401,
    "start_time": "2021-07-22T15:24:22.801Z"
   },
   {
    "duration": 95,
    "start_time": "2021-07-22T15:24:23.204Z"
   },
   {
    "duration": 91,
    "start_time": "2021-07-22T15:24:23.301Z"
   },
   {
    "duration": 7,
    "start_time": "2021-07-22T15:24:23.394Z"
   },
   {
    "duration": 3,
    "start_time": "2021-07-22T15:24:23.403Z"
   },
   {
    "duration": 20,
    "start_time": "2021-07-22T15:24:23.407Z"
   },
   {
    "duration": 518,
    "start_time": "2021-07-22T15:26:42.615Z"
   },
   {
    "duration": 471,
    "start_time": "2021-07-22T15:26:49.342Z"
   },
   {
    "duration": 9,
    "start_time": "2021-07-22T15:26:58.254Z"
   },
   {
    "duration": 11,
    "start_time": "2021-07-22T15:27:04.273Z"
   },
   {
    "duration": 11,
    "start_time": "2021-07-22T15:27:21.366Z"
   },
   {
    "duration": 11,
    "start_time": "2021-07-22T15:27:28.661Z"
   },
   {
    "duration": 10,
    "start_time": "2021-07-22T15:27:46.144Z"
   },
   {
    "duration": 19,
    "start_time": "2021-07-22T15:28:35.316Z"
   },
   {
    "duration": 2,
    "start_time": "2021-07-22T15:29:32.615Z"
   },
   {
    "duration": 3,
    "start_time": "2021-07-22T15:29:37.254Z"
   },
   {
    "duration": 3,
    "start_time": "2021-07-22T15:29:42.495Z"
   },
   {
    "duration": 2,
    "start_time": "2021-07-22T15:29:49.334Z"
   },
   {
    "duration": 3,
    "start_time": "2021-07-22T15:29:50.460Z"
   },
   {
    "duration": 3,
    "start_time": "2021-07-22T15:29:54.698Z"
   },
   {
    "duration": 4,
    "start_time": "2021-07-22T15:29:55.784Z"
   },
   {
    "duration": 6,
    "start_time": "2021-07-22T15:29:56.865Z"
   },
   {
    "duration": 4,
    "start_time": "2021-07-22T15:30:00.480Z"
   },
   {
    "duration": 18,
    "start_time": "2021-07-22T15:30:02.142Z"
   },
   {
    "duration": 240,
    "start_time": "2021-07-22T15:33:28.791Z"
   },
   {
    "duration": 241,
    "start_time": "2021-07-22T15:33:58.513Z"
   },
   {
    "duration": 251,
    "start_time": "2021-07-22T15:34:39.495Z"
   },
   {
    "duration": 20,
    "start_time": "2021-07-22T15:35:09.652Z"
   },
   {
    "duration": 20,
    "start_time": "2021-07-22T15:35:19.733Z"
   },
   {
    "duration": 4,
    "start_time": "2021-07-22T15:39:36.940Z"
   },
   {
    "duration": 77,
    "start_time": "2021-07-22T15:48:18.269Z"
   },
   {
    "duration": 421,
    "start_time": "2021-07-22T15:48:35.463Z"
   },
   {
    "duration": 3,
    "start_time": "2021-07-22T15:49:22.966Z"
   },
   {
    "duration": 388,
    "start_time": "2021-07-22T15:49:28.673Z"
   },
   {
    "duration": 387,
    "start_time": "2021-07-22T15:49:48.191Z"
   },
   {
    "duration": 3,
    "start_time": "2021-07-22T15:50:03.177Z"
   },
   {
    "duration": 21,
    "start_time": "2021-07-22T15:50:04.773Z"
   },
   {
    "duration": 2308,
    "start_time": "2021-07-22T15:50:06.228Z"
   },
   {
    "duration": 2154,
    "start_time": "2021-07-22T15:50:20.754Z"
   },
   {
    "duration": 1723,
    "start_time": "2021-07-22T15:51:08.246Z"
   },
   {
    "duration": 1687,
    "start_time": "2021-07-22T15:51:22.246Z"
   },
   {
    "duration": 5134,
    "start_time": "2021-07-22T15:52:38.203Z"
   },
   {
    "duration": 2102,
    "start_time": "2021-07-22T15:52:52.842Z"
   },
   {
    "duration": 1125,
    "start_time": "2021-07-22T15:54:08.265Z"
   },
   {
    "duration": 339,
    "start_time": "2021-07-22T15:54:09.392Z"
   },
   {
    "duration": 12,
    "start_time": "2021-07-22T15:54:09.734Z"
   },
   {
    "duration": 25,
    "start_time": "2021-07-22T15:54:09.747Z"
   },
   {
    "duration": 104,
    "start_time": "2021-07-22T15:54:09.791Z"
   },
   {
    "duration": 94,
    "start_time": "2021-07-22T15:54:09.897Z"
   },
   {
    "duration": 20,
    "start_time": "2021-07-22T15:54:09.993Z"
   },
   {
    "duration": 515,
    "start_time": "2021-07-22T15:54:10.015Z"
   },
   {
    "duration": 783,
    "start_time": "2021-07-22T15:54:10.532Z"
   },
   {
    "duration": 377,
    "start_time": "2021-07-22T15:54:11.323Z"
   },
   {
    "duration": 93,
    "start_time": "2021-07-22T15:54:11.701Z"
   },
   {
    "duration": 96,
    "start_time": "2021-07-22T15:54:11.796Z"
   },
   {
    "duration": 20,
    "start_time": "2021-07-22T15:54:11.894Z"
   },
   {
    "duration": 9,
    "start_time": "2021-07-22T15:54:11.916Z"
   },
   {
    "duration": 39,
    "start_time": "2021-07-22T15:54:11.926Z"
   },
   {
    "duration": 460,
    "start_time": "2021-07-22T15:54:11.967Z"
   },
   {
    "duration": 1080,
    "start_time": "2021-07-22T15:55:03.319Z"
   },
   {
    "duration": 352,
    "start_time": "2021-07-22T15:55:04.401Z"
   },
   {
    "duration": 11,
    "start_time": "2021-07-22T15:55:04.755Z"
   },
   {
    "duration": 30,
    "start_time": "2021-07-22T15:55:04.768Z"
   },
   {
    "duration": 113,
    "start_time": "2021-07-22T15:55:04.800Z"
   },
   {
    "duration": 95,
    "start_time": "2021-07-22T15:55:04.914Z"
   },
   {
    "duration": 19,
    "start_time": "2021-07-22T15:55:05.011Z"
   },
   {
    "duration": 512,
    "start_time": "2021-07-22T15:55:05.033Z"
   },
   {
    "duration": 772,
    "start_time": "2021-07-22T15:55:05.547Z"
   },
   {
    "duration": 387,
    "start_time": "2021-07-22T15:55:06.320Z"
   },
   {
    "duration": 90,
    "start_time": "2021-07-22T15:55:06.709Z"
   },
   {
    "duration": 91,
    "start_time": "2021-07-22T15:55:06.801Z"
   },
   {
    "duration": 7,
    "start_time": "2021-07-22T15:55:06.894Z"
   },
   {
    "duration": 4,
    "start_time": "2021-07-22T15:55:06.903Z"
   },
   {
    "duration": 20,
    "start_time": "2021-07-22T15:55:06.908Z"
   },
   {
    "duration": 441,
    "start_time": "2021-07-22T15:55:06.929Z"
   },
   {
    "duration": 444,
    "start_time": "2021-07-22T15:55:30.051Z"
   },
   {
    "duration": 1101,
    "start_time": "2021-07-22T16:40:38.293Z"
   },
   {
    "duration": 330,
    "start_time": "2021-07-22T16:40:39.396Z"
   },
   {
    "duration": 11,
    "start_time": "2021-07-22T16:40:39.728Z"
   },
   {
    "duration": 25,
    "start_time": "2021-07-22T16:40:39.741Z"
   },
   {
    "duration": 106,
    "start_time": "2021-07-22T16:40:39.768Z"
   },
   {
    "duration": 90,
    "start_time": "2021-07-22T16:40:39.876Z"
   },
   {
    "duration": 40,
    "start_time": "2021-07-22T16:40:39.967Z"
   },
   {
    "duration": 506,
    "start_time": "2021-07-22T16:40:40.009Z"
   },
   {
    "duration": 782,
    "start_time": "2021-07-22T16:40:40.517Z"
   },
   {
    "duration": 404,
    "start_time": "2021-07-22T16:40:41.301Z"
   },
   {
    "duration": 85,
    "start_time": "2021-07-22T16:40:41.707Z"
   },
   {
    "duration": 96,
    "start_time": "2021-07-22T16:40:41.795Z"
   },
   {
    "duration": 8,
    "start_time": "2021-07-22T16:40:41.893Z"
   },
   {
    "duration": 4,
    "start_time": "2021-07-22T16:40:41.903Z"
   },
   {
    "duration": 23,
    "start_time": "2021-07-22T16:40:41.909Z"
   },
   {
    "duration": 452,
    "start_time": "2021-07-22T16:40:41.934Z"
   },
   {
    "duration": 229,
    "start_time": "2021-07-22T16:41:38.420Z"
   },
   {
    "duration": 7,
    "start_time": "2021-07-22T16:41:48.857Z"
   },
   {
    "duration": 4,
    "start_time": "2021-07-22T16:42:05.231Z"
   },
   {
    "duration": 388,
    "start_time": "2021-07-22T16:44:20.418Z"
   },
   {
    "duration": 413,
    "start_time": "2021-07-22T16:44:27.393Z"
   },
   {
    "duration": 378,
    "start_time": "2021-07-22T16:44:35.927Z"
   },
   {
    "duration": 3,
    "start_time": "2021-07-22T16:44:46.066Z"
   },
   {
    "duration": 19,
    "start_time": "2021-07-22T16:44:47.432Z"
   },
   {
    "duration": 8,
    "start_time": "2021-07-22T16:44:50.368Z"
   },
   {
    "duration": 5,
    "start_time": "2021-07-22T16:44:51.584Z"
   },
   {
    "duration": 2151,
    "start_time": "2021-07-22T16:44:53.459Z"
   },
   {
    "duration": 6684,
    "start_time": "2021-07-22T16:46:23.945Z"
   },
   {
    "duration": 246,
    "start_time": "2021-07-22T16:47:06.616Z"
   },
   {
    "duration": 6,
    "start_time": "2021-07-22T16:47:29.829Z"
   },
   {
    "duration": 7,
    "start_time": "2021-07-22T16:47:39.365Z"
   },
   {
    "duration": 219,
    "start_time": "2021-07-22T16:48:04.164Z"
   },
   {
    "duration": 4,
    "start_time": "2021-07-22T16:48:09.514Z"
   },
   {
    "duration": 8,
    "start_time": "2021-07-22T16:48:20.814Z"
   },
   {
    "duration": 7,
    "start_time": "2021-07-22T16:48:37.035Z"
   },
   {
    "duration": 441,
    "start_time": "2021-07-22T16:49:24.564Z"
   },
   {
    "duration": 1104,
    "start_time": "2021-07-22T16:49:31.895Z"
   },
   {
    "duration": 337,
    "start_time": "2021-07-22T16:49:33.001Z"
   },
   {
    "duration": 10,
    "start_time": "2021-07-22T16:49:33.340Z"
   },
   {
    "duration": 36,
    "start_time": "2021-07-22T16:49:33.352Z"
   },
   {
    "duration": 109,
    "start_time": "2021-07-22T16:49:33.390Z"
   },
   {
    "duration": 99,
    "start_time": "2021-07-22T16:49:33.501Z"
   },
   {
    "duration": 21,
    "start_time": "2021-07-22T16:49:33.602Z"
   },
   {
    "duration": 540,
    "start_time": "2021-07-22T16:49:33.626Z"
   },
   {
    "duration": 812,
    "start_time": "2021-07-22T16:49:34.168Z"
   },
   {
    "duration": 424,
    "start_time": "2021-07-22T16:49:34.981Z"
   },
   {
    "duration": 92,
    "start_time": "2021-07-22T16:49:35.408Z"
   },
   {
    "duration": 6,
    "start_time": "2021-07-22T16:49:35.592Z"
   },
   {
    "duration": 23,
    "start_time": "2021-07-22T16:49:35.599Z"
   },
   {
    "duration": 6,
    "start_time": "2021-07-22T16:49:35.623Z"
   },
   {
    "duration": 40,
    "start_time": "2021-07-22T16:49:35.630Z"
   },
   {
    "duration": 5,
    "start_time": "2021-07-22T16:49:35.671Z"
   },
   {
    "duration": 24,
    "start_time": "2021-07-22T16:49:35.678Z"
   },
   {
    "duration": 8599,
    "start_time": "2021-07-22T16:49:35.704Z"
   },
   {
    "duration": 1257,
    "start_time": "2021-07-22T16:50:13.740Z"
   },
   {
    "duration": 341,
    "start_time": "2021-07-22T16:50:14.999Z"
   },
   {
    "duration": 13,
    "start_time": "2021-07-22T16:50:15.342Z"
   },
   {
    "duration": 45,
    "start_time": "2021-07-22T16:50:15.357Z"
   },
   {
    "duration": 111,
    "start_time": "2021-07-22T16:50:15.404Z"
   },
   {
    "duration": 99,
    "start_time": "2021-07-22T16:50:15.517Z"
   },
   {
    "duration": 19,
    "start_time": "2021-07-22T16:50:15.618Z"
   },
   {
    "duration": 513,
    "start_time": "2021-07-22T16:50:15.639Z"
   },
   {
    "duration": 774,
    "start_time": "2021-07-22T16:50:16.154Z"
   },
   {
    "duration": 375,
    "start_time": "2021-07-22T16:50:16.930Z"
   },
   {
    "duration": 85,
    "start_time": "2021-07-22T16:50:17.307Z"
   },
   {
    "duration": 97,
    "start_time": "2021-07-22T16:50:17.395Z"
   },
   {
    "duration": 7,
    "start_time": "2021-07-22T16:50:17.494Z"
   },
   {
    "duration": 3,
    "start_time": "2021-07-22T16:50:17.503Z"
   },
   {
    "duration": 20,
    "start_time": "2021-07-22T16:50:17.507Z"
   },
   {
    "duration": 8498,
    "start_time": "2021-07-22T16:50:17.529Z"
   },
   {
    "duration": 349,
    "start_time": "2021-07-22T16:55:50.153Z"
   },
   {
    "duration": 8344,
    "start_time": "2021-07-22T16:56:39.733Z"
   },
   {
    "duration": 8569,
    "start_time": "2021-07-22T16:56:49.409Z"
   },
   {
    "duration": 9284,
    "start_time": "2021-07-22T16:57:35.589Z"
   },
   {
    "duration": 6,
    "start_time": "2021-07-22T16:58:05.731Z"
   },
   {
    "duration": 8,
    "start_time": "2021-07-22T16:58:39.908Z"
   },
   {
    "duration": 7,
    "start_time": "2021-07-22T16:58:52.097Z"
   },
   {
    "duration": 8360,
    "start_time": "2021-07-22T17:04:01.567Z"
   },
   {
    "duration": 7,
    "start_time": "2021-07-22T17:04:09.928Z"
   },
   {
    "duration": 1313,
    "start_time": "2021-07-22T17:06:25.217Z"
   },
   {
    "duration": 341,
    "start_time": "2021-07-22T17:06:26.531Z"
   },
   {
    "duration": 16,
    "start_time": "2021-07-22T17:06:26.875Z"
   },
   {
    "duration": 24,
    "start_time": "2021-07-22T17:06:26.893Z"
   },
   {
    "duration": 126,
    "start_time": "2021-07-22T17:06:26.919Z"
   },
   {
    "duration": 99,
    "start_time": "2021-07-22T17:06:27.047Z"
   },
   {
    "duration": 20,
    "start_time": "2021-07-22T17:06:27.148Z"
   },
   {
    "duration": 523,
    "start_time": "2021-07-22T17:06:27.170Z"
   },
   {
    "duration": 776,
    "start_time": "2021-07-22T17:06:27.694Z"
   },
   {
    "duration": 432,
    "start_time": "2021-07-22T17:06:28.471Z"
   },
   {
    "duration": 87,
    "start_time": "2021-07-22T17:06:28.905Z"
   },
   {
    "duration": 105,
    "start_time": "2021-07-22T17:06:28.995Z"
   },
   {
    "duration": 19,
    "start_time": "2021-07-22T17:06:29.102Z"
   },
   {
    "duration": 8,
    "start_time": "2021-07-22T17:06:29.122Z"
   },
   {
    "duration": 27,
    "start_time": "2021-07-22T17:06:29.131Z"
   },
   {
    "duration": 8395,
    "start_time": "2021-07-22T17:06:29.160Z"
   },
   {
    "duration": 6,
    "start_time": "2021-07-22T17:06:37.557Z"
   },
   {
    "duration": 1145,
    "start_time": "2021-07-22T17:08:31.753Z"
   },
   {
    "duration": 337,
    "start_time": "2021-07-22T17:08:32.899Z"
   },
   {
    "duration": 10,
    "start_time": "2021-07-22T17:08:33.238Z"
   },
   {
    "duration": 31,
    "start_time": "2021-07-22T17:08:33.250Z"
   },
   {
    "duration": 106,
    "start_time": "2021-07-22T17:08:33.291Z"
   },
   {
    "duration": 95,
    "start_time": "2021-07-22T17:08:33.399Z"
   },
   {
    "duration": 19,
    "start_time": "2021-07-22T17:08:33.496Z"
   },
   {
    "duration": 522,
    "start_time": "2021-07-22T17:08:33.517Z"
   },
   {
    "duration": 792,
    "start_time": "2021-07-22T17:08:34.042Z"
   },
   {
    "duration": 374,
    "start_time": "2021-07-22T17:08:34.836Z"
   },
   {
    "duration": 3,
    "start_time": "2021-07-22T17:08:35.292Z"
   },
   {
    "duration": 101,
    "start_time": "2021-07-22T17:08:35.297Z"
   },
   {
    "duration": 8,
    "start_time": "2021-07-22T17:08:35.400Z"
   },
   {
    "duration": 3,
    "start_time": "2021-07-22T17:08:35.410Z"
   },
   {
    "duration": 22,
    "start_time": "2021-07-22T17:08:35.414Z"
   },
   {
    "duration": 8457,
    "start_time": "2021-07-22T17:08:35.437Z"
   },
   {
    "duration": 6,
    "start_time": "2021-07-22T17:08:43.896Z"
   },
   {
    "duration": 1473,
    "start_time": "2022-09-01T22:28:22.139Z"
   },
   {
    "duration": 788,
    "start_time": "2022-09-01T22:28:23.614Z"
   },
   {
    "duration": 18,
    "start_time": "2022-09-01T22:28:24.404Z"
   },
   {
    "duration": 34,
    "start_time": "2022-09-01T22:28:24.424Z"
   },
   {
    "duration": 116,
    "start_time": "2022-09-01T22:28:24.460Z"
   },
   {
    "duration": 100,
    "start_time": "2022-09-01T22:28:24.578Z"
   },
   {
    "duration": 25,
    "start_time": "2022-09-01T22:28:24.680Z"
   },
   {
    "duration": 296,
    "start_time": "2022-09-01T22:28:28.335Z"
   },
   {
    "duration": 192,
    "start_time": "2022-09-01T22:29:02.682Z"
   },
   {
    "duration": 646,
    "start_time": "2022-09-01T22:29:11.534Z"
   },
   {
    "duration": 46,
    "start_time": "2022-09-01T22:29:42.752Z"
   },
   {
    "duration": 211,
    "start_time": "2022-09-01T22:29:52.592Z"
   },
   {
    "duration": 558,
    "start_time": "2022-09-01T22:31:07.018Z"
   },
   {
    "duration": 555,
    "start_time": "2022-09-01T22:31:50.216Z"
   },
   {
    "duration": 555,
    "start_time": "2022-09-01T22:31:56.612Z"
   }
  ],
  "kernelspec": {
   "display_name": "Python 3",
   "language": "python",
   "name": "python3"
  },
  "language_info": {
   "codemirror_mode": {
    "name": "ipython",
    "version": 3
   },
   "file_extension": ".py",
   "mimetype": "text/x-python",
   "name": "python",
   "nbconvert_exporter": "python",
   "pygments_lexer": "ipython3",
   "version": "3.8.8"
  },
  "toc": {
   "base_numbering": 1,
   "nav_menu": {},
   "number_sections": true,
   "sideBar": true,
   "skip_h1_title": true,
   "title_cell": "Table of Contents",
   "title_sidebar": "Contents",
   "toc_cell": false,
   "toc_position": {},
   "toc_section_display": true,
   "toc_window_display": true
  }
 },
 "nbformat": 4,
 "nbformat_minor": 2
}
