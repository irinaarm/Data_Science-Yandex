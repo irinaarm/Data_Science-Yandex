{
 "cells": [
  {
   "cell_type": "markdown",
   "metadata": {},
   "source": [
    "# Analyzing borrowers’ risk of defaulting\n",
    "\n",
    "\n",
    "The goal of the project is to prepare a report for a bank’s loan division. You’ll need to find out if a customer’s marital status and number of children has an impact on whether they will default on a loan. The bank already has some data on customers’ credit worthiness.\n",
    "\n",
    "Your report will be considered when building a credit scoring of a potential customer. A credit scoring is used to evaluate the ability of a potential borrower to repay their loan.\n",
    "\n",
    "Description of the data:\n",
    "- children — the number of children in the family\n",
    "- days_employed — how long the customer has been working\n",
    "- dob_years — the customer’s age\n",
    "- education — the customer’s education level\n",
    "- education_id — identifier for the customer’s education\n",
    "- family_status — the customer’s marital status\n",
    "- family_status_id — identifier for the customer’s marital status\n",
    "- gender — the customer’s gender\n",
    "- income_type — the customer’s income type\n",
    "- debt — whether the customer has ever defaulted on a loan\n",
    "- total_income — monthly income\n",
    "- purpose — reason for taking out a loan"
   ]
  },
  {
   "cell_type": "markdown",
   "metadata": {},
   "source": [
    "## Step 1. General overview of data "
   ]
  },
  {
   "cell_type": "code",
   "execution_count": 1,
   "metadata": {},
   "outputs": [],
   "source": [
    "#Read initial file\n",
    "\n",
    "import pandas as pd\n",
    "data = pd.read_csv('/Users/irinaarmasheva/Desktop/ЯНДЕКС_ПРАКТИКУМ/Проекты/Предобработка_данных/data.csv')\n"
   ]
  },
  {
   "cell_type": "code",
   "execution_count": 2,
   "metadata": {},
   "outputs": [
    {
     "name": "stdout",
     "output_type": "stream",
     "text": [
      "<class 'pandas.core.frame.DataFrame'>\n",
      "RangeIndex: 21525 entries, 0 to 21524\n",
      "Data columns (total 12 columns):\n",
      " #   Column            Non-Null Count  Dtype  \n",
      "---  ------            --------------  -----  \n",
      " 0   children          21525 non-null  int64  \n",
      " 1   days_employed     19351 non-null  float64\n",
      " 2   dob_years         21525 non-null  int64  \n",
      " 3   education         21525 non-null  object \n",
      " 4   education_id      21525 non-null  int64  \n",
      " 5   family_status     21525 non-null  object \n",
      " 6   family_status_id  21525 non-null  int64  \n",
      " 7   gender            21525 non-null  object \n",
      " 8   income_type       21525 non-null  object \n",
      " 9   debt              21525 non-null  int64  \n",
      " 10  total_income      19351 non-null  float64\n",
      " 11  purpose           21525 non-null  object \n",
      "dtypes: float64(2), int64(5), object(5)\n",
      "memory usage: 2.0+ MB\n"
     ]
    }
   ],
   "source": [
    "#Check information about the dataset\n",
    "\n",
    "data.info()"
   ]
  },
  {
   "cell_type": "code",
   "execution_count": 3,
   "metadata": {},
   "outputs": [],
   "source": [
    "#Rename column 'dob_years' to 'full_years'\n",
    "\n",
    "data = data.rename(columns={'dob_years': 'full_years'})"
   ]
  },
  {
   "cell_type": "code",
   "execution_count": 4,
   "metadata": {},
   "outputs": [
    {
     "data": {
      "text/html": [
       "<div>\n",
       "<style scoped>\n",
       "    .dataframe tbody tr th:only-of-type {\n",
       "        vertical-align: middle;\n",
       "    }\n",
       "\n",
       "    .dataframe tbody tr th {\n",
       "        vertical-align: top;\n",
       "    }\n",
       "\n",
       "    .dataframe thead th {\n",
       "        text-align: right;\n",
       "    }\n",
       "</style>\n",
       "<table border=\"1\" class=\"dataframe\">\n",
       "  <thead>\n",
       "    <tr style=\"text-align: right;\">\n",
       "      <th></th>\n",
       "      <th>children</th>\n",
       "      <th>days_employed</th>\n",
       "      <th>full_years</th>\n",
       "      <th>education</th>\n",
       "      <th>education_id</th>\n",
       "      <th>family_status</th>\n",
       "      <th>family_status_id</th>\n",
       "      <th>gender</th>\n",
       "      <th>income_type</th>\n",
       "      <th>debt</th>\n",
       "      <th>total_income</th>\n",
       "      <th>purpose</th>\n",
       "    </tr>\n",
       "  </thead>\n",
       "  <tbody>\n",
       "    <tr>\n",
       "      <th>0</th>\n",
       "      <td>1</td>\n",
       "      <td>-8437.673028</td>\n",
       "      <td>42</td>\n",
       "      <td>высшее</td>\n",
       "      <td>0</td>\n",
       "      <td>женат / замужем</td>\n",
       "      <td>0</td>\n",
       "      <td>F</td>\n",
       "      <td>сотрудник</td>\n",
       "      <td>0</td>\n",
       "      <td>253875.639453</td>\n",
       "      <td>покупка жилья</td>\n",
       "    </tr>\n",
       "    <tr>\n",
       "      <th>1</th>\n",
       "      <td>1</td>\n",
       "      <td>-4024.803754</td>\n",
       "      <td>36</td>\n",
       "      <td>среднее</td>\n",
       "      <td>1</td>\n",
       "      <td>женат / замужем</td>\n",
       "      <td>0</td>\n",
       "      <td>F</td>\n",
       "      <td>сотрудник</td>\n",
       "      <td>0</td>\n",
       "      <td>112080.014102</td>\n",
       "      <td>приобретение автомобиля</td>\n",
       "    </tr>\n",
       "    <tr>\n",
       "      <th>2</th>\n",
       "      <td>0</td>\n",
       "      <td>-5623.422610</td>\n",
       "      <td>33</td>\n",
       "      <td>Среднее</td>\n",
       "      <td>1</td>\n",
       "      <td>женат / замужем</td>\n",
       "      <td>0</td>\n",
       "      <td>M</td>\n",
       "      <td>сотрудник</td>\n",
       "      <td>0</td>\n",
       "      <td>145885.952297</td>\n",
       "      <td>покупка жилья</td>\n",
       "    </tr>\n",
       "    <tr>\n",
       "      <th>3</th>\n",
       "      <td>3</td>\n",
       "      <td>-4124.747207</td>\n",
       "      <td>32</td>\n",
       "      <td>среднее</td>\n",
       "      <td>1</td>\n",
       "      <td>женат / замужем</td>\n",
       "      <td>0</td>\n",
       "      <td>M</td>\n",
       "      <td>сотрудник</td>\n",
       "      <td>0</td>\n",
       "      <td>267628.550329</td>\n",
       "      <td>дополнительное образование</td>\n",
       "    </tr>\n",
       "    <tr>\n",
       "      <th>4</th>\n",
       "      <td>0</td>\n",
       "      <td>340266.072047</td>\n",
       "      <td>53</td>\n",
       "      <td>среднее</td>\n",
       "      <td>1</td>\n",
       "      <td>гражданский брак</td>\n",
       "      <td>1</td>\n",
       "      <td>F</td>\n",
       "      <td>пенсионер</td>\n",
       "      <td>0</td>\n",
       "      <td>158616.077870</td>\n",
       "      <td>сыграть свадьбу</td>\n",
       "    </tr>\n",
       "  </tbody>\n",
       "</table>\n",
       "</div>"
      ],
      "text/plain": [
       "   children  days_employed  full_years education  education_id  \\\n",
       "0         1   -8437.673028          42    высшее             0   \n",
       "1         1   -4024.803754          36   среднее             1   \n",
       "2         0   -5623.422610          33   Среднее             1   \n",
       "3         3   -4124.747207          32   среднее             1   \n",
       "4         0  340266.072047          53   среднее             1   \n",
       "\n",
       "      family_status  family_status_id gender income_type  debt   total_income  \\\n",
       "0   женат / замужем                 0      F   сотрудник     0  253875.639453   \n",
       "1   женат / замужем                 0      F   сотрудник     0  112080.014102   \n",
       "2   женат / замужем                 0      M   сотрудник     0  145885.952297   \n",
       "3   женат / замужем                 0      M   сотрудник     0  267628.550329   \n",
       "4  гражданский брак                 1      F   пенсионер     0  158616.077870   \n",
       "\n",
       "                      purpose  \n",
       "0               покупка жилья  \n",
       "1     приобретение автомобиля  \n",
       "2               покупка жилья  \n",
       "3  дополнительное образование  \n",
       "4             сыграть свадьбу  "
      ]
     },
     "metadata": {},
     "output_type": "display_data"
    }
   ],
   "source": [
    "#Check first 5 rows of the dataset\n",
    "\n",
    "display(data.head())"
   ]
  },
  {
   "cell_type": "code",
   "execution_count": 5,
   "metadata": {},
   "outputs": [
    {
     "data": {
      "text/html": [
       "<div>\n",
       "<style scoped>\n",
       "    .dataframe tbody tr th:only-of-type {\n",
       "        vertical-align: middle;\n",
       "    }\n",
       "\n",
       "    .dataframe tbody tr th {\n",
       "        vertical-align: top;\n",
       "    }\n",
       "\n",
       "    .dataframe thead th {\n",
       "        text-align: right;\n",
       "    }\n",
       "</style>\n",
       "<table border=\"1\" class=\"dataframe\">\n",
       "  <thead>\n",
       "    <tr style=\"text-align: right;\">\n",
       "      <th></th>\n",
       "      <th>children</th>\n",
       "      <th>days_employed</th>\n",
       "      <th>full_years</th>\n",
       "      <th>education_id</th>\n",
       "      <th>family_status_id</th>\n",
       "      <th>debt</th>\n",
       "      <th>total_income</th>\n",
       "    </tr>\n",
       "  </thead>\n",
       "  <tbody>\n",
       "    <tr>\n",
       "      <th>count</th>\n",
       "      <td>21525.000000</td>\n",
       "      <td>19351.000000</td>\n",
       "      <td>21525.000000</td>\n",
       "      <td>21525.000000</td>\n",
       "      <td>21525.000000</td>\n",
       "      <td>21525.000000</td>\n",
       "      <td>1.935100e+04</td>\n",
       "    </tr>\n",
       "    <tr>\n",
       "      <th>mean</th>\n",
       "      <td>0.538908</td>\n",
       "      <td>63046.497661</td>\n",
       "      <td>43.293380</td>\n",
       "      <td>0.817236</td>\n",
       "      <td>0.972544</td>\n",
       "      <td>0.080883</td>\n",
       "      <td>1.674223e+05</td>\n",
       "    </tr>\n",
       "    <tr>\n",
       "      <th>std</th>\n",
       "      <td>1.381587</td>\n",
       "      <td>140827.311974</td>\n",
       "      <td>12.574584</td>\n",
       "      <td>0.548138</td>\n",
       "      <td>1.420324</td>\n",
       "      <td>0.272661</td>\n",
       "      <td>1.029716e+05</td>\n",
       "    </tr>\n",
       "    <tr>\n",
       "      <th>min</th>\n",
       "      <td>-1.000000</td>\n",
       "      <td>-18388.949901</td>\n",
       "      <td>0.000000</td>\n",
       "      <td>0.000000</td>\n",
       "      <td>0.000000</td>\n",
       "      <td>0.000000</td>\n",
       "      <td>2.066726e+04</td>\n",
       "    </tr>\n",
       "    <tr>\n",
       "      <th>25%</th>\n",
       "      <td>0.000000</td>\n",
       "      <td>-2747.423625</td>\n",
       "      <td>33.000000</td>\n",
       "      <td>1.000000</td>\n",
       "      <td>0.000000</td>\n",
       "      <td>0.000000</td>\n",
       "      <td>1.030532e+05</td>\n",
       "    </tr>\n",
       "    <tr>\n",
       "      <th>50%</th>\n",
       "      <td>0.000000</td>\n",
       "      <td>-1203.369529</td>\n",
       "      <td>42.000000</td>\n",
       "      <td>1.000000</td>\n",
       "      <td>0.000000</td>\n",
       "      <td>0.000000</td>\n",
       "      <td>1.450179e+05</td>\n",
       "    </tr>\n",
       "    <tr>\n",
       "      <th>75%</th>\n",
       "      <td>1.000000</td>\n",
       "      <td>-291.095954</td>\n",
       "      <td>53.000000</td>\n",
       "      <td>1.000000</td>\n",
       "      <td>1.000000</td>\n",
       "      <td>0.000000</td>\n",
       "      <td>2.034351e+05</td>\n",
       "    </tr>\n",
       "    <tr>\n",
       "      <th>max</th>\n",
       "      <td>20.000000</td>\n",
       "      <td>401755.400475</td>\n",
       "      <td>75.000000</td>\n",
       "      <td>4.000000</td>\n",
       "      <td>4.000000</td>\n",
       "      <td>1.000000</td>\n",
       "      <td>2.265604e+06</td>\n",
       "    </tr>\n",
       "  </tbody>\n",
       "</table>\n",
       "</div>"
      ],
      "text/plain": [
       "           children  days_employed    full_years  education_id  \\\n",
       "count  21525.000000   19351.000000  21525.000000  21525.000000   \n",
       "mean       0.538908   63046.497661     43.293380      0.817236   \n",
       "std        1.381587  140827.311974     12.574584      0.548138   \n",
       "min       -1.000000  -18388.949901      0.000000      0.000000   \n",
       "25%        0.000000   -2747.423625     33.000000      1.000000   \n",
       "50%        0.000000   -1203.369529     42.000000      1.000000   \n",
       "75%        1.000000    -291.095954     53.000000      1.000000   \n",
       "max       20.000000  401755.400475     75.000000      4.000000   \n",
       "\n",
       "       family_status_id          debt  total_income  \n",
       "count      21525.000000  21525.000000  1.935100e+04  \n",
       "mean           0.972544      0.080883  1.674223e+05  \n",
       "std            1.420324      0.272661  1.029716e+05  \n",
       "min            0.000000      0.000000  2.066726e+04  \n",
       "25%            0.000000      0.000000  1.030532e+05  \n",
       "50%            0.000000      0.000000  1.450179e+05  \n",
       "75%            1.000000      0.000000  2.034351e+05  \n",
       "max            4.000000      1.000000  2.265604e+06  "
      ]
     },
     "execution_count": 5,
     "metadata": {},
     "output_type": "execute_result"
    }
   ],
   "source": [
    "#Check the main statistics with the describe() method\n",
    "\n",
    "data.describe()"
   ]
  },
  {
   "cell_type": "code",
   "execution_count": 6,
   "metadata": {},
   "outputs": [
    {
     "name": "stdout",
     "output_type": "stream",
     "text": [
      "15906\n"
     ]
    }
   ],
   "source": [
    "#Check total quantity of negative values in column days_employed\n",
    "\n",
    "print(data[data['days_employed'] < 0]['income_type'].count())"
   ]
  },
  {
   "cell_type": "code",
   "execution_count": 7,
   "metadata": {},
   "outputs": [
    {
     "data": {
      "text/html": [
       "<div>\n",
       "<style scoped>\n",
       "    .dataframe tbody tr th:only-of-type {\n",
       "        vertical-align: middle;\n",
       "    }\n",
       "\n",
       "    .dataframe tbody tr th {\n",
       "        vertical-align: top;\n",
       "    }\n",
       "\n",
       "    .dataframe thead tr th {\n",
       "        text-align: left;\n",
       "    }\n",
       "\n",
       "    .dataframe thead tr:last-of-type th {\n",
       "        text-align: right;\n",
       "    }\n",
       "</style>\n",
       "<table border=\"1\" class=\"dataframe\">\n",
       "  <thead>\n",
       "    <tr>\n",
       "      <th></th>\n",
       "      <th colspan=\"2\" halign=\"left\">days_employed</th>\n",
       "    </tr>\n",
       "    <tr>\n",
       "      <th></th>\n",
       "      <th>min</th>\n",
       "      <th>mean</th>\n",
       "    </tr>\n",
       "    <tr>\n",
       "      <th>income_type</th>\n",
       "      <th></th>\n",
       "      <th></th>\n",
       "    </tr>\n",
       "  </thead>\n",
       "  <tbody>\n",
       "    <tr>\n",
       "      <th>безработный</th>\n",
       "      <td>337524.466835</td>\n",
       "      <td>366413.652744</td>\n",
       "    </tr>\n",
       "    <tr>\n",
       "      <th>в декрете</th>\n",
       "      <td>-3296.759962</td>\n",
       "      <td>-3296.759962</td>\n",
       "    </tr>\n",
       "    <tr>\n",
       "      <th>госслужащий</th>\n",
       "      <td>-15193.032201</td>\n",
       "      <td>-3399.896902</td>\n",
       "    </tr>\n",
       "    <tr>\n",
       "      <th>компаньон</th>\n",
       "      <td>-17615.563266</td>\n",
       "      <td>-2111.524398</td>\n",
       "    </tr>\n",
       "    <tr>\n",
       "      <th>пенсионер</th>\n",
       "      <td>328728.720605</td>\n",
       "      <td>365003.491245</td>\n",
       "    </tr>\n",
       "    <tr>\n",
       "      <th>предприниматель</th>\n",
       "      <td>-520.848083</td>\n",
       "      <td>-520.848083</td>\n",
       "    </tr>\n",
       "    <tr>\n",
       "      <th>сотрудник</th>\n",
       "      <td>-18388.949901</td>\n",
       "      <td>-2326.499216</td>\n",
       "    </tr>\n",
       "    <tr>\n",
       "      <th>студент</th>\n",
       "      <td>-578.751554</td>\n",
       "      <td>-578.751554</td>\n",
       "    </tr>\n",
       "  </tbody>\n",
       "</table>\n",
       "</div>"
      ],
      "text/plain": [
       "                 days_employed               \n",
       "                           min           mean\n",
       "income_type                                  \n",
       "безработный      337524.466835  366413.652744\n",
       "в декрете         -3296.759962   -3296.759962\n",
       "госслужащий      -15193.032201   -3399.896902\n",
       "компаньон        -17615.563266   -2111.524398\n",
       "пенсионер        328728.720605  365003.491245\n",
       "предприниматель    -520.848083    -520.848083\n",
       "сотрудник        -18388.949901   -2326.499216\n",
       "студент            -578.751554    -578.751554"
      ]
     },
     "metadata": {},
     "output_type": "display_data"
    }
   ],
   "source": [
    "#Calculate min and avg for days_employed column depending on income type \n",
    "\n",
    "display(data.groupby('income_type').agg({'days_employed' : ['min', 'mean']}))\n"
   ]
  },
  {
   "cell_type": "markdown",
   "metadata": {},
   "source": [
    "**Conclusion**"
   ]
  },
  {
   "cell_type": "markdown",
   "metadata": {},
   "source": [
    "There are missed values in columns days_employed and total_income that need to be filled.\n",
    "\n",
    "It is decided to rename column dob_years into full_years, the rest of the columns are named correctly stylistically and by meaning.\n",
    "\n",
    "Type of data in columns total_income and days_employed is float, it is preferred to change to int.\n",
    "\n",
    "Column days_employed contains negative values that need to be replaced. Total quantity of rows with negative values is \n",
    "15906 and we cannot just delete it. The assumption is that days-employed is calculated as a difference between employment date and date of data extraction (it is necessary to discuss with developers). For categories retiree and unemployed the value in column days_employed is unrealistically big.  \n"
   ]
  },
  {
   "cell_type": "markdown",
   "metadata": {},
   "source": [
    "## Step 2. Data preprocessing"
   ]
  },
  {
   "cell_type": "markdown",
   "metadata": {},
   "source": [
    "### Processing of missed values"
   ]
  },
  {
   "cell_type": "code",
   "execution_count": 8,
   "metadata": {},
   "outputs": [
    {
     "data": {
      "text/html": [
       "<div>\n",
       "<style scoped>\n",
       "    .dataframe tbody tr th:only-of-type {\n",
       "        vertical-align: middle;\n",
       "    }\n",
       "\n",
       "    .dataframe tbody tr th {\n",
       "        vertical-align: top;\n",
       "    }\n",
       "\n",
       "    .dataframe thead th {\n",
       "        text-align: right;\n",
       "    }\n",
       "</style>\n",
       "<table border=\"1\" class=\"dataframe\">\n",
       "  <thead>\n",
       "    <tr style=\"text-align: right;\">\n",
       "      <th></th>\n",
       "      <th>children</th>\n",
       "      <th>days_employed</th>\n",
       "      <th>full_years</th>\n",
       "      <th>education</th>\n",
       "      <th>education_id</th>\n",
       "      <th>family_status</th>\n",
       "      <th>family_status_id</th>\n",
       "      <th>gender</th>\n",
       "      <th>income_type</th>\n",
       "      <th>debt</th>\n",
       "      <th>total_income</th>\n",
       "      <th>purpose</th>\n",
       "    </tr>\n",
       "  </thead>\n",
       "  <tbody>\n",
       "    <tr>\n",
       "      <th>12</th>\n",
       "      <td>0</td>\n",
       "      <td>NaN</td>\n",
       "      <td>65</td>\n",
       "      <td>среднее</td>\n",
       "      <td>1</td>\n",
       "      <td>гражданский брак</td>\n",
       "      <td>1</td>\n",
       "      <td>M</td>\n",
       "      <td>пенсионер</td>\n",
       "      <td>0</td>\n",
       "      <td>NaN</td>\n",
       "      <td>сыграть свадьбу</td>\n",
       "    </tr>\n",
       "    <tr>\n",
       "      <th>26</th>\n",
       "      <td>0</td>\n",
       "      <td>NaN</td>\n",
       "      <td>41</td>\n",
       "      <td>среднее</td>\n",
       "      <td>1</td>\n",
       "      <td>женат / замужем</td>\n",
       "      <td>0</td>\n",
       "      <td>M</td>\n",
       "      <td>госслужащий</td>\n",
       "      <td>0</td>\n",
       "      <td>NaN</td>\n",
       "      <td>образование</td>\n",
       "    </tr>\n",
       "    <tr>\n",
       "      <th>29</th>\n",
       "      <td>0</td>\n",
       "      <td>NaN</td>\n",
       "      <td>63</td>\n",
       "      <td>среднее</td>\n",
       "      <td>1</td>\n",
       "      <td>Не женат / не замужем</td>\n",
       "      <td>4</td>\n",
       "      <td>F</td>\n",
       "      <td>пенсионер</td>\n",
       "      <td>0</td>\n",
       "      <td>NaN</td>\n",
       "      <td>строительство жилой недвижимости</td>\n",
       "    </tr>\n",
       "    <tr>\n",
       "      <th>41</th>\n",
       "      <td>0</td>\n",
       "      <td>NaN</td>\n",
       "      <td>50</td>\n",
       "      <td>среднее</td>\n",
       "      <td>1</td>\n",
       "      <td>женат / замужем</td>\n",
       "      <td>0</td>\n",
       "      <td>F</td>\n",
       "      <td>госслужащий</td>\n",
       "      <td>0</td>\n",
       "      <td>NaN</td>\n",
       "      <td>сделка с подержанным автомобилем</td>\n",
       "    </tr>\n",
       "    <tr>\n",
       "      <th>55</th>\n",
       "      <td>0</td>\n",
       "      <td>NaN</td>\n",
       "      <td>54</td>\n",
       "      <td>среднее</td>\n",
       "      <td>1</td>\n",
       "      <td>гражданский брак</td>\n",
       "      <td>1</td>\n",
       "      <td>F</td>\n",
       "      <td>пенсионер</td>\n",
       "      <td>1</td>\n",
       "      <td>NaN</td>\n",
       "      <td>сыграть свадьбу</td>\n",
       "    </tr>\n",
       "    <tr>\n",
       "      <th>65</th>\n",
       "      <td>0</td>\n",
       "      <td>NaN</td>\n",
       "      <td>21</td>\n",
       "      <td>среднее</td>\n",
       "      <td>1</td>\n",
       "      <td>Не женат / не замужем</td>\n",
       "      <td>4</td>\n",
       "      <td>M</td>\n",
       "      <td>компаньон</td>\n",
       "      <td>0</td>\n",
       "      <td>NaN</td>\n",
       "      <td>операции с коммерческой недвижимостью</td>\n",
       "    </tr>\n",
       "    <tr>\n",
       "      <th>67</th>\n",
       "      <td>0</td>\n",
       "      <td>NaN</td>\n",
       "      <td>52</td>\n",
       "      <td>высшее</td>\n",
       "      <td>0</td>\n",
       "      <td>женат / замужем</td>\n",
       "      <td>0</td>\n",
       "      <td>F</td>\n",
       "      <td>пенсионер</td>\n",
       "      <td>0</td>\n",
       "      <td>NaN</td>\n",
       "      <td>покупка жилья для семьи</td>\n",
       "    </tr>\n",
       "    <tr>\n",
       "      <th>72</th>\n",
       "      <td>1</td>\n",
       "      <td>NaN</td>\n",
       "      <td>32</td>\n",
       "      <td>высшее</td>\n",
       "      <td>0</td>\n",
       "      <td>женат / замужем</td>\n",
       "      <td>0</td>\n",
       "      <td>M</td>\n",
       "      <td>госслужащий</td>\n",
       "      <td>0</td>\n",
       "      <td>NaN</td>\n",
       "      <td>операции с коммерческой недвижимостью</td>\n",
       "    </tr>\n",
       "    <tr>\n",
       "      <th>82</th>\n",
       "      <td>2</td>\n",
       "      <td>NaN</td>\n",
       "      <td>50</td>\n",
       "      <td>высшее</td>\n",
       "      <td>0</td>\n",
       "      <td>женат / замужем</td>\n",
       "      <td>0</td>\n",
       "      <td>F</td>\n",
       "      <td>сотрудник</td>\n",
       "      <td>0</td>\n",
       "      <td>NaN</td>\n",
       "      <td>жилье</td>\n",
       "    </tr>\n",
       "    <tr>\n",
       "      <th>83</th>\n",
       "      <td>0</td>\n",
       "      <td>NaN</td>\n",
       "      <td>52</td>\n",
       "      <td>среднее</td>\n",
       "      <td>1</td>\n",
       "      <td>женат / замужем</td>\n",
       "      <td>0</td>\n",
       "      <td>M</td>\n",
       "      <td>сотрудник</td>\n",
       "      <td>0</td>\n",
       "      <td>NaN</td>\n",
       "      <td>жилье</td>\n",
       "    </tr>\n",
       "  </tbody>\n",
       "</table>\n",
       "</div>"
      ],
      "text/plain": [
       "    children  days_employed  full_years education  education_id  \\\n",
       "12         0            NaN          65   среднее             1   \n",
       "26         0            NaN          41   среднее             1   \n",
       "29         0            NaN          63   среднее             1   \n",
       "41         0            NaN          50   среднее             1   \n",
       "55         0            NaN          54   среднее             1   \n",
       "65         0            NaN          21   среднее             1   \n",
       "67         0            NaN          52    высшее             0   \n",
       "72         1            NaN          32    высшее             0   \n",
       "82         2            NaN          50    высшее             0   \n",
       "83         0            NaN          52   среднее             1   \n",
       "\n",
       "            family_status  family_status_id gender  income_type  debt  \\\n",
       "12       гражданский брак                 1      M    пенсионер     0   \n",
       "26        женат / замужем                 0      M  госслужащий     0   \n",
       "29  Не женат / не замужем                 4      F    пенсионер     0   \n",
       "41        женат / замужем                 0      F  госслужащий     0   \n",
       "55       гражданский брак                 1      F    пенсионер     1   \n",
       "65  Не женат / не замужем                 4      M    компаньон     0   \n",
       "67        женат / замужем                 0      F    пенсионер     0   \n",
       "72        женат / замужем                 0      M  госслужащий     0   \n",
       "82        женат / замужем                 0      F    сотрудник     0   \n",
       "83        женат / замужем                 0      M    сотрудник     0   \n",
       "\n",
       "    total_income                                purpose  \n",
       "12           NaN                        сыграть свадьбу  \n",
       "26           NaN                            образование  \n",
       "29           NaN       строительство жилой недвижимости  \n",
       "41           NaN       сделка с подержанным автомобилем  \n",
       "55           NaN                        сыграть свадьбу  \n",
       "65           NaN  операции с коммерческой недвижимостью  \n",
       "67           NaN                покупка жилья для семьи  \n",
       "72           NaN  операции с коммерческой недвижимостью  \n",
       "82           NaN                                  жилье  \n",
       "83           NaN                                  жилье  "
      ]
     },
     "metadata": {},
     "output_type": "display_data"
    }
   ],
   "source": [
    "#Check first 10 rows\n",
    "\n",
    "display(data[data['days_employed'].isnull()].head(10))\n"
   ]
  },
  {
   "cell_type": "code",
   "execution_count": 9,
   "metadata": {},
   "outputs": [],
   "source": [
    "#Replace negative values in column days_employed by positive values\n",
    "\n",
    "data.loc[data['days_employed'] < 0, 'days_employed'] = data['days_employed'].abs()"
   ]
  },
  {
   "cell_type": "code",
   "execution_count": 10,
   "metadata": {},
   "outputs": [
    {
     "name": "stdout",
     "output_type": "stream",
     "text": [
      "income_type\n",
      "безработный        366413.652744\n",
      "в декрете            3296.759962\n",
      "госслужащий          3399.896902\n",
      "компаньон            2111.524398\n",
      "пенсионер          365003.491245\n",
      "предприниматель       520.848083\n",
      "сотрудник            2326.499216\n",
      "студент               578.751554\n",
      "Name: days_employed, dtype: float64\n"
     ]
    }
   ],
   "source": [
    "#Check the result by looking at avg values by category\n",
    "\n",
    "print(data.groupby('income_type')['days_employed'].mean())"
   ]
  },
  {
   "cell_type": "code",
   "execution_count": 11,
   "metadata": {},
   "outputs": [
    {
     "name": "stdout",
     "output_type": "stream",
     "text": [
      "2174\n",
      "2174\n"
     ]
    }
   ],
   "source": [
    "#Check how many values are missed in columns 'days_employed' и 'total_income'\n",
    "\n",
    "print(len(data[data['days_employed'].isnull()]))\n",
    "print(len(data[data['total_income'].isnull()]))"
   ]
  },
  {
   "cell_type": "code",
   "execution_count": 12,
   "metadata": {},
   "outputs": [],
   "source": [
    "#Replace values in column days_employed for retiree and unemployed by avg values in this column:\n",
    "days_employed_avg = data['days_employed'].mean()\n",
    "\n",
    "data.loc[(data['income_type'] == 'пенсионер'), 'days_employed'] = days_employed_avg\n",
    "data.loc[(data['income_type'] == 'безработный'), 'days_employed'] = days_employed_avg\n"
   ]
  },
  {
   "cell_type": "code",
   "execution_count": 13,
   "metadata": {},
   "outputs": [
    {
     "name": "stdout",
     "output_type": "stream",
     "text": [
      "66914.72890681757\n",
      "66914.72890682195\n"
     ]
    }
   ],
   "source": [
    "#Check the result\n",
    "\n",
    "print(data[data['income_type'] == 'пенсионер']['days_employed'].mean())\n",
    "print(data[data['income_type'] == 'безработный']['days_employed'].mean())"
   ]
  },
  {
   "cell_type": "code",
   "execution_count": 14,
   "metadata": {},
   "outputs": [
    {
     "name": "stdout",
     "output_type": "stream",
     "text": [
      "сотрудник          11119\n",
      "компаньон           5085\n",
      "пенсионер           3856\n",
      "госслужащий         1459\n",
      "безработный            2\n",
      "предприниматель        2\n",
      "в декрете              1\n",
      "студент                1\n",
      "Name: income_type, dtype: int64\n"
     ]
    }
   ],
   "source": [
    "#Check count of values by income_type\n",
    "\n",
    "print(data['income_type'].value_counts())"
   ]
  },
  {
   "cell_type": "code",
   "execution_count": 15,
   "metadata": {},
   "outputs": [],
   "source": [
    "#Unite small categoies into a new category ('other)')\n",
    "\n",
    "data.loc[data['income_type'] == 'предприниматель', 'income_type'] = 'компаньон'\n",
    "data.loc[data['income_type'] == 'безработный', 'income_type'] = 'другое'\n",
    "data.loc[data['income_type'] == 'в декрете', 'income_type'] = 'другое'\n",
    "data.loc[data['income_type'] == 'студент', 'income_type'] = 'другое'"
   ]
  },
  {
   "cell_type": "code",
   "execution_count": 16,
   "metadata": {},
   "outputs": [
    {
     "name": "stdout",
     "output_type": "stream",
     "text": [
      "сотрудник      11119\n",
      "компаньон       5087\n",
      "пенсионер       3856\n",
      "госслужащий     1459\n",
      "другое             4\n",
      "Name: income_type, dtype: int64\n"
     ]
    }
   ],
   "source": [
    "#Check updated income_type categories\n",
    "\n",
    "print(data['income_type'].value_counts())"
   ]
  },
  {
   "cell_type": "code",
   "execution_count": 17,
   "metadata": {},
   "outputs": [
    {
     "name": "stdout",
     "output_type": "stream",
     "text": [
      "              total_income               \n",
      "                      mean         median\n",
      "income_type                              \n",
      "госслужащий  170898.309923  150447.935283\n",
      "другое       103677.564849   79079.308649\n",
      "компаньон    202482.281401  172396.000846\n",
      "пенсионер    137127.465690  118514.486412\n",
      "сотрудник    161380.260488  142594.396847\n"
     ]
    }
   ],
   "source": [
    "#Calculate median and avg for column 'total_income' depending on category\n",
    "\n",
    "print(data.groupby('income_type').agg({'total_income': ['mean','median']}))\n"
   ]
  },
  {
   "cell_type": "code",
   "execution_count": 18,
   "metadata": {},
   "outputs": [
    {
     "name": "stdout",
     "output_type": "stream",
     "text": [
      "            days_employed              \n",
      "                     mean        median\n",
      "income_type                            \n",
      "госслужащий   3399.896902   2689.368353\n",
      "другое       34426.242332  35105.744434\n",
      "компаньон     2111.176937   1546.333214\n",
      "пенсионер    66914.728907  66914.728907\n",
      "сотрудник     2326.499216   1574.202821\n"
     ]
    }
   ],
   "source": [
    "#Calculate median and avg for column  'days_employed' depending on category\n",
    "\n",
    "print(data.groupby('income_type').agg({'days_employed': ['mean','median']}))"
   ]
  },
  {
   "cell_type": "code",
   "execution_count": 19,
   "metadata": {},
   "outputs": [
    {
     "name": "stdout",
     "output_type": "stream",
     "text": [
      "income_type\n",
      "госслужащий     147\n",
      "компаньон       509\n",
      "пенсионер       413\n",
      "сотрудник      1105\n",
      "Name: income_type, dtype: int64\n"
     ]
    }
   ],
   "source": [
    "#Check which categories have missed values in column 'total_income'\n",
    "\n",
    "print(data[data['total_income'].isnull()].groupby('income_type')['income_type'].count())"
   ]
  },
  {
   "cell_type": "code",
   "execution_count": 20,
   "metadata": {},
   "outputs": [
    {
     "name": "stdout",
     "output_type": "stream",
     "text": [
      "income_type\n",
      "госслужащий     147\n",
      "компаньон       509\n",
      "сотрудник      1105\n",
      "Name: income_type, dtype: int64\n"
     ]
    }
   ],
   "source": [
    "#Check which categories have missed values in column 'days_employed'\n",
    "\n",
    "print(data[data['days_employed'].isnull()].groupby('income_type')['income_type'].count())"
   ]
  },
  {
   "cell_type": "code",
   "execution_count": 21,
   "metadata": {},
   "outputs": [],
   "source": [
    "#Replace missed values in column 'total_income' by median value depending on category\n",
    "\n",
    "med = data.groupby('income_type')['total_income'].transform('median')\n",
    "data['total_income'] = data['total_income'].fillna(med)\n"
   ]
  },
  {
   "cell_type": "code",
   "execution_count": 22,
   "metadata": {},
   "outputs": [
    {
     "data": {
      "text/plain": [
       "0"
      ]
     },
     "execution_count": 22,
     "metadata": {},
     "output_type": "execute_result"
    }
   ],
   "source": [
    "#Check if there is missed values in column 'total_income'\n",
    "\n",
    "data['total_income'].isna().sum()"
   ]
  },
  {
   "cell_type": "code",
   "execution_count": 23,
   "metadata": {},
   "outputs": [],
   "source": [
    "#Replace missed values in column 'days_employed' by median value depending on category\n",
    "\n",
    "med = data.groupby('income_type')['days_employed'].transform('median')\n",
    "data['days_employed'] = data['days_employed'].fillna(med)\n"
   ]
  },
  {
   "cell_type": "code",
   "execution_count": 24,
   "metadata": {},
   "outputs": [
    {
     "data": {
      "text/plain": [
       "children            0\n",
       "days_employed       0\n",
       "full_years          0\n",
       "education           0\n",
       "education_id        0\n",
       "family_status       0\n",
       "family_status_id    0\n",
       "gender              0\n",
       "income_type         0\n",
       "debt                0\n",
       "total_income        0\n",
       "purpose             0\n",
       "dtype: int64"
      ]
     },
     "execution_count": 24,
     "metadata": {},
     "output_type": "execute_result"
    }
   ],
   "source": [
    "#Check if there are some remaining values in a dataset\n",
    "\n",
    "data.isna().sum()"
   ]
  },
  {
   "cell_type": "code",
   "execution_count": 25,
   "metadata": {},
   "outputs": [
    {
     "data": {
      "text/plain": [
       "0    19784\n",
       "1     1741\n",
       "Name: debt, dtype: int64"
      ]
     },
     "execution_count": 25,
     "metadata": {},
     "output_type": "execute_result"
    }
   ],
   "source": [
    "#Check unique values and ther quantity in column debt\n",
    "\n",
    "data['debt'].value_counts()"
   ]
  },
  {
   "cell_type": "code",
   "execution_count": 26,
   "metadata": {},
   "outputs": [
    {
     "data": {
      "text/plain": [
       " 0     14149\n",
       " 1      4818\n",
       " 2      2055\n",
       " 3       330\n",
       " 20       76\n",
       "-1        47\n",
       " 4        41\n",
       " 5         9\n",
       "Name: children, dtype: int64"
      ]
     },
     "execution_count": 26,
     "metadata": {},
     "output_type": "execute_result"
    }
   ],
   "source": [
    "#Check unique values and ther quantity in column children\n",
    "\n",
    "data['children'].value_counts()"
   ]
  },
  {
   "cell_type": "code",
   "execution_count": 27,
   "metadata": {},
   "outputs": [
    {
     "data": {
      "text/plain": [
       "0    14149\n",
       "1     4865\n",
       "2     2131\n",
       "3      330\n",
       "4       41\n",
       "5        9\n",
       "Name: children, dtype: int64"
      ]
     },
     "execution_count": 27,
     "metadata": {},
     "output_type": "execute_result"
    }
   ],
   "source": [
    "# Replace value -1 by 1 and 20 by 2 assuming that it was a manual mistake\n",
    "\n",
    "data['children'] = data['children'].replace(to_replace=[-1,20],value=[1,2])\n",
    "data['children'].value_counts()"
   ]
  },
  {
   "cell_type": "markdown",
   "metadata": {},
   "source": [
    "**Conclusion**"
   ]
  },
  {
   "cell_type": "markdown",
   "metadata": {},
   "source": [
    "Negative values in column days_employed are replaced by positive using abs (method).  \n",
    "Missed values in columns 'days_employed' and 'total_income' were replaced by median values for each category.  \n",
    "A new category was introduced instead of small categories (less than 3 records).  \n",
    "Values -1 and 20 were replaced by 1 and 20 in column children.\n"
   ]
  },
  {
   "cell_type": "markdown",
   "metadata": {},
   "source": [
    "### Change type of data"
   ]
  },
  {
   "cell_type": "code",
   "execution_count": 28,
   "metadata": {},
   "outputs": [],
   "source": [
    "#Change data type in column 'total_income' to int\n",
    "\n",
    "data['total_income'] = data['total_income'].astype('int')"
   ]
  },
  {
   "cell_type": "code",
   "execution_count": 29,
   "metadata": {},
   "outputs": [],
   "source": [
    "#Change data type in column 'days_employed' to int\n",
    "\n",
    "data['days_employed'] = data['days_employed'].astype('int')"
   ]
  },
  {
   "cell_type": "code",
   "execution_count": 30,
   "metadata": {},
   "outputs": [
    {
     "name": "stdout",
     "output_type": "stream",
     "text": [
      "<class 'pandas.core.frame.DataFrame'>\n",
      "RangeIndex: 21525 entries, 0 to 21524\n",
      "Data columns (total 12 columns):\n",
      " #   Column            Non-Null Count  Dtype \n",
      "---  ------            --------------  ----- \n",
      " 0   children          21525 non-null  int64 \n",
      " 1   days_employed     21525 non-null  int64 \n",
      " 2   full_years        21525 non-null  int64 \n",
      " 3   education         21525 non-null  object\n",
      " 4   education_id      21525 non-null  int64 \n",
      " 5   family_status     21525 non-null  object\n",
      " 6   family_status_id  21525 non-null  int64 \n",
      " 7   gender            21525 non-null  object\n",
      " 8   income_type       21525 non-null  object\n",
      " 9   debt              21525 non-null  int64 \n",
      " 10  total_income      21525 non-null  int64 \n",
      " 11  purpose           21525 non-null  object\n",
      "dtypes: int64(7), object(5)\n",
      "memory usage: 2.0+ MB\n"
     ]
    }
   ],
   "source": [
    "#Check data info\n",
    "\n",
    "data.info()"
   ]
  },
  {
   "cell_type": "markdown",
   "metadata": {},
   "source": [
    "### Processing of duplicates"
   ]
  },
  {
   "cell_type": "code",
   "execution_count": 31,
   "metadata": {},
   "outputs": [
    {
     "data": {
      "text/plain": [
       "54"
      ]
     },
     "execution_count": 31,
     "metadata": {},
     "output_type": "execute_result"
    }
   ],
   "source": [
    "#Check total quantity of duplicates in a dataset\n",
    "\n",
    "data.duplicated().sum()"
   ]
  },
  {
   "cell_type": "code",
   "execution_count": 32,
   "metadata": {},
   "outputs": [
    {
     "data": {
      "text/plain": [
       "среднее                13750\n",
       "высшее                  4718\n",
       "СРЕДНЕЕ                  772\n",
       "Среднее                  711\n",
       "неоконченное высшее      668\n",
       "ВЫСШЕЕ                   274\n",
       "Высшее                   268\n",
       "начальное                250\n",
       "Неоконченное высшее       47\n",
       "НЕОКОНЧЕННОЕ ВЫСШЕЕ       29\n",
       "НАЧАЛЬНОЕ                 17\n",
       "Начальное                 15\n",
       "ученая степень             4\n",
       "УЧЕНАЯ СТЕПЕНЬ             1\n",
       "Ученая степень             1\n",
       "Name: education, dtype: int64"
      ]
     },
     "execution_count": 32,
     "metadata": {},
     "output_type": "execute_result"
    }
   ],
   "source": [
    "#Check categories in column 'education'\n",
    "\n",
    "data['education'].value_counts()"
   ]
  },
  {
   "cell_type": "code",
   "execution_count": 33,
   "metadata": {},
   "outputs": [],
   "source": [
    "#Change register in column education to lower\n",
    "\n",
    "data['education'] = data['education'].str.lower()\n"
   ]
  },
  {
   "cell_type": "code",
   "execution_count": 34,
   "metadata": {},
   "outputs": [
    {
     "data": {
      "text/plain": [
       "71"
      ]
     },
     "execution_count": 34,
     "metadata": {},
     "output_type": "execute_result"
    }
   ],
   "source": [
    "#Check duplicates in column education after register was changed \n",
    "\n",
    "data.duplicated().sum()"
   ]
  },
  {
   "cell_type": "code",
   "execution_count": 35,
   "metadata": {},
   "outputs": [
    {
     "data": {
      "text/plain": [
       "женат / замужем          12380\n",
       "гражданский брак          4177\n",
       "Не женат / не замужем     2813\n",
       "в разводе                 1195\n",
       "вдовец / вдова             960\n",
       "Name: family_status, dtype: int64"
      ]
     },
     "execution_count": 35,
     "metadata": {},
     "output_type": "execute_result"
    }
   ],
   "source": [
    "#Check categories in column 'family_status'\n",
    "\n",
    "data['family_status'].value_counts()"
   ]
  },
  {
   "cell_type": "code",
   "execution_count": 36,
   "metadata": {},
   "outputs": [
    {
     "data": {
      "text/plain": [
       "свадьба                                   797\n",
       "на проведение свадьбы                     777\n",
       "сыграть свадьбу                           774\n",
       "операции с недвижимостью                  676\n",
       "покупка коммерческой недвижимости         664\n",
       "операции с жильем                         653\n",
       "покупка жилья для сдачи                   653\n",
       "операции с коммерческой недвижимостью     651\n",
       "жилье                                     647\n",
       "покупка жилья                             647\n",
       "покупка жилья для семьи                   641\n",
       "строительство собственной недвижимости    635\n",
       "недвижимость                              634\n",
       "операции со своей недвижимостью           630\n",
       "строительство жилой недвижимости          626\n",
       "покупка недвижимости                      624\n",
       "строительство недвижимости                620\n",
       "покупка своего жилья                      620\n",
       "ремонт жилью                              612\n",
       "покупка жилой недвижимости                607\n",
       "на покупку своего автомобиля              505\n",
       "заняться высшим образованием              496\n",
       "автомобиль                                495\n",
       "сделка с подержанным автомобилем          489\n",
       "свой автомобиль                           480\n",
       "на покупку подержанного автомобиля        479\n",
       "автомобили                                478\n",
       "на покупку автомобиля                     472\n",
       "приобретение автомобиля                   462\n",
       "дополнительное образование                462\n",
       "сделка с автомобилем                      455\n",
       "высшее образование                        453\n",
       "образование                               447\n",
       "получение дополнительного образования     447\n",
       "получение образования                     443\n",
       "профильное образование                    436\n",
       "получение высшего образования             426\n",
       "заняться образованием                     412\n",
       "Name: purpose, dtype: int64"
      ]
     },
     "execution_count": 36,
     "metadata": {},
     "output_type": "execute_result"
    }
   ],
   "source": [
    "#Check categories in column 'purpose'\n",
    "\n",
    "data['purpose'].value_counts()"
   ]
  },
  {
   "cell_type": "code",
   "execution_count": 37,
   "metadata": {},
   "outputs": [],
   "source": [
    "#Delete duplicates\n",
    "\n",
    "data = data.drop_duplicates().reset_index(drop=True)"
   ]
  },
  {
   "cell_type": "code",
   "execution_count": 38,
   "metadata": {},
   "outputs": [
    {
     "data": {
      "text/plain": [
       "0"
      ]
     },
     "execution_count": 38,
     "metadata": {},
     "output_type": "execute_result"
    }
   ],
   "source": [
    "#Check the result\n",
    "\n",
    "data.duplicated().sum()"
   ]
  },
  {
   "cell_type": "markdown",
   "metadata": {},
   "source": [
    "**Conclusion**"
   ]
  },
  {
   "cell_type": "markdown",
   "metadata": {},
   "source": [
    "Letter case was changed to lower for records in column 'education'. As the result 71 duplicates were found. These duplicates were deleted.  \n",
    "Besides, in column 'purpose' there are records that are similar by meaning but input with different wording."
   ]
  },
  {
   "cell_type": "markdown",
   "metadata": {},
   "source": [
    "### Lemmatization"
   ]
  },
  {
   "cell_type": "code",
   "execution_count": 39,
   "metadata": {},
   "outputs": [],
   "source": [
    "#Import library for lemmatization\n",
    "\n",
    "from pymystem3 import Mystem\n",
    "m = Mystem() "
   ]
  },
  {
   "cell_type": "code",
   "execution_count": 40,
   "metadata": {},
   "outputs": [
    {
     "name": "stdout",
     "output_type": "stream",
     "text": [
      "['покупка', ' ', 'жилье', ' ', 'приобретение', ' ', 'автомобиль', ' ', 'дополнительный', ' ', 'образование', ' ', 'сыграть', ' ', 'свадьба', ' ', 'операция', ' ', 'с', ' ', 'жилье', ' ', 'образование', ' ', 'на', ' ', 'проведение', ' ', 'свадьба', ' ', 'покупка', ' ', 'жилье', ' ', 'для', ' ', 'семья', ' ', 'покупка', ' ', 'недвижимость', ' ', 'покупка', ' ', 'коммерческий', ' ', 'недвижимость', ' ', 'покупка', ' ', 'жилой', ' ', 'недвижимость', ' ', 'строительство', ' ', 'собственный', ' ', 'недвижимость', ' ', 'недвижимость', ' ', 'строительство', ' ', 'недвижимость', ' ', 'на', ' ', 'покупка', ' ', 'подержать', ' ', 'автомобиль', ' ', 'на', ' ', 'покупка', ' ', 'свой', ' ', 'автомобиль', ' ', 'операция', ' ', 'с', ' ', 'коммерческий', ' ', 'недвижимость', ' ', 'строительство', ' ', 'жилой', ' ', 'недвижимость', ' ', 'жилье', ' ', 'операция', ' ', 'со', ' ', 'свой', ' ', 'недвижимость', ' ', 'автомобиль', ' ', 'заниматься', ' ', 'образование', ' ', 'сделка', ' ', 'с', ' ', 'подержать', ' ', 'автомобиль', ' ', 'получение', ' ', 'образование', ' ', 'автомобиль', ' ', 'свадьба', ' ', 'получение', ' ', 'дополнительный', ' ', 'образование', ' ', 'покупка', ' ', 'свой', ' ', 'жилье', ' ', 'операция', ' ', 'с', ' ', 'недвижимость', ' ', 'получение', ' ', 'высокий', ' ', 'образование', ' ', 'свой', ' ', 'автомобиль', ' ', 'сделка', ' ', 'с', ' ', 'автомобиль', ' ', 'профильный', ' ', 'образование', ' ', 'высокий', ' ', 'образование', ' ', 'покупка', ' ', 'жилье', ' ', 'для', ' ', 'сдача', ' ', 'на', ' ', 'покупка', ' ', 'автомобиль', ' ', 'ремонт', ' ', 'жилье', ' ', 'заниматься', ' ', 'высокий', ' ', 'образование', '\\n']\n"
     ]
    }
   ],
   "source": [
    "#Lemmatize values in column purpose\n",
    "text = data['purpose'].unique()\n",
    "text = ' '.join(text)\n",
    "\n",
    "lemmas = m.lemmatize(text)\n",
    "print(lemmas) \n",
    "\n",
    "                "
   ]
  },
  {
   "cell_type": "code",
   "execution_count": 41,
   "metadata": {},
   "outputs": [
    {
     "name": "stdout",
     "output_type": "stream",
     "text": [
      "Counter({' ': 96, 'покупка': 10, 'недвижимость': 10, 'автомобиль': 9, 'образование': 9, 'жилье': 7, 'с': 5, 'операция': 4, 'на': 4, 'свой': 4, 'свадьба': 3, 'строительство': 3, 'получение': 3, 'высокий': 3, 'дополнительный': 2, 'для': 2, 'коммерческий': 2, 'жилой': 2, 'подержать': 2, 'заниматься': 2, 'сделка': 2, 'приобретение': 1, 'сыграть': 1, 'проведение': 1, 'семья': 1, 'собственный': 1, 'со': 1, 'профильный': 1, 'сдача': 1, 'ремонт': 1, '\\n': 1})\n"
     ]
    }
   ],
   "source": [
    "#Count frequency of each word in column purpose\n",
    "\n",
    "from collections import Counter\n",
    "print(Counter(lemmas))"
   ]
  },
  {
   "cell_type": "markdown",
   "metadata": {},
   "source": [
    "**Conclusion**"
   ]
  },
  {
   "cell_type": "markdown",
   "metadata": {},
   "source": [
    "Library pymystem3 was used for lemmatization.\n",
    "\n",
    "As the result, the following categories were defined as loan purpose:\n",
    "property, auto, education, wedding.\n"
   ]
  },
  {
   "cell_type": "markdown",
   "metadata": {},
   "source": [
    "### Data categorization"
   ]
  },
  {
   "cell_type": "code",
   "execution_count": 42,
   "metadata": {},
   "outputs": [
    {
     "data": {
      "text/html": [
       "<div>\n",
       "<style scoped>\n",
       "    .dataframe tbody tr th:only-of-type {\n",
       "        vertical-align: middle;\n",
       "    }\n",
       "\n",
       "    .dataframe tbody tr th {\n",
       "        vertical-align: top;\n",
       "    }\n",
       "\n",
       "    .dataframe thead th {\n",
       "        text-align: right;\n",
       "    }\n",
       "</style>\n",
       "<table border=\"1\" class=\"dataframe\">\n",
       "  <thead>\n",
       "    <tr style=\"text-align: right;\">\n",
       "      <th></th>\n",
       "      <th>children</th>\n",
       "      <th>days_employed</th>\n",
       "      <th>full_years</th>\n",
       "      <th>education</th>\n",
       "      <th>education_id</th>\n",
       "      <th>family_status</th>\n",
       "      <th>family_status_id</th>\n",
       "      <th>gender</th>\n",
       "      <th>income_type</th>\n",
       "      <th>debt</th>\n",
       "      <th>total_income</th>\n",
       "      <th>purpose</th>\n",
       "      <th>purpose_group</th>\n",
       "    </tr>\n",
       "  </thead>\n",
       "  <tbody>\n",
       "    <tr>\n",
       "      <th>0</th>\n",
       "      <td>1</td>\n",
       "      <td>8437</td>\n",
       "      <td>42</td>\n",
       "      <td>высшее</td>\n",
       "      <td>0</td>\n",
       "      <td>женат / замужем</td>\n",
       "      <td>0</td>\n",
       "      <td>F</td>\n",
       "      <td>сотрудник</td>\n",
       "      <td>0</td>\n",
       "      <td>253875</td>\n",
       "      <td>покупка жилья</td>\n",
       "      <td>недвижимость</td>\n",
       "    </tr>\n",
       "    <tr>\n",
       "      <th>1</th>\n",
       "      <td>1</td>\n",
       "      <td>4024</td>\n",
       "      <td>36</td>\n",
       "      <td>среднее</td>\n",
       "      <td>1</td>\n",
       "      <td>женат / замужем</td>\n",
       "      <td>0</td>\n",
       "      <td>F</td>\n",
       "      <td>сотрудник</td>\n",
       "      <td>0</td>\n",
       "      <td>112080</td>\n",
       "      <td>приобретение автомобиля</td>\n",
       "      <td>автомобиль</td>\n",
       "    </tr>\n",
       "    <tr>\n",
       "      <th>2</th>\n",
       "      <td>0</td>\n",
       "      <td>5623</td>\n",
       "      <td>33</td>\n",
       "      <td>среднее</td>\n",
       "      <td>1</td>\n",
       "      <td>женат / замужем</td>\n",
       "      <td>0</td>\n",
       "      <td>M</td>\n",
       "      <td>сотрудник</td>\n",
       "      <td>0</td>\n",
       "      <td>145885</td>\n",
       "      <td>покупка жилья</td>\n",
       "      <td>недвижимость</td>\n",
       "    </tr>\n",
       "    <tr>\n",
       "      <th>3</th>\n",
       "      <td>3</td>\n",
       "      <td>4124</td>\n",
       "      <td>32</td>\n",
       "      <td>среднее</td>\n",
       "      <td>1</td>\n",
       "      <td>женат / замужем</td>\n",
       "      <td>0</td>\n",
       "      <td>M</td>\n",
       "      <td>сотрудник</td>\n",
       "      <td>0</td>\n",
       "      <td>267628</td>\n",
       "      <td>дополнительное образование</td>\n",
       "      <td>образование</td>\n",
       "    </tr>\n",
       "    <tr>\n",
       "      <th>4</th>\n",
       "      <td>0</td>\n",
       "      <td>66914</td>\n",
       "      <td>53</td>\n",
       "      <td>среднее</td>\n",
       "      <td>1</td>\n",
       "      <td>гражданский брак</td>\n",
       "      <td>1</td>\n",
       "      <td>F</td>\n",
       "      <td>пенсионер</td>\n",
       "      <td>0</td>\n",
       "      <td>158616</td>\n",
       "      <td>сыграть свадьбу</td>\n",
       "      <td>свадьба</td>\n",
       "    </tr>\n",
       "    <tr>\n",
       "      <th>5</th>\n",
       "      <td>0</td>\n",
       "      <td>926</td>\n",
       "      <td>27</td>\n",
       "      <td>высшее</td>\n",
       "      <td>0</td>\n",
       "      <td>гражданский брак</td>\n",
       "      <td>1</td>\n",
       "      <td>M</td>\n",
       "      <td>компаньон</td>\n",
       "      <td>0</td>\n",
       "      <td>255763</td>\n",
       "      <td>покупка жилья</td>\n",
       "      <td>недвижимость</td>\n",
       "    </tr>\n",
       "    <tr>\n",
       "      <th>6</th>\n",
       "      <td>0</td>\n",
       "      <td>2879</td>\n",
       "      <td>43</td>\n",
       "      <td>высшее</td>\n",
       "      <td>0</td>\n",
       "      <td>женат / замужем</td>\n",
       "      <td>0</td>\n",
       "      <td>F</td>\n",
       "      <td>компаньон</td>\n",
       "      <td>0</td>\n",
       "      <td>240525</td>\n",
       "      <td>операции с жильем</td>\n",
       "      <td>недвижимость</td>\n",
       "    </tr>\n",
       "    <tr>\n",
       "      <th>7</th>\n",
       "      <td>0</td>\n",
       "      <td>152</td>\n",
       "      <td>50</td>\n",
       "      <td>среднее</td>\n",
       "      <td>1</td>\n",
       "      <td>женат / замужем</td>\n",
       "      <td>0</td>\n",
       "      <td>M</td>\n",
       "      <td>сотрудник</td>\n",
       "      <td>0</td>\n",
       "      <td>135823</td>\n",
       "      <td>образование</td>\n",
       "      <td>образование</td>\n",
       "    </tr>\n",
       "    <tr>\n",
       "      <th>8</th>\n",
       "      <td>2</td>\n",
       "      <td>6929</td>\n",
       "      <td>35</td>\n",
       "      <td>высшее</td>\n",
       "      <td>0</td>\n",
       "      <td>гражданский брак</td>\n",
       "      <td>1</td>\n",
       "      <td>F</td>\n",
       "      <td>сотрудник</td>\n",
       "      <td>0</td>\n",
       "      <td>95856</td>\n",
       "      <td>на проведение свадьбы</td>\n",
       "      <td>свадьба</td>\n",
       "    </tr>\n",
       "    <tr>\n",
       "      <th>9</th>\n",
       "      <td>0</td>\n",
       "      <td>2188</td>\n",
       "      <td>41</td>\n",
       "      <td>среднее</td>\n",
       "      <td>1</td>\n",
       "      <td>женат / замужем</td>\n",
       "      <td>0</td>\n",
       "      <td>M</td>\n",
       "      <td>сотрудник</td>\n",
       "      <td>0</td>\n",
       "      <td>144425</td>\n",
       "      <td>покупка жилья для семьи</td>\n",
       "      <td>недвижимость</td>\n",
       "    </tr>\n",
       "  </tbody>\n",
       "</table>\n",
       "</div>"
      ],
      "text/plain": [
       "   children  days_employed  full_years education  education_id  \\\n",
       "0         1           8437          42    высшее             0   \n",
       "1         1           4024          36   среднее             1   \n",
       "2         0           5623          33   среднее             1   \n",
       "3         3           4124          32   среднее             1   \n",
       "4         0          66914          53   среднее             1   \n",
       "5         0            926          27    высшее             0   \n",
       "6         0           2879          43    высшее             0   \n",
       "7         0            152          50   среднее             1   \n",
       "8         2           6929          35    высшее             0   \n",
       "9         0           2188          41   среднее             1   \n",
       "\n",
       "      family_status  family_status_id gender income_type  debt  total_income  \\\n",
       "0   женат / замужем                 0      F   сотрудник     0        253875   \n",
       "1   женат / замужем                 0      F   сотрудник     0        112080   \n",
       "2   женат / замужем                 0      M   сотрудник     0        145885   \n",
       "3   женат / замужем                 0      M   сотрудник     0        267628   \n",
       "4  гражданский брак                 1      F   пенсионер     0        158616   \n",
       "5  гражданский брак                 1      M   компаньон     0        255763   \n",
       "6   женат / замужем                 0      F   компаньон     0        240525   \n",
       "7   женат / замужем                 0      M   сотрудник     0        135823   \n",
       "8  гражданский брак                 1      F   сотрудник     0         95856   \n",
       "9   женат / замужем                 0      M   сотрудник     0        144425   \n",
       "\n",
       "                      purpose purpose_group  \n",
       "0               покупка жилья  недвижимость  \n",
       "1     приобретение автомобиля    автомобиль  \n",
       "2               покупка жилья  недвижимость  \n",
       "3  дополнительное образование   образование  \n",
       "4             сыграть свадьбу       свадьба  \n",
       "5               покупка жилья  недвижимость  \n",
       "6           операции с жильем  недвижимость  \n",
       "7                 образование   образование  \n",
       "8       на проведение свадьбы       свадьба  \n",
       "9     покупка жилья для семьи  недвижимость  "
      ]
     },
     "metadata": {},
     "output_type": "display_data"
    }
   ],
   "source": [
    "# Create a formular to categorize loan purpose depending on a defining word in a cell. \n",
    "\n",
    "def purposes_dict (purpose):\n",
    "    \"\"\"\n",
    "    Return category of a loan purpose depending on a defining word in an initial goal.\n",
    "    If initial purpose contains 'автомобил' - category 'автомобиль' is assigned\n",
    "    If initial purpose contains 'свадьб' - category 'свадьба' is assigned\n",
    "    If initial purpose contains 'образован' - category 'образование' is assigned\n",
    "    If initial purpose contains 'недвижимост' - category 'недвижимость' is assigned\n",
    "    If initial purpose contains 'жиль' - category 'недвижимость' is assigned\n",
    "    \"\"\"\n",
    "    \n",
    "    if 'автомобил' in purpose:\n",
    "        return 'автомобиль'\n",
    "    if 'свадьб' in purpose:\n",
    "        return 'свадьба'\n",
    "    if 'образован' in purpose:\n",
    "        return 'образование'\n",
    "    if 'недвижимост' or 'жиль' in purpose:\n",
    "        return 'недвижимость'\n",
    "    \n",
    "    \n",
    "data['purpose_group'] = data['purpose'].apply(purposes_dict)\n",
    "display(data.head(10))"
   ]
  },
  {
   "cell_type": "code",
   "execution_count": 43,
   "metadata": {},
   "outputs": [
    {
     "name": "stdout",
     "output_type": "stream",
     "text": [
      "0\n"
     ]
    }
   ],
   "source": [
    "#Check the result\n",
    "\n",
    "print(data['purpose_group'].isna().sum())"
   ]
  },
  {
   "cell_type": "code",
   "execution_count": 44,
   "metadata": {},
   "outputs": [
    {
     "name": "stdout",
     "output_type": "stream",
     "text": [
      "20667\n",
      "118514.0\n",
      "142594.0\n",
      "172396.0\n",
      "2265604\n"
     ]
    }
   ],
   "source": [
    "#Сheck the spread of the income category\n",
    "\n",
    "data_min = data['total_income'].min()\n",
    "data_quantile_lower = data['total_income'].quantile(0.33)\n",
    "data_median  = data['total_income'].median()\n",
    "data_quantile_upper = data['total_income'].quantile(0.66)\n",
    "data_max = data['total_income'].max()\n",
    "\n",
    "\n",
    "print(data_min)\n",
    "print(data_quantile_lower)\n",
    "print(data_median)\n",
    "print(data_quantile_upper)\n",
    "print(data_max) "
   ]
  },
  {
   "cell_type": "code",
   "execution_count": 45,
   "metadata": {},
   "outputs": [
    {
     "data": {
      "text/html": [
       "<div>\n",
       "<style scoped>\n",
       "    .dataframe tbody tr th:only-of-type {\n",
       "        vertical-align: middle;\n",
       "    }\n",
       "\n",
       "    .dataframe tbody tr th {\n",
       "        vertical-align: top;\n",
       "    }\n",
       "\n",
       "    .dataframe thead th {\n",
       "        text-align: right;\n",
       "    }\n",
       "</style>\n",
       "<table border=\"1\" class=\"dataframe\">\n",
       "  <thead>\n",
       "    <tr style=\"text-align: right;\">\n",
       "      <th></th>\n",
       "      <th>children</th>\n",
       "      <th>days_employed</th>\n",
       "      <th>full_years</th>\n",
       "      <th>education</th>\n",
       "      <th>education_id</th>\n",
       "      <th>family_status</th>\n",
       "      <th>family_status_id</th>\n",
       "      <th>gender</th>\n",
       "      <th>income_type</th>\n",
       "      <th>debt</th>\n",
       "      <th>total_income</th>\n",
       "      <th>purpose</th>\n",
       "      <th>purpose_group</th>\n",
       "      <th>income_group</th>\n",
       "    </tr>\n",
       "  </thead>\n",
       "  <tbody>\n",
       "    <tr>\n",
       "      <th>0</th>\n",
       "      <td>1</td>\n",
       "      <td>8437</td>\n",
       "      <td>42</td>\n",
       "      <td>высшее</td>\n",
       "      <td>0</td>\n",
       "      <td>женат / замужем</td>\n",
       "      <td>0</td>\n",
       "      <td>F</td>\n",
       "      <td>сотрудник</td>\n",
       "      <td>0</td>\n",
       "      <td>253875</td>\n",
       "      <td>покупка жилья</td>\n",
       "      <td>недвижимость</td>\n",
       "      <td>высокий</td>\n",
       "    </tr>\n",
       "    <tr>\n",
       "      <th>1</th>\n",
       "      <td>1</td>\n",
       "      <td>4024</td>\n",
       "      <td>36</td>\n",
       "      <td>среднее</td>\n",
       "      <td>1</td>\n",
       "      <td>женат / замужем</td>\n",
       "      <td>0</td>\n",
       "      <td>F</td>\n",
       "      <td>сотрудник</td>\n",
       "      <td>0</td>\n",
       "      <td>112080</td>\n",
       "      <td>приобретение автомобиля</td>\n",
       "      <td>автомобиль</td>\n",
       "      <td>низкий</td>\n",
       "    </tr>\n",
       "    <tr>\n",
       "      <th>2</th>\n",
       "      <td>0</td>\n",
       "      <td>5623</td>\n",
       "      <td>33</td>\n",
       "      <td>среднее</td>\n",
       "      <td>1</td>\n",
       "      <td>женат / замужем</td>\n",
       "      <td>0</td>\n",
       "      <td>M</td>\n",
       "      <td>сотрудник</td>\n",
       "      <td>0</td>\n",
       "      <td>145885</td>\n",
       "      <td>покупка жилья</td>\n",
       "      <td>недвижимость</td>\n",
       "      <td>средний</td>\n",
       "    </tr>\n",
       "    <tr>\n",
       "      <th>3</th>\n",
       "      <td>3</td>\n",
       "      <td>4124</td>\n",
       "      <td>32</td>\n",
       "      <td>среднее</td>\n",
       "      <td>1</td>\n",
       "      <td>женат / замужем</td>\n",
       "      <td>0</td>\n",
       "      <td>M</td>\n",
       "      <td>сотрудник</td>\n",
       "      <td>0</td>\n",
       "      <td>267628</td>\n",
       "      <td>дополнительное образование</td>\n",
       "      <td>образование</td>\n",
       "      <td>высокий</td>\n",
       "    </tr>\n",
       "    <tr>\n",
       "      <th>4</th>\n",
       "      <td>0</td>\n",
       "      <td>66914</td>\n",
       "      <td>53</td>\n",
       "      <td>среднее</td>\n",
       "      <td>1</td>\n",
       "      <td>гражданский брак</td>\n",
       "      <td>1</td>\n",
       "      <td>F</td>\n",
       "      <td>пенсионер</td>\n",
       "      <td>0</td>\n",
       "      <td>158616</td>\n",
       "      <td>сыграть свадьбу</td>\n",
       "      <td>свадьба</td>\n",
       "      <td>средний</td>\n",
       "    </tr>\n",
       "    <tr>\n",
       "      <th>5</th>\n",
       "      <td>0</td>\n",
       "      <td>926</td>\n",
       "      <td>27</td>\n",
       "      <td>высшее</td>\n",
       "      <td>0</td>\n",
       "      <td>гражданский брак</td>\n",
       "      <td>1</td>\n",
       "      <td>M</td>\n",
       "      <td>компаньон</td>\n",
       "      <td>0</td>\n",
       "      <td>255763</td>\n",
       "      <td>покупка жилья</td>\n",
       "      <td>недвижимость</td>\n",
       "      <td>высокий</td>\n",
       "    </tr>\n",
       "    <tr>\n",
       "      <th>6</th>\n",
       "      <td>0</td>\n",
       "      <td>2879</td>\n",
       "      <td>43</td>\n",
       "      <td>высшее</td>\n",
       "      <td>0</td>\n",
       "      <td>женат / замужем</td>\n",
       "      <td>0</td>\n",
       "      <td>F</td>\n",
       "      <td>компаньон</td>\n",
       "      <td>0</td>\n",
       "      <td>240525</td>\n",
       "      <td>операции с жильем</td>\n",
       "      <td>недвижимость</td>\n",
       "      <td>высокий</td>\n",
       "    </tr>\n",
       "    <tr>\n",
       "      <th>7</th>\n",
       "      <td>0</td>\n",
       "      <td>152</td>\n",
       "      <td>50</td>\n",
       "      <td>среднее</td>\n",
       "      <td>1</td>\n",
       "      <td>женат / замужем</td>\n",
       "      <td>0</td>\n",
       "      <td>M</td>\n",
       "      <td>сотрудник</td>\n",
       "      <td>0</td>\n",
       "      <td>135823</td>\n",
       "      <td>образование</td>\n",
       "      <td>образование</td>\n",
       "      <td>средний</td>\n",
       "    </tr>\n",
       "    <tr>\n",
       "      <th>8</th>\n",
       "      <td>2</td>\n",
       "      <td>6929</td>\n",
       "      <td>35</td>\n",
       "      <td>высшее</td>\n",
       "      <td>0</td>\n",
       "      <td>гражданский брак</td>\n",
       "      <td>1</td>\n",
       "      <td>F</td>\n",
       "      <td>сотрудник</td>\n",
       "      <td>0</td>\n",
       "      <td>95856</td>\n",
       "      <td>на проведение свадьбы</td>\n",
       "      <td>свадьба</td>\n",
       "      <td>низкий</td>\n",
       "    </tr>\n",
       "    <tr>\n",
       "      <th>9</th>\n",
       "      <td>0</td>\n",
       "      <td>2188</td>\n",
       "      <td>41</td>\n",
       "      <td>среднее</td>\n",
       "      <td>1</td>\n",
       "      <td>женат / замужем</td>\n",
       "      <td>0</td>\n",
       "      <td>M</td>\n",
       "      <td>сотрудник</td>\n",
       "      <td>0</td>\n",
       "      <td>144425</td>\n",
       "      <td>покупка жилья для семьи</td>\n",
       "      <td>недвижимость</td>\n",
       "      <td>средний</td>\n",
       "    </tr>\n",
       "  </tbody>\n",
       "</table>\n",
       "</div>"
      ],
      "text/plain": [
       "   children  days_employed  full_years education  education_id  \\\n",
       "0         1           8437          42    высшее             0   \n",
       "1         1           4024          36   среднее             1   \n",
       "2         0           5623          33   среднее             1   \n",
       "3         3           4124          32   среднее             1   \n",
       "4         0          66914          53   среднее             1   \n",
       "5         0            926          27    высшее             0   \n",
       "6         0           2879          43    высшее             0   \n",
       "7         0            152          50   среднее             1   \n",
       "8         2           6929          35    высшее             0   \n",
       "9         0           2188          41   среднее             1   \n",
       "\n",
       "      family_status  family_status_id gender income_type  debt  total_income  \\\n",
       "0   женат / замужем                 0      F   сотрудник     0        253875   \n",
       "1   женат / замужем                 0      F   сотрудник     0        112080   \n",
       "2   женат / замужем                 0      M   сотрудник     0        145885   \n",
       "3   женат / замужем                 0      M   сотрудник     0        267628   \n",
       "4  гражданский брак                 1      F   пенсионер     0        158616   \n",
       "5  гражданский брак                 1      M   компаньон     0        255763   \n",
       "6   женат / замужем                 0      F   компаньон     0        240525   \n",
       "7   женат / замужем                 0      M   сотрудник     0        135823   \n",
       "8  гражданский брак                 1      F   сотрудник     0         95856   \n",
       "9   женат / замужем                 0      M   сотрудник     0        144425   \n",
       "\n",
       "                      purpose purpose_group income_group  \n",
       "0               покупка жилья  недвижимость      высокий  \n",
       "1     приобретение автомобиля    автомобиль       низкий  \n",
       "2               покупка жилья  недвижимость      средний  \n",
       "3  дополнительное образование   образование      высокий  \n",
       "4             сыграть свадьбу       свадьба      средний  \n",
       "5               покупка жилья  недвижимость      высокий  \n",
       "6           операции с жильем  недвижимость      высокий  \n",
       "7                 образование   образование      средний  \n",
       "8       на проведение свадьбы       свадьба       низкий  \n",
       "9     покупка жилья для семьи  недвижимость      средний  "
      ]
     },
     "metadata": {},
     "output_type": "display_data"
    }
   ],
   "source": [
    "#Create formula for income categorization\n",
    "\n",
    "def income_dict (total_income):\n",
    "    \"\"\"\"\n",
    "    Return category depending on income\n",
    "    If income is  < 1st quantile - return 'низкий'\n",
    "    If income is >= 1st quantile and < 2nd quantile - return 'средний'\n",
    "    If income is >= 2nd quantile - return 'высокий'\n",
    "    \"\"\"\n",
    "    if total_income < data_quantile_lower:\n",
    "        return 'низкий'\n",
    "    if data_quantile_lower <= total_income < data_quantile_upper:\n",
    "        return 'средний'\n",
    "    if total_income >= data_quantile_upper:\n",
    "        return 'высокий'\n",
    "    \n",
    "data['income_group'] = data['total_income'].apply(income_dict)\n",
    "display(data.head(10))    "
   ]
  },
  {
   "cell_type": "code",
   "execution_count": 46,
   "metadata": {},
   "outputs": [
    {
     "name": "stdout",
     "output_type": "stream",
     "text": [
      "0\n"
     ]
    }
   ],
   "source": [
    "#Check that for each row an income category is assigned\n",
    "\n",
    "print(data['income_group'].isna().sum())"
   ]
  },
  {
   "cell_type": "markdown",
   "metadata": {},
   "source": [
    "**Conclusion**"
   ]
  },
  {
   "cell_type": "markdown",
   "metadata": {},
   "source": [
    "As the result of lemmatization, 4 main categories of loan purpose were detected: property, auto, ediucation, wedding.\n",
    "\n",
    "Also, total income was categorized as low, medium, high.\n",
    "\n"
   ]
  },
  {
   "cell_type": "markdown",
   "metadata": {},
   "source": [
    "## Step 3. Answer the question"
   ]
  },
  {
   "cell_type": "markdown",
   "metadata": {},
   "source": [
    "- Is there a dependency between children and debt payment?"
   ]
  },
  {
   "cell_type": "code",
   "execution_count": 47,
   "metadata": {},
   "outputs": [
    {
     "name": "stdout",
     "output_type": "stream",
     "text": [
      "debt            0       1     ratio\n",
      "children                           \n",
      "0         13028.0  1063.0  0.924562\n",
      "3           303.0    27.0  0.918182\n",
      "1          4410.0   445.0  0.908342\n",
      "2          1926.0   202.0  0.905075\n",
      "4            37.0     4.0  0.902439\n",
      "5             9.0     NaN       NaN\n"
     ]
    }
   ],
   "source": [
    "#Create a table with debt counted depending on quanity of children\n",
    "\n",
    "data_pivot_children = data.pivot_table(index=['children'], columns = 'debt', values = 'income_type', aggfunc = 'count')\n",
    "\n",
    "data_pivot_children['ratio'] = data_pivot_children[0] / (data_pivot_children[1] + data_pivot_children[0])\n",
    "print(data_pivot_children.sort_values(by = 'ratio', ascending = False))"
   ]
  },
  {
   "cell_type": "markdown",
   "metadata": {},
   "source": [
    "**Conclusion**"
   ]
  },
  {
   "cell_type": "markdown",
   "metadata": {},
   "source": [
    "The table shows, that people without children borrow money more often and have the highest ration of loan return.  \n",
    "People with 3 chidren follow them.  \n",
    "People with 5 children are the smallest group of borrows (probably due to the fact that to have 5 children is rare in general) who always return their debt.  \n",
    "People with 1, 2 and 4 children have approximately the same ration of debt return.  "
   ]
  },
  {
   "cell_type": "markdown",
   "metadata": {},
   "source": [
    "- Is there a dependency between family status and debt payment"
   ]
  },
  {
   "cell_type": "code",
   "execution_count": 48,
   "metadata": {},
   "outputs": [
    {
     "name": "stdout",
     "output_type": "stream",
     "text": [
      "debt                       0    1     ratio\n",
      "family_status                              \n",
      "вдовец / вдова           896   63  0.934307\n",
      "в разводе               1110   85  0.928870\n",
      "женат / замужем        11408  931  0.924548\n",
      "гражданский брак        3763  388  0.906529\n",
      "Не женат / не замужем   2536  274  0.902491\n"
     ]
    }
   ],
   "source": [
    "#Create a table with debt counted depending on family status\n",
    "\n",
    "data_pivot_status = data.pivot_table(index=['family_status'], columns = 'debt', values = 'income_type', aggfunc = 'count')\n",
    "\n",
    "data_pivot_status['ratio'] = data_pivot_status[0] / (data_pivot_status[0] + data_pivot_status[1])\n",
    "print(data_pivot_status.sort_values(by = 'ratio', ascending = False))"
   ]
  },
  {
   "cell_type": "markdown",
   "metadata": {},
   "source": [
    "**Conclusion**"
   ]
  },
  {
   "cell_type": "markdown",
   "metadata": {},
   "source": [
    "Data shows that debt return ratio is higher for widows and divorced people (assumption).  \n",
    "The highest number of non-payer is among those who are in a common law marriage or have never been married.\n"
   ]
  },
  {
   "cell_type": "markdown",
   "metadata": {},
   "source": [
    "- Is there a dependency between total income and debt payment?"
   ]
  },
  {
   "cell_type": "code",
   "execution_count": 49,
   "metadata": {},
   "outputs": [
    {
     "name": "stdout",
     "output_type": "stream",
     "text": [
      "debt             0    1     ratio\n",
      "income_group                     \n",
      "высокий       6958  558  0.925758\n",
      "низкий        6165  544  0.918915\n",
      "средний       6590  639  0.911606\n"
     ]
    }
   ],
   "source": [
    "#Create a table with debt counted depending on income group\n",
    "\n",
    "data_pivot_income = data.pivot_table(index=['income_group'], columns = 'debt', values = 'income_type', aggfunc = 'count')\n",
    "data_pivot_income['ratio'] = data_pivot_income[0] / (data_pivot_income[1] + data_pivot_income[0])\n",
    "print(data_pivot_income.sort_values(by = 'ratio', ascending = False))"
   ]
  },
  {
   "cell_type": "markdown",
   "metadata": {},
   "source": [
    "**Conclusion**"
   ]
  },
  {
   "cell_type": "markdown",
   "metadata": {},
   "source": [
    "The highest ration of poeple who pay their debt on time is in a group with high income.  \n",
    "Suprisingly, people low incme are on the second place in terms of loan payment. Probably, finacial discipline and planning help to manage their loan more efficiently.  \n",
    "People are with medium income are on the third place.  \n"
   ]
  },
  {
   "cell_type": "markdown",
   "metadata": {},
   "source": [
    "- Is there a dependency between loan purpose and debt payment?"
   ]
  },
  {
   "cell_type": "code",
   "execution_count": 50,
   "metadata": {},
   "outputs": [
    {
     "name": "stdout",
     "output_type": "stream",
     "text": [
      "debt               0    1     ratio\n",
      "purpose_group                      \n",
      "недвижимость   10029  782  0.927666\n",
      "свадьба         2138  186  0.919966\n",
      "образование     3643  370  0.907800\n",
      "автомобиль      3903  403  0.906410\n"
     ]
    }
   ],
   "source": [
    "#Create a table with debt counted depending on purpose group\n",
    "\n",
    "data_pivot_purpose = data.pivot_table(index=['purpose_group'], columns = 'debt', values = 'income_type', aggfunc = 'count')\n",
    "data_pivot_purpose['ratio'] = data_pivot_purpose[0] / (data_pivot_purpose[1] + data_pivot_purpose[0])\n",
    "print(data_pivot_purpose.sort_values(by = 'ratio', ascending = False))"
   ]
  },
  {
   "cell_type": "markdown",
   "metadata": {},
   "source": [
    "**Conclusion**"
   ]
  },
  {
   "cell_type": "markdown",
   "metadata": {},
   "source": [
    "People who take a loan for buying a property are the largest group and the most disciplined in terms of debt repayment.\n",
    "People who take a loan for wedding organization are on the second place.\n",
    "People who take a loan for eduction are on the third place. Most likely major part of the borrows in the group are young people who are at higher risk of not paying their debt.\n",
    "People who take a loan for a car have the lowest ratio of debt return.\n"
   ]
  },
  {
   "cell_type": "markdown",
   "metadata": {},
   "source": [
    "## Step 4. General conclusion"
   ]
  },
  {
   "cell_type": "markdown",
   "metadata": {},
   "source": [
    "In the project the data was preprocessed: missing values were filled with mean and median values, duplicates were deleted and values in columns 'purpose' and 'income_type' were categorized for further analysis.\n",
    "\n",
    "As the result of analysis it was revealed that an ideal borrower is a widow or divorced person without children with high income who buys a property.  \n",
    "The most risky group is people that have never been married with 4 children, medium income, who buying a new car.\n",
    "\n",
    "The results of the project can be used for building a scoring system of a potential customer.\n"
   ]
  }
 ],
 "metadata": {
  "ExecuteTimeLog": [
   {
    "duration": 534,
    "start_time": "2022-08-21T11:37:32.110Z"
   },
   {
    "duration": 16,
    "start_time": "2022-08-21T11:37:32.646Z"
   },
   {
    "duration": 31,
    "start_time": "2022-08-21T11:37:32.664Z"
   },
   {
    "duration": 82,
    "start_time": "2022-08-21T11:44:46.677Z"
   },
   {
    "duration": 19,
    "start_time": "2022-08-21T11:44:46.762Z"
   },
   {
    "duration": 14,
    "start_time": "2022-08-21T11:44:46.783Z"
   },
   {
    "duration": 29,
    "start_time": "2022-08-21T11:44:50.422Z"
   },
   {
    "duration": 13,
    "start_time": "2022-08-21T11:52:17.540Z"
   },
   {
    "duration": 15,
    "start_time": "2022-08-21T11:53:33.115Z"
   },
   {
    "duration": 8,
    "start_time": "2022-08-21T11:55:53.923Z"
   },
   {
    "duration": 9,
    "start_time": "2022-08-21T11:55:55.312Z"
   },
   {
    "duration": 9,
    "start_time": "2022-08-21T11:56:41.170Z"
   },
   {
    "duration": 9,
    "start_time": "2022-08-21T11:56:45.166Z"
   },
   {
    "duration": 9,
    "start_time": "2022-08-21T11:56:45.812Z"
   },
   {
    "duration": 7,
    "start_time": "2022-08-21T12:01:01.217Z"
   },
   {
    "duration": 6,
    "start_time": "2022-08-21T12:01:03.758Z"
   },
   {
    "duration": 7,
    "start_time": "2022-08-21T12:01:08.851Z"
   },
   {
    "duration": 66,
    "start_time": "2022-08-21T12:01:19.823Z"
   },
   {
    "duration": 14,
    "start_time": "2022-08-21T12:01:19.891Z"
   },
   {
    "duration": 11,
    "start_time": "2022-08-21T12:01:19.907Z"
   },
   {
    "duration": 17,
    "start_time": "2022-08-21T12:01:19.919Z"
   },
   {
    "duration": 57,
    "start_time": "2022-08-21T12:01:19.939Z"
   },
   {
    "duration": 6,
    "start_time": "2022-08-21T12:01:19.998Z"
   },
   {
    "duration": 37,
    "start_time": "2022-08-21T12:01:20.006Z"
   },
   {
    "duration": 36,
    "start_time": "2022-08-21T12:01:20.045Z"
   },
   {
    "duration": 12,
    "start_time": "2022-08-21T12:01:20.082Z"
   },
   {
    "duration": 31,
    "start_time": "2022-08-21T12:01:20.096Z"
   },
   {
    "duration": 13,
    "start_time": "2022-08-21T12:01:20.128Z"
   },
   {
    "duration": 7,
    "start_time": "2022-08-21T12:01:22.945Z"
   },
   {
    "duration": 7,
    "start_time": "2022-08-21T12:01:50.275Z"
   },
   {
    "duration": 10,
    "start_time": "2022-08-21T12:01:51.401Z"
   },
   {
    "duration": 6,
    "start_time": "2022-08-21T12:02:16.900Z"
   },
   {
    "duration": 10,
    "start_time": "2022-08-21T12:11:19.095Z"
   },
   {
    "duration": 7,
    "start_time": "2022-08-21T12:11:46.256Z"
   },
   {
    "duration": 66,
    "start_time": "2022-08-21T12:21:51.234Z"
   },
   {
    "duration": 16,
    "start_time": "2022-08-21T12:21:51.303Z"
   },
   {
    "duration": 4,
    "start_time": "2022-08-21T12:21:51.322Z"
   },
   {
    "duration": 41,
    "start_time": "2022-08-21T12:21:51.328Z"
   },
   {
    "duration": 34,
    "start_time": "2022-08-21T12:21:51.372Z"
   },
   {
    "duration": 7,
    "start_time": "2022-08-21T12:21:51.409Z"
   },
   {
    "duration": 50,
    "start_time": "2022-08-21T12:21:51.419Z"
   },
   {
    "duration": 15,
    "start_time": "2022-08-21T12:21:51.471Z"
   },
   {
    "duration": 8,
    "start_time": "2022-08-21T12:21:51.488Z"
   },
   {
    "duration": 9,
    "start_time": "2022-08-21T12:21:51.498Z"
   },
   {
    "duration": 12,
    "start_time": "2022-08-21T12:21:51.509Z"
   },
   {
    "duration": 47,
    "start_time": "2022-08-21T12:21:51.523Z"
   },
   {
    "duration": 11,
    "start_time": "2022-08-21T12:21:51.572Z"
   },
   {
    "duration": 10,
    "start_time": "2022-08-21T12:21:51.586Z"
   },
   {
    "duration": 14,
    "start_time": "2022-08-21T12:21:51.598Z"
   },
   {
    "duration": 6,
    "start_time": "2022-08-21T12:21:51.613Z"
   },
   {
    "duration": 51,
    "start_time": "2022-08-21T12:21:51.622Z"
   },
   {
    "duration": 13,
    "start_time": "2022-08-21T12:21:51.675Z"
   },
   {
    "duration": 8,
    "start_time": "2022-08-21T12:21:51.690Z"
   },
   {
    "duration": 8,
    "start_time": "2022-08-21T12:21:51.700Z"
   },
   {
    "duration": 7,
    "start_time": "2022-08-21T12:21:51.709Z"
   },
   {
    "duration": 52,
    "start_time": "2022-08-21T12:21:51.717Z"
   },
   {
    "duration": 7,
    "start_time": "2022-08-21T12:21:51.770Z"
   },
   {
    "duration": 12,
    "start_time": "2022-08-21T12:21:51.779Z"
   },
   {
    "duration": 8,
    "start_time": "2022-08-21T12:21:51.792Z"
   },
   {
    "duration": 8,
    "start_time": "2022-08-21T12:21:51.801Z"
   },
   {
    "duration": 8,
    "start_time": "2022-08-21T12:21:56.064Z"
   },
   {
    "duration": 7,
    "start_time": "2022-08-21T12:22:48.113Z"
   },
   {
    "duration": 96,
    "start_time": "2022-08-21T12:37:25.295Z"
   },
   {
    "duration": 22,
    "start_time": "2022-08-21T12:37:40.928Z"
   },
   {
    "duration": 448,
    "start_time": "2022-08-21T12:53:56.496Z"
   },
   {
    "duration": 79,
    "start_time": "2022-08-21T12:54:05.805Z"
   },
   {
    "duration": 20,
    "start_time": "2022-08-21T12:54:05.887Z"
   },
   {
    "duration": 5,
    "start_time": "2022-08-21T12:54:05.909Z"
   },
   {
    "duration": 22,
    "start_time": "2022-08-21T12:54:05.916Z"
   },
   {
    "duration": 66,
    "start_time": "2022-08-21T12:54:05.940Z"
   },
   {
    "duration": 9,
    "start_time": "2022-08-21T12:54:06.008Z"
   },
   {
    "duration": 15,
    "start_time": "2022-08-21T12:54:06.019Z"
   },
   {
    "duration": 23,
    "start_time": "2022-08-21T12:54:06.067Z"
   },
   {
    "duration": 18,
    "start_time": "2022-08-21T12:54:06.092Z"
   },
   {
    "duration": 10,
    "start_time": "2022-08-21T12:54:06.113Z"
   },
   {
    "duration": 9,
    "start_time": "2022-08-21T12:54:06.125Z"
   },
   {
    "duration": 41,
    "start_time": "2022-08-21T12:54:06.137Z"
   },
   {
    "duration": 24,
    "start_time": "2022-08-21T12:54:06.180Z"
   },
   {
    "duration": 9,
    "start_time": "2022-08-21T12:54:06.209Z"
   },
   {
    "duration": 18,
    "start_time": "2022-08-21T12:54:06.220Z"
   },
   {
    "duration": 30,
    "start_time": "2022-08-21T12:54:06.240Z"
   },
   {
    "duration": 41,
    "start_time": "2022-08-21T12:54:06.275Z"
   },
   {
    "duration": 12,
    "start_time": "2022-08-21T12:54:06.318Z"
   },
   {
    "duration": 9,
    "start_time": "2022-08-21T12:54:06.333Z"
   },
   {
    "duration": 27,
    "start_time": "2022-08-21T12:54:06.345Z"
   },
   {
    "duration": 12,
    "start_time": "2022-08-21T12:54:06.375Z"
   },
   {
    "duration": 21,
    "start_time": "2022-08-21T12:54:06.389Z"
   },
   {
    "duration": 10,
    "start_time": "2022-08-21T12:54:06.412Z"
   },
   {
    "duration": 15,
    "start_time": "2022-08-21T12:54:06.424Z"
   },
   {
    "duration": 21,
    "start_time": "2022-08-21T12:54:06.469Z"
   },
   {
    "duration": 16,
    "start_time": "2022-08-21T12:54:06.493Z"
   },
   {
    "duration": 53,
    "start_time": "2022-08-21T12:54:06.511Z"
   },
   {
    "duration": 32,
    "start_time": "2022-08-21T12:54:06.566Z"
   },
   {
    "duration": 38,
    "start_time": "2022-08-21T12:54:06.603Z"
   },
   {
    "duration": 25,
    "start_time": "2022-08-21T12:54:06.644Z"
   },
   {
    "duration": 27,
    "start_time": "2022-08-21T12:54:06.672Z"
   },
   {
    "duration": 30,
    "start_time": "2022-08-21T12:54:06.702Z"
   },
   {
    "duration": 22,
    "start_time": "2022-08-21T12:54:06.734Z"
   },
   {
    "duration": 43,
    "start_time": "2022-08-21T12:54:06.758Z"
   },
   {
    "duration": 18,
    "start_time": "2022-08-21T12:54:06.803Z"
   },
   {
    "duration": 21,
    "start_time": "2022-08-21T12:54:06.823Z"
   },
   {
    "duration": 40,
    "start_time": "2022-08-21T12:54:06.846Z"
   },
   {
    "duration": 38,
    "start_time": "2022-08-21T12:54:06.889Z"
   },
   {
    "duration": 7,
    "start_time": "2022-08-21T12:54:06.930Z"
   },
   {
    "duration": 803,
    "start_time": "2022-08-21T12:54:06.939Z"
   },
   {
    "duration": 4,
    "start_time": "2022-08-21T12:54:07.746Z"
   },
   {
    "duration": 17,
    "start_time": "2022-08-21T12:54:07.752Z"
   },
   {
    "duration": 43,
    "start_time": "2022-08-21T12:54:07.772Z"
   },
   {
    "duration": 4,
    "start_time": "2022-08-21T12:54:07.817Z"
   },
   {
    "duration": 49,
    "start_time": "2022-08-21T12:54:07.823Z"
   },
   {
    "duration": 40,
    "start_time": "2022-08-21T12:54:13.200Z"
   }
  ],
  "kernelspec": {
   "display_name": "Python 3",
   "language": "python",
   "name": "python3"
  },
  "language_info": {
   "codemirror_mode": {
    "name": "ipython",
    "version": 3
   },
   "file_extension": ".py",
   "mimetype": "text/x-python",
   "name": "python",
   "nbconvert_exporter": "python",
   "pygments_lexer": "ipython3",
   "version": "3.8.8"
  },
  "toc": {
   "base_numbering": 1,
   "nav_menu": {},
   "number_sections": true,
   "sideBar": true,
   "skip_h1_title": true,
   "title_cell": "Table of Contents",
   "title_sidebar": "Contents",
   "toc_cell": false,
   "toc_position": {},
   "toc_section_display": true,
   "toc_window_display": false
  }
 },
 "nbformat": 4,
 "nbformat_minor": 2
}
