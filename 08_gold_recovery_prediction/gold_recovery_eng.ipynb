{
 "cells": [
  {
   "cell_type": "markdown",
   "metadata": {},
   "source": [
    "# Gold recovery prediction"
   ]
  },
  {
   "cell_type": "markdown",
   "metadata": {},
   "source": [
    "The data is stored in three files:\n",
    "\n",
    "gold_recovery_train.csv — training dataset download  \n",
    "gold_recovery_test.csv — test dataset download  \n",
    "gold_recovery_full.csv — source dataset download  \n",
    "\n",
    "Data is indexed with the date and time of acquisition (date feature). Parameters that are next to each other in terms of time are often similar. Some parameters are not available because they were measured and/or calculated much later. That's why, some of the features that are present in the training set may be absent from the test set. The test set also doesn't contain targets. The source dataset contains the training and test sets with all the features. You have the raw data that was only downloaded from the warehouse. \n",
    "\n",
    "Description of the data\n",
    "- rougher.output.recovery - Output of the rougher\n",
    "- rougher.output.tail_ag - Concentration of Silver\n",
    "- rougher.output.tail_sol - Concentration of solution\n",
    "- rougher.output.tail_au - Concentration of Gold\n",
    "- rougher.input.floatbank11_xanthate - Floatation bank input\n",
    "- secondary_cleaner.output.tail_sol - Secondary stage cleaner concentrate\n",
    "- final.output.recovery - Final output\n",
    "- rougher.calculation.au_pb_ratio - Gold to Lead ratio\n",
    "- primary_cleaner.input.sulfate - Concentrate of sulphate\n",
    "- primary_cleaner.input.depressant - Concentrate of depressant\n",
    "\n",
    "Answer these questions:\n",
    "1. Check that recovery is calculated correctly. Using the training set, calculate recovery for the rougher.output.recovery feature. Find the MAE between your calculations and the feature values. Provide findings.\n",
    "2. Analyze the features not available in the test set. What are these parameters? What is their type?\n",
    "3. Perform data preprocessing.\n",
    "4. Take note of how the concentrations of metals (Au, Ag, Pb) change depending on the purification stage.\n",
    "5. Compare the feed particle size distributions in the training set and in the test set. If the distributions vary significantly, the model evaluation will be incorrect.\n",
    "6. Consider the total concentrations of all substances at different stages: raw feed, rougher concentrate, and final concentrate. Do you notice any abnormal values in the total distribution? If you do, is it worth removing such values from both samples? Describe the findings and eliminate anomalies.\n",
    "7. Write a function to calculate the final sMAPE value.\n",
    "8. Train different models. Evaluate them using cross-validation. Pick the best model and test it using the test sample. Provide findings."
   ]
  },
  {
   "cell_type": "markdown",
   "metadata": {},
   "source": [
    "## Data preparation"
   ]
  },
  {
   "cell_type": "markdown",
   "metadata": {},
   "source": [
    "### Open the files and take a look at the data"
   ]
  },
  {
   "cell_type": "code",
   "execution_count": 1,
   "metadata": {},
   "outputs": [],
   "source": [
    "import pandas as pd\n",
    "import matplotlib.pyplot as plt\n",
    "import numpy as np\n",
    "import seaborn as sns\n",
    "\n",
    "from sklearn.tree import DecisionTreeRegressor\n",
    "from sklearn.ensemble import RandomForestRegressor\n",
    "from sklearn.linear_model import LinearRegression\n",
    "from sklearn.dummy import DummyRegressor\n",
    "from sklearn.metrics.scorer import make_scorer\n",
    "from sklearn.metrics import mean_absolute_error\n",
    "from sklearn.model_selection import cross_val_score, train_test_split\n",
    "from sklearn.preprocessing import StandardScaler\n",
    "\n",
    "import warnings\n",
    "warnings.simplefilter(action='ignore', category=FutureWarning)"
   ]
  },
  {
   "cell_type": "markdown",
   "metadata": {},
   "source": [
    "Import data"
   ]
  },
  {
   "cell_type": "code",
   "execution_count": 2,
   "metadata": {},
   "outputs": [],
   "source": [
    "data_train = pd.read_csv('/datasets/gold_recovery_train_new.csv', index_col='date', parse_dates=True)\n",
    "data_test =  pd.read_csv('/datasets/gold_recovery_test_new.csv', index_col='date', parse_dates=True)\n",
    "data_full = pd.read_csv('/datasets/gold_recovery_full_new.csv', index_col='date', parse_dates=True)"
   ]
  },
  {
   "cell_type": "markdown",
   "metadata": {},
   "source": [
    "Check sample sizes"
   ]
  },
  {
   "cell_type": "code",
   "execution_count": 3,
   "metadata": {},
   "outputs": [
    {
     "name": "stdout",
     "output_type": "stream",
     "text": [
      "Обучающая выборка (14149, 86)\n",
      "Тестовая выборка (5290, 52)\n",
      "Общая выборка (19439, 86)\n"
     ]
    }
   ],
   "source": [
    "print('Обучающая выборка', data_train.shape)\n",
    "print('Тестовая выборка', data_test.shape)\n",
    "print('Общая выборка', data_full.shape)"
   ]
  },
  {
   "cell_type": "code",
   "execution_count": 4,
   "metadata": {},
   "outputs": [
    {
     "name": "stdout",
     "output_type": "stream",
     "text": [
      "------------------Обучающая выборка--------------------\n"
     ]
    },
    {
     "data": {
      "text/html": [
       "<div>\n",
       "<style scoped>\n",
       "    .dataframe tbody tr th:only-of-type {\n",
       "        vertical-align: middle;\n",
       "    }\n",
       "\n",
       "    .dataframe tbody tr th {\n",
       "        vertical-align: top;\n",
       "    }\n",
       "\n",
       "    .dataframe thead th {\n",
       "        text-align: right;\n",
       "    }\n",
       "</style>\n",
       "<table border=\"1\" class=\"dataframe\">\n",
       "  <thead>\n",
       "    <tr style=\"text-align: right;\">\n",
       "      <th></th>\n",
       "      <th>final.output.concentrate_ag</th>\n",
       "      <th>final.output.concentrate_pb</th>\n",
       "      <th>final.output.concentrate_sol</th>\n",
       "      <th>final.output.concentrate_au</th>\n",
       "      <th>final.output.recovery</th>\n",
       "      <th>final.output.tail_ag</th>\n",
       "      <th>final.output.tail_pb</th>\n",
       "      <th>final.output.tail_sol</th>\n",
       "      <th>final.output.tail_au</th>\n",
       "      <th>primary_cleaner.input.sulfate</th>\n",
       "      <th>...</th>\n",
       "      <th>secondary_cleaner.state.floatbank4_a_air</th>\n",
       "      <th>secondary_cleaner.state.floatbank4_a_level</th>\n",
       "      <th>secondary_cleaner.state.floatbank4_b_air</th>\n",
       "      <th>secondary_cleaner.state.floatbank4_b_level</th>\n",
       "      <th>secondary_cleaner.state.floatbank5_a_air</th>\n",
       "      <th>secondary_cleaner.state.floatbank5_a_level</th>\n",
       "      <th>secondary_cleaner.state.floatbank5_b_air</th>\n",
       "      <th>secondary_cleaner.state.floatbank5_b_level</th>\n",
       "      <th>secondary_cleaner.state.floatbank6_a_air</th>\n",
       "      <th>secondary_cleaner.state.floatbank6_a_level</th>\n",
       "    </tr>\n",
       "    <tr>\n",
       "      <th>date</th>\n",
       "      <th></th>\n",
       "      <th></th>\n",
       "      <th></th>\n",
       "      <th></th>\n",
       "      <th></th>\n",
       "      <th></th>\n",
       "      <th></th>\n",
       "      <th></th>\n",
       "      <th></th>\n",
       "      <th></th>\n",
       "      <th></th>\n",
       "      <th></th>\n",
       "      <th></th>\n",
       "      <th></th>\n",
       "      <th></th>\n",
       "      <th></th>\n",
       "      <th></th>\n",
       "      <th></th>\n",
       "      <th></th>\n",
       "      <th></th>\n",
       "      <th></th>\n",
       "    </tr>\n",
       "  </thead>\n",
       "  <tbody>\n",
       "    <tr>\n",
       "      <td>2016-01-15 00:00:00</td>\n",
       "      <td>6.055403</td>\n",
       "      <td>9.889648</td>\n",
       "      <td>5.507324</td>\n",
       "      <td>42.192020</td>\n",
       "      <td>70.541216</td>\n",
       "      <td>10.411962</td>\n",
       "      <td>0.895447</td>\n",
       "      <td>16.904297</td>\n",
       "      <td>2.143149</td>\n",
       "      <td>127.092003</td>\n",
       "      <td>...</td>\n",
       "      <td>14.016835</td>\n",
       "      <td>-502.488007</td>\n",
       "      <td>12.099931</td>\n",
       "      <td>-504.715942</td>\n",
       "      <td>9.925633</td>\n",
       "      <td>-498.310211</td>\n",
       "      <td>8.079666</td>\n",
       "      <td>-500.470978</td>\n",
       "      <td>14.151341</td>\n",
       "      <td>-605.841980</td>\n",
       "    </tr>\n",
       "    <tr>\n",
       "      <td>2016-01-15 01:00:00</td>\n",
       "      <td>6.029369</td>\n",
       "      <td>9.968944</td>\n",
       "      <td>5.257781</td>\n",
       "      <td>42.701629</td>\n",
       "      <td>69.266198</td>\n",
       "      <td>10.462676</td>\n",
       "      <td>0.927452</td>\n",
       "      <td>16.634514</td>\n",
       "      <td>2.224930</td>\n",
       "      <td>125.629232</td>\n",
       "      <td>...</td>\n",
       "      <td>13.992281</td>\n",
       "      <td>-505.503262</td>\n",
       "      <td>11.950531</td>\n",
       "      <td>-501.331529</td>\n",
       "      <td>10.039245</td>\n",
       "      <td>-500.169983</td>\n",
       "      <td>7.984757</td>\n",
       "      <td>-500.582168</td>\n",
       "      <td>13.998353</td>\n",
       "      <td>-599.787184</td>\n",
       "    </tr>\n",
       "    <tr>\n",
       "      <td>2016-01-15 02:00:00</td>\n",
       "      <td>6.055926</td>\n",
       "      <td>10.213995</td>\n",
       "      <td>5.383759</td>\n",
       "      <td>42.657501</td>\n",
       "      <td>68.116445</td>\n",
       "      <td>10.507046</td>\n",
       "      <td>0.953716</td>\n",
       "      <td>16.208849</td>\n",
       "      <td>2.257889</td>\n",
       "      <td>123.819808</td>\n",
       "      <td>...</td>\n",
       "      <td>14.015015</td>\n",
       "      <td>-502.520901</td>\n",
       "      <td>11.912783</td>\n",
       "      <td>-501.133383</td>\n",
       "      <td>10.070913</td>\n",
       "      <td>-500.129135</td>\n",
       "      <td>8.013877</td>\n",
       "      <td>-500.517572</td>\n",
       "      <td>14.028663</td>\n",
       "      <td>-601.427363</td>\n",
       "    </tr>\n",
       "    <tr>\n",
       "      <td>2016-01-15 03:00:00</td>\n",
       "      <td>6.047977</td>\n",
       "      <td>9.977019</td>\n",
       "      <td>4.858634</td>\n",
       "      <td>42.689819</td>\n",
       "      <td>68.347543</td>\n",
       "      <td>10.422762</td>\n",
       "      <td>0.883763</td>\n",
       "      <td>16.532835</td>\n",
       "      <td>2.146849</td>\n",
       "      <td>122.270188</td>\n",
       "      <td>...</td>\n",
       "      <td>14.036510</td>\n",
       "      <td>-500.857308</td>\n",
       "      <td>11.999550</td>\n",
       "      <td>-501.193686</td>\n",
       "      <td>9.970366</td>\n",
       "      <td>-499.201640</td>\n",
       "      <td>7.977324</td>\n",
       "      <td>-500.255908</td>\n",
       "      <td>14.005551</td>\n",
       "      <td>-599.996129</td>\n",
       "    </tr>\n",
       "    <tr>\n",
       "      <td>2016-01-15 04:00:00</td>\n",
       "      <td>6.148599</td>\n",
       "      <td>10.142511</td>\n",
       "      <td>4.939416</td>\n",
       "      <td>42.774141</td>\n",
       "      <td>66.927016</td>\n",
       "      <td>10.360302</td>\n",
       "      <td>0.792826</td>\n",
       "      <td>16.525686</td>\n",
       "      <td>2.055292</td>\n",
       "      <td>117.988169</td>\n",
       "      <td>...</td>\n",
       "      <td>14.027298</td>\n",
       "      <td>-499.838632</td>\n",
       "      <td>11.953070</td>\n",
       "      <td>-501.053894</td>\n",
       "      <td>9.925709</td>\n",
       "      <td>-501.686727</td>\n",
       "      <td>7.894242</td>\n",
       "      <td>-500.356035</td>\n",
       "      <td>13.996647</td>\n",
       "      <td>-601.496691</td>\n",
       "    </tr>\n",
       "  </tbody>\n",
       "</table>\n",
       "<p>5 rows × 86 columns</p>\n",
       "</div>"
      ],
      "text/plain": [
       "                     final.output.concentrate_ag  final.output.concentrate_pb  \\\n",
       "date                                                                            \n",
       "2016-01-15 00:00:00                     6.055403                     9.889648   \n",
       "2016-01-15 01:00:00                     6.029369                     9.968944   \n",
       "2016-01-15 02:00:00                     6.055926                    10.213995   \n",
       "2016-01-15 03:00:00                     6.047977                     9.977019   \n",
       "2016-01-15 04:00:00                     6.148599                    10.142511   \n",
       "\n",
       "                     final.output.concentrate_sol  \\\n",
       "date                                                \n",
       "2016-01-15 00:00:00                      5.507324   \n",
       "2016-01-15 01:00:00                      5.257781   \n",
       "2016-01-15 02:00:00                      5.383759   \n",
       "2016-01-15 03:00:00                      4.858634   \n",
       "2016-01-15 04:00:00                      4.939416   \n",
       "\n",
       "                     final.output.concentrate_au  final.output.recovery  \\\n",
       "date                                                                      \n",
       "2016-01-15 00:00:00                    42.192020              70.541216   \n",
       "2016-01-15 01:00:00                    42.701629              69.266198   \n",
       "2016-01-15 02:00:00                    42.657501              68.116445   \n",
       "2016-01-15 03:00:00                    42.689819              68.347543   \n",
       "2016-01-15 04:00:00                    42.774141              66.927016   \n",
       "\n",
       "                     final.output.tail_ag  final.output.tail_pb  \\\n",
       "date                                                              \n",
       "2016-01-15 00:00:00             10.411962              0.895447   \n",
       "2016-01-15 01:00:00             10.462676              0.927452   \n",
       "2016-01-15 02:00:00             10.507046              0.953716   \n",
       "2016-01-15 03:00:00             10.422762              0.883763   \n",
       "2016-01-15 04:00:00             10.360302              0.792826   \n",
       "\n",
       "                     final.output.tail_sol  final.output.tail_au  \\\n",
       "date                                                               \n",
       "2016-01-15 00:00:00              16.904297              2.143149   \n",
       "2016-01-15 01:00:00              16.634514              2.224930   \n",
       "2016-01-15 02:00:00              16.208849              2.257889   \n",
       "2016-01-15 03:00:00              16.532835              2.146849   \n",
       "2016-01-15 04:00:00              16.525686              2.055292   \n",
       "\n",
       "                     primary_cleaner.input.sulfate  ...  \\\n",
       "date                                                ...   \n",
       "2016-01-15 00:00:00                     127.092003  ...   \n",
       "2016-01-15 01:00:00                     125.629232  ...   \n",
       "2016-01-15 02:00:00                     123.819808  ...   \n",
       "2016-01-15 03:00:00                     122.270188  ...   \n",
       "2016-01-15 04:00:00                     117.988169  ...   \n",
       "\n",
       "                     secondary_cleaner.state.floatbank4_a_air  \\\n",
       "date                                                            \n",
       "2016-01-15 00:00:00                                 14.016835   \n",
       "2016-01-15 01:00:00                                 13.992281   \n",
       "2016-01-15 02:00:00                                 14.015015   \n",
       "2016-01-15 03:00:00                                 14.036510   \n",
       "2016-01-15 04:00:00                                 14.027298   \n",
       "\n",
       "                     secondary_cleaner.state.floatbank4_a_level  \\\n",
       "date                                                              \n",
       "2016-01-15 00:00:00                                 -502.488007   \n",
       "2016-01-15 01:00:00                                 -505.503262   \n",
       "2016-01-15 02:00:00                                 -502.520901   \n",
       "2016-01-15 03:00:00                                 -500.857308   \n",
       "2016-01-15 04:00:00                                 -499.838632   \n",
       "\n",
       "                     secondary_cleaner.state.floatbank4_b_air  \\\n",
       "date                                                            \n",
       "2016-01-15 00:00:00                                 12.099931   \n",
       "2016-01-15 01:00:00                                 11.950531   \n",
       "2016-01-15 02:00:00                                 11.912783   \n",
       "2016-01-15 03:00:00                                 11.999550   \n",
       "2016-01-15 04:00:00                                 11.953070   \n",
       "\n",
       "                     secondary_cleaner.state.floatbank4_b_level  \\\n",
       "date                                                              \n",
       "2016-01-15 00:00:00                                 -504.715942   \n",
       "2016-01-15 01:00:00                                 -501.331529   \n",
       "2016-01-15 02:00:00                                 -501.133383   \n",
       "2016-01-15 03:00:00                                 -501.193686   \n",
       "2016-01-15 04:00:00                                 -501.053894   \n",
       "\n",
       "                     secondary_cleaner.state.floatbank5_a_air  \\\n",
       "date                                                            \n",
       "2016-01-15 00:00:00                                  9.925633   \n",
       "2016-01-15 01:00:00                                 10.039245   \n",
       "2016-01-15 02:00:00                                 10.070913   \n",
       "2016-01-15 03:00:00                                  9.970366   \n",
       "2016-01-15 04:00:00                                  9.925709   \n",
       "\n",
       "                     secondary_cleaner.state.floatbank5_a_level  \\\n",
       "date                                                              \n",
       "2016-01-15 00:00:00                                 -498.310211   \n",
       "2016-01-15 01:00:00                                 -500.169983   \n",
       "2016-01-15 02:00:00                                 -500.129135   \n",
       "2016-01-15 03:00:00                                 -499.201640   \n",
       "2016-01-15 04:00:00                                 -501.686727   \n",
       "\n",
       "                     secondary_cleaner.state.floatbank5_b_air  \\\n",
       "date                                                            \n",
       "2016-01-15 00:00:00                                  8.079666   \n",
       "2016-01-15 01:00:00                                  7.984757   \n",
       "2016-01-15 02:00:00                                  8.013877   \n",
       "2016-01-15 03:00:00                                  7.977324   \n",
       "2016-01-15 04:00:00                                  7.894242   \n",
       "\n",
       "                     secondary_cleaner.state.floatbank5_b_level  \\\n",
       "date                                                              \n",
       "2016-01-15 00:00:00                                 -500.470978   \n",
       "2016-01-15 01:00:00                                 -500.582168   \n",
       "2016-01-15 02:00:00                                 -500.517572   \n",
       "2016-01-15 03:00:00                                 -500.255908   \n",
       "2016-01-15 04:00:00                                 -500.356035   \n",
       "\n",
       "                     secondary_cleaner.state.floatbank6_a_air  \\\n",
       "date                                                            \n",
       "2016-01-15 00:00:00                                 14.151341   \n",
       "2016-01-15 01:00:00                                 13.998353   \n",
       "2016-01-15 02:00:00                                 14.028663   \n",
       "2016-01-15 03:00:00                                 14.005551   \n",
       "2016-01-15 04:00:00                                 13.996647   \n",
       "\n",
       "                     secondary_cleaner.state.floatbank6_a_level  \n",
       "date                                                             \n",
       "2016-01-15 00:00:00                                 -605.841980  \n",
       "2016-01-15 01:00:00                                 -599.787184  \n",
       "2016-01-15 02:00:00                                 -601.427363  \n",
       "2016-01-15 03:00:00                                 -599.996129  \n",
       "2016-01-15 04:00:00                                 -601.496691  \n",
       "\n",
       "[5 rows x 86 columns]"
      ]
     },
     "metadata": {},
     "output_type": "display_data"
    },
    {
     "name": "stdout",
     "output_type": "stream",
     "text": [
      "------------------Тестовая выборка--------------------\n"
     ]
    },
    {
     "data": {
      "text/html": [
       "<div>\n",
       "<style scoped>\n",
       "    .dataframe tbody tr th:only-of-type {\n",
       "        vertical-align: middle;\n",
       "    }\n",
       "\n",
       "    .dataframe tbody tr th {\n",
       "        vertical-align: top;\n",
       "    }\n",
       "\n",
       "    .dataframe thead th {\n",
       "        text-align: right;\n",
       "    }\n",
       "</style>\n",
       "<table border=\"1\" class=\"dataframe\">\n",
       "  <thead>\n",
       "    <tr style=\"text-align: right;\">\n",
       "      <th></th>\n",
       "      <th>primary_cleaner.input.sulfate</th>\n",
       "      <th>primary_cleaner.input.depressant</th>\n",
       "      <th>primary_cleaner.input.feed_size</th>\n",
       "      <th>primary_cleaner.input.xanthate</th>\n",
       "      <th>primary_cleaner.state.floatbank8_a_air</th>\n",
       "      <th>primary_cleaner.state.floatbank8_a_level</th>\n",
       "      <th>primary_cleaner.state.floatbank8_b_air</th>\n",
       "      <th>primary_cleaner.state.floatbank8_b_level</th>\n",
       "      <th>primary_cleaner.state.floatbank8_c_air</th>\n",
       "      <th>primary_cleaner.state.floatbank8_c_level</th>\n",
       "      <th>...</th>\n",
       "      <th>secondary_cleaner.state.floatbank4_a_air</th>\n",
       "      <th>secondary_cleaner.state.floatbank4_a_level</th>\n",
       "      <th>secondary_cleaner.state.floatbank4_b_air</th>\n",
       "      <th>secondary_cleaner.state.floatbank4_b_level</th>\n",
       "      <th>secondary_cleaner.state.floatbank5_a_air</th>\n",
       "      <th>secondary_cleaner.state.floatbank5_a_level</th>\n",
       "      <th>secondary_cleaner.state.floatbank5_b_air</th>\n",
       "      <th>secondary_cleaner.state.floatbank5_b_level</th>\n",
       "      <th>secondary_cleaner.state.floatbank6_a_air</th>\n",
       "      <th>secondary_cleaner.state.floatbank6_a_level</th>\n",
       "    </tr>\n",
       "    <tr>\n",
       "      <th>date</th>\n",
       "      <th></th>\n",
       "      <th></th>\n",
       "      <th></th>\n",
       "      <th></th>\n",
       "      <th></th>\n",
       "      <th></th>\n",
       "      <th></th>\n",
       "      <th></th>\n",
       "      <th></th>\n",
       "      <th></th>\n",
       "      <th></th>\n",
       "      <th></th>\n",
       "      <th></th>\n",
       "      <th></th>\n",
       "      <th></th>\n",
       "      <th></th>\n",
       "      <th></th>\n",
       "      <th></th>\n",
       "      <th></th>\n",
       "      <th></th>\n",
       "      <th></th>\n",
       "    </tr>\n",
       "  </thead>\n",
       "  <tbody>\n",
       "    <tr>\n",
       "      <td>2016-09-01 00:59:59</td>\n",
       "      <td>210.800909</td>\n",
       "      <td>14.993118</td>\n",
       "      <td>8.080000</td>\n",
       "      <td>1.005021</td>\n",
       "      <td>1398.981301</td>\n",
       "      <td>-500.225577</td>\n",
       "      <td>1399.144926</td>\n",
       "      <td>-499.919735</td>\n",
       "      <td>1400.102998</td>\n",
       "      <td>-500.704369</td>\n",
       "      <td>...</td>\n",
       "      <td>12.023554</td>\n",
       "      <td>-497.795834</td>\n",
       "      <td>8.016656</td>\n",
       "      <td>-501.289139</td>\n",
       "      <td>7.946562</td>\n",
       "      <td>-432.317850</td>\n",
       "      <td>4.872511</td>\n",
       "      <td>-500.037437</td>\n",
       "      <td>26.705889</td>\n",
       "      <td>-499.709414</td>\n",
       "    </tr>\n",
       "    <tr>\n",
       "      <td>2016-09-01 01:59:59</td>\n",
       "      <td>215.392455</td>\n",
       "      <td>14.987471</td>\n",
       "      <td>8.080000</td>\n",
       "      <td>0.990469</td>\n",
       "      <td>1398.777912</td>\n",
       "      <td>-500.057435</td>\n",
       "      <td>1398.055362</td>\n",
       "      <td>-499.778182</td>\n",
       "      <td>1396.151033</td>\n",
       "      <td>-499.240168</td>\n",
       "      <td>...</td>\n",
       "      <td>12.058140</td>\n",
       "      <td>-498.695773</td>\n",
       "      <td>8.130979</td>\n",
       "      <td>-499.634209</td>\n",
       "      <td>7.958270</td>\n",
       "      <td>-525.839648</td>\n",
       "      <td>4.878850</td>\n",
       "      <td>-500.162375</td>\n",
       "      <td>25.019940</td>\n",
       "      <td>-499.819438</td>\n",
       "    </tr>\n",
       "    <tr>\n",
       "      <td>2016-09-01 02:59:59</td>\n",
       "      <td>215.259946</td>\n",
       "      <td>12.884934</td>\n",
       "      <td>7.786667</td>\n",
       "      <td>0.996043</td>\n",
       "      <td>1398.493666</td>\n",
       "      <td>-500.868360</td>\n",
       "      <td>1398.860436</td>\n",
       "      <td>-499.764529</td>\n",
       "      <td>1398.075709</td>\n",
       "      <td>-502.151509</td>\n",
       "      <td>...</td>\n",
       "      <td>11.962366</td>\n",
       "      <td>-498.767484</td>\n",
       "      <td>8.096893</td>\n",
       "      <td>-500.827423</td>\n",
       "      <td>8.071056</td>\n",
       "      <td>-500.801673</td>\n",
       "      <td>4.905125</td>\n",
       "      <td>-499.828510</td>\n",
       "      <td>24.994862</td>\n",
       "      <td>-500.622559</td>\n",
       "    </tr>\n",
       "    <tr>\n",
       "      <td>2016-09-01 03:59:59</td>\n",
       "      <td>215.336236</td>\n",
       "      <td>12.006805</td>\n",
       "      <td>7.640000</td>\n",
       "      <td>0.863514</td>\n",
       "      <td>1399.618111</td>\n",
       "      <td>-498.863574</td>\n",
       "      <td>1397.440120</td>\n",
       "      <td>-499.211024</td>\n",
       "      <td>1400.129303</td>\n",
       "      <td>-498.355873</td>\n",
       "      <td>...</td>\n",
       "      <td>12.033091</td>\n",
       "      <td>-498.350935</td>\n",
       "      <td>8.074946</td>\n",
       "      <td>-499.474407</td>\n",
       "      <td>7.897085</td>\n",
       "      <td>-500.868509</td>\n",
       "      <td>4.931400</td>\n",
       "      <td>-499.963623</td>\n",
       "      <td>24.948919</td>\n",
       "      <td>-498.709987</td>\n",
       "    </tr>\n",
       "    <tr>\n",
       "      <td>2016-09-01 04:59:59</td>\n",
       "      <td>199.099327</td>\n",
       "      <td>10.682530</td>\n",
       "      <td>7.530000</td>\n",
       "      <td>0.805575</td>\n",
       "      <td>1401.268123</td>\n",
       "      <td>-500.808305</td>\n",
       "      <td>1398.128818</td>\n",
       "      <td>-499.504543</td>\n",
       "      <td>1402.172226</td>\n",
       "      <td>-500.810606</td>\n",
       "      <td>...</td>\n",
       "      <td>12.025367</td>\n",
       "      <td>-500.786497</td>\n",
       "      <td>8.054678</td>\n",
       "      <td>-500.397500</td>\n",
       "      <td>8.107890</td>\n",
       "      <td>-509.526725</td>\n",
       "      <td>4.957674</td>\n",
       "      <td>-500.360026</td>\n",
       "      <td>25.003331</td>\n",
       "      <td>-500.856333</td>\n",
       "    </tr>\n",
       "  </tbody>\n",
       "</table>\n",
       "<p>5 rows × 52 columns</p>\n",
       "</div>"
      ],
      "text/plain": [
       "                     primary_cleaner.input.sulfate  \\\n",
       "date                                                 \n",
       "2016-09-01 00:59:59                     210.800909   \n",
       "2016-09-01 01:59:59                     215.392455   \n",
       "2016-09-01 02:59:59                     215.259946   \n",
       "2016-09-01 03:59:59                     215.336236   \n",
       "2016-09-01 04:59:59                     199.099327   \n",
       "\n",
       "                     primary_cleaner.input.depressant  \\\n",
       "date                                                    \n",
       "2016-09-01 00:59:59                         14.993118   \n",
       "2016-09-01 01:59:59                         14.987471   \n",
       "2016-09-01 02:59:59                         12.884934   \n",
       "2016-09-01 03:59:59                         12.006805   \n",
       "2016-09-01 04:59:59                         10.682530   \n",
       "\n",
       "                     primary_cleaner.input.feed_size  \\\n",
       "date                                                   \n",
       "2016-09-01 00:59:59                         8.080000   \n",
       "2016-09-01 01:59:59                         8.080000   \n",
       "2016-09-01 02:59:59                         7.786667   \n",
       "2016-09-01 03:59:59                         7.640000   \n",
       "2016-09-01 04:59:59                         7.530000   \n",
       "\n",
       "                     primary_cleaner.input.xanthate  \\\n",
       "date                                                  \n",
       "2016-09-01 00:59:59                        1.005021   \n",
       "2016-09-01 01:59:59                        0.990469   \n",
       "2016-09-01 02:59:59                        0.996043   \n",
       "2016-09-01 03:59:59                        0.863514   \n",
       "2016-09-01 04:59:59                        0.805575   \n",
       "\n",
       "                     primary_cleaner.state.floatbank8_a_air  \\\n",
       "date                                                          \n",
       "2016-09-01 00:59:59                             1398.981301   \n",
       "2016-09-01 01:59:59                             1398.777912   \n",
       "2016-09-01 02:59:59                             1398.493666   \n",
       "2016-09-01 03:59:59                             1399.618111   \n",
       "2016-09-01 04:59:59                             1401.268123   \n",
       "\n",
       "                     primary_cleaner.state.floatbank8_a_level  \\\n",
       "date                                                            \n",
       "2016-09-01 00:59:59                               -500.225577   \n",
       "2016-09-01 01:59:59                               -500.057435   \n",
       "2016-09-01 02:59:59                               -500.868360   \n",
       "2016-09-01 03:59:59                               -498.863574   \n",
       "2016-09-01 04:59:59                               -500.808305   \n",
       "\n",
       "                     primary_cleaner.state.floatbank8_b_air  \\\n",
       "date                                                          \n",
       "2016-09-01 00:59:59                             1399.144926   \n",
       "2016-09-01 01:59:59                             1398.055362   \n",
       "2016-09-01 02:59:59                             1398.860436   \n",
       "2016-09-01 03:59:59                             1397.440120   \n",
       "2016-09-01 04:59:59                             1398.128818   \n",
       "\n",
       "                     primary_cleaner.state.floatbank8_b_level  \\\n",
       "date                                                            \n",
       "2016-09-01 00:59:59                               -499.919735   \n",
       "2016-09-01 01:59:59                               -499.778182   \n",
       "2016-09-01 02:59:59                               -499.764529   \n",
       "2016-09-01 03:59:59                               -499.211024   \n",
       "2016-09-01 04:59:59                               -499.504543   \n",
       "\n",
       "                     primary_cleaner.state.floatbank8_c_air  \\\n",
       "date                                                          \n",
       "2016-09-01 00:59:59                             1400.102998   \n",
       "2016-09-01 01:59:59                             1396.151033   \n",
       "2016-09-01 02:59:59                             1398.075709   \n",
       "2016-09-01 03:59:59                             1400.129303   \n",
       "2016-09-01 04:59:59                             1402.172226   \n",
       "\n",
       "                     primary_cleaner.state.floatbank8_c_level  ...  \\\n",
       "date                                                           ...   \n",
       "2016-09-01 00:59:59                               -500.704369  ...   \n",
       "2016-09-01 01:59:59                               -499.240168  ...   \n",
       "2016-09-01 02:59:59                               -502.151509  ...   \n",
       "2016-09-01 03:59:59                               -498.355873  ...   \n",
       "2016-09-01 04:59:59                               -500.810606  ...   \n",
       "\n",
       "                     secondary_cleaner.state.floatbank4_a_air  \\\n",
       "date                                                            \n",
       "2016-09-01 00:59:59                                 12.023554   \n",
       "2016-09-01 01:59:59                                 12.058140   \n",
       "2016-09-01 02:59:59                                 11.962366   \n",
       "2016-09-01 03:59:59                                 12.033091   \n",
       "2016-09-01 04:59:59                                 12.025367   \n",
       "\n",
       "                     secondary_cleaner.state.floatbank4_a_level  \\\n",
       "date                                                              \n",
       "2016-09-01 00:59:59                                 -497.795834   \n",
       "2016-09-01 01:59:59                                 -498.695773   \n",
       "2016-09-01 02:59:59                                 -498.767484   \n",
       "2016-09-01 03:59:59                                 -498.350935   \n",
       "2016-09-01 04:59:59                                 -500.786497   \n",
       "\n",
       "                     secondary_cleaner.state.floatbank4_b_air  \\\n",
       "date                                                            \n",
       "2016-09-01 00:59:59                                  8.016656   \n",
       "2016-09-01 01:59:59                                  8.130979   \n",
       "2016-09-01 02:59:59                                  8.096893   \n",
       "2016-09-01 03:59:59                                  8.074946   \n",
       "2016-09-01 04:59:59                                  8.054678   \n",
       "\n",
       "                     secondary_cleaner.state.floatbank4_b_level  \\\n",
       "date                                                              \n",
       "2016-09-01 00:59:59                                 -501.289139   \n",
       "2016-09-01 01:59:59                                 -499.634209   \n",
       "2016-09-01 02:59:59                                 -500.827423   \n",
       "2016-09-01 03:59:59                                 -499.474407   \n",
       "2016-09-01 04:59:59                                 -500.397500   \n",
       "\n",
       "                     secondary_cleaner.state.floatbank5_a_air  \\\n",
       "date                                                            \n",
       "2016-09-01 00:59:59                                  7.946562   \n",
       "2016-09-01 01:59:59                                  7.958270   \n",
       "2016-09-01 02:59:59                                  8.071056   \n",
       "2016-09-01 03:59:59                                  7.897085   \n",
       "2016-09-01 04:59:59                                  8.107890   \n",
       "\n",
       "                     secondary_cleaner.state.floatbank5_a_level  \\\n",
       "date                                                              \n",
       "2016-09-01 00:59:59                                 -432.317850   \n",
       "2016-09-01 01:59:59                                 -525.839648   \n",
       "2016-09-01 02:59:59                                 -500.801673   \n",
       "2016-09-01 03:59:59                                 -500.868509   \n",
       "2016-09-01 04:59:59                                 -509.526725   \n",
       "\n",
       "                     secondary_cleaner.state.floatbank5_b_air  \\\n",
       "date                                                            \n",
       "2016-09-01 00:59:59                                  4.872511   \n",
       "2016-09-01 01:59:59                                  4.878850   \n",
       "2016-09-01 02:59:59                                  4.905125   \n",
       "2016-09-01 03:59:59                                  4.931400   \n",
       "2016-09-01 04:59:59                                  4.957674   \n",
       "\n",
       "                     secondary_cleaner.state.floatbank5_b_level  \\\n",
       "date                                                              \n",
       "2016-09-01 00:59:59                                 -500.037437   \n",
       "2016-09-01 01:59:59                                 -500.162375   \n",
       "2016-09-01 02:59:59                                 -499.828510   \n",
       "2016-09-01 03:59:59                                 -499.963623   \n",
       "2016-09-01 04:59:59                                 -500.360026   \n",
       "\n",
       "                     secondary_cleaner.state.floatbank6_a_air  \\\n",
       "date                                                            \n",
       "2016-09-01 00:59:59                                 26.705889   \n",
       "2016-09-01 01:59:59                                 25.019940   \n",
       "2016-09-01 02:59:59                                 24.994862   \n",
       "2016-09-01 03:59:59                                 24.948919   \n",
       "2016-09-01 04:59:59                                 25.003331   \n",
       "\n",
       "                     secondary_cleaner.state.floatbank6_a_level  \n",
       "date                                                             \n",
       "2016-09-01 00:59:59                                 -499.709414  \n",
       "2016-09-01 01:59:59                                 -499.819438  \n",
       "2016-09-01 02:59:59                                 -500.622559  \n",
       "2016-09-01 03:59:59                                 -498.709987  \n",
       "2016-09-01 04:59:59                                 -500.856333  \n",
       "\n",
       "[5 rows x 52 columns]"
      ]
     },
     "metadata": {},
     "output_type": "display_data"
    },
    {
     "name": "stdout",
     "output_type": "stream",
     "text": [
      "------------------Общая выборка--------------------\n"
     ]
    },
    {
     "data": {
      "text/html": [
       "<div>\n",
       "<style scoped>\n",
       "    .dataframe tbody tr th:only-of-type {\n",
       "        vertical-align: middle;\n",
       "    }\n",
       "\n",
       "    .dataframe tbody tr th {\n",
       "        vertical-align: top;\n",
       "    }\n",
       "\n",
       "    .dataframe thead th {\n",
       "        text-align: right;\n",
       "    }\n",
       "</style>\n",
       "<table border=\"1\" class=\"dataframe\">\n",
       "  <thead>\n",
       "    <tr style=\"text-align: right;\">\n",
       "      <th></th>\n",
       "      <th>final.output.concentrate_ag</th>\n",
       "      <th>final.output.concentrate_pb</th>\n",
       "      <th>final.output.concentrate_sol</th>\n",
       "      <th>final.output.concentrate_au</th>\n",
       "      <th>final.output.recovery</th>\n",
       "      <th>final.output.tail_ag</th>\n",
       "      <th>final.output.tail_pb</th>\n",
       "      <th>final.output.tail_sol</th>\n",
       "      <th>final.output.tail_au</th>\n",
       "      <th>primary_cleaner.input.sulfate</th>\n",
       "      <th>...</th>\n",
       "      <th>secondary_cleaner.state.floatbank4_a_air</th>\n",
       "      <th>secondary_cleaner.state.floatbank4_a_level</th>\n",
       "      <th>secondary_cleaner.state.floatbank4_b_air</th>\n",
       "      <th>secondary_cleaner.state.floatbank4_b_level</th>\n",
       "      <th>secondary_cleaner.state.floatbank5_a_air</th>\n",
       "      <th>secondary_cleaner.state.floatbank5_a_level</th>\n",
       "      <th>secondary_cleaner.state.floatbank5_b_air</th>\n",
       "      <th>secondary_cleaner.state.floatbank5_b_level</th>\n",
       "      <th>secondary_cleaner.state.floatbank6_a_air</th>\n",
       "      <th>secondary_cleaner.state.floatbank6_a_level</th>\n",
       "    </tr>\n",
       "    <tr>\n",
       "      <th>date</th>\n",
       "      <th></th>\n",
       "      <th></th>\n",
       "      <th></th>\n",
       "      <th></th>\n",
       "      <th></th>\n",
       "      <th></th>\n",
       "      <th></th>\n",
       "      <th></th>\n",
       "      <th></th>\n",
       "      <th></th>\n",
       "      <th></th>\n",
       "      <th></th>\n",
       "      <th></th>\n",
       "      <th></th>\n",
       "      <th></th>\n",
       "      <th></th>\n",
       "      <th></th>\n",
       "      <th></th>\n",
       "      <th></th>\n",
       "      <th></th>\n",
       "      <th></th>\n",
       "    </tr>\n",
       "  </thead>\n",
       "  <tbody>\n",
       "    <tr>\n",
       "      <td>2016-01-15 00:00:00</td>\n",
       "      <td>6.055403</td>\n",
       "      <td>9.889648</td>\n",
       "      <td>5.507324</td>\n",
       "      <td>42.192020</td>\n",
       "      <td>70.541216</td>\n",
       "      <td>10.411962</td>\n",
       "      <td>0.895447</td>\n",
       "      <td>16.904297</td>\n",
       "      <td>2.143149</td>\n",
       "      <td>127.092003</td>\n",
       "      <td>...</td>\n",
       "      <td>14.016835</td>\n",
       "      <td>-502.488007</td>\n",
       "      <td>12.099931</td>\n",
       "      <td>-504.715942</td>\n",
       "      <td>9.925633</td>\n",
       "      <td>-498.310211</td>\n",
       "      <td>8.079666</td>\n",
       "      <td>-500.470978</td>\n",
       "      <td>14.151341</td>\n",
       "      <td>-605.841980</td>\n",
       "    </tr>\n",
       "    <tr>\n",
       "      <td>2016-01-15 01:00:00</td>\n",
       "      <td>6.029369</td>\n",
       "      <td>9.968944</td>\n",
       "      <td>5.257781</td>\n",
       "      <td>42.701629</td>\n",
       "      <td>69.266198</td>\n",
       "      <td>10.462676</td>\n",
       "      <td>0.927452</td>\n",
       "      <td>16.634514</td>\n",
       "      <td>2.224930</td>\n",
       "      <td>125.629232</td>\n",
       "      <td>...</td>\n",
       "      <td>13.992281</td>\n",
       "      <td>-505.503262</td>\n",
       "      <td>11.950531</td>\n",
       "      <td>-501.331529</td>\n",
       "      <td>10.039245</td>\n",
       "      <td>-500.169983</td>\n",
       "      <td>7.984757</td>\n",
       "      <td>-500.582168</td>\n",
       "      <td>13.998353</td>\n",
       "      <td>-599.787184</td>\n",
       "    </tr>\n",
       "    <tr>\n",
       "      <td>2016-01-15 02:00:00</td>\n",
       "      <td>6.055926</td>\n",
       "      <td>10.213995</td>\n",
       "      <td>5.383759</td>\n",
       "      <td>42.657501</td>\n",
       "      <td>68.116445</td>\n",
       "      <td>10.507046</td>\n",
       "      <td>0.953716</td>\n",
       "      <td>16.208849</td>\n",
       "      <td>2.257889</td>\n",
       "      <td>123.819808</td>\n",
       "      <td>...</td>\n",
       "      <td>14.015015</td>\n",
       "      <td>-502.520901</td>\n",
       "      <td>11.912783</td>\n",
       "      <td>-501.133383</td>\n",
       "      <td>10.070913</td>\n",
       "      <td>-500.129135</td>\n",
       "      <td>8.013877</td>\n",
       "      <td>-500.517572</td>\n",
       "      <td>14.028663</td>\n",
       "      <td>-601.427363</td>\n",
       "    </tr>\n",
       "    <tr>\n",
       "      <td>2016-01-15 03:00:00</td>\n",
       "      <td>6.047977</td>\n",
       "      <td>9.977019</td>\n",
       "      <td>4.858634</td>\n",
       "      <td>42.689819</td>\n",
       "      <td>68.347543</td>\n",
       "      <td>10.422762</td>\n",
       "      <td>0.883763</td>\n",
       "      <td>16.532835</td>\n",
       "      <td>2.146849</td>\n",
       "      <td>122.270188</td>\n",
       "      <td>...</td>\n",
       "      <td>14.036510</td>\n",
       "      <td>-500.857308</td>\n",
       "      <td>11.999550</td>\n",
       "      <td>-501.193686</td>\n",
       "      <td>9.970366</td>\n",
       "      <td>-499.201640</td>\n",
       "      <td>7.977324</td>\n",
       "      <td>-500.255908</td>\n",
       "      <td>14.005551</td>\n",
       "      <td>-599.996129</td>\n",
       "    </tr>\n",
       "    <tr>\n",
       "      <td>2016-01-15 04:00:00</td>\n",
       "      <td>6.148599</td>\n",
       "      <td>10.142511</td>\n",
       "      <td>4.939416</td>\n",
       "      <td>42.774141</td>\n",
       "      <td>66.927016</td>\n",
       "      <td>10.360302</td>\n",
       "      <td>0.792826</td>\n",
       "      <td>16.525686</td>\n",
       "      <td>2.055292</td>\n",
       "      <td>117.988169</td>\n",
       "      <td>...</td>\n",
       "      <td>14.027298</td>\n",
       "      <td>-499.838632</td>\n",
       "      <td>11.953070</td>\n",
       "      <td>-501.053894</td>\n",
       "      <td>9.925709</td>\n",
       "      <td>-501.686727</td>\n",
       "      <td>7.894242</td>\n",
       "      <td>-500.356035</td>\n",
       "      <td>13.996647</td>\n",
       "      <td>-601.496691</td>\n",
       "    </tr>\n",
       "  </tbody>\n",
       "</table>\n",
       "<p>5 rows × 86 columns</p>\n",
       "</div>"
      ],
      "text/plain": [
       "                     final.output.concentrate_ag  final.output.concentrate_pb  \\\n",
       "date                                                                            \n",
       "2016-01-15 00:00:00                     6.055403                     9.889648   \n",
       "2016-01-15 01:00:00                     6.029369                     9.968944   \n",
       "2016-01-15 02:00:00                     6.055926                    10.213995   \n",
       "2016-01-15 03:00:00                     6.047977                     9.977019   \n",
       "2016-01-15 04:00:00                     6.148599                    10.142511   \n",
       "\n",
       "                     final.output.concentrate_sol  \\\n",
       "date                                                \n",
       "2016-01-15 00:00:00                      5.507324   \n",
       "2016-01-15 01:00:00                      5.257781   \n",
       "2016-01-15 02:00:00                      5.383759   \n",
       "2016-01-15 03:00:00                      4.858634   \n",
       "2016-01-15 04:00:00                      4.939416   \n",
       "\n",
       "                     final.output.concentrate_au  final.output.recovery  \\\n",
       "date                                                                      \n",
       "2016-01-15 00:00:00                    42.192020              70.541216   \n",
       "2016-01-15 01:00:00                    42.701629              69.266198   \n",
       "2016-01-15 02:00:00                    42.657501              68.116445   \n",
       "2016-01-15 03:00:00                    42.689819              68.347543   \n",
       "2016-01-15 04:00:00                    42.774141              66.927016   \n",
       "\n",
       "                     final.output.tail_ag  final.output.tail_pb  \\\n",
       "date                                                              \n",
       "2016-01-15 00:00:00             10.411962              0.895447   \n",
       "2016-01-15 01:00:00             10.462676              0.927452   \n",
       "2016-01-15 02:00:00             10.507046              0.953716   \n",
       "2016-01-15 03:00:00             10.422762              0.883763   \n",
       "2016-01-15 04:00:00             10.360302              0.792826   \n",
       "\n",
       "                     final.output.tail_sol  final.output.tail_au  \\\n",
       "date                                                               \n",
       "2016-01-15 00:00:00              16.904297              2.143149   \n",
       "2016-01-15 01:00:00              16.634514              2.224930   \n",
       "2016-01-15 02:00:00              16.208849              2.257889   \n",
       "2016-01-15 03:00:00              16.532835              2.146849   \n",
       "2016-01-15 04:00:00              16.525686              2.055292   \n",
       "\n",
       "                     primary_cleaner.input.sulfate  ...  \\\n",
       "date                                                ...   \n",
       "2016-01-15 00:00:00                     127.092003  ...   \n",
       "2016-01-15 01:00:00                     125.629232  ...   \n",
       "2016-01-15 02:00:00                     123.819808  ...   \n",
       "2016-01-15 03:00:00                     122.270188  ...   \n",
       "2016-01-15 04:00:00                     117.988169  ...   \n",
       "\n",
       "                     secondary_cleaner.state.floatbank4_a_air  \\\n",
       "date                                                            \n",
       "2016-01-15 00:00:00                                 14.016835   \n",
       "2016-01-15 01:00:00                                 13.992281   \n",
       "2016-01-15 02:00:00                                 14.015015   \n",
       "2016-01-15 03:00:00                                 14.036510   \n",
       "2016-01-15 04:00:00                                 14.027298   \n",
       "\n",
       "                     secondary_cleaner.state.floatbank4_a_level  \\\n",
       "date                                                              \n",
       "2016-01-15 00:00:00                                 -502.488007   \n",
       "2016-01-15 01:00:00                                 -505.503262   \n",
       "2016-01-15 02:00:00                                 -502.520901   \n",
       "2016-01-15 03:00:00                                 -500.857308   \n",
       "2016-01-15 04:00:00                                 -499.838632   \n",
       "\n",
       "                     secondary_cleaner.state.floatbank4_b_air  \\\n",
       "date                                                            \n",
       "2016-01-15 00:00:00                                 12.099931   \n",
       "2016-01-15 01:00:00                                 11.950531   \n",
       "2016-01-15 02:00:00                                 11.912783   \n",
       "2016-01-15 03:00:00                                 11.999550   \n",
       "2016-01-15 04:00:00                                 11.953070   \n",
       "\n",
       "                     secondary_cleaner.state.floatbank4_b_level  \\\n",
       "date                                                              \n",
       "2016-01-15 00:00:00                                 -504.715942   \n",
       "2016-01-15 01:00:00                                 -501.331529   \n",
       "2016-01-15 02:00:00                                 -501.133383   \n",
       "2016-01-15 03:00:00                                 -501.193686   \n",
       "2016-01-15 04:00:00                                 -501.053894   \n",
       "\n",
       "                     secondary_cleaner.state.floatbank5_a_air  \\\n",
       "date                                                            \n",
       "2016-01-15 00:00:00                                  9.925633   \n",
       "2016-01-15 01:00:00                                 10.039245   \n",
       "2016-01-15 02:00:00                                 10.070913   \n",
       "2016-01-15 03:00:00                                  9.970366   \n",
       "2016-01-15 04:00:00                                  9.925709   \n",
       "\n",
       "                     secondary_cleaner.state.floatbank5_a_level  \\\n",
       "date                                                              \n",
       "2016-01-15 00:00:00                                 -498.310211   \n",
       "2016-01-15 01:00:00                                 -500.169983   \n",
       "2016-01-15 02:00:00                                 -500.129135   \n",
       "2016-01-15 03:00:00                                 -499.201640   \n",
       "2016-01-15 04:00:00                                 -501.686727   \n",
       "\n",
       "                     secondary_cleaner.state.floatbank5_b_air  \\\n",
       "date                                                            \n",
       "2016-01-15 00:00:00                                  8.079666   \n",
       "2016-01-15 01:00:00                                  7.984757   \n",
       "2016-01-15 02:00:00                                  8.013877   \n",
       "2016-01-15 03:00:00                                  7.977324   \n",
       "2016-01-15 04:00:00                                  7.894242   \n",
       "\n",
       "                     secondary_cleaner.state.floatbank5_b_level  \\\n",
       "date                                                              \n",
       "2016-01-15 00:00:00                                 -500.470978   \n",
       "2016-01-15 01:00:00                                 -500.582168   \n",
       "2016-01-15 02:00:00                                 -500.517572   \n",
       "2016-01-15 03:00:00                                 -500.255908   \n",
       "2016-01-15 04:00:00                                 -500.356035   \n",
       "\n",
       "                     secondary_cleaner.state.floatbank6_a_air  \\\n",
       "date                                                            \n",
       "2016-01-15 00:00:00                                 14.151341   \n",
       "2016-01-15 01:00:00                                 13.998353   \n",
       "2016-01-15 02:00:00                                 14.028663   \n",
       "2016-01-15 03:00:00                                 14.005551   \n",
       "2016-01-15 04:00:00                                 13.996647   \n",
       "\n",
       "                     secondary_cleaner.state.floatbank6_a_level  \n",
       "date                                                             \n",
       "2016-01-15 00:00:00                                 -605.841980  \n",
       "2016-01-15 01:00:00                                 -599.787184  \n",
       "2016-01-15 02:00:00                                 -601.427363  \n",
       "2016-01-15 03:00:00                                 -599.996129  \n",
       "2016-01-15 04:00:00                                 -601.496691  \n",
       "\n",
       "[5 rows x 86 columns]"
      ]
     },
     "metadata": {},
     "output_type": "display_data"
    }
   ],
   "source": [
    "print('------------------Обучающая выборка--------------------')\n",
    "display(data_train.head())\n",
    "print('------------------Тестовая выборка--------------------')\n",
    "display(data_test.head())\n",
    "print('------------------Общая выборка--------------------')\n",
    "display(data_full.head())"
   ]
  },
  {
   "cell_type": "markdown",
   "metadata": {},
   "source": [
    "Check columns and datatypes."
   ]
  },
  {
   "cell_type": "code",
   "execution_count": 5,
   "metadata": {
    "scrolled": true
   },
   "outputs": [
    {
     "name": "stdout",
     "output_type": "stream",
     "text": [
      "<class 'pandas.core.frame.DataFrame'>\n",
      "DatetimeIndex: 14149 entries, 2016-01-15 00:00:00 to 2018-08-18 10:59:59\n",
      "Data columns (total 86 columns):\n",
      "final.output.concentrate_ag                           14148 non-null float64\n",
      "final.output.concentrate_pb                           14148 non-null float64\n",
      "final.output.concentrate_sol                          13938 non-null float64\n",
      "final.output.concentrate_au                           14149 non-null float64\n",
      "final.output.recovery                                 14149 non-null float64\n",
      "final.output.tail_ag                                  14149 non-null float64\n",
      "final.output.tail_pb                                  14049 non-null float64\n",
      "final.output.tail_sol                                 14144 non-null float64\n",
      "final.output.tail_au                                  14149 non-null float64\n",
      "primary_cleaner.input.sulfate                         14129 non-null float64\n",
      "primary_cleaner.input.depressant                      14117 non-null float64\n",
      "primary_cleaner.input.feed_size                       14149 non-null float64\n",
      "primary_cleaner.input.xanthate                        14049 non-null float64\n",
      "primary_cleaner.output.concentrate_ag                 14149 non-null float64\n",
      "primary_cleaner.output.concentrate_pb                 14063 non-null float64\n",
      "primary_cleaner.output.concentrate_sol                13863 non-null float64\n",
      "primary_cleaner.output.concentrate_au                 14149 non-null float64\n",
      "primary_cleaner.output.tail_ag                        14148 non-null float64\n",
      "primary_cleaner.output.tail_pb                        14134 non-null float64\n",
      "primary_cleaner.output.tail_sol                       14103 non-null float64\n",
      "primary_cleaner.output.tail_au                        14149 non-null float64\n",
      "primary_cleaner.state.floatbank8_a_air                14145 non-null float64\n",
      "primary_cleaner.state.floatbank8_a_level              14148 non-null float64\n",
      "primary_cleaner.state.floatbank8_b_air                14145 non-null float64\n",
      "primary_cleaner.state.floatbank8_b_level              14148 non-null float64\n",
      "primary_cleaner.state.floatbank8_c_air                14147 non-null float64\n",
      "primary_cleaner.state.floatbank8_c_level              14148 non-null float64\n",
      "primary_cleaner.state.floatbank8_d_air                14146 non-null float64\n",
      "primary_cleaner.state.floatbank8_d_level              14148 non-null float64\n",
      "rougher.calculation.sulfate_to_au_concentrate         14148 non-null float64\n",
      "rougher.calculation.floatbank10_sulfate_to_au_feed    14148 non-null float64\n",
      "rougher.calculation.floatbank11_sulfate_to_au_feed    14148 non-null float64\n",
      "rougher.calculation.au_pb_ratio                       14149 non-null float64\n",
      "rougher.input.feed_ag                                 14149 non-null float64\n",
      "rougher.input.feed_pb                                 14049 non-null float64\n",
      "rougher.input.feed_rate                               14141 non-null float64\n",
      "rougher.input.feed_size                               14005 non-null float64\n",
      "rougher.input.feed_sol                                14071 non-null float64\n",
      "rougher.input.feed_au                                 14149 non-null float64\n",
      "rougher.input.floatbank10_sulfate                     14120 non-null float64\n",
      "rougher.input.floatbank10_xanthate                    14141 non-null float64\n",
      "rougher.input.floatbank11_sulfate                     14113 non-null float64\n",
      "rougher.input.floatbank11_xanthate                    13721 non-null float64\n",
      "rougher.output.concentrate_ag                         14149 non-null float64\n",
      "rougher.output.concentrate_pb                         14149 non-null float64\n",
      "rougher.output.concentrate_sol                        14127 non-null float64\n",
      "rougher.output.concentrate_au                         14149 non-null float64\n",
      "rougher.output.recovery                               14149 non-null float64\n",
      "rougher.output.tail_ag                                14148 non-null float64\n",
      "rougher.output.tail_pb                                14149 non-null float64\n",
      "rougher.output.tail_sol                               14149 non-null float64\n",
      "rougher.output.tail_au                                14149 non-null float64\n",
      "rougher.state.floatbank10_a_air                       14148 non-null float64\n",
      "rougher.state.floatbank10_a_level                     14148 non-null float64\n",
      "rougher.state.floatbank10_b_air                       14148 non-null float64\n",
      "rougher.state.floatbank10_b_level                     14148 non-null float64\n",
      "rougher.state.floatbank10_c_air                       14148 non-null float64\n",
      "rougher.state.floatbank10_c_level                     14148 non-null float64\n",
      "rougher.state.floatbank10_d_air                       14149 non-null float64\n",
      "rougher.state.floatbank10_d_level                     14149 non-null float64\n",
      "rougher.state.floatbank10_e_air                       13713 non-null float64\n",
      "rougher.state.floatbank10_e_level                     14149 non-null float64\n",
      "rougher.state.floatbank10_f_air                       14149 non-null float64\n",
      "rougher.state.floatbank10_f_level                     14149 non-null float64\n",
      "secondary_cleaner.output.tail_ag                      14147 non-null float64\n",
      "secondary_cleaner.output.tail_pb                      14139 non-null float64\n",
      "secondary_cleaner.output.tail_sol                     12544 non-null float64\n",
      "secondary_cleaner.output.tail_au                      14149 non-null float64\n",
      "secondary_cleaner.state.floatbank2_a_air              13932 non-null float64\n",
      "secondary_cleaner.state.floatbank2_a_level            14148 non-null float64\n",
      "secondary_cleaner.state.floatbank2_b_air              14128 non-null float64\n",
      "secondary_cleaner.state.floatbank2_b_level            14148 non-null float64\n",
      "secondary_cleaner.state.floatbank3_a_air              14145 non-null float64\n",
      "secondary_cleaner.state.floatbank3_a_level            14148 non-null float64\n",
      "secondary_cleaner.state.floatbank3_b_air              14148 non-null float64\n",
      "secondary_cleaner.state.floatbank3_b_level            14148 non-null float64\n",
      "secondary_cleaner.state.floatbank4_a_air              14143 non-null float64\n",
      "secondary_cleaner.state.floatbank4_a_level            14148 non-null float64\n",
      "secondary_cleaner.state.floatbank4_b_air              14148 non-null float64\n",
      "secondary_cleaner.state.floatbank4_b_level            14148 non-null float64\n",
      "secondary_cleaner.state.floatbank5_a_air              14148 non-null float64\n",
      "secondary_cleaner.state.floatbank5_a_level            14148 non-null float64\n",
      "secondary_cleaner.state.floatbank5_b_air              14148 non-null float64\n",
      "secondary_cleaner.state.floatbank5_b_level            14148 non-null float64\n",
      "secondary_cleaner.state.floatbank6_a_air              14147 non-null float64\n",
      "secondary_cleaner.state.floatbank6_a_level            14148 non-null float64\n",
      "dtypes: float64(86)\n",
      "memory usage: 9.4 MB\n"
     ]
    }
   ],
   "source": [
    "data_train.info()"
   ]
  },
  {
   "cell_type": "code",
   "execution_count": 6,
   "metadata": {},
   "outputs": [
    {
     "data": {
      "text/plain": [
       "secondary_cleaner.output.tail_sol           1605\n",
       "rougher.state.floatbank10_e_air              436\n",
       "rougher.input.floatbank11_xanthate           428\n",
       "primary_cleaner.output.concentrate_sol       286\n",
       "secondary_cleaner.state.floatbank2_a_air     217\n",
       "                                            ... \n",
       "rougher.output.tail_pb                         0\n",
       "rougher.input.feed_au                          0\n",
       "rougher.output.recovery                        0\n",
       "rougher.output.concentrate_au                  0\n",
       "secondary_cleaner.output.tail_au               0\n",
       "Length: 86, dtype: int64"
      ]
     },
     "execution_count": 6,
     "metadata": {},
     "output_type": "execute_result"
    }
   ],
   "source": [
    "data_train.isnull().sum().sort_values(ascending=False)"
   ]
  },
  {
   "cell_type": "code",
   "execution_count": 7,
   "metadata": {},
   "outputs": [
    {
     "data": {
      "text/plain": [
       "0"
      ]
     },
     "execution_count": 7,
     "metadata": {},
     "output_type": "execute_result"
    }
   ],
   "source": [
    "data_train.duplicated().sum()"
   ]
  },
  {
   "cell_type": "markdown",
   "metadata": {},
   "source": [
    "The training dataset contains 86 columns with data on final.output, primary_cleaner, rougher.output, secondary_cleaner (the main stages of ore purification). The data contains gaps in some columns, the data does not contain duplicates."
   ]
  },
  {
   "cell_type": "code",
   "execution_count": 8,
   "metadata": {},
   "outputs": [
    {
     "name": "stdout",
     "output_type": "stream",
     "text": [
      "<class 'pandas.core.frame.DataFrame'>\n",
      "DatetimeIndex: 5290 entries, 2016-09-01 00:59:59 to 2017-12-31 23:59:59\n",
      "Data columns (total 52 columns):\n",
      "primary_cleaner.input.sulfate                 5286 non-null float64\n",
      "primary_cleaner.input.depressant              5285 non-null float64\n",
      "primary_cleaner.input.feed_size               5290 non-null float64\n",
      "primary_cleaner.input.xanthate                5286 non-null float64\n",
      "primary_cleaner.state.floatbank8_a_air        5290 non-null float64\n",
      "primary_cleaner.state.floatbank8_a_level      5290 non-null float64\n",
      "primary_cleaner.state.floatbank8_b_air        5290 non-null float64\n",
      "primary_cleaner.state.floatbank8_b_level      5290 non-null float64\n",
      "primary_cleaner.state.floatbank8_c_air        5290 non-null float64\n",
      "primary_cleaner.state.floatbank8_c_level      5290 non-null float64\n",
      "primary_cleaner.state.floatbank8_d_air        5290 non-null float64\n",
      "primary_cleaner.state.floatbank8_d_level      5290 non-null float64\n",
      "rougher.input.feed_ag                         5290 non-null float64\n",
      "rougher.input.feed_pb                         5290 non-null float64\n",
      "rougher.input.feed_rate                       5287 non-null float64\n",
      "rougher.input.feed_size                       5289 non-null float64\n",
      "rougher.input.feed_sol                        5269 non-null float64\n",
      "rougher.input.feed_au                         5290 non-null float64\n",
      "rougher.input.floatbank10_sulfate             5285 non-null float64\n",
      "rougher.input.floatbank10_xanthate            5290 non-null float64\n",
      "rougher.input.floatbank11_sulfate             5282 non-null float64\n",
      "rougher.input.floatbank11_xanthate            5265 non-null float64\n",
      "rougher.state.floatbank10_a_air               5290 non-null float64\n",
      "rougher.state.floatbank10_a_level             5290 non-null float64\n",
      "rougher.state.floatbank10_b_air               5290 non-null float64\n",
      "rougher.state.floatbank10_b_level             5290 non-null float64\n",
      "rougher.state.floatbank10_c_air               5290 non-null float64\n",
      "rougher.state.floatbank10_c_level             5290 non-null float64\n",
      "rougher.state.floatbank10_d_air               5290 non-null float64\n",
      "rougher.state.floatbank10_d_level             5290 non-null float64\n",
      "rougher.state.floatbank10_e_air               5290 non-null float64\n",
      "rougher.state.floatbank10_e_level             5290 non-null float64\n",
      "rougher.state.floatbank10_f_air               5290 non-null float64\n",
      "rougher.state.floatbank10_f_level             5290 non-null float64\n",
      "secondary_cleaner.state.floatbank2_a_air      5287 non-null float64\n",
      "secondary_cleaner.state.floatbank2_a_level    5290 non-null float64\n",
      "secondary_cleaner.state.floatbank2_b_air      5288 non-null float64\n",
      "secondary_cleaner.state.floatbank2_b_level    5290 non-null float64\n",
      "secondary_cleaner.state.floatbank3_a_air      5281 non-null float64\n",
      "secondary_cleaner.state.floatbank3_a_level    5290 non-null float64\n",
      "secondary_cleaner.state.floatbank3_b_air      5290 non-null float64\n",
      "secondary_cleaner.state.floatbank3_b_level    5290 non-null float64\n",
      "secondary_cleaner.state.floatbank4_a_air      5290 non-null float64\n",
      "secondary_cleaner.state.floatbank4_a_level    5290 non-null float64\n",
      "secondary_cleaner.state.floatbank4_b_air      5290 non-null float64\n",
      "secondary_cleaner.state.floatbank4_b_level    5290 non-null float64\n",
      "secondary_cleaner.state.floatbank5_a_air      5290 non-null float64\n",
      "secondary_cleaner.state.floatbank5_a_level    5290 non-null float64\n",
      "secondary_cleaner.state.floatbank5_b_air      5290 non-null float64\n",
      "secondary_cleaner.state.floatbank5_b_level    5290 non-null float64\n",
      "secondary_cleaner.state.floatbank6_a_air      5290 non-null float64\n",
      "secondary_cleaner.state.floatbank6_a_level    5290 non-null float64\n",
      "dtypes: float64(52)\n",
      "memory usage: 2.1 MB\n"
     ]
    }
   ],
   "source": [
    "data_test.info()"
   ]
  },
  {
   "cell_type": "code",
   "execution_count": 9,
   "metadata": {},
   "outputs": [
    {
     "data": {
      "text/plain": [
       "0"
      ]
     },
     "execution_count": 9,
     "metadata": {},
     "output_type": "execute_result"
    }
   ],
   "source": [
    "data_test.duplicated().sum()"
   ]
  },
  {
   "cell_type": "markdown",
   "metadata": {},
   "source": [
    "The test dataset contains 52 columns (less than in the training data). There are no duplicates in the data, there are columns with missing values."
   ]
  },
  {
   "cell_type": "code",
   "execution_count": 10,
   "metadata": {},
   "outputs": [
    {
     "name": "stdout",
     "output_type": "stream",
     "text": [
      "<class 'pandas.core.frame.DataFrame'>\n",
      "DatetimeIndex: 19439 entries, 2016-01-15 00:00:00 to 2018-08-18 10:59:59\n",
      "Data columns (total 86 columns):\n",
      "final.output.concentrate_ag                           19438 non-null float64\n",
      "final.output.concentrate_pb                           19438 non-null float64\n",
      "final.output.concentrate_sol                          19228 non-null float64\n",
      "final.output.concentrate_au                           19439 non-null float64\n",
      "final.output.recovery                                 19439 non-null float64\n",
      "final.output.tail_ag                                  19438 non-null float64\n",
      "final.output.tail_pb                                  19338 non-null float64\n",
      "final.output.tail_sol                                 19433 non-null float64\n",
      "final.output.tail_au                                  19439 non-null float64\n",
      "primary_cleaner.input.sulfate                         19415 non-null float64\n",
      "primary_cleaner.input.depressant                      19402 non-null float64\n",
      "primary_cleaner.input.feed_size                       19439 non-null float64\n",
      "primary_cleaner.input.xanthate                        19335 non-null float64\n",
      "primary_cleaner.output.concentrate_ag                 19439 non-null float64\n",
      "primary_cleaner.output.concentrate_pb                 19323 non-null float64\n",
      "primary_cleaner.output.concentrate_sol                19069 non-null float64\n",
      "primary_cleaner.output.concentrate_au                 19439 non-null float64\n",
      "primary_cleaner.output.tail_ag                        19435 non-null float64\n",
      "primary_cleaner.output.tail_pb                        19418 non-null float64\n",
      "primary_cleaner.output.tail_sol                       19377 non-null float64\n",
      "primary_cleaner.output.tail_au                        19439 non-null float64\n",
      "primary_cleaner.state.floatbank8_a_air                19435 non-null float64\n",
      "primary_cleaner.state.floatbank8_a_level              19438 non-null float64\n",
      "primary_cleaner.state.floatbank8_b_air                19435 non-null float64\n",
      "primary_cleaner.state.floatbank8_b_level              19438 non-null float64\n",
      "primary_cleaner.state.floatbank8_c_air                19437 non-null float64\n",
      "primary_cleaner.state.floatbank8_c_level              19438 non-null float64\n",
      "primary_cleaner.state.floatbank8_d_air                19436 non-null float64\n",
      "primary_cleaner.state.floatbank8_d_level              19438 non-null float64\n",
      "rougher.calculation.sulfate_to_au_concentrate         19437 non-null float64\n",
      "rougher.calculation.floatbank10_sulfate_to_au_feed    19437 non-null float64\n",
      "rougher.calculation.floatbank11_sulfate_to_au_feed    19437 non-null float64\n",
      "rougher.calculation.au_pb_ratio                       19439 non-null float64\n",
      "rougher.input.feed_ag                                 19439 non-null float64\n",
      "rougher.input.feed_pb                                 19339 non-null float64\n",
      "rougher.input.feed_rate                               19428 non-null float64\n",
      "rougher.input.feed_size                               19294 non-null float64\n",
      "rougher.input.feed_sol                                19340 non-null float64\n",
      "rougher.input.feed_au                                 19439 non-null float64\n",
      "rougher.input.floatbank10_sulfate                     19405 non-null float64\n",
      "rougher.input.floatbank10_xanthate                    19431 non-null float64\n",
      "rougher.input.floatbank11_sulfate                     19395 non-null float64\n",
      "rougher.input.floatbank11_xanthate                    18986 non-null float64\n",
      "rougher.output.concentrate_ag                         19439 non-null float64\n",
      "rougher.output.concentrate_pb                         19439 non-null float64\n",
      "rougher.output.concentrate_sol                        19416 non-null float64\n",
      "rougher.output.concentrate_au                         19439 non-null float64\n",
      "rougher.output.recovery                               19439 non-null float64\n",
      "rougher.output.tail_ag                                19438 non-null float64\n",
      "rougher.output.tail_pb                                19439 non-null float64\n",
      "rougher.output.tail_sol                               19439 non-null float64\n",
      "rougher.output.tail_au                                19439 non-null float64\n",
      "rougher.state.floatbank10_a_air                       19438 non-null float64\n",
      "rougher.state.floatbank10_a_level                     19438 non-null float64\n",
      "rougher.state.floatbank10_b_air                       19438 non-null float64\n",
      "rougher.state.floatbank10_b_level                     19438 non-null float64\n",
      "rougher.state.floatbank10_c_air                       19438 non-null float64\n",
      "rougher.state.floatbank10_c_level                     19438 non-null float64\n",
      "rougher.state.floatbank10_d_air                       19439 non-null float64\n",
      "rougher.state.floatbank10_d_level                     19439 non-null float64\n",
      "rougher.state.floatbank10_e_air                       19003 non-null float64\n",
      "rougher.state.floatbank10_e_level                     19439 non-null float64\n",
      "rougher.state.floatbank10_f_air                       19439 non-null float64\n",
      "rougher.state.floatbank10_f_level                     19439 non-null float64\n",
      "secondary_cleaner.output.tail_ag                      19437 non-null float64\n",
      "secondary_cleaner.output.tail_pb                      19427 non-null float64\n",
      "secondary_cleaner.output.tail_sol                     17691 non-null float64\n",
      "secondary_cleaner.output.tail_au                      19439 non-null float64\n",
      "secondary_cleaner.state.floatbank2_a_air              19219 non-null float64\n",
      "secondary_cleaner.state.floatbank2_a_level            19438 non-null float64\n",
      "secondary_cleaner.state.floatbank2_b_air              19416 non-null float64\n",
      "secondary_cleaner.state.floatbank2_b_level            19438 non-null float64\n",
      "secondary_cleaner.state.floatbank3_a_air              19426 non-null float64\n",
      "secondary_cleaner.state.floatbank3_a_level            19438 non-null float64\n",
      "secondary_cleaner.state.floatbank3_b_air              19438 non-null float64\n",
      "secondary_cleaner.state.floatbank3_b_level            19438 non-null float64\n",
      "secondary_cleaner.state.floatbank4_a_air              19433 non-null float64\n",
      "secondary_cleaner.state.floatbank4_a_level            19438 non-null float64\n",
      "secondary_cleaner.state.floatbank4_b_air              19438 non-null float64\n",
      "secondary_cleaner.state.floatbank4_b_level            19438 non-null float64\n",
      "secondary_cleaner.state.floatbank5_a_air              19438 non-null float64\n",
      "secondary_cleaner.state.floatbank5_a_level            19438 non-null float64\n",
      "secondary_cleaner.state.floatbank5_b_air              19438 non-null float64\n",
      "secondary_cleaner.state.floatbank5_b_level            19438 non-null float64\n",
      "secondary_cleaner.state.floatbank6_a_air              19437 non-null float64\n",
      "secondary_cleaner.state.floatbank6_a_level            19438 non-null float64\n",
      "dtypes: float64(86)\n",
      "memory usage: 12.9 MB\n"
     ]
    }
   ],
   "source": [
    "data_full.info()"
   ]
  },
  {
   "cell_type": "code",
   "execution_count": 11,
   "metadata": {},
   "outputs": [
    {
     "data": {
      "text/plain": [
       "0"
      ]
     },
     "execution_count": 11,
     "metadata": {},
     "output_type": "execute_result"
    }
   ],
   "source": [
    "data_full.duplicated().sum()"
   ]
  },
  {
   "cell_type": "code",
   "execution_count": 12,
   "metadata": {},
   "outputs": [
    {
     "data": {
      "text/plain": [
       "secondary_cleaner.output.tail_sol           1748\n",
       "rougher.input.floatbank11_xanthate           453\n",
       "rougher.state.floatbank10_e_air              436\n",
       "primary_cleaner.output.concentrate_sol       370\n",
       "secondary_cleaner.state.floatbank2_a_air     220\n",
       "                                            ... \n",
       "rougher.output.tail_pb                         0\n",
       "rougher.input.feed_au                          0\n",
       "rougher.output.recovery                        0\n",
       "rougher.output.concentrate_au                  0\n",
       "rougher.state.floatbank10_f_level              0\n",
       "Length: 86, dtype: int64"
      ]
     },
     "execution_count": 12,
     "metadata": {},
     "output_type": "execute_result"
    }
   ],
   "source": [
    "data_full.isnull().sum().sort_values(ascending=False)"
   ]
  },
  {
   "cell_type": "markdown",
   "metadata": {},
   "source": [
    "There are 86 columns, missing values and no duplicates in the source dataset."
   ]
  },
  {
   "cell_type": "markdown",
   "metadata": {},
   "source": [
    "### Check that recovery is calculated correctly. Using the training set, calculate recovery for the rougher.output.recovery feature. Find the MAE between your calculations and the feature values. Provide findings."
   ]
  },
  {
   "attachments": {
    "image.png": {
     "image/png": "[encoded data removed]"
    }
   },
   "cell_type": "markdown",
   "metadata": {},
   "source": [
    "The recovery is calculted as\n",
    "\n",
    "\n",
    "![image.png](attachment:image.png)"
   ]
  },
  {
   "cell_type": "markdown",
   "metadata": {},
   "source": [
    "where:\n",
    "\n",
    "C — share of gold in the concentrate right after flotation (for finding the rougher concentrate recovery)/after purification (for finding the final concentrate recovery)  \n",
    "F — share of gold in the feed before flotation (for finding the rougher concentrate recovery)/in the concentrate right after flotation (for finding the final concentrate recovery)  \n",
    "T — share of gold in the rougher tails right after flotation (for finding the rougher concentrate recovery)/after purification (for finding the final concentrate recovery)  "
   ]
  },
  {
   "cell_type": "code",
   "execution_count": 13,
   "metadata": {},
   "outputs": [],
   "source": [
    "c = data_train['rougher.output.concentrate_au']\n",
    "f = data_train['rougher.input.feed_au']\n",
    "t = data_train['rougher.output.tail_au']\n",
    "\n",
    "data_train['recovery_calculated'] = (c * (f - t)) / ( f* (c - t)) * 100"
   ]
  },
  {
   "cell_type": "code",
   "execution_count": 14,
   "metadata": {},
   "outputs": [
    {
     "name": "stdout",
     "output_type": "stream",
     "text": [
      "9.682896147825551e-15\n"
     ]
    }
   ],
   "source": [
    "print(mean_absolute_error(data_train['rougher.output.recovery'].fillna(0), data_train['recovery_calculated'].fillna(0)))"
   ]
  },
  {
   "cell_type": "markdown",
   "metadata": {},
   "source": [
    "MAE tends to zero, the initial data is correct."
   ]
  },
  {
   "cell_type": "markdown",
   "metadata": {},
   "source": [
    "### Analyze the features that are not available in the test sample. What are these parameters? What are their data types?\n"
   ]
  },
  {
   "cell_type": "code",
   "execution_count": 15,
   "metadata": {},
   "outputs": [
    {
     "data": {
      "text/plain": [
       "['final.output.concentrate_ag',\n",
       " 'final.output.concentrate_pb',\n",
       " 'final.output.concentrate_sol',\n",
       " 'final.output.concentrate_au',\n",
       " 'final.output.recovery',\n",
       " 'final.output.tail_ag',\n",
       " 'final.output.tail_pb',\n",
       " 'final.output.tail_sol',\n",
       " 'final.output.tail_au',\n",
       " 'primary_cleaner.output.concentrate_ag',\n",
       " 'primary_cleaner.output.concentrate_pb',\n",
       " 'primary_cleaner.output.concentrate_sol',\n",
       " 'primary_cleaner.output.concentrate_au',\n",
       " 'primary_cleaner.output.tail_ag',\n",
       " 'primary_cleaner.output.tail_pb',\n",
       " 'primary_cleaner.output.tail_sol',\n",
       " 'primary_cleaner.output.tail_au',\n",
       " 'rougher.calculation.sulfate_to_au_concentrate',\n",
       " 'rougher.calculation.floatbank10_sulfate_to_au_feed',\n",
       " 'rougher.calculation.floatbank11_sulfate_to_au_feed',\n",
       " 'rougher.calculation.au_pb_ratio',\n",
       " 'rougher.output.concentrate_ag',\n",
       " 'rougher.output.concentrate_pb',\n",
       " 'rougher.output.concentrate_sol',\n",
       " 'rougher.output.concentrate_au',\n",
       " 'rougher.output.recovery',\n",
       " 'rougher.output.tail_ag',\n",
       " 'rougher.output.tail_pb',\n",
       " 'rougher.output.tail_sol',\n",
       " 'rougher.output.tail_au',\n",
       " 'secondary_cleaner.output.tail_ag',\n",
       " 'secondary_cleaner.output.tail_pb',\n",
       " 'secondary_cleaner.output.tail_sol',\n",
       " 'secondary_cleaner.output.tail_au',\n",
       " 'recovery_calculated']"
      ]
     },
     "execution_count": 15,
     "metadata": {},
     "output_type": "execute_result"
    }
   ],
   "source": [
    "columns_not_in_test = []\n",
    "for i in data_train.columns:\n",
    "    if i not in(data_test.columns):\n",
    "        columns_not_in_test.append(i)\n",
    "\n",
    "columns_not_in_test"
   ]
  },
  {
   "cell_type": "markdown",
   "metadata": {},
   "source": [
    "As we can see, the test dataset lacks columns with data on outputs at different stages of purification, as well as calculated flotation parameters (not available at this stage)."
   ]
  },
  {
   "cell_type": "markdown",
   "metadata": {},
   "source": [
    "### Perform data preprocessing"
   ]
  },
  {
   "cell_type": "markdown",
   "metadata": {},
   "source": [
    "Since, according to the process, the parameters adjacent in time are often similar, we will use the fill method to fill in the gaps in the data sets"
   ]
  },
  {
   "cell_type": "code",
   "execution_count": 16,
   "metadata": {},
   "outputs": [
    {
     "data": {
      "text/plain": [
       "0"
      ]
     },
     "metadata": {},
     "output_type": "display_data"
    },
    {
     "data": {
      "text/plain": [
       "0"
      ]
     },
     "metadata": {},
     "output_type": "display_data"
    },
    {
     "data": {
      "text/plain": [
       "0"
      ]
     },
     "metadata": {},
     "output_type": "display_data"
    }
   ],
   "source": [
    "data_train  = data_train.fillna(method='ffill')\n",
    "data_test = data_test.fillna(method='ffill')\n",
    "data_full = data_full.fillna(method='ffill')\n",
    "\n",
    "display(data_train.isnull().sum().sum()) \n",
    "display(data_test.isnull().sum().sum())\n",
    "display(data_full.isnull().sum().sum())\n"
   ]
  },
  {
   "cell_type": "markdown",
   "metadata": {},
   "source": [
    "Add target features to the test sample."
   ]
  },
  {
   "cell_type": "code",
   "execution_count": 17,
   "metadata": {},
   "outputs": [
    {
     "data": {
      "text/plain": [
       "(5290, 54)"
      ]
     },
     "execution_count": 17,
     "metadata": {},
     "output_type": "execute_result"
    }
   ],
   "source": [
    "data_test = data_test.merge(data_full[['rougher.output.recovery', 'final.output.recovery']], \n",
    "                           how = 'left', on = 'date')\n",
    "\n",
    "data_test.shape"
   ]
  },
  {
   "cell_type": "markdown",
   "metadata": {},
   "source": [
    "To build models, we will leave the same characteristics in the training sample as in the test sample."
   ]
  },
  {
   "cell_type": "code",
   "execution_count": 18,
   "metadata": {},
   "outputs": [
    {
     "data": {
      "text/plain": [
       "(14149, 54)"
      ]
     },
     "execution_count": 18,
     "metadata": {},
     "output_type": "execute_result"
    }
   ],
   "source": [
    "data_train_new = data_train[data_test.columns].copy()\n",
    "\n",
    "data_train_new.shape"
   ]
  },
  {
   "cell_type": "markdown",
   "metadata": {},
   "source": [
    "### Conclusion"
   ]
  },
  {
   "cell_type": "markdown",
   "metadata": {},
   "source": [
    "On the data preparation stage:\n",
    "+ data was loaded and verified, missing values were detected, no duplicates were found, it was found that the test sample contains fewer features than the training one\n",
    "+ it was verified that the ore dressing efficiency is calculated correctly\n",
    "+ the parameters missing in the test sample were checked\n",
    "+ data preprocessing was carried out: the missing values were filled in, the columns in the training sample were aligned with the columns of the test sample"
   ]
  },
  {
   "cell_type": "markdown",
   "metadata": {},
   "source": [
    "## Data analysis"
   ]
  },
  {
   "cell_type": "markdown",
   "metadata": {},
   "source": [
    "### Check how the concentration of metals (Au, Ag, Pb) changes at different stages of purification. Describe the conclusions."
   ]
  },
  {
   "cell_type": "code",
   "execution_count": 19,
   "metadata": {},
   "outputs": [
    {
     "data": {
      "image/png": "[encoded data removed]",
      "text/plain": [
       "<Figure size 720x504 with 1 Axes>"
      ]
     },
     "metadata": {
      "needs_background": "light"
     },
     "output_type": "display_data"
    },
    {
     "data": {
      "image/png": "[encoded data removed]",
      "text/plain": [
       "<Figure size 720x504 with 1 Axes>"
      ]
     },
     "metadata": {
      "needs_background": "light"
     },
     "output_type": "display_data"
    },
    {
     "data": {
      "image/png": "[encoded data removed]",
      "text/plain": [
       "<Figure size 720x504 with 1 Axes>"
      ]
     },
     "metadata": {
      "needs_background": "light"
     },
     "output_type": "display_data"
    }
   ],
   "source": [
    "elements = ['au', 'ag', 'pb']\n",
    "stages = [('rougher.output.concentrate_', 'Флотация'), \n",
    "          ('primary_cleaner.output.concentrate_', 'Первый этап очистки'), \n",
    "          ('final.output.concentrate_', 'Финальный этап очистки')]\n",
    "\n",
    "for element in elements:\n",
    "    plt.figure(figsize=(10,7))\n",
    "    for stage in stages:\n",
    "        ax = sns.distplot(data_full[stage[0] + element], label=stage[1])\n",
    "        plt.legend()\n",
    "        plt.xlabel('Распределение концeнтрации ' + element)\n",
    "        plt.title('Изменение концентрации ' + element + ' на каждом этапе очистки')\n",
    "    plt.show()"
   ]
  },
  {
   "cell_type": "markdown",
   "metadata": {},
   "source": [
    "The concentration of gold increases with each stage of purification, while the concentration of silver decreases, and the concentration of lead remains approximately at the same level after the first stage of purification.\n",
    "The data contains zero values of metal content, most likely, these are outliers in the data."
   ]
  },
  {
   "cell_type": "markdown",
   "metadata": {},
   "source": [
    "### Compare the distributions of raw material pellets size in the training and test samples. If the distributions are very different from each other, the model prediction will be incorrect."
   ]
  },
  {
   "cell_type": "code",
   "execution_count": 20,
   "metadata": {},
   "outputs": [
    {
     "data": {
      "image/png": "[encoded data removed]",
      "text/plain": [
       "<Figure size 864x504 with 1 Axes>"
      ]
     },
     "metadata": {
      "needs_background": "light"
     },
     "output_type": "display_data"
    }
   ],
   "source": [
    "plt.figure(figsize=(12,7))\n",
    "sns.distplot(data_train_new['rougher.input.feed_size'],  label='Обучающая выборка')\n",
    "sns.distplot(data_test['rougher.input.feed_size'],label='Тестовая выборка')\n",
    "plt.title('Распределение размеров гранул')\n",
    "plt.legend()\n",
    "plt.show()"
   ]
  },
  {
   "cell_type": "markdown",
   "metadata": {},
   "source": [
    "The distributions of raw material pellet sizes in the training and test samples are similar, with just a slight differences which are within the range of acceptable values."
   ]
  },
  {
   "cell_type": "markdown",
   "metadata": {},
   "source": [
    "### Срусл the total concentration of all substances at different stages: in raw materials, in rough and final concentrates."
   ]
  },
  {
   "cell_type": "markdown",
   "metadata": {},
   "source": [
    "Add columns with the total concentration of substances to the dataset."
   ]
  },
  {
   "cell_type": "code",
   "execution_count": 21,
   "metadata": {},
   "outputs": [],
   "source": [
    "data_full['rougher.input.concentrate_total'] = data_full[['rougher.input.feed_ag', 'rougher.input.feed_pb', 'rougher.input.feed_sol', 'rougher.input.feed_au']].T.sum()\n",
    "\n",
    "data_full['rougher.output.concentrate_total'] = data_full[['rougher.output.concentrate_ag', 'rougher.output.concentrate_pb', 'rougher.output.concentrate_sol', 'rougher.output.concentrate_au']].T.sum()\n",
    "\n",
    "data_full['final.output.concentrate_total'] = data_full[['final.output.concentrate_ag', 'final.output.concentrate_pb', 'final.output.concentrate_sol', 'final.output.concentrate_au']].T.sum()"
   ]
  },
  {
   "cell_type": "code",
   "execution_count": 22,
   "metadata": {},
   "outputs": [
    {
     "data": {
      "image/png": "[encoded data removed]",
      "text/plain": [
       "<Figure size 864x504 with 1 Axes>"
      ]
     },
     "metadata": {
      "needs_background": "light"
     },
     "output_type": "display_data"
    }
   ],
   "source": [
    "plt.figure(figsize=(12,7))\n",
    "sns.distplot(data_full['rougher.input.concentrate_total'],  label='Распределение веществ в сырье')\n",
    "sns.distplot(data_full['rougher.output.concentrate_total'], label='Распределение веществ в черновом концентрате')\n",
    "sns.distplot(data_full['final.output.concentrate_total'], label='Распределение веществ в финальном концентрате')\n",
    "plt.legend()\n",
    "plt.show()"
   ]
  },
  {
   "cell_type": "markdown",
   "metadata": {},
   "source": [
    "The distribution of substances in the final concentrate narrows."
   ]
  },
  {
   "cell_type": "markdown",
   "metadata": {},
   "source": [
    "The graph of concentration of substances revealed zero values. It is worth clarifying with the developers what is the reason for it, for the purpose of the project, we will remove this data from the datasets."
   ]
  },
  {
   "cell_type": "code",
   "execution_count": 23,
   "metadata": {},
   "outputs": [],
   "source": [
    "data_full = data_full[(data_full['rougher.input.concentrate_total'] > 0) & \n",
    "                      (data_full['rougher.output.concentrate_total'] > 0) &\n",
    "                      (data_full['final.output.concentrate_total'] > 0)]\n",
    "\n",
    "data_test = data_test[data_test.index.isin(data_full.index)]\n",
    "data_train_new = data_train_new[data_train_new.index.isin(data_full.index)]"
   ]
  },
  {
   "cell_type": "code",
   "execution_count": 24,
   "metadata": {},
   "outputs": [
    {
     "data": {
      "text/plain": [
       "(5154, 54)"
      ]
     },
     "execution_count": 24,
     "metadata": {},
     "output_type": "execute_result"
    }
   ],
   "source": [
    "data_test.shape"
   ]
  },
  {
   "cell_type": "code",
   "execution_count": 25,
   "metadata": {},
   "outputs": [
    {
     "data": {
      "text/plain": [
       "(13795, 54)"
      ]
     },
     "execution_count": 25,
     "metadata": {},
     "output_type": "execute_result"
    }
   ],
   "source": [
    "data_train_new.shape"
   ]
  },
  {
   "cell_type": "markdown",
   "metadata": {},
   "source": [
    "### Conclusion"
   ]
  },
  {
   "cell_type": "markdown",
   "metadata": {},
   "source": [
    "In this part:\n",
    "\n",
    "+ the concentration of gold, silver and lead at different stages of purification was analyzed, it turned out that the concentration of these metals behaves differently: gold - increases, silver - decreases, lead - mostly remains at the level of the first stage of purification\n",
    "+ it was revealed that the distribution of raw material granule sizes in the test and training sample coincides\n",
    "+ the concentration of all substances in different stages has been studied\n",
    "+ zero values in the total concentration of substances were removed from the data sets"
   ]
  },
  {
   "cell_type": "markdown",
   "metadata": {},
   "source": [
    "## Model"
   ]
  },
  {
   "cell_type": "markdown",
   "metadata": {},
   "source": [
    "### Createb a function to calculate the final sMAPE."
   ]
  },
  {
   "cell_type": "code",
   "execution_count": 26,
   "metadata": {},
   "outputs": [],
   "source": [
    "def smape(target,predict):\n",
    "    error = abs(target - predict)\n",
    "    scale = (abs(target) + abs(predict)) / 2 \n",
    "    return (error / scale).mean() \n",
    "\n",
    "def smape_result(smape_rough, smaper_final):\n",
    "    smape_result = 0.25 * smape_rough + 0.75 * smaper_final             \n",
    "    return smape_result"
   ]
  },
  {
   "cell_type": "markdown",
   "metadata": {},
   "source": [
    "### Train different models and evaluate their quality by cross-validation. Choose the best model and test it on a test sample. Describe the conclusions."
   ]
  },
  {
   "cell_type": "markdown",
   "metadata": {},
   "source": [
    "Select datasets with target features and datasets with features in the training and test samples.\n"
   ]
  },
  {
   "cell_type": "code",
   "execution_count": 27,
   "metadata": {},
   "outputs": [],
   "source": [
    "#Тестовая выборка\n",
    "test_rough = data_test['rougher.output.recovery']\n",
    "test_final = data_test['final.output.recovery']\n",
    "features_test = data_test.drop(['rougher.output.recovery', 'final.output.recovery'], axis=1)\n"
   ]
  },
  {
   "cell_type": "code",
   "execution_count": 28,
   "metadata": {},
   "outputs": [],
   "source": [
    "#Обучающая выборка \n",
    "train_rough = data_train_new['rougher.output.recovery']\n",
    "train_final = data_train_new['final.output.recovery']\n",
    "features_train = data_train_new.drop(['rougher.output.recovery', 'final.output.recovery'], axis=1)\n"
   ]
  },
  {
   "cell_type": "markdown",
   "metadata": {},
   "source": [
    "Create a formula for training different models and evaluating their quality using cross-validation."
   ]
  },
  {
   "cell_type": "code",
   "execution_count": 29,
   "metadata": {},
   "outputs": [],
   "source": [
    "models = [DecisionTreeRegressor(random_state = 12345), \n",
    "          RandomForestRegressor(random_state = 12345), \n",
    "          LinearRegression()]"
   ]
  },
  {
   "cell_type": "code",
   "execution_count": 30,
   "metadata": {},
   "outputs": [
    {
     "name": "stdout",
     "output_type": "stream",
     "text": [
      "DecisionTreeRegressor : (-0.09533814866411697, -0.15919290828357152)\n",
      "RandomForestRegressor : (-0.07115735310615308, -0.10945679862142714)\n",
      "LinearRegression : (-0.07267806730900336, -0.10990200515157958)\n"
     ]
    }
   ],
   "source": [
    "def cross_val(model):\n",
    "    \n",
    "    my_scorer = make_scorer(smape, greater_is_better=False)\n",
    "    \n",
    "    cross_val_score_rougher = cross_val_score(model, features_train, train_rough, cv=5, scoring=my_scorer).mean()\n",
    "    cross_val_score_final = cross_val_score(model, features_train, train_final, cv=5, scoring=my_scorer).mean()\n",
    "    return cross_val_score_rougher, cross_val_score_final\n",
    "\n",
    "for model in models:\n",
    "    print(model.__class__.__name__,':', cross_val(model))"
   ]
  },
  {
   "cell_type": "markdown",
   "metadata": {},
   "source": [
    "We will proceed with a Linear Regression model, test it on a test sample and compare the quality indicator with the Dummy model."
   ]
  },
  {
   "cell_type": "code",
   "execution_count": 31,
   "metadata": {},
   "outputs": [
    {
     "name": "stdout",
     "output_type": "stream",
     "text": [
      "7.59%\n"
     ]
    }
   ],
   "source": [
    "model = LinearRegression()\n",
    "\n",
    "model.fit(features_train, train_rough)\n",
    "predictions_rough = model.predict(features_test)\n",
    "\n",
    "model.fit(features_train, train_final)\n",
    "predictions_final = model.predict(features_test)\n",
    "\n",
    "smape_rough = smape(test_rough,predictions_rough)\n",
    "smape_final = smape(test_final,predictions_final)\n",
    "smape_model = smape_result(smape_rough, smape_final)\n",
    "print('{:.2%}'.format(smape_model))"
   ]
  },
  {
   "cell_type": "code",
   "execution_count": 32,
   "metadata": {},
   "outputs": [
    {
     "name": "stdout",
     "output_type": "stream",
     "text": [
      "8.56%\n"
     ]
    }
   ],
   "source": [
    "dummy_model = DummyRegressor(strategy='mean')\n",
    "\n",
    "dummy_model.fit(features_train, train_rough)\n",
    "predictions_r_dummy = dummy_model.predict(features_test)\n",
    "\n",
    "dummy_model.fit(features_train, train_final)\n",
    "predictions_f_dummy = dummy_model.predict(features_test)\n",
    "\n",
    "smape_dummy_rough = smape(test_rough,predictions_r_dummy)\n",
    "smape_dummy_final = smape(test_final,predictions_f_dummy)\n",
    "smape_dummy = smape_result(smape_dummy_rough, smape_dummy_final)\n",
    "print('{:.2%}'.format(smape_dummy_final))"
   ]
  },
  {
   "cell_type": "markdown",
   "metadata": {},
   "source": [
    "### Conclusion"
   ]
  },
  {
   "cell_type": "markdown",
   "metadata": {},
   "source": [
    "Cross-validation showed similar results for Linear Regression and Random Forest models, and a Linear regression model was chosen for further testing.\n",
    "\n",
    "The value of the sMAPE for the Linear Regression model is 7.59%, and for the Dummy model with the \"mean\" strategy is 8.56%, which means that the model predicts better than a simple model. However, for real-world conditions, it might be useful to consider other models/clarify information about null values that have been removed from the dataset to improve the accuracy of the model prediction."
   ]
  }
 ],
 "metadata": {
  "ExecuteTimeLog": [
   {
    "duration": 439,
    "start_time": "2021-08-03T23:36:44.488Z"
   },
   {
    "duration": 1432,
    "start_time": "2021-08-03T23:37:23.267Z"
   },
   {
    "duration": 2632,
    "start_time": "2021-08-03T23:37:27.442Z"
   },
   {
    "duration": 869,
    "start_time": "2021-08-03T23:38:51.360Z"
   },
   {
    "duration": 43,
    "start_time": "2021-08-03T23:40:08.531Z"
   },
   {
    "duration": 23,
    "start_time": "2021-08-03T23:41:53.676Z"
   },
   {
    "duration": 18,
    "start_time": "2021-08-03T23:46:01.384Z"
   },
   {
    "duration": 12,
    "start_time": "2021-08-03T23:48:17.821Z"
   },
   {
    "duration": 46,
    "start_time": "2021-08-03T23:48:47.714Z"
   },
   {
    "duration": 16,
    "start_time": "2021-08-03T23:49:02.167Z"
   },
   {
    "duration": 15,
    "start_time": "2021-08-03T23:49:54.545Z"
   },
   {
    "duration": 15,
    "start_time": "2021-08-03T23:50:17.021Z"
   },
   {
    "duration": 11,
    "start_time": "2021-08-03T23:50:26.602Z"
   },
   {
    "duration": 342,
    "start_time": "2021-08-03T23:50:28.333Z"
   },
   {
    "duration": 1905,
    "start_time": "2021-08-03T23:50:42.680Z"
   },
   {
    "duration": 843,
    "start_time": "2021-08-03T23:50:44.588Z"
   },
   {
    "duration": 25,
    "start_time": "2021-08-03T23:50:45.434Z"
   },
   {
    "duration": 32,
    "start_time": "2021-08-03T23:50:45.461Z"
   },
   {
    "duration": 8,
    "start_time": "2021-08-03T23:50:45.495Z"
   },
   {
    "duration": 17,
    "start_time": "2021-08-03T23:50:45.505Z"
   },
   {
    "duration": 537,
    "start_time": "2021-08-03T23:51:13.514Z"
   },
   {
    "duration": 404,
    "start_time": "2021-08-03T23:51:22.911Z"
   },
   {
    "duration": 15,
    "start_time": "2021-08-03T23:51:36.553Z"
   },
   {
    "duration": 43,
    "start_time": "2021-08-03T23:51:59.993Z"
   },
   {
    "duration": 33,
    "start_time": "2021-08-03T23:52:05.815Z"
   },
   {
    "duration": 170,
    "start_time": "2021-08-03T23:52:50.253Z"
   },
   {
    "duration": 165,
    "start_time": "2021-08-03T23:52:55.172Z"
   },
   {
    "duration": 13,
    "start_time": "2021-08-03T23:53:55.848Z"
   },
   {
    "duration": 24,
    "start_time": "2021-08-03T23:54:26.254Z"
   },
   {
    "duration": 150,
    "start_time": "2021-08-03T23:55:46.228Z"
   },
   {
    "duration": 581,
    "start_time": "2021-08-03T23:57:39.053Z"
   },
   {
    "duration": 15,
    "start_time": "2021-08-03T23:57:46.087Z"
   },
   {
    "duration": 13,
    "start_time": "2021-08-03T23:58:34.816Z"
   },
   {
    "duration": 13,
    "start_time": "2021-08-03T23:58:44.100Z"
   },
   {
    "duration": 12,
    "start_time": "2021-08-03T23:58:49.883Z"
   },
   {
    "duration": 11,
    "start_time": "2021-08-03T23:59:25.620Z"
   },
   {
    "duration": 367,
    "start_time": "2021-08-04T00:03:10.649Z"
   },
   {
    "duration": 328,
    "start_time": "2021-08-04T00:03:24.723Z"
   },
   {
    "duration": 6,
    "start_time": "2021-08-04T00:03:32.251Z"
   },
   {
    "duration": 6,
    "start_time": "2021-08-04T00:14:38.577Z"
   },
   {
    "duration": 30,
    "start_time": "2021-08-04T00:15:34.663Z"
   },
   {
    "duration": 86,
    "start_time": "2021-08-04T00:17:11.197Z"
   },
   {
    "duration": 85,
    "start_time": "2021-08-04T00:17:31.377Z"
   },
   {
    "duration": 80,
    "start_time": "2021-08-04T00:18:02.935Z"
   },
   {
    "duration": 857,
    "start_time": "2021-08-04T00:19:59.772Z"
   },
   {
    "duration": 1421,
    "start_time": "2021-08-04T00:20:07.765Z"
   },
   {
    "duration": 837,
    "start_time": "2021-08-04T00:20:09.188Z"
   },
   {
    "duration": 6,
    "start_time": "2021-08-04T00:20:10.027Z"
   },
   {
    "duration": 107,
    "start_time": "2021-08-04T00:20:10.035Z"
   },
   {
    "duration": 45,
    "start_time": "2021-08-04T00:20:10.145Z"
   },
   {
    "duration": 11,
    "start_time": "2021-08-04T00:20:10.192Z"
   },
   {
    "duration": 179,
    "start_time": "2021-08-04T00:20:10.205Z"
   },
   {
    "duration": 15,
    "start_time": "2021-08-04T00:20:10.387Z"
   },
   {
    "duration": 34,
    "start_time": "2021-08-04T00:20:10.404Z"
   },
   {
    "duration": 43,
    "start_time": "2021-08-04T00:20:10.440Z"
   },
   {
    "duration": 22,
    "start_time": "2021-08-04T00:20:10.485Z"
   },
   {
    "duration": 162,
    "start_time": "2021-08-04T00:20:10.509Z"
   },
   {
    "duration": 16,
    "start_time": "2021-08-04T00:20:10.673Z"
   },
   {
    "duration": 154,
    "start_time": "2021-08-04T01:26:19.053Z"
   },
   {
    "duration": 15,
    "start_time": "2021-08-04T01:26:29.420Z"
   },
   {
    "duration": 6,
    "start_time": "2021-08-04T01:28:27.702Z"
   },
   {
    "duration": 7,
    "start_time": "2021-08-04T01:28:31.369Z"
   },
   {
    "duration": 6,
    "start_time": "2021-08-04T01:28:31.914Z"
   },
   {
    "duration": 7,
    "start_time": "2021-08-04T01:32:14.693Z"
   },
   {
    "duration": 21,
    "start_time": "2021-08-04T01:34:40.919Z"
   },
   {
    "duration": 25,
    "start_time": "2021-08-04T01:34:48.984Z"
   },
   {
    "duration": 548,
    "start_time": "2021-08-04T01:35:07.462Z"
   },
   {
    "duration": 8,
    "start_time": "2021-08-04T01:36:49.267Z"
   },
   {
    "duration": 7,
    "start_time": "2021-08-04T01:37:06.735Z"
   },
   {
    "duration": 137,
    "start_time": "2021-08-04T01:38:19.051Z"
   },
   {
    "duration": 7,
    "start_time": "2021-08-04T01:38:29.143Z"
   },
   {
    "duration": 118,
    "start_time": "2021-08-04T01:39:01.643Z"
   },
   {
    "duration": 371,
    "start_time": "2021-08-04T01:42:06.835Z"
   },
   {
    "duration": 342,
    "start_time": "2021-08-04T01:42:16.805Z"
   },
   {
    "duration": 13,
    "start_time": "2021-08-04T01:42:21.554Z"
   },
   {
    "duration": 11,
    "start_time": "2021-08-04T01:42:36.794Z"
   },
   {
    "duration": 19,
    "start_time": "2021-08-04T01:47:35.967Z"
   },
   {
    "duration": 28,
    "start_time": "2021-08-04T01:48:08.427Z"
   },
   {
    "duration": 32,
    "start_time": "2021-08-04T01:48:30.957Z"
   },
   {
    "duration": 118,
    "start_time": "2021-08-04T01:49:04.587Z"
   },
   {
    "duration": 29,
    "start_time": "2021-08-04T01:49:20.698Z"
   },
   {
    "duration": 27,
    "start_time": "2021-08-04T01:49:29.738Z"
   },
   {
    "duration": 26,
    "start_time": "2021-08-04T01:49:54.855Z"
   },
   {
    "duration": 30,
    "start_time": "2021-08-04T01:50:17.944Z"
   },
   {
    "duration": 1420,
    "start_time": "2021-08-04T02:01:12.482Z"
   },
   {
    "duration": 832,
    "start_time": "2021-08-04T02:01:13.905Z"
   },
   {
    "duration": 6,
    "start_time": "2021-08-04T02:01:14.740Z"
   },
   {
    "duration": 142,
    "start_time": "2021-08-04T02:01:14.749Z"
   },
   {
    "duration": 29,
    "start_time": "2021-08-04T02:01:14.894Z"
   },
   {
    "duration": 59,
    "start_time": "2021-08-04T02:01:14.926Z"
   },
   {
    "duration": 196,
    "start_time": "2021-08-04T02:01:14.988Z"
   },
   {
    "duration": 19,
    "start_time": "2021-08-04T02:01:15.189Z"
   },
   {
    "duration": 78,
    "start_time": "2021-08-04T02:01:15.211Z"
   },
   {
    "duration": 25,
    "start_time": "2021-08-04T02:01:15.292Z"
   },
   {
    "duration": 173,
    "start_time": "2021-08-04T02:01:15.320Z"
   },
   {
    "duration": 12,
    "start_time": "2021-08-04T02:01:15.495Z"
   },
   {
    "duration": 14,
    "start_time": "2021-08-04T02:01:15.510Z"
   },
   {
    "duration": 7,
    "start_time": "2021-08-04T02:01:15.526Z"
   },
   {
    "duration": 49,
    "start_time": "2021-08-04T02:01:15.535Z"
   },
   {
    "duration": 25,
    "start_time": "2021-08-04T02:01:15.586Z"
   },
   {
    "duration": 34,
    "start_time": "2021-08-04T02:01:15.614Z"
   },
   {
    "duration": 8396,
    "start_time": "2021-08-04T02:09:01.431Z"
   },
   {
    "duration": 4548,
    "start_time": "2021-08-04T02:09:50.501Z"
   },
   {
    "duration": 2744,
    "start_time": "2021-08-04T02:10:11.140Z"
   },
   {
    "duration": 2678,
    "start_time": "2021-08-04T02:10:38.488Z"
   },
   {
    "duration": 2589,
    "start_time": "2021-08-04T02:11:03.574Z"
   },
   {
    "duration": 2862,
    "start_time": "2021-08-04T02:12:24.410Z"
   },
   {
    "duration": 1458,
    "start_time": "2021-08-04T02:17:54.073Z"
   },
   {
    "duration": 2713,
    "start_time": "2021-08-04T02:18:46.507Z"
   },
   {
    "duration": 2718,
    "start_time": "2021-08-04T02:20:30.127Z"
   },
   {
    "duration": 839,
    "start_time": "2021-08-04T02:25:28.403Z"
   },
   {
    "duration": 849,
    "start_time": "2021-08-04T02:25:43.818Z"
   },
   {
    "duration": 886,
    "start_time": "2021-08-04T02:26:53.813Z"
   },
   {
    "duration": 377,
    "start_time": "2021-08-04T02:27:29.855Z"
   },
   {
    "duration": 913,
    "start_time": "2021-08-04T02:28:15.224Z"
   },
   {
    "duration": 387,
    "start_time": "2021-08-04T02:28:25.132Z"
   },
   {
    "duration": 1112,
    "start_time": "2021-08-04T02:29:01.438Z"
   },
   {
    "duration": 915,
    "start_time": "2021-08-04T02:29:53.047Z"
   },
   {
    "duration": 364,
    "start_time": "2021-08-04T02:30:19.275Z"
   },
   {
    "duration": 667,
    "start_time": "2021-08-04T02:30:29.732Z"
   },
   {
    "duration": 689,
    "start_time": "2021-08-04T02:30:45.120Z"
   },
   {
    "duration": 659,
    "start_time": "2021-08-04T02:31:25.639Z"
   },
   {
    "duration": 369,
    "start_time": "2021-08-04T02:31:42.912Z"
   },
   {
    "duration": 1061,
    "start_time": "2021-08-04T02:32:05.175Z"
   },
   {
    "duration": 3868,
    "start_time": "2021-08-04T02:35:22.966Z"
   },
   {
    "duration": 2772,
    "start_time": "2021-08-04T02:35:40.132Z"
   },
   {
    "duration": 2640,
    "start_time": "2021-08-04T02:35:52.904Z"
   },
   {
    "duration": 2708,
    "start_time": "2021-08-04T02:36:11.370Z"
   },
   {
    "duration": 103,
    "start_time": "2021-08-04T02:37:04.286Z"
   },
   {
    "duration": 119,
    "start_time": "2021-08-04T02:37:24.020Z"
   },
   {
    "duration": 647,
    "start_time": "2021-08-04T02:37:31.670Z"
   },
   {
    "duration": 785,
    "start_time": "2021-08-04T02:38:35.159Z"
   },
   {
    "duration": 672,
    "start_time": "2021-08-04T02:38:44.013Z"
   },
   {
    "duration": 2723,
    "start_time": "2021-08-04T02:38:54.365Z"
   },
   {
    "duration": 653,
    "start_time": "2021-08-04T02:39:07.739Z"
   },
   {
    "duration": 1741,
    "start_time": "2021-08-04T02:39:30.811Z"
   },
   {
    "duration": 651,
    "start_time": "2021-08-04T02:41:39.458Z"
   },
   {
    "duration": 201,
    "start_time": "2021-08-04T02:50:29.767Z"
   },
   {
    "duration": 335,
    "start_time": "2021-08-04T02:51:50.441Z"
   },
   {
    "duration": 681,
    "start_time": "2021-08-04T02:53:25.071Z"
   },
   {
    "duration": 1524,
    "start_time": "2021-08-04T02:53:40.261Z"
   },
   {
    "duration": 855,
    "start_time": "2021-08-04T02:53:41.787Z"
   },
   {
    "duration": 6,
    "start_time": "2021-08-04T02:53:42.644Z"
   },
   {
    "duration": 132,
    "start_time": "2021-08-04T02:53:42.653Z"
   },
   {
    "duration": 22,
    "start_time": "2021-08-04T02:53:42.787Z"
   },
   {
    "duration": 11,
    "start_time": "2021-08-04T02:53:42.812Z"
   },
   {
    "duration": 214,
    "start_time": "2021-08-04T02:53:42.826Z"
   },
   {
    "duration": 15,
    "start_time": "2021-08-04T02:53:43.044Z"
   },
   {
    "duration": 53,
    "start_time": "2021-08-04T02:53:43.061Z"
   },
   {
    "duration": 25,
    "start_time": "2021-08-04T02:53:43.117Z"
   },
   {
    "duration": 193,
    "start_time": "2021-08-04T02:53:43.146Z"
   },
   {
    "duration": 15,
    "start_time": "2021-08-04T02:53:43.342Z"
   },
   {
    "duration": 37,
    "start_time": "2021-08-04T02:53:43.359Z"
   },
   {
    "duration": 8,
    "start_time": "2021-08-04T02:53:43.398Z"
   },
   {
    "duration": 10,
    "start_time": "2021-08-04T02:53:43.409Z"
   },
   {
    "duration": 73,
    "start_time": "2021-08-04T02:53:43.422Z"
   },
   {
    "duration": 37,
    "start_time": "2021-08-04T02:53:43.498Z"
   },
   {
    "duration": 2749,
    "start_time": "2021-08-04T02:53:43.538Z"
   },
   {
    "duration": 691,
    "start_time": "2021-08-04T02:53:46.291Z"
   },
   {
    "duration": 390,
    "start_time": "2021-08-04T02:53:46.984Z"
   },
   {
    "duration": 795,
    "start_time": "2021-08-04T02:53:47.376Z"
   },
   {
    "duration": 27,
    "start_time": "2021-08-04T02:54:02.259Z"
   },
   {
    "duration": 902,
    "start_time": "2021-08-04T02:54:04.084Z"
   },
   {
    "duration": 492,
    "start_time": "2021-08-04T02:54:27.852Z"
   },
   {
    "duration": 854,
    "start_time": "2021-08-04T02:54:39.186Z"
   },
   {
    "duration": 312,
    "start_time": "2021-08-04T02:55:35.406Z"
   },
   {
    "duration": 508,
    "start_time": "2021-08-04T02:56:37.682Z"
   },
   {
    "duration": 390,
    "start_time": "2021-08-04T02:57:23.617Z"
   },
   {
    "duration": 969,
    "start_time": "2021-08-04T02:57:45.149Z"
   },
   {
    "duration": 1004,
    "start_time": "2021-08-04T02:58:32.520Z"
   },
   {
    "duration": 6,
    "start_time": "2021-08-04T12:08:08.544Z"
   },
   {
    "duration": 324,
    "start_time": "2021-08-04T12:11:38.004Z"
   },
   {
    "duration": 1586,
    "start_time": "2021-08-04T12:11:46.538Z"
   },
   {
    "duration": 952,
    "start_time": "2021-08-04T12:11:48.127Z"
   },
   {
    "duration": 6,
    "start_time": "2021-08-04T12:11:49.083Z"
   },
   {
    "duration": 123,
    "start_time": "2021-08-04T12:11:49.093Z"
   },
   {
    "duration": 53,
    "start_time": "2021-08-04T12:11:49.218Z"
   },
   {
    "duration": 11,
    "start_time": "2021-08-04T12:11:49.274Z"
   },
   {
    "duration": 190,
    "start_time": "2021-08-04T12:11:49.288Z"
   },
   {
    "duration": 16,
    "start_time": "2021-08-04T12:11:49.481Z"
   },
   {
    "duration": 61,
    "start_time": "2021-08-04T12:11:49.500Z"
   },
   {
    "duration": 37,
    "start_time": "2021-08-04T12:11:49.564Z"
   },
   {
    "duration": 170,
    "start_time": "2021-08-04T12:11:49.603Z"
   },
   {
    "duration": 13,
    "start_time": "2021-08-04T12:11:49.775Z"
   },
   {
    "duration": 16,
    "start_time": "2021-08-04T12:11:49.791Z"
   },
   {
    "duration": 7,
    "start_time": "2021-08-04T12:11:49.809Z"
   },
   {
    "duration": 42,
    "start_time": "2021-08-04T12:11:49.818Z"
   },
   {
    "duration": 31,
    "start_time": "2021-08-04T12:11:49.863Z"
   },
   {
    "duration": 65,
    "start_time": "2021-08-04T12:11:49.896Z"
   },
   {
    "duration": 3262,
    "start_time": "2021-08-04T12:11:49.963Z"
   },
   {
    "duration": 779,
    "start_time": "2021-08-04T12:11:53.227Z"
   },
   {
    "duration": 60,
    "start_time": "2021-08-04T12:11:54.008Z"
   },
   {
    "duration": 1194,
    "start_time": "2021-08-04T12:11:54.072Z"
   },
   {
    "duration": 4,
    "start_time": "2021-08-04T12:11:55.269Z"
   },
   {
    "duration": 35,
    "start_time": "2021-08-04T12:11:55.278Z"
   },
   {
    "duration": 92,
    "start_time": "2021-08-04T12:11:55.315Z"
   },
   {
    "duration": 7671,
    "start_time": "2021-08-04T12:19:26.126Z"
   },
   {
    "duration": 7137,
    "start_time": "2021-08-04T12:30:29.485Z"
   },
   {
    "duration": 1600,
    "start_time": "2021-08-04T16:16:29.624Z"
   },
   {
    "duration": 903,
    "start_time": "2021-08-04T16:16:31.227Z"
   },
   {
    "duration": 4,
    "start_time": "2021-08-04T16:16:32.134Z"
   },
   {
    "duration": 129,
    "start_time": "2021-08-04T16:16:32.141Z"
   },
   {
    "duration": 24,
    "start_time": "2021-08-04T16:16:32.272Z"
   },
   {
    "duration": 11,
    "start_time": "2021-08-04T16:16:32.298Z"
   },
   {
    "duration": 221,
    "start_time": "2021-08-04T16:16:32.312Z"
   },
   {
    "duration": 28,
    "start_time": "2021-08-04T16:16:32.536Z"
   },
   {
    "duration": 37,
    "start_time": "2021-08-04T16:16:32.567Z"
   },
   {
    "duration": 61,
    "start_time": "2021-08-04T16:16:32.607Z"
   },
   {
    "duration": 185,
    "start_time": "2021-08-04T16:16:32.671Z"
   },
   {
    "duration": 16,
    "start_time": "2021-08-04T16:16:32.859Z"
   },
   {
    "duration": 16,
    "start_time": "2021-08-04T16:16:32.878Z"
   },
   {
    "duration": 8,
    "start_time": "2021-08-04T16:16:32.897Z"
   },
   {
    "duration": 10,
    "start_time": "2021-08-04T16:16:32.955Z"
   },
   {
    "duration": 39,
    "start_time": "2021-08-04T16:16:32.968Z"
   },
   {
    "duration": 65,
    "start_time": "2021-08-04T16:16:33.010Z"
   },
   {
    "duration": 3067,
    "start_time": "2021-08-04T16:16:33.078Z"
   },
   {
    "duration": 857,
    "start_time": "2021-08-04T16:16:36.147Z"
   },
   {
    "duration": 52,
    "start_time": "2021-08-04T16:16:37.006Z"
   },
   {
    "duration": 1106,
    "start_time": "2021-08-04T16:16:37.061Z"
   },
   {
    "duration": 5,
    "start_time": "2021-08-04T16:16:38.170Z"
   },
   {
    "duration": 46,
    "start_time": "2021-08-04T16:16:38.179Z"
   },
   {
    "duration": 8019,
    "start_time": "2021-08-04T16:16:38.228Z"
   },
   {
    "duration": 5,
    "start_time": "2021-08-04T16:40:52.912Z"
   },
   {
    "duration": 284,
    "start_time": "2021-08-04T16:46:43.767Z"
   },
   {
    "duration": 34,
    "start_time": "2021-08-04T16:47:05.081Z"
   },
   {
    "duration": 20,
    "start_time": "2021-08-04T16:47:16.915Z"
   },
   {
    "duration": 19,
    "start_time": "2021-08-04T21:57:54.807Z"
   },
   {
    "duration": 1756,
    "start_time": "2021-08-04T22:00:11.753Z"
   },
   {
    "duration": 1358,
    "start_time": "2021-08-04T22:00:13.513Z"
   },
   {
    "duration": 7,
    "start_time": "2021-08-04T22:00:14.875Z"
   },
   {
    "duration": 132,
    "start_time": "2021-08-04T22:00:14.886Z"
   },
   {
    "duration": 57,
    "start_time": "2021-08-04T22:00:15.020Z"
   },
   {
    "duration": 13,
    "start_time": "2021-08-04T22:00:15.079Z"
   },
   {
    "duration": 231,
    "start_time": "2021-08-04T22:00:15.094Z"
   },
   {
    "duration": 28,
    "start_time": "2021-08-04T22:00:15.329Z"
   },
   {
    "duration": 37,
    "start_time": "2021-08-04T22:00:15.361Z"
   },
   {
    "duration": 58,
    "start_time": "2021-08-04T22:00:15.401Z"
   },
   {
    "duration": 176,
    "start_time": "2021-08-04T22:00:15.462Z"
   },
   {
    "duration": 17,
    "start_time": "2021-08-04T22:00:15.640Z"
   },
   {
    "duration": 22,
    "start_time": "2021-08-04T22:00:15.660Z"
   },
   {
    "duration": 35,
    "start_time": "2021-08-04T22:00:15.684Z"
   },
   {
    "duration": 26,
    "start_time": "2021-08-04T22:00:15.721Z"
   },
   {
    "duration": 427,
    "start_time": "2021-08-04T22:00:15.750Z"
   },
   {
    "duration": -4569,
    "start_time": "2021-08-04T22:00:20.749Z"
   },
   {
    "duration": -4578,
    "start_time": "2021-08-04T22:00:20.760Z"
   },
   {
    "duration": -4581,
    "start_time": "2021-08-04T22:00:20.764Z"
   },
   {
    "duration": -4582,
    "start_time": "2021-08-04T22:00:20.767Z"
   },
   {
    "duration": -4584,
    "start_time": "2021-08-04T22:00:20.770Z"
   },
   {
    "duration": -4585,
    "start_time": "2021-08-04T22:00:20.773Z"
   },
   {
    "duration": -4587,
    "start_time": "2021-08-04T22:00:20.776Z"
   },
   {
    "duration": 52,
    "start_time": "2021-08-04T22:00:38.551Z"
   },
   {
    "duration": 1584,
    "start_time": "2021-08-04T22:00:44.772Z"
   },
   {
    "duration": 917,
    "start_time": "2021-08-04T22:00:46.358Z"
   },
   {
    "duration": 6,
    "start_time": "2021-08-04T22:00:47.278Z"
   },
   {
    "duration": 123,
    "start_time": "2021-08-04T22:00:47.287Z"
   },
   {
    "duration": 57,
    "start_time": "2021-08-04T22:00:47.412Z"
   },
   {
    "duration": 15,
    "start_time": "2021-08-04T22:00:47.473Z"
   },
   {
    "duration": 224,
    "start_time": "2021-08-04T22:00:47.491Z"
   },
   {
    "duration": 16,
    "start_time": "2021-08-04T22:00:47.719Z"
   },
   {
    "duration": 51,
    "start_time": "2021-08-04T22:00:47.739Z"
   },
   {
    "duration": 25,
    "start_time": "2021-08-04T22:00:47.793Z"
   },
   {
    "duration": 200,
    "start_time": "2021-08-04T22:00:47.821Z"
   },
   {
    "duration": 13,
    "start_time": "2021-08-04T22:00:48.023Z"
   },
   {
    "duration": 14,
    "start_time": "2021-08-04T22:00:48.056Z"
   },
   {
    "duration": 8,
    "start_time": "2021-08-04T22:00:48.073Z"
   },
   {
    "duration": 12,
    "start_time": "2021-08-04T22:00:48.083Z"
   },
   {
    "duration": 96,
    "start_time": "2021-08-04T22:00:48.098Z"
   },
   {
    "duration": 19,
    "start_time": "2021-08-04T22:00:48.196Z"
   },
   {
    "duration": 42,
    "start_time": "2021-08-04T22:00:48.217Z"
   },
   {
    "duration": 3002,
    "start_time": "2021-08-04T22:00:48.262Z"
   },
   {
    "duration": 747,
    "start_time": "2021-08-04T22:00:51.267Z"
   },
   {
    "duration": 68,
    "start_time": "2021-08-04T22:00:52.016Z"
   },
   {
    "duration": 987,
    "start_time": "2021-08-04T22:00:52.086Z"
   },
   {
    "duration": 5,
    "start_time": "2021-08-04T22:00:53.077Z"
   },
   {
    "duration": 99,
    "start_time": "2021-08-04T22:05:55.517Z"
   },
   {
    "duration": 542,
    "start_time": "2021-08-04T22:06:03.170Z"
   },
   {
    "duration": 487,
    "start_time": "2021-08-04T22:06:13.615Z"
   },
   {
    "duration": 324,
    "start_time": "2021-08-04T22:06:32.546Z"
   },
   {
    "duration": 270,
    "start_time": "2021-08-04T22:07:29.692Z"
   },
   {
    "duration": 3242,
    "start_time": "2021-08-04T22:07:37.920Z"
   },
   {
    "duration": 259,
    "start_time": "2021-08-04T22:09:51.848Z"
   },
   {
    "duration": 700,
    "start_time": "2021-08-04T22:10:29.121Z"
   },
   {
    "duration": 322,
    "start_time": "2021-08-04T22:12:08.223Z"
   },
   {
    "duration": 827,
    "start_time": "2021-08-04T22:13:44.030Z"
   },
   {
    "duration": 3043,
    "start_time": "2021-08-04T22:13:59.112Z"
   },
   {
    "duration": 104,
    "start_time": "2021-08-04T22:18:22.924Z"
   },
   {
    "duration": 109,
    "start_time": "2021-08-04T22:18:30.390Z"
   },
   {
    "duration": 93,
    "start_time": "2021-08-04T22:18:49.280Z"
   },
   {
    "duration": 8,
    "start_time": "2021-08-04T22:18:54.701Z"
   },
   {
    "duration": 6552,
    "start_time": "2021-08-04T22:19:13.997Z"
   },
   {
    "duration": 7864,
    "start_time": "2021-08-04T22:19:52.311Z"
   },
   {
    "duration": 4582,
    "start_time": "2021-08-04T22:20:09.341Z"
   },
   {
    "duration": 6171,
    "start_time": "2021-08-04T22:21:24.771Z"
   },
   {
    "duration": 3528,
    "start_time": "2021-08-04T22:21:47.694Z"
   },
   {
    "duration": 3424,
    "start_time": "2021-08-04T22:22:49.424Z"
   },
   {
    "duration": 1171,
    "start_time": "2021-08-04T22:39:21.711Z"
   },
   {
    "duration": 4,
    "start_time": "2021-08-04T22:55:44.912Z"
   },
   {
    "duration": 287,
    "start_time": "2021-08-04T23:13:36.812Z"
   },
   {
    "duration": 1597,
    "start_time": "2021-08-04T23:13:50.137Z"
   },
   {
    "duration": 920,
    "start_time": "2021-08-04T23:13:51.737Z"
   },
   {
    "duration": 8,
    "start_time": "2021-08-04T23:13:52.661Z"
   },
   {
    "duration": 132,
    "start_time": "2021-08-04T23:13:52.673Z"
   },
   {
    "duration": 72,
    "start_time": "2021-08-04T23:13:52.808Z"
   },
   {
    "duration": 16,
    "start_time": "2021-08-04T23:13:52.883Z"
   },
   {
    "duration": 265,
    "start_time": "2021-08-04T23:13:52.903Z"
   },
   {
    "duration": 25,
    "start_time": "2021-08-04T23:13:53.175Z"
   },
   {
    "duration": 86,
    "start_time": "2021-08-04T23:13:53.205Z"
   },
   {
    "duration": 40,
    "start_time": "2021-08-04T23:13:53.294Z"
   },
   {
    "duration": 242,
    "start_time": "2021-08-04T23:13:53.337Z"
   },
   {
    "duration": 17,
    "start_time": "2021-08-04T23:13:53.582Z"
   },
   {
    "duration": 15,
    "start_time": "2021-08-04T23:13:53.603Z"
   },
   {
    "duration": 33,
    "start_time": "2021-08-04T23:13:53.621Z"
   },
   {
    "duration": 18,
    "start_time": "2021-08-04T23:13:53.658Z"
   },
   {
    "duration": 84,
    "start_time": "2021-08-04T23:13:53.679Z"
   },
   {
    "duration": 21,
    "start_time": "2021-08-04T23:13:53.766Z"
   },
   {
    "duration": 13,
    "start_time": "2021-08-04T23:13:53.789Z"
   },
   {
    "duration": 465,
    "start_time": "2021-08-04T23:13:53.805Z"
   },
   {
    "duration": -4599,
    "start_time": "2021-08-04T23:13:58.872Z"
   },
   {
    "duration": -4602,
    "start_time": "2021-08-04T23:13:58.877Z"
   },
   {
    "duration": -4612,
    "start_time": "2021-08-04T23:13:58.889Z"
   },
   {
    "duration": -4614,
    "start_time": "2021-08-04T23:13:58.893Z"
   },
   {
    "duration": -4618,
    "start_time": "2021-08-04T23:13:58.898Z"
   },
   {
    "duration": -4630,
    "start_time": "2021-08-04T23:13:58.912Z"
   },
   {
    "duration": -4631,
    "start_time": "2021-08-04T23:13:58.915Z"
   },
   {
    "duration": 2247,
    "start_time": "2021-08-04T23:14:36.691Z"
   },
   {
    "duration": 1462,
    "start_time": "2021-08-04T23:14:38.942Z"
   },
   {
    "duration": 7,
    "start_time": "2021-08-04T23:14:40.409Z"
   },
   {
    "duration": 195,
    "start_time": "2021-08-04T23:14:40.420Z"
   },
   {
    "duration": 68,
    "start_time": "2021-08-04T23:14:40.619Z"
   },
   {
    "duration": 16,
    "start_time": "2021-08-04T23:14:40.690Z"
   },
   {
    "duration": 273,
    "start_time": "2021-08-04T23:14:40.709Z"
   },
   {
    "duration": 26,
    "start_time": "2021-08-04T23:14:40.985Z"
   },
   {
    "duration": 81,
    "start_time": "2021-08-04T23:14:41.017Z"
   },
   {
    "duration": 69,
    "start_time": "2021-08-04T23:14:41.103Z"
   },
   {
    "duration": 216,
    "start_time": "2021-08-04T23:14:41.176Z"
   },
   {
    "duration": 13,
    "start_time": "2021-08-04T23:14:41.394Z"
   },
   {
    "duration": 45,
    "start_time": "2021-08-04T23:14:41.410Z"
   },
   {
    "duration": 7,
    "start_time": "2021-08-04T23:14:41.458Z"
   },
   {
    "duration": 8,
    "start_time": "2021-08-04T23:14:41.468Z"
   },
   {
    "duration": 99,
    "start_time": "2021-08-04T23:14:41.479Z"
   },
   {
    "duration": 21,
    "start_time": "2021-08-04T23:14:41.581Z"
   },
   {
    "duration": 51,
    "start_time": "2021-08-04T23:14:41.605Z"
   },
   {
    "duration": 4340,
    "start_time": "2021-08-04T23:14:41.659Z"
   },
   {
    "duration": 769,
    "start_time": "2021-08-04T23:14:46.002Z"
   },
   {
    "duration": 48,
    "start_time": "2021-08-04T23:14:46.774Z"
   },
   {
    "duration": 1016,
    "start_time": "2021-08-04T23:14:46.825Z"
   },
   {
    "duration": 11,
    "start_time": "2021-08-04T23:14:47.844Z"
   },
   {
    "duration": 426,
    "start_time": "2021-08-04T23:14:47.858Z"
   },
   {
    "duration": -4641,
    "start_time": "2021-08-04T23:14:52.928Z"
   },
   {
    "duration": -4647,
    "start_time": "2021-08-04T23:14:52.936Z"
   },
   {
    "duration": 12,
    "start_time": "2021-08-04T23:15:16.202Z"
   },
   {
    "duration": 316,
    "start_time": "2021-08-04T23:21:43.587Z"
   },
   {
    "duration": 12,
    "start_time": "2021-08-04T23:21:49.337Z"
   },
   {
    "duration": 278,
    "start_time": "2021-08-04T23:21:52.423Z"
   },
   {
    "duration": 8,
    "start_time": "2021-08-04T23:22:15.332Z"
   },
   {
    "duration": 42,
    "start_time": "2021-08-04T23:22:28.727Z"
   },
   {
    "duration": 9,
    "start_time": "2021-08-04T23:23:14.704Z"
   },
   {
    "duration": 6,
    "start_time": "2021-08-04T23:23:20.604Z"
   },
   {
    "duration": 42,
    "start_time": "2021-08-04T23:23:26.188Z"
   },
   {
    "duration": 1735,
    "start_time": "2021-08-04T23:23:44.942Z"
   },
   {
    "duration": 911,
    "start_time": "2021-08-04T23:23:46.680Z"
   },
   {
    "duration": 6,
    "start_time": "2021-08-04T23:23:47.594Z"
   },
   {
    "duration": 121,
    "start_time": "2021-08-04T23:23:47.602Z"
   },
   {
    "duration": 43,
    "start_time": "2021-08-04T23:23:47.725Z"
   },
   {
    "duration": 11,
    "start_time": "2021-08-04T23:23:47.771Z"
   },
   {
    "duration": 212,
    "start_time": "2021-08-04T23:23:47.784Z"
   },
   {
    "duration": 15,
    "start_time": "2021-08-04T23:23:48.000Z"
   },
   {
    "duration": 60,
    "start_time": "2021-08-04T23:23:48.018Z"
   },
   {
    "duration": 24,
    "start_time": "2021-08-04T23:23:48.080Z"
   },
   {
    "duration": 192,
    "start_time": "2021-08-04T23:23:48.106Z"
   },
   {
    "duration": 12,
    "start_time": "2021-08-04T23:23:48.300Z"
   },
   {
    "duration": 14,
    "start_time": "2021-08-04T23:23:48.315Z"
   },
   {
    "duration": 7,
    "start_time": "2021-08-04T23:23:48.355Z"
   },
   {
    "duration": 8,
    "start_time": "2021-08-04T23:23:48.364Z"
   },
   {
    "duration": 89,
    "start_time": "2021-08-04T23:23:48.375Z"
   },
   {
    "duration": 16,
    "start_time": "2021-08-04T23:23:48.467Z"
   },
   {
    "duration": 12,
    "start_time": "2021-08-04T23:23:48.486Z"
   },
   {
    "duration": 2938,
    "start_time": "2021-08-04T23:23:48.501Z"
   },
   {
    "duration": 744,
    "start_time": "2021-08-04T23:23:51.442Z"
   },
   {
    "duration": 67,
    "start_time": "2021-08-04T23:23:52.188Z"
   },
   {
    "duration": 970,
    "start_time": "2021-08-04T23:23:52.257Z"
   },
   {
    "duration": 5,
    "start_time": "2021-08-04T23:23:53.231Z"
   },
   {
    "duration": 15,
    "start_time": "2021-08-04T23:23:53.255Z"
   },
   {
    "duration": 41,
    "start_time": "2021-08-04T23:23:53.272Z"
   },
   {
    "duration": 465,
    "start_time": "2021-08-04T23:23:53.316Z"
   },
   {
    "duration": -4727,
    "start_time": "2021-08-04T23:23:58.510Z"
   },
   {
    "duration": -4732,
    "start_time": "2021-08-04T23:23:58.517Z"
   },
   {
    "duration": 6,
    "start_time": "2021-08-04T23:24:01.797Z"
   },
   {
    "duration": 8,
    "start_time": "2021-08-04T23:24:16.673Z"
   },
   {
    "duration": 39,
    "start_time": "2021-08-04T23:24:22.573Z"
   },
   {
    "duration": 65,
    "start_time": "2021-08-04T23:24:29.560Z"
   },
   {
    "duration": 40,
    "start_time": "2021-08-04T23:24:45.246Z"
   },
   {
    "duration": 41,
    "start_time": "2021-08-04T23:25:04.357Z"
   },
   {
    "duration": 6,
    "start_time": "2021-08-04T23:25:15.881Z"
   },
   {
    "duration": 7,
    "start_time": "2021-08-04T23:25:30.945Z"
   },
   {
    "duration": 8,
    "start_time": "2021-08-04T23:25:31.721Z"
   },
   {
    "duration": 40,
    "start_time": "2021-08-04T23:25:32.306Z"
   },
   {
    "duration": 295,
    "start_time": "2021-08-04T23:25:41.614Z"
   },
   {
    "duration": 263,
    "start_time": "2021-08-04T23:26:33.149Z"
   },
   {
    "duration": 1576,
    "start_time": "2021-08-04T23:26:50.024Z"
   },
   {
    "duration": 913,
    "start_time": "2021-08-04T23:26:51.602Z"
   },
   {
    "duration": 5,
    "start_time": "2021-08-04T23:26:52.518Z"
   },
   {
    "duration": 144,
    "start_time": "2021-08-04T23:26:52.526Z"
   },
   {
    "duration": 27,
    "start_time": "2021-08-04T23:26:52.673Z"
   },
   {
    "duration": 54,
    "start_time": "2021-08-04T23:26:52.703Z"
   },
   {
    "duration": 200,
    "start_time": "2021-08-04T23:26:52.760Z"
   },
   {
    "duration": 19,
    "start_time": "2021-08-04T23:26:52.965Z"
   },
   {
    "duration": 74,
    "start_time": "2021-08-04T23:26:52.988Z"
   },
   {
    "duration": 26,
    "start_time": "2021-08-04T23:26:53.066Z"
   },
   {
    "duration": 197,
    "start_time": "2021-08-04T23:26:53.095Z"
   },
   {
    "duration": 16,
    "start_time": "2021-08-04T23:26:53.295Z"
   },
   {
    "duration": 46,
    "start_time": "2021-08-04T23:26:53.313Z"
   },
   {
    "duration": 8,
    "start_time": "2021-08-04T23:26:53.361Z"
   },
   {
    "duration": 8,
    "start_time": "2021-08-04T23:26:53.371Z"
   },
   {
    "duration": 89,
    "start_time": "2021-08-04T23:26:53.381Z"
   },
   {
    "duration": 18,
    "start_time": "2021-08-04T23:26:53.472Z"
   },
   {
    "duration": 11,
    "start_time": "2021-08-04T23:26:53.492Z"
   },
   {
    "duration": 3143,
    "start_time": "2021-08-04T23:26:53.506Z"
   },
   {
    "duration": 762,
    "start_time": "2021-08-04T23:26:56.655Z"
   },
   {
    "duration": 70,
    "start_time": "2021-08-04T23:26:57.420Z"
   },
   {
    "duration": 992,
    "start_time": "2021-08-04T23:26:57.492Z"
   },
   {
    "duration": 5,
    "start_time": "2021-08-04T23:26:58.488Z"
   },
   {
    "duration": 16,
    "start_time": "2021-08-04T23:26:58.495Z"
   },
   {
    "duration": 47,
    "start_time": "2021-08-04T23:26:58.513Z"
   },
   {
    "duration": 94,
    "start_time": "2021-08-04T23:26:58.562Z"
   },
   {
    "duration": 4,
    "start_time": "2021-08-04T23:26:58.658Z"
   },
   {
    "duration": 432,
    "start_time": "2021-08-04T23:26:58.664Z"
   },
   {
    "duration": 287,
    "start_time": "2021-08-04T23:32:52.030Z"
   },
   {
    "duration": 13368,
    "start_time": "2021-08-04T23:34:28.553Z"
   },
   {
    "duration": 12509,
    "start_time": "2021-08-04T23:34:47.420Z"
   },
   {
    "duration": 89,
    "start_time": "2021-08-04T23:36:04.672Z"
   },
   {
    "duration": 87827,
    "start_time": "2021-08-04T23:36:09.445Z"
   },
   {
    "duration": 6,
    "start_time": "2021-08-04T23:39:22.951Z"
   },
   {
    "duration": 12519,
    "start_time": "2021-08-04T23:39:40.505Z"
   },
   {
    "duration": 12690,
    "start_time": "2021-08-04T23:40:36.509Z"
   },
   {
    "duration": 19284,
    "start_time": "2021-08-04T23:41:11.694Z"
   },
   {
    "duration": 80996,
    "start_time": "2021-08-04T23:43:09.767Z"
   },
   {
    "duration": 102406,
    "start_time": "2021-08-04T23:45:06.551Z"
   },
   {
    "duration": 89076,
    "start_time": "2021-08-04T23:47:22.083Z"
   },
   {
    "duration": 87667,
    "start_time": "2021-08-04T23:49:55.591Z"
   },
   {
    "duration": 98,
    "start_time": "2021-08-04T23:52:28.413Z"
   },
   {
    "duration": 102,
    "start_time": "2021-08-05T00:00:13.579Z"
   },
   {
    "duration": 115,
    "start_time": "2021-08-05T00:00:26.208Z"
   },
   {
    "duration": 94,
    "start_time": "2021-08-05T00:01:24.026Z"
   },
   {
    "duration": 90,
    "start_time": "2021-08-05T00:02:06.126Z"
   },
   {
    "duration": 117,
    "start_time": "2021-08-05T00:02:29.624Z"
   },
   {
    "duration": 90,
    "start_time": "2021-08-05T00:02:36.981Z"
   },
   {
    "duration": 100,
    "start_time": "2021-08-05T00:03:27.297Z"
   },
   {
    "duration": 96,
    "start_time": "2021-08-05T00:03:55.883Z"
   },
   {
    "duration": 86,
    "start_time": "2021-08-05T00:04:11.328Z"
   },
   {
    "duration": 86,
    "start_time": "2021-08-05T00:04:31.742Z"
   },
   {
    "duration": 93,
    "start_time": "2021-08-05T00:04:39.491Z"
   },
   {
    "duration": 502,
    "start_time": "2021-08-05T00:04:48.953Z"
   },
   {
    "duration": 447,
    "start_time": "2021-08-05T00:05:04.475Z"
   },
   {
    "duration": 670,
    "start_time": "2021-08-05T00:05:24.187Z"
   },
   {
    "duration": 275,
    "start_time": "2021-08-05T00:05:32.008Z"
   },
   {
    "duration": 7,
    "start_time": "2021-08-05T00:05:40.842Z"
   },
   {
    "duration": 274,
    "start_time": "2021-08-05T00:13:05.524Z"
   },
   {
    "duration": 1556,
    "start_time": "2021-08-05T00:13:14.347Z"
   },
   {
    "duration": 914,
    "start_time": "2021-08-05T00:13:15.906Z"
   },
   {
    "duration": 6,
    "start_time": "2021-08-05T00:13:16.824Z"
   },
   {
    "duration": 134,
    "start_time": "2021-08-05T00:13:16.832Z"
   },
   {
    "duration": 24,
    "start_time": "2021-08-05T00:13:16.969Z"
   },
   {
    "duration": 15,
    "start_time": "2021-08-05T00:13:16.996Z"
   },
   {
    "duration": 198,
    "start_time": "2021-08-05T00:13:17.056Z"
   },
   {
    "duration": 18,
    "start_time": "2021-08-05T00:13:17.259Z"
   },
   {
    "duration": 40,
    "start_time": "2021-08-05T00:13:17.282Z"
   },
   {
    "duration": 27,
    "start_time": "2021-08-05T00:13:17.354Z"
   },
   {
    "duration": 194,
    "start_time": "2021-08-05T00:13:17.384Z"
   },
   {
    "duration": 16,
    "start_time": "2021-08-05T00:13:17.581Z"
   },
   {
    "duration": 22,
    "start_time": "2021-08-05T00:13:17.600Z"
   },
   {
    "duration": 32,
    "start_time": "2021-08-05T00:13:17.624Z"
   },
   {
    "duration": 21,
    "start_time": "2021-08-05T00:13:17.659Z"
   },
   {
    "duration": 84,
    "start_time": "2021-08-05T00:13:17.682Z"
   },
   {
    "duration": 18,
    "start_time": "2021-08-05T00:13:17.768Z"
   },
   {
    "duration": 12,
    "start_time": "2021-08-05T00:13:17.788Z"
   },
   {
    "duration": 3034,
    "start_time": "2021-08-05T00:13:17.803Z"
   },
   {
    "duration": 936,
    "start_time": "2021-08-05T00:13:20.839Z"
   },
   {
    "duration": 47,
    "start_time": "2021-08-05T00:13:21.777Z"
   },
   {
    "duration": 971,
    "start_time": "2021-08-05T00:13:21.826Z"
   },
   {
    "duration": 5,
    "start_time": "2021-08-05T00:13:22.802Z"
   },
   {
    "duration": 22,
    "start_time": "2021-08-05T00:13:22.809Z"
   },
   {
    "duration": 26,
    "start_time": "2021-08-05T00:13:22.834Z"
   },
   {
    "duration": 87,
    "start_time": "2021-08-05T00:13:22.863Z"
   },
   {
    "duration": 4,
    "start_time": "2021-08-05T00:13:22.952Z"
   },
   {
    "duration": 88652,
    "start_time": "2021-08-05T00:13:22.959Z"
   },
   {
    "duration": 1307,
    "start_time": "2021-08-05T00:14:51.659Z"
   },
   {
    "duration": -4563,
    "start_time": "2021-08-05T00:14:57.531Z"
   },
   {
    "duration": 1250,
    "start_time": "2021-08-05T00:15:34.362Z"
   },
   {
    "duration": 5,
    "start_time": "2021-08-05T00:16:05.851Z"
   },
   {
    "duration": 781,
    "start_time": "2021-08-05T00:16:10.681Z"
   },
   {
    "duration": 273,
    "start_time": "2021-08-05T00:16:16.518Z"
   },
   {
    "duration": 271,
    "start_time": "2021-08-05T00:16:28.267Z"
   },
   {
    "duration": 11,
    "start_time": "2021-08-05T00:16:59.437Z"
   },
   {
    "duration": 586,
    "start_time": "2021-08-05T00:17:38.576Z"
   },
   {
    "duration": 6,
    "start_time": "2021-08-05T00:17:40.110Z"
   },
   {
    "duration": 10,
    "start_time": "2021-08-05T00:17:41.379Z"
   },
   {
    "duration": 10,
    "start_time": "2021-08-05T00:17:46.560Z"
   },
   {
    "duration": 7,
    "start_time": "2021-08-05T00:21:32.721Z"
   },
   {
    "duration": 13,
    "start_time": "2021-08-05T00:21:46.036Z"
   },
   {
    "duration": 12,
    "start_time": "2021-08-05T00:21:48.048Z"
   },
   {
    "duration": 13,
    "start_time": "2021-08-05T00:22:04.581Z"
   },
   {
    "duration": 9,
    "start_time": "2021-08-05T00:22:13.155Z"
   },
   {
    "duration": 11,
    "start_time": "2021-08-05T00:22:21.333Z"
   },
   {
    "duration": 12,
    "start_time": "2021-08-05T00:23:05.169Z"
   },
   {
    "duration": 7,
    "start_time": "2021-08-05T00:23:20.986Z"
   },
   {
    "duration": 321,
    "start_time": "2021-08-05T00:23:30.263Z"
   },
   {
    "duration": 285,
    "start_time": "2021-08-05T00:23:39.687Z"
   },
   {
    "duration": 787,
    "start_time": "2021-08-05T00:23:44.769Z"
   },
   {
    "duration": 9,
    "start_time": "2021-08-05T00:23:46.370Z"
   },
   {
    "duration": 6,
    "start_time": "2021-08-05T00:23:47.150Z"
   },
   {
    "duration": 10,
    "start_time": "2021-08-05T00:23:47.668Z"
   },
   {
    "duration": 8,
    "start_time": "2021-08-05T00:24:55.717Z"
   },
   {
    "duration": 14,
    "start_time": "2021-08-05T00:25:02.622Z"
   },
   {
    "duration": 354,
    "start_time": "2021-08-05T00:25:20.156Z"
   },
   {
    "duration": 14,
    "start_time": "2021-08-05T00:25:21.034Z"
   },
   {
    "duration": 6,
    "start_time": "2021-08-05T00:25:30.120Z"
   },
   {
    "duration": 10,
    "start_time": "2021-08-05T00:25:32.189Z"
   },
   {
    "duration": 13,
    "start_time": "2021-08-05T00:25:54.080Z"
   },
   {
    "duration": 8,
    "start_time": "2021-08-05T00:26:04.036Z"
   },
   {
    "duration": 11,
    "start_time": "2021-08-05T00:26:13.337Z"
   },
   {
    "duration": 9,
    "start_time": "2021-08-05T00:28:58.074Z"
   },
   {
    "duration": 9,
    "start_time": "2021-08-05T00:29:04.808Z"
   },
   {
    "duration": 12,
    "start_time": "2021-08-05T00:29:19.460Z"
   },
   {
    "duration": 9,
    "start_time": "2021-08-05T00:29:26.131Z"
   },
   {
    "duration": 10,
    "start_time": "2021-08-05T00:29:33.631Z"
   },
   {
    "duration": 98,
    "start_time": "2021-08-05T00:30:08.709Z"
   },
   {
    "duration": 5,
    "start_time": "2021-08-05T00:30:25.101Z"
   },
   {
    "duration": 10,
    "start_time": "2021-08-05T00:30:31.820Z"
   },
   {
    "duration": 6,
    "start_time": "2021-08-05T00:30:36.118Z"
   },
   {
    "duration": 9,
    "start_time": "2021-08-05T00:30:37.391Z"
   },
   {
    "duration": 1599,
    "start_time": "2021-08-05T00:31:02.235Z"
   },
   {
    "duration": 1015,
    "start_time": "2021-08-05T00:31:03.840Z"
   },
   {
    "duration": 6,
    "start_time": "2021-08-05T00:31:04.858Z"
   },
   {
    "duration": 127,
    "start_time": "2021-08-05T00:31:04.867Z"
   },
   {
    "duration": 23,
    "start_time": "2021-08-05T00:31:04.997Z"
   },
   {
    "duration": 11,
    "start_time": "2021-08-05T00:31:05.056Z"
   },
   {
    "duration": 204,
    "start_time": "2021-08-05T00:31:05.072Z"
   },
   {
    "duration": 15,
    "start_time": "2021-08-05T00:31:05.280Z"
   },
   {
    "duration": 64,
    "start_time": "2021-08-05T00:31:05.298Z"
   },
   {
    "duration": 24,
    "start_time": "2021-08-05T00:31:05.365Z"
   },
   {
    "duration": 190,
    "start_time": "2021-08-05T00:31:05.391Z"
   },
   {
    "duration": 13,
    "start_time": "2021-08-05T00:31:05.583Z"
   },
   {
    "duration": 16,
    "start_time": "2021-08-05T00:31:05.598Z"
   },
   {
    "duration": 40,
    "start_time": "2021-08-05T00:31:05.617Z"
   },
   {
    "duration": 9,
    "start_time": "2021-08-05T00:31:05.661Z"
   },
   {
    "duration": 86,
    "start_time": "2021-08-05T00:31:05.672Z"
   },
   {
    "duration": 18,
    "start_time": "2021-08-05T00:31:05.761Z"
   },
   {
    "duration": 16,
    "start_time": "2021-08-05T00:31:05.782Z"
   },
   {
    "duration": 2935,
    "start_time": "2021-08-05T00:31:05.801Z"
   },
   {
    "duration": 787,
    "start_time": "2021-08-05T00:31:08.738Z"
   },
   {
    "duration": 74,
    "start_time": "2021-08-05T00:31:09.528Z"
   },
   {
    "duration": 983,
    "start_time": "2021-08-05T00:31:09.610Z"
   },
   {
    "duration": 4,
    "start_time": "2021-08-05T00:31:10.596Z"
   },
   {
    "duration": 12,
    "start_time": "2021-08-05T00:31:10.602Z"
   },
   {
    "duration": 8,
    "start_time": "2021-08-05T00:31:10.616Z"
   },
   {
    "duration": 10,
    "start_time": "2021-08-05T00:31:10.655Z"
   },
   {
    "duration": 10,
    "start_time": "2021-08-05T00:31:10.667Z"
   },
   {
    "duration": 86776,
    "start_time": "2021-08-05T00:31:10.680Z"
   },
   {
    "duration": 1299,
    "start_time": "2021-08-05T00:32:37.460Z"
   },
   {
    "duration": 9,
    "start_time": "2021-08-05T00:32:38.853Z"
   },
   {
    "duration": 17,
    "start_time": "2021-08-05T00:32:38.864Z"
   },
   {
    "duration": 86,
    "start_time": "2021-08-05T00:32:38.883Z"
   },
   {
    "duration": 86,
    "start_time": "2021-08-05T00:47:28.743Z"
   },
   {
    "duration": 630,
    "start_time": "2021-08-05T00:47:37.704Z"
   },
   {
    "duration": 24,
    "start_time": "2021-08-05T00:48:53.758Z"
   },
   {
    "duration": 475,
    "start_time": "2021-08-05T00:52:46.228Z"
   },
   {
    "duration": 17,
    "start_time": "2021-08-05T00:53:45.502Z"
   },
   {
    "duration": 301,
    "start_time": "2021-08-05T00:53:59.616Z"
   },
   {
    "duration": 1501,
    "start_time": "2021-08-05T00:54:15.601Z"
   },
   {
    "duration": 912,
    "start_time": "2021-08-05T00:54:17.104Z"
   },
   {
    "duration": 5,
    "start_time": "2021-08-05T00:54:18.019Z"
   },
   {
    "duration": 128,
    "start_time": "2021-08-05T00:54:18.027Z"
   },
   {
    "duration": 23,
    "start_time": "2021-08-05T00:54:18.157Z"
   },
   {
    "duration": 17,
    "start_time": "2021-08-05T00:54:18.183Z"
   },
   {
    "duration": 308,
    "start_time": "2021-08-05T00:54:18.203Z"
   },
   {
    "duration": 14,
    "start_time": "2021-08-05T00:54:18.515Z"
   },
   {
    "duration": 55,
    "start_time": "2021-08-05T00:54:18.533Z"
   },
   {
    "duration": 27,
    "start_time": "2021-08-05T00:54:18.591Z"
   },
   {
    "duration": 204,
    "start_time": "2021-08-05T00:54:18.621Z"
   },
   {
    "duration": 27,
    "start_time": "2021-08-05T00:54:18.828Z"
   },
   {
    "duration": 15,
    "start_time": "2021-08-05T00:54:18.859Z"
   },
   {
    "duration": 15,
    "start_time": "2021-08-05T00:54:18.876Z"
   },
   {
    "duration": 17,
    "start_time": "2021-08-05T00:54:18.894Z"
   },
   {
    "duration": 89,
    "start_time": "2021-08-05T00:54:18.914Z"
   },
   {
    "duration": 52,
    "start_time": "2021-08-05T00:54:19.006Z"
   },
   {
    "duration": 15,
    "start_time": "2021-08-05T00:54:19.061Z"
   },
   {
    "duration": 3007,
    "start_time": "2021-08-05T00:54:19.079Z"
   },
   {
    "duration": 750,
    "start_time": "2021-08-05T00:54:22.088Z"
   },
   {
    "duration": 56,
    "start_time": "2021-08-05T00:54:22.841Z"
   },
   {
    "duration": 970,
    "start_time": "2021-08-05T00:54:22.900Z"
   },
   {
    "duration": 35,
    "start_time": "2021-08-05T00:54:23.877Z"
   },
   {
    "duration": 6,
    "start_time": "2021-08-05T00:54:23.915Z"
   },
   {
    "duration": 398,
    "start_time": "2021-08-05T00:54:23.956Z"
   },
   {
    "duration": -4686,
    "start_time": "2021-08-05T00:54:29.043Z"
   },
   {
    "duration": -4688,
    "start_time": "2021-08-05T00:54:29.048Z"
   },
   {
    "duration": -4690,
    "start_time": "2021-08-05T00:54:29.052Z"
   },
   {
    "duration": -4694,
    "start_time": "2021-08-05T00:54:29.058Z"
   },
   {
    "duration": -4695,
    "start_time": "2021-08-05T00:54:29.062Z"
   },
   {
    "duration": -4696,
    "start_time": "2021-08-05T00:54:29.065Z"
   },
   {
    "duration": -4698,
    "start_time": "2021-08-05T00:54:29.069Z"
   },
   {
    "duration": 6,
    "start_time": "2021-08-05T00:54:50.764Z"
   },
   {
    "duration": 356,
    "start_time": "2021-08-05T00:55:27.317Z"
   },
   {
    "duration": 280,
    "start_time": "2021-08-05T00:55:42.285Z"
   },
   {
    "duration": 1522,
    "start_time": "2021-08-05T00:56:07.892Z"
   },
   {
    "duration": 915,
    "start_time": "2021-08-05T00:56:09.420Z"
   },
   {
    "duration": 6,
    "start_time": "2021-08-05T00:56:10.337Z"
   },
   {
    "duration": 124,
    "start_time": "2021-08-05T00:56:10.355Z"
   },
   {
    "duration": 23,
    "start_time": "2021-08-05T00:56:10.481Z"
   },
   {
    "duration": 49,
    "start_time": "2021-08-05T00:56:10.507Z"
   },
   {
    "duration": 195,
    "start_time": "2021-08-05T00:56:10.560Z"
   },
   {
    "duration": 17,
    "start_time": "2021-08-05T00:56:10.758Z"
   },
   {
    "duration": 36,
    "start_time": "2021-08-05T00:56:10.778Z"
   },
   {
    "duration": 62,
    "start_time": "2021-08-05T00:56:10.816Z"
   },
   {
    "duration": 178,
    "start_time": "2021-08-05T00:56:10.880Z"
   },
   {
    "duration": 12,
    "start_time": "2021-08-05T00:56:11.061Z"
   },
   {
    "duration": 14,
    "start_time": "2021-08-05T00:56:11.076Z"
   },
   {
    "duration": 7,
    "start_time": "2021-08-05T00:56:11.092Z"
   },
   {
    "duration": 52,
    "start_time": "2021-08-05T00:56:11.101Z"
   },
   {
    "duration": 57,
    "start_time": "2021-08-05T00:56:11.156Z"
   },
   {
    "duration": 55,
    "start_time": "2021-08-05T00:56:11.216Z"
   },
   {
    "duration": 15,
    "start_time": "2021-08-05T00:56:11.274Z"
   },
   {
    "duration": 2994,
    "start_time": "2021-08-05T00:56:11.293Z"
   },
   {
    "duration": 838,
    "start_time": "2021-08-05T00:56:14.289Z"
   },
   {
    "duration": 62,
    "start_time": "2021-08-05T00:56:15.130Z"
   },
   {
    "duration": 965,
    "start_time": "2021-08-05T00:56:15.197Z"
   },
   {
    "duration": 36,
    "start_time": "2021-08-05T00:56:16.165Z"
   },
   {
    "duration": 69,
    "start_time": "2021-08-05T00:56:16.204Z"
   },
   {
    "duration": 7,
    "start_time": "2021-08-05T00:56:16.275Z"
   },
   {
    "duration": 21,
    "start_time": "2021-08-05T00:56:16.284Z"
   },
   {
    "duration": 21,
    "start_time": "2021-08-05T00:56:16.307Z"
   },
   {
    "duration": 26,
    "start_time": "2021-08-05T00:56:16.330Z"
   },
   {
    "duration": 86696,
    "start_time": "2021-08-05T00:56:16.359Z"
   },
   {
    "duration": 698,
    "start_time": "2021-08-05T00:57:43.058Z"
   },
   {
    "duration": 96,
    "start_time": "2021-08-05T00:57:43.760Z"
   },
   {
    "duration": 6,
    "start_time": "2021-08-05T00:57:43.858Z"
   },
   {
    "duration": 9,
    "start_time": "2021-08-05T00:57:43.866Z"
   },
   {
    "duration": 400,
    "start_time": "2021-08-05T00:57:43.878Z"
   },
   {
    "duration": 265,
    "start_time": "2021-08-05T00:58:36.735Z"
   },
   {
    "duration": 40,
    "start_time": "2021-08-05T00:58:44.146Z"
   },
   {
    "duration": 269,
    "start_time": "2021-08-05T00:58:51.358Z"
   },
   {
    "duration": 5,
    "start_time": "2021-08-05T00:58:55.258Z"
   },
   {
    "duration": 20,
    "start_time": "2021-08-05T00:59:37.720Z"
   },
   {
    "duration": 5,
    "start_time": "2021-08-05T00:59:38.634Z"
   },
   {
    "duration": 5,
    "start_time": "2021-08-05T00:59:39.441Z"
   },
   {
    "duration": 1522,
    "start_time": "2021-08-05T00:59:56.778Z"
   },
   {
    "duration": 899,
    "start_time": "2021-08-05T00:59:58.303Z"
   },
   {
    "duration": 6,
    "start_time": "2021-08-05T00:59:59.205Z"
   },
   {
    "duration": 121,
    "start_time": "2021-08-05T00:59:59.213Z"
   },
   {
    "duration": 24,
    "start_time": "2021-08-05T00:59:59.354Z"
   },
   {
    "duration": 12,
    "start_time": "2021-08-05T00:59:59.380Z"
   },
   {
    "duration": 222,
    "start_time": "2021-08-05T00:59:59.395Z"
   },
   {
    "duration": 34,
    "start_time": "2021-08-05T00:59:59.621Z"
   },
   {
    "duration": 36,
    "start_time": "2021-08-05T00:59:59.658Z"
   },
   {
    "duration": 25,
    "start_time": "2021-08-05T00:59:59.696Z"
   },
   {
    "duration": 202,
    "start_time": "2021-08-05T00:59:59.724Z"
   },
   {
    "duration": 26,
    "start_time": "2021-08-05T00:59:59.929Z"
   },
   {
    "duration": 14,
    "start_time": "2021-08-05T00:59:59.958Z"
   },
   {
    "duration": 6,
    "start_time": "2021-08-05T00:59:59.975Z"
   },
   {
    "duration": 7,
    "start_time": "2021-08-05T00:59:59.983Z"
   },
   {
    "duration": 99,
    "start_time": "2021-08-05T00:59:59.993Z"
   },
   {
    "duration": 18,
    "start_time": "2021-08-05T01:00:00.094Z"
   },
   {
    "duration": 46,
    "start_time": "2021-08-05T01:00:00.114Z"
   },
   {
    "duration": 3043,
    "start_time": "2021-08-05T01:00:00.162Z"
   },
   {
    "duration": 750,
    "start_time": "2021-08-05T01:00:03.208Z"
   },
   {
    "duration": 49,
    "start_time": "2021-08-05T01:00:03.961Z"
   },
   {
    "duration": 1090,
    "start_time": "2021-08-05T01:00:04.013Z"
   },
   {
    "duration": 71,
    "start_time": "2021-08-05T01:00:05.110Z"
   },
   {
    "duration": 7,
    "start_time": "2021-08-05T01:00:05.184Z"
   },
   {
    "duration": 15,
    "start_time": "2021-08-05T01:00:05.194Z"
   },
   {
    "duration": 42,
    "start_time": "2021-08-05T01:00:05.212Z"
   },
   {
    "duration": 20,
    "start_time": "2021-08-05T01:00:05.257Z"
   },
   {
    "duration": 15,
    "start_time": "2021-08-05T01:00:05.279Z"
   },
   {
    "duration": 23,
    "start_time": "2021-08-05T01:00:05.297Z"
   },
   {
    "duration": 74935,
    "start_time": "2021-08-05T01:00:05.323Z"
   },
   {
    "duration": 595,
    "start_time": "2021-08-05T01:01:20.261Z"
   },
   {
    "duration": 97,
    "start_time": "2021-08-05T01:01:20.859Z"
   },
   {
    "duration": 94,
    "start_time": "2021-08-05T01:01:20.960Z"
   },
   {
    "duration": 10,
    "start_time": "2021-08-05T01:01:21.057Z"
   },
   {
    "duration": 436,
    "start_time": "2021-08-05T01:17:10.781Z"
   },
   {
    "duration": 6,
    "start_time": "2021-08-05T01:17:38.118Z"
   },
   {
    "duration": 9,
    "start_time": "2021-08-05T01:17:42.542Z"
   },
   {
    "duration": 7,
    "start_time": "2021-08-05T01:17:48.047Z"
   },
   {
    "duration": 9,
    "start_time": "2021-08-05T01:17:48.610Z"
   },
   {
    "duration": 7,
    "start_time": "2021-08-05T01:17:54.158Z"
   },
   {
    "duration": 9,
    "start_time": "2021-08-05T01:17:54.944Z"
   },
   {
    "duration": 91,
    "start_time": "2021-08-05T01:19:21.694Z"
   },
   {
    "duration": 103,
    "start_time": "2021-08-05T01:19:30.240Z"
   },
   {
    "duration": 267,
    "start_time": "2021-08-05T01:19:43.847Z"
   },
   {
    "duration": 317,
    "start_time": "2021-08-05T01:19:52.397Z"
   },
   {
    "duration": 9,
    "start_time": "2021-08-05T01:20:30.151Z"
   },
   {
    "duration": 314,
    "start_time": "2021-08-05T01:20:54.065Z"
   },
   {
    "duration": 10,
    "start_time": "2021-08-05T01:21:01.558Z"
   },
   {
    "duration": 682,
    "start_time": "2021-08-05T01:27:17.677Z"
   },
   {
    "duration": 20,
    "start_time": "2021-08-05T01:27:29.476Z"
   },
   {
    "duration": 1528,
    "start_time": "2021-08-05T01:27:40.273Z"
   },
   {
    "duration": 917,
    "start_time": "2021-08-05T01:27:41.804Z"
   },
   {
    "duration": 8,
    "start_time": "2021-08-05T01:27:42.724Z"
   },
   {
    "duration": 136,
    "start_time": "2021-08-05T01:27:42.735Z"
   },
   {
    "duration": 25,
    "start_time": "2021-08-05T01:27:42.874Z"
   },
   {
    "duration": 16,
    "start_time": "2021-08-05T01:27:42.902Z"
   },
   {
    "duration": 187,
    "start_time": "2021-08-05T01:27:42.953Z"
   },
   {
    "duration": 24,
    "start_time": "2021-08-05T01:27:43.144Z"
   },
   {
    "duration": 51,
    "start_time": "2021-08-05T01:27:43.171Z"
   },
   {
    "duration": 46,
    "start_time": "2021-08-05T01:27:43.225Z"
   },
   {
    "duration": 178,
    "start_time": "2021-08-05T01:27:43.274Z"
   },
   {
    "duration": 12,
    "start_time": "2021-08-05T01:27:43.455Z"
   },
   {
    "duration": 25,
    "start_time": "2021-08-05T01:27:43.469Z"
   },
   {
    "duration": 27,
    "start_time": "2021-08-05T01:27:43.496Z"
   },
   {
    "duration": 32,
    "start_time": "2021-08-05T01:27:43.526Z"
   },
   {
    "duration": 96,
    "start_time": "2021-08-05T01:27:43.561Z"
   },
   {
    "duration": 18,
    "start_time": "2021-08-05T01:27:43.659Z"
   },
   {
    "duration": 22,
    "start_time": "2021-08-05T01:27:43.679Z"
   },
   {
    "duration": 2927,
    "start_time": "2021-08-05T01:27:43.703Z"
   },
   {
    "duration": 842,
    "start_time": "2021-08-05T01:27:46.632Z"
   },
   {
    "duration": 47,
    "start_time": "2021-08-05T01:27:47.476Z"
   },
   {
    "duration": 958,
    "start_time": "2021-08-05T01:27:47.526Z"
   },
   {
    "duration": 39,
    "start_time": "2021-08-05T01:27:48.489Z"
   },
   {
    "duration": 25,
    "start_time": "2021-08-05T01:27:48.531Z"
   },
   {
    "duration": 20,
    "start_time": "2021-08-05T01:27:48.558Z"
   },
   {
    "duration": 19,
    "start_time": "2021-08-05T01:27:48.581Z"
   },
   {
    "duration": 24,
    "start_time": "2021-08-05T01:27:48.602Z"
   },
   {
    "duration": 19,
    "start_time": "2021-08-05T01:27:48.628Z"
   },
   {
    "duration": 25,
    "start_time": "2021-08-05T01:27:48.649Z"
   },
   {
    "duration": 75286,
    "start_time": "2021-08-05T01:27:48.676Z"
   },
   {
    "duration": 600,
    "start_time": "2021-08-05T01:29:04.055Z"
   },
   {
    "duration": 103,
    "start_time": "2021-08-05T01:29:04.659Z"
   },
   {
    "duration": 1598,
    "start_time": "2021-08-06T04:06:39.321Z"
   },
   {
    "duration": 994,
    "start_time": "2021-08-06T04:06:40.921Z"
   },
   {
    "duration": 6,
    "start_time": "2021-08-06T04:08:16.787Z"
   },
   {
    "duration": 112,
    "start_time": "2021-08-06T04:08:17.454Z"
   },
   {
    "duration": 24,
    "start_time": "2021-08-06T04:08:19.887Z"
   },
   {
    "duration": 12,
    "start_time": "2021-08-06T04:08:20.545Z"
   },
   {
    "duration": 168,
    "start_time": "2021-08-06T04:08:21.360Z"
   },
   {
    "duration": 15,
    "start_time": "2021-08-06T04:08:25.529Z"
   },
   {
    "duration": 37,
    "start_time": "2021-08-06T04:08:26.146Z"
   },
   {
    "duration": 24,
    "start_time": "2021-08-06T04:08:27.796Z"
   },
   {
    "duration": 154,
    "start_time": "2021-08-06T04:08:28.415Z"
   },
   {
    "duration": 12,
    "start_time": "2021-08-06T04:08:30.727Z"
   },
   {
    "duration": 14,
    "start_time": "2021-08-06T04:08:51.393Z"
   },
   {
    "duration": 7,
    "start_time": "2021-08-06T04:08:51.769Z"
   },
   {
    "duration": 7,
    "start_time": "2021-08-06T04:09:57.647Z"
   },
   {
    "duration": 50,
    "start_time": "2021-08-06T04:10:12.532Z"
   },
   {
    "duration": 18,
    "start_time": "2021-08-06T04:10:13.164Z"
   },
   {
    "duration": 13,
    "start_time": "2021-08-06T04:10:13.559Z"
   },
   {
    "duration": 2952,
    "start_time": "2021-08-06T04:11:56.175Z"
   },
   {
    "duration": 760,
    "start_time": "2021-08-06T04:14:04.216Z"
   },
   {
    "duration": 49,
    "start_time": "2021-08-06T04:14:37.901Z"
   },
   {
    "duration": 1009,
    "start_time": "2021-08-06T04:14:38.351Z"
   },
   {
    "duration": 43,
    "start_time": "2021-08-06T04:14:40.660Z"
   },
   {
    "duration": 5,
    "start_time": "2021-08-06T04:14:40.861Z"
   },
   {
    "duration": 5,
    "start_time": "2021-08-06T04:14:41.081Z"
   },
   {
    "duration": 5,
    "start_time": "2021-08-06T04:15:46.843Z"
   },
   {
    "duration": 6,
    "start_time": "2021-08-06T04:16:18.167Z"
   },
   {
    "duration": 7,
    "start_time": "2021-08-06T04:16:18.826Z"
   },
   {
    "duration": 4,
    "start_time": "2021-08-06T04:17:00.820Z"
   },
   {
    "duration": 75610,
    "start_time": "2021-08-06T04:17:05.351Z"
   }
  ],
  "kernelspec": {
   "display_name": "Python 3",
   "language": "python",
   "name": "python3"
  },
  "language_info": {
   "codemirror_mode": {
    "name": "ipython",
    "version": 3
   },
   "file_extension": ".py",
   "mimetype": "text/x-python",
   "name": "python",
   "nbconvert_exporter": "python",
   "pygments_lexer": "ipython3",
   "version": "3.8.8"
  },
  "toc": {
   "base_numbering": 1,
   "nav_menu": {},
   "number_sections": true,
   "sideBar": true,
   "skip_h1_title": true,
   "title_cell": "Содержание",
   "title_sidebar": "Contents",
   "toc_cell": true,
   "toc_position": {},
   "toc_section_display": true,
   "toc_window_display": true
  }
 },
 "nbformat": 4,
 "nbformat_minor": 2
}
